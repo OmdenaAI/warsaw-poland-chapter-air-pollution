{
 "cells": [
  {
   "cell_type": "code",
   "execution_count": 1,
   "id": "81624b21",
   "metadata": {},
   "outputs": [],
   "source": [
    "import pandas as pd\n",
    "import os\n",
    "\n",
    "\n",
    "def text_to_csv(infilepath, outfilepath):\n",
    "    df = pd.read_csv(infilepath)\n",
    "    df.to_csv(outfilepath , index = None)\n",
    "        \n",
    "\n",
    "def convert_directory(in_dir, out_dir):\n",
    "    for filename in os.listdir(in_dir):\n",
    "        base_name, extension = os.path.splitext(filename)\n",
    "        if extension == \".txt\":\n",
    "            csv_filename = f\"{base_name}.csv\"\n",
    "            text_to_csv(\n",
    "                os.path.join(in_dir, filename),\n",
    "                os.path.join(out_dir, csv_filename)\n",
    "            )\n",
    "\n",
    "convert_directory(\n",
    "    r\"C:\\Users\\LAPTOP\\OneDrive\\Desktop\\Omdena Air Quality\", \n",
    "    r\"C:\\Users\\LAPTOP\\OneDrive\\Desktop\\Omdena Air Quality\",\n",
    ")\n"
   ]
  },
  {
   "cell_type": "code",
   "execution_count": null,
   "id": "d3c687bc",
   "metadata": {},
   "outputs": [],
   "source": [
    "  "
   ]
  },
  {
   "cell_type": "code",
   "execution_count": 2,
   "id": "4fc2db51",
   "metadata": {},
   "outputs": [
    {
     "name": "stdout",
     "output_type": "stream",
     "text": [
      "Collecting sweetviz\n",
      "  Downloading sweetviz-2.1.4-py3-none-any.whl (15.1 MB)\n",
      "     --------------------------------------- 15.1/15.1 MB 17.7 MB/s eta 0:00:00\n",
      "Requirement already satisfied: tqdm>=4.43.0 in c:\\users\\laptop\\anaconda3\\lib\\site-packages (from sweetviz) (4.64.1)\n",
      "Requirement already satisfied: scipy>=1.3.2 in c:\\users\\laptop\\anaconda3\\lib\\site-packages (from sweetviz) (1.7.3)\n",
      "Requirement already satisfied: matplotlib>=3.1.3 in c:\\users\\laptop\\anaconda3\\lib\\site-packages (from sweetviz) (3.5.2)\n",
      "Requirement already satisfied: importlib-resources>=1.2.0 in c:\\users\\laptop\\anaconda3\\lib\\site-packages (from sweetviz) (5.2.0)\n",
      "Requirement already satisfied: numpy>=1.16.0 in c:\\users\\laptop\\anaconda3\\lib\\site-packages (from sweetviz) (1.21.5)\n",
      "Requirement already satisfied: jinja2>=2.11.1 in c:\\users\\laptop\\anaconda3\\lib\\site-packages (from sweetviz) (3.0.3)\n",
      "Requirement already satisfied: pandas!=1.0.0,!=1.0.1,!=1.0.2,>=0.25.3 in c:\\users\\laptop\\anaconda3\\lib\\site-packages (from sweetviz) (1.3.5)\n",
      "Requirement already satisfied: zipp>=3.1.0 in c:\\users\\laptop\\anaconda3\\lib\\site-packages (from importlib-resources>=1.2.0->sweetviz) (3.8.0)\n",
      "Requirement already satisfied: MarkupSafe>=2.0 in c:\\users\\laptop\\anaconda3\\lib\\site-packages (from jinja2>=2.11.1->sweetviz) (2.1.1)\n",
      "Requirement already satisfied: cycler>=0.10 in c:\\users\\laptop\\anaconda3\\lib\\site-packages (from matplotlib>=3.1.3->sweetviz) (0.11.0)\n",
      "Requirement already satisfied: packaging>=20.0 in c:\\users\\laptop\\anaconda3\\lib\\site-packages (from matplotlib>=3.1.3->sweetviz) (21.3)\n",
      "Requirement already satisfied: fonttools>=4.22.0 in c:\\users\\laptop\\anaconda3\\lib\\site-packages (from matplotlib>=3.1.3->sweetviz) (4.25.0)\n",
      "Requirement already satisfied: python-dateutil>=2.7 in c:\\users\\laptop\\anaconda3\\lib\\site-packages (from matplotlib>=3.1.3->sweetviz) (2.8.2)\n",
      "Requirement already satisfied: pyparsing>=2.2.1 in c:\\users\\laptop\\anaconda3\\lib\\site-packages (from matplotlib>=3.1.3->sweetviz) (3.0.9)\n",
      "Requirement already satisfied: pillow>=6.2.0 in c:\\users\\laptop\\anaconda3\\lib\\site-packages (from matplotlib>=3.1.3->sweetviz) (9.2.0)\n",
      "Requirement already satisfied: kiwisolver>=1.0.1 in c:\\users\\laptop\\anaconda3\\lib\\site-packages (from matplotlib>=3.1.3->sweetviz) (1.4.2)\n",
      "Requirement already satisfied: pytz>=2017.3 in c:\\users\\laptop\\anaconda3\\lib\\site-packages (from pandas!=1.0.0,!=1.0.1,!=1.0.2,>=0.25.3->sweetviz) (2022.1)\n",
      "Requirement already satisfied: colorama in c:\\users\\laptop\\anaconda3\\lib\\site-packages (from tqdm>=4.43.0->sweetviz) (0.4.5)\n",
      "Requirement already satisfied: typing-extensions in c:\\users\\laptop\\anaconda3\\lib\\site-packages (from kiwisolver>=1.0.1->matplotlib>=3.1.3->sweetviz) (3.10.0.2)\n",
      "Requirement already satisfied: six>=1.5 in c:\\users\\laptop\\anaconda3\\lib\\site-packages (from python-dateutil>=2.7->matplotlib>=3.1.3->sweetviz) (1.16.0)\n",
      "Installing collected packages: sweetviz\n",
      "Successfully installed sweetviz-2.1.4\n",
      "Note: you may need to restart the kernel to use updated packages.\n"
     ]
    }
   ],
   "source": [
    "pip install sweetviz"
   ]
  },
  {
   "cell_type": "code",
   "execution_count": null,
   "id": "483839e8",
   "metadata": {},
   "outputs": [],
   "source": []
  },
  {
   "cell_type": "code",
   "execution_count": 20,
   "id": "bb16d3e7",
   "metadata": {},
   "outputs": [
    {
     "name": "stdout",
     "output_type": "stream",
     "text": [
      ".ipynb_checkpoints\n",
      "air quality dataset\n",
      "As(PM10)_polution_statistics_2017_2021.csv\n",
      "BaP(PM10)_polution_statistics_2017_2021.csv\n",
      "C6H6_polution_statistics_2017_2021.csv\n",
      "Cd(PM10)_polution_statistics_2017_2021.csv\n",
      "CO_polution_statistics_2017_2021.csv\n",
      "Deposit_polution_statistics_2017_2021.csv\n",
      "Formaldehyde_polution_statistics_2017_2021.csv\n",
      "Hg(TGM)_polution_statistics_2017_2021.csv\n",
      "Ions(PM2.5)_polution_statistics_2017_2021.csv\n",
      "Ni(PM10)_polution_statistics_2017_2021.csv\n",
      "NO2_polution_2017-2021.csv\n",
      "NO2_polution_statistics_2017_2021.csv\n",
      "NOx_polution_statistics_2017_2021.csv\n",
      "O3_polution_2017-2021.csv\n",
      "O3_polution_statistics_2017_2021.csv\n",
      "Omdena air quality.ipynb\n",
      "Pb(PM10)_polution_statistics_2017_2021.csv\n",
      "PM10.html\n",
      "PM10_polution_2017-2021.csv\n",
      "PM10_polution_statistics_2017_2021.csv\n",
      "PM2.5_polution_statistics_2017_2021.csv\n",
      "PM25_polution_2017-2021.csv\n",
      "SO2_polution_statistics_2017_2021.csv\n",
      "WWA(PM10)_polution_statistics_2017_2021.csv\n"
     ]
    }
   ],
   "source": [
    "import os\n",
    "\n",
    "for f in os.listdir(r\"C:\\Users\\LAPTOP\\OneDrive\\Desktop\\Omdena Air Quality\"):\n",
    "    print(f)\n",
    "    df = pd.read_csv(\"As(PM10)_polution_statistics_2017_2021.csv\")\n",
    "    df1 = pd.read_csv(\"BaP(PM10)_polution_statistics_2017_2021.csv\")\n",
    "    df2 = pd.read_csv(\"C6H6_polution_statistics_2017_2021.csv\")\n",
    "    df3 = pd.read_csv(\"Cd(PM10)_polution_statistics_2017_2021.csv\")\n",
    "    df4 = pd.read_csv(\"CO_polution_statistics_2017_2021.csv\")\n",
    "    df5 = pd.read_csv(\"Deposit_polution_statistics_2017_2021.csv\")\n",
    "    df6 = pd.read_csv(\"Formaldehyde_polution_statistics_2017_2021.csv\")\n",
    "    df7 = pd.read_csv(\"Hg(TGM)_polution_statistics_2017_2021.csv\")\n",
    "    df8 = pd.read_csv(\"Ions(PM2.5)_polution_statistics_2017_2021.csv\")\n",
    "    df9 = pd.read_csv(\"Ni(PM10)_polution_statistics_2017_2021.csv\")\n",
    "    df10 = pd.read_csv(\"NO2_polution_statistics_2017_2021.csv\")\n",
    "    df11 = pd.read_csv(\"NOx_polution_statistics_2017_2021.csv\")\n",
    "    df12 = pd.read_csv(\"O3_polution_statistics_2017_2021.csv\")\n",
    "    df13 = pd.read_csv(\"Pb(PM10)_polution_statistics_2017_2021.csv\")\n",
    "    df14 = pd.read_csv(\"PM10_polution_statistics_2017_2021.csv\")\n",
    "    df15 = pd.read_csv(\"PM2.5_polution_statistics_2017_2021.csv\")\n",
    "    df16 = pd.read_csv(\"SO2_polution_statistics_2017_2021.csv\")\n",
    "    df17 = pd.read_csv(\"WWA(PM10)_polution_statistics_2017_2021.csv\")"
   ]
  },
  {
   "cell_type": "code",
   "execution_count": 14,
   "id": "6710aaf6",
   "metadata": {},
   "outputs": [
    {
     "data": {
      "text/html": [
       "<div>\n",
       "<style scoped>\n",
       "    .dataframe tbody tr th:only-of-type {\n",
       "        vertical-align: middle;\n",
       "    }\n",
       "\n",
       "    .dataframe tbody tr th {\n",
       "        vertical-align: top;\n",
       "    }\n",
       "\n",
       "    .dataframe thead th {\n",
       "        text-align: right;\n",
       "    }\n",
       "</style>\n",
       "<table border=\"1\" class=\"dataframe\">\n",
       "  <thead>\n",
       "    <tr style=\"text-align: right;\">\n",
       "      <th></th>\n",
       "      <th>Year</th>\n",
       "      <th>Voivodeship</th>\n",
       "      <th>Zone code</th>\n",
       "      <th>Zone name</th>\n",
       "      <th>Station code</th>\n",
       "      <th>Indicator</th>\n",
       "      <th>Averaging Time</th>\n",
       "      <th>Mean [ng/m3]</th>\n",
       "      <th>Min [ng/m3]</th>\n",
       "      <th>Max [ng/m3]</th>\n",
       "      <th>Number of measurements</th>\n",
       "      <th>Completeness [%]</th>\n",
       "      <th>Summer/Winter Number</th>\n",
       "    </tr>\n",
       "  </thead>\n",
       "  <tbody>\n",
       "    <tr>\n",
       "      <th>0</th>\n",
       "      <td>2017</td>\n",
       "      <td>dolnośląskie</td>\n",
       "      <td>PL0201</td>\n",
       "      <td>Aglomeracja Wrocławska</td>\n",
       "      <td>DsWrocWybCon</td>\n",
       "      <td>As(PM10)</td>\n",
       "      <td>24g</td>\n",
       "      <td>3.719476</td>\n",
       "      <td>0.335</td>\n",
       "      <td>15.944</td>\n",
       "      <td>357</td>\n",
       "      <td>97.80</td>\n",
       "      <td>1.02</td>\n",
       "    </tr>\n",
       "    <tr>\n",
       "      <th>1</th>\n",
       "      <td>2017</td>\n",
       "      <td>dolnośląskie</td>\n",
       "      <td>PL0202</td>\n",
       "      <td>miasto Legnica</td>\n",
       "      <td>DsLegAlRzecz</td>\n",
       "      <td>As(PM10)</td>\n",
       "      <td>24g</td>\n",
       "      <td>9.683693</td>\n",
       "      <td>1.632</td>\n",
       "      <td>30.494</td>\n",
       "      <td>365</td>\n",
       "      <td>100.00</td>\n",
       "      <td>1.01</td>\n",
       "    </tr>\n",
       "    <tr>\n",
       "      <th>2</th>\n",
       "      <td>2017</td>\n",
       "      <td>dolnośląskie</td>\n",
       "      <td>PL0203</td>\n",
       "      <td>miasto Wałbrzych</td>\n",
       "      <td>DsWalbrzWyso</td>\n",
       "      <td>As(PM10)</td>\n",
       "      <td>24g</td>\n",
       "      <td>1.671251</td>\n",
       "      <td>0.335</td>\n",
       "      <td>6.868</td>\n",
       "      <td>354</td>\n",
       "      <td>96.98</td>\n",
       "      <td>1.02</td>\n",
       "    </tr>\n",
       "    <tr>\n",
       "      <th>3</th>\n",
       "      <td>2017</td>\n",
       "      <td>dolnośląskie</td>\n",
       "      <td>PL0204</td>\n",
       "      <td>strefa dolnośląska</td>\n",
       "      <td>DsGlogWiStwo</td>\n",
       "      <td>As(PM10)</td>\n",
       "      <td>24g</td>\n",
       "      <td>30.232213</td>\n",
       "      <td>2.177</td>\n",
       "      <td>341.550</td>\n",
       "      <td>362</td>\n",
       "      <td>99.17</td>\n",
       "      <td>1.00</td>\n",
       "    </tr>\n",
       "    <tr>\n",
       "      <th>4</th>\n",
       "      <td>2017</td>\n",
       "      <td>dolnośląskie</td>\n",
       "      <td>PL0204</td>\n",
       "      <td>strefa dolnośląska</td>\n",
       "      <td>DsJelGorSoko</td>\n",
       "      <td>As(PM10)</td>\n",
       "      <td>24g</td>\n",
       "      <td>1.915378</td>\n",
       "      <td>0.115</td>\n",
       "      <td>7.300</td>\n",
       "      <td>352</td>\n",
       "      <td>96.43</td>\n",
       "      <td>1.08</td>\n",
       "    </tr>\n",
       "    <tr>\n",
       "      <th>...</th>\n",
       "      <td>...</td>\n",
       "      <td>...</td>\n",
       "      <td>...</td>\n",
       "      <td>...</td>\n",
       "      <td>...</td>\n",
       "      <td>...</td>\n",
       "      <td>...</td>\n",
       "      <td>...</td>\n",
       "      <td>...</td>\n",
       "      <td>...</td>\n",
       "      <td>...</td>\n",
       "      <td>...</td>\n",
       "      <td>...</td>\n",
       "    </tr>\n",
       "    <tr>\n",
       "      <th>380</th>\n",
       "      <td>2021</td>\n",
       "      <td>wielkopolskie</td>\n",
       "      <td>PL3002</td>\n",
       "      <td>miasto Kalisz</td>\n",
       "      <td>WpKaliSawick</td>\n",
       "      <td>As(PM10)</td>\n",
       "      <td>24g</td>\n",
       "      <td>1.722632</td>\n",
       "      <td>0.050</td>\n",
       "      <td>5.080</td>\n",
       "      <td>247</td>\n",
       "      <td>67.67</td>\n",
       "      <td>0.64</td>\n",
       "    </tr>\n",
       "    <tr>\n",
       "      <th>381</th>\n",
       "      <td>2021</td>\n",
       "      <td>wielkopolskie</td>\n",
       "      <td>PL3003</td>\n",
       "      <td>strefa wielkopolska</td>\n",
       "      <td>WpOstWieWyso</td>\n",
       "      <td>As(PM10)</td>\n",
       "      <td>24g</td>\n",
       "      <td>1.395560</td>\n",
       "      <td>0.500</td>\n",
       "      <td>5.320</td>\n",
       "      <td>241</td>\n",
       "      <td>66.02</td>\n",
       "      <td>0.69</td>\n",
       "    </tr>\n",
       "    <tr>\n",
       "      <th>382</th>\n",
       "      <td>2021</td>\n",
       "      <td>zachodniopomorskie</td>\n",
       "      <td>PL3201</td>\n",
       "      <td>Aglomeracja Szczecińska</td>\n",
       "      <td>ZpSzczAndrze</td>\n",
       "      <td>As(PM10)</td>\n",
       "      <td>24g</td>\n",
       "      <td>0.548122</td>\n",
       "      <td>0.500</td>\n",
       "      <td>1.460</td>\n",
       "      <td>197</td>\n",
       "      <td>53.97</td>\n",
       "      <td>1.01</td>\n",
       "    </tr>\n",
       "    <tr>\n",
       "      <th>383</th>\n",
       "      <td>2021</td>\n",
       "      <td>zachodniopomorskie</td>\n",
       "      <td>PL3202</td>\n",
       "      <td>miasto Koszalin</td>\n",
       "      <td>ZpKoszChopin</td>\n",
       "      <td>As(PM10)</td>\n",
       "      <td>24g</td>\n",
       "      <td>0.540052</td>\n",
       "      <td>0.500</td>\n",
       "      <td>1.100</td>\n",
       "      <td>194</td>\n",
       "      <td>53.15</td>\n",
       "      <td>1.04</td>\n",
       "    </tr>\n",
       "    <tr>\n",
       "      <th>384</th>\n",
       "      <td>2021</td>\n",
       "      <td>zachodniopomorskie</td>\n",
       "      <td>PL3203</td>\n",
       "      <td>strefa zachodniopomorska</td>\n",
       "      <td>ZpSzczec1Maj</td>\n",
       "      <td>As(PM10)</td>\n",
       "      <td>24g</td>\n",
       "      <td>0.551309</td>\n",
       "      <td>0.500</td>\n",
       "      <td>1.280</td>\n",
       "      <td>191</td>\n",
       "      <td>52.32</td>\n",
       "      <td>1.01</td>\n",
       "    </tr>\n",
       "  </tbody>\n",
       "</table>\n",
       "<p>385 rows × 13 columns</p>\n",
       "</div>"
      ],
      "text/plain": [
       "     Year         Voivodeship Zone code                 Zone name  \\\n",
       "0    2017        dolnośląskie    PL0201    Aglomeracja Wrocławska   \n",
       "1    2017        dolnośląskie    PL0202            miasto Legnica   \n",
       "2    2017        dolnośląskie    PL0203          miasto Wałbrzych   \n",
       "3    2017        dolnośląskie    PL0204        strefa dolnośląska   \n",
       "4    2017        dolnośląskie    PL0204        strefa dolnośląska   \n",
       "..    ...                 ...       ...                       ...   \n",
       "380  2021       wielkopolskie    PL3002             miasto Kalisz   \n",
       "381  2021       wielkopolskie    PL3003       strefa wielkopolska   \n",
       "382  2021  zachodniopomorskie    PL3201   Aglomeracja Szczecińska   \n",
       "383  2021  zachodniopomorskie    PL3202           miasto Koszalin   \n",
       "384  2021  zachodniopomorskie    PL3203  strefa zachodniopomorska   \n",
       "\n",
       "     Station code Indicator Averaging Time  Mean [ng/m3]  Min [ng/m3]  \\\n",
       "0    DsWrocWybCon  As(PM10)            24g      3.719476        0.335   \n",
       "1    DsLegAlRzecz  As(PM10)            24g      9.683693        1.632   \n",
       "2    DsWalbrzWyso  As(PM10)            24g      1.671251        0.335   \n",
       "3    DsGlogWiStwo  As(PM10)            24g     30.232213        2.177   \n",
       "4    DsJelGorSoko  As(PM10)            24g      1.915378        0.115   \n",
       "..            ...       ...            ...           ...          ...   \n",
       "380  WpKaliSawick  As(PM10)            24g      1.722632        0.050   \n",
       "381  WpOstWieWyso  As(PM10)            24g      1.395560        0.500   \n",
       "382  ZpSzczAndrze  As(PM10)            24g      0.548122        0.500   \n",
       "383  ZpKoszChopin  As(PM10)            24g      0.540052        0.500   \n",
       "384  ZpSzczec1Maj  As(PM10)            24g      0.551309        0.500   \n",
       "\n",
       "     Max [ng/m3]  Number of measurements  Completeness [%]  \\\n",
       "0         15.944                     357             97.80   \n",
       "1         30.494                     365            100.00   \n",
       "2          6.868                     354             96.98   \n",
       "3        341.550                     362             99.17   \n",
       "4          7.300                     352             96.43   \n",
       "..           ...                     ...               ...   \n",
       "380        5.080                     247             67.67   \n",
       "381        5.320                     241             66.02   \n",
       "382        1.460                     197             53.97   \n",
       "383        1.100                     194             53.15   \n",
       "384        1.280                     191             52.32   \n",
       "\n",
       "     Summer/Winter Number  \n",
       "0                    1.02  \n",
       "1                    1.01  \n",
       "2                    1.02  \n",
       "3                    1.00  \n",
       "4                    1.08  \n",
       "..                    ...  \n",
       "380                  0.64  \n",
       "381                  0.69  \n",
       "382                  1.01  \n",
       "383                  1.04  \n",
       "384                  1.01  \n",
       "\n",
       "[385 rows x 13 columns]"
      ]
     },
     "execution_count": 14,
     "metadata": {},
     "output_type": "execute_result"
    }
   ],
   "source": [
    "df"
   ]
  },
  {
   "cell_type": "code",
   "execution_count": 22,
   "id": "1f405d6b",
   "metadata": {},
   "outputs": [
    {
     "data": {
      "application/vnd.jupyter.widget-view+json": {
       "model_id": "04e5593d6e884482b2b71b68d1a53436",
       "version_major": 2,
       "version_minor": 0
      },
      "text/plain": [
       "                                             |          | [  0%]   00:00 -> (? left)"
      ]
     },
     "metadata": {},
     "output_type": "display_data"
    },
    {
     "data": {
      "application/vnd.jupyter.widget-view+json": {
       "model_id": "7f4a47f7ff00475aa5ea8e4cd15f5ed4",
       "version_major": 2,
       "version_minor": 0
      },
      "text/plain": [
       "                                             |          | [  0%]   00:00 -> (? left)"
      ]
     },
     "metadata": {},
     "output_type": "display_data"
    },
    {
     "data": {
      "application/vnd.jupyter.widget-view+json": {
       "model_id": "7c8556ed576748669b76576cd73dba6e",
       "version_major": 2,
       "version_minor": 0
      },
      "text/plain": [
       "                                             |          | [  0%]   00:00 -> (? left)"
      ]
     },
     "metadata": {},
     "output_type": "display_data"
    },
    {
     "data": {
      "application/vnd.jupyter.widget-view+json": {
       "model_id": "aba7860431554eaa8bc3664824833bb8",
       "version_major": 2,
       "version_minor": 0
      },
      "text/plain": [
       "                                             |          | [  0%]   00:00 -> (? left)"
      ]
     },
     "metadata": {},
     "output_type": "display_data"
    },
    {
     "data": {
      "application/vnd.jupyter.widget-view+json": {
       "model_id": "d50d4355182c436d966bcdb731580e8b",
       "version_major": 2,
       "version_minor": 0
      },
      "text/plain": [
       "                                             |          | [  0%]   00:00 -> (? left)"
      ]
     },
     "metadata": {},
     "output_type": "display_data"
    },
    {
     "data": {
      "application/vnd.jupyter.widget-view+json": {
       "model_id": "55649e12af46478e8f3b64b777fb1f42",
       "version_major": 2,
       "version_minor": 0
      },
      "text/plain": [
       "                                             |          | [  0%]   00:00 -> (? left)"
      ]
     },
     "metadata": {},
     "output_type": "display_data"
    },
    {
     "data": {
      "application/vnd.jupyter.widget-view+json": {
       "model_id": "6b97e3ead7de4c52a9f6a513421477ba",
       "version_major": 2,
       "version_minor": 0
      },
      "text/plain": [
       "                                             |          | [  0%]   00:00 -> (? left)"
      ]
     },
     "metadata": {},
     "output_type": "display_data"
    },
    {
     "data": {
      "application/vnd.jupyter.widget-view+json": {
       "model_id": "e11d33e3441149c4bc3a8a31f4aa51f7",
       "version_major": 2,
       "version_minor": 0
      },
      "text/plain": [
       "                                             |          | [  0%]   00:00 -> (? left)"
      ]
     },
     "metadata": {},
     "output_type": "display_data"
    },
    {
     "data": {
      "application/vnd.jupyter.widget-view+json": {
       "model_id": "31a0d2d9a1914ac98e7563a3ead55ac6",
       "version_major": 2,
       "version_minor": 0
      },
      "text/plain": [
       "                                             |          | [  0%]   00:00 -> (? left)"
      ]
     },
     "metadata": {},
     "output_type": "display_data"
    },
    {
     "data": {
      "application/vnd.jupyter.widget-view+json": {
       "model_id": "3ed0ffc78b5546c39b99272afc190d76",
       "version_major": 2,
       "version_minor": 0
      },
      "text/plain": [
       "                                             |          | [  0%]   00:00 -> (? left)"
      ]
     },
     "metadata": {},
     "output_type": "display_data"
    },
    {
     "data": {
      "application/vnd.jupyter.widget-view+json": {
       "model_id": "bbd36038ff4c42ad8525f35e8a3091db",
       "version_major": 2,
       "version_minor": 0
      },
      "text/plain": [
       "                                             |          | [  0%]   00:00 -> (? left)"
      ]
     },
     "metadata": {},
     "output_type": "display_data"
    },
    {
     "data": {
      "application/vnd.jupyter.widget-view+json": {
       "model_id": "248a62c453514b58bfb182e2f7d18dd3",
       "version_major": 2,
       "version_minor": 0
      },
      "text/plain": [
       "                                             |          | [  0%]   00:00 -> (? left)"
      ]
     },
     "metadata": {},
     "output_type": "display_data"
    },
    {
     "data": {
      "application/vnd.jupyter.widget-view+json": {
       "model_id": "ed2db605da5a4042b33dcdbaf0ba6d11",
       "version_major": 2,
       "version_minor": 0
      },
      "text/plain": [
       "                                             |          | [  0%]   00:00 -> (? left)"
      ]
     },
     "metadata": {},
     "output_type": "display_data"
    },
    {
     "data": {
      "application/vnd.jupyter.widget-view+json": {
       "model_id": "bebf00969f1d4623858b53026a26eb61",
       "version_major": 2,
       "version_minor": 0
      },
      "text/plain": [
       "                                             |          | [  0%]   00:00 -> (? left)"
      ]
     },
     "metadata": {},
     "output_type": "display_data"
    },
    {
     "data": {
      "application/vnd.jupyter.widget-view+json": {
       "model_id": "578e113a04034bc4b2a2da91e9f010c0",
       "version_major": 2,
       "version_minor": 0
      },
      "text/plain": [
       "                                             |          | [  0%]   00:00 -> (? left)"
      ]
     },
     "metadata": {},
     "output_type": "display_data"
    },
    {
     "data": {
      "application/vnd.jupyter.widget-view+json": {
       "model_id": "c31b68254b3045daa9b7a25f0cc6d702",
       "version_major": 2,
       "version_minor": 0
      },
      "text/plain": [
       "                                             |          | [  0%]   00:00 -> (? left)"
      ]
     },
     "metadata": {},
     "output_type": "display_data"
    },
    {
     "data": {
      "application/vnd.jupyter.widget-view+json": {
       "model_id": "775101658e1b4636868a7f86c7342558",
       "version_major": 2,
       "version_minor": 0
      },
      "text/plain": [
       "                                             |          | [  0%]   00:00 -> (? left)"
      ]
     },
     "metadata": {},
     "output_type": "display_data"
    },
    {
     "data": {
      "application/vnd.jupyter.widget-view+json": {
       "model_id": "f003f83b49054f129c4fedd72d18e645",
       "version_major": 2,
       "version_minor": 0
      },
      "text/plain": [
       "                                             |          | [  0%]   00:00 -> (? left)"
      ]
     },
     "metadata": {},
     "output_type": "display_data"
    },
    {
     "name": "stdout",
     "output_type": "stream",
     "text": [
      "Report AsPM10.html was generated! NOTEBOOK/COLAB USERS: the web browser MAY not pop up, regardless, the report IS saved in your notebook/colab files.\n",
      "Report BapPM10.html was generated! NOTEBOOK/COLAB USERS: the web browser MAY not pop up, regardless, the report IS saved in your notebook/colab files.\n",
      "Report c6h6.html was generated! NOTEBOOK/COLAB USERS: the web browser MAY not pop up, regardless, the report IS saved in your notebook/colab files.\n",
      "Report CdPM10.html was generated! NOTEBOOK/COLAB USERS: the web browser MAY not pop up, regardless, the report IS saved in your notebook/colab files.\n",
      "Report CO.html was generated! NOTEBOOK/COLAB USERS: the web browser MAY not pop up, regardless, the report IS saved in your notebook/colab files.\n",
      "Report DEPo_POL.html was generated! NOTEBOOK/COLAB USERS: the web browser MAY not pop up, regardless, the report IS saved in your notebook/colab files.\n",
      "Report FORMAL.html was generated! NOTEBOOK/COLAB USERS: the web browser MAY not pop up, regardless, the report IS saved in your notebook/colab files.\n",
      "Report Hg.html was generated! NOTEBOOK/COLAB USERS: the web browser MAY not pop up, regardless, the report IS saved in your notebook/colab files.\n",
      "Report Ions.html was generated! NOTEBOOK/COLAB USERS: the web browser MAY not pop up, regardless, the report IS saved in your notebook/colab files.\n",
      "Report Ni.html was generated! NOTEBOOK/COLAB USERS: the web browser MAY not pop up, regardless, the report IS saved in your notebook/colab files.\n",
      "Report No2.html was generated! NOTEBOOK/COLAB USERS: the web browser MAY not pop up, regardless, the report IS saved in your notebook/colab files.\n",
      "Report NOx.html was generated! NOTEBOOK/COLAB USERS: the web browser MAY not pop up, regardless, the report IS saved in your notebook/colab files.\n",
      "Report O3.html was generated! NOTEBOOK/COLAB USERS: the web browser MAY not pop up, regardless, the report IS saved in your notebook/colab files.\n",
      "Report Pb.html was generated! NOTEBOOK/COLAB USERS: the web browser MAY not pop up, regardless, the report IS saved in your notebook/colab files.\n",
      "Report PM10.html was generated! NOTEBOOK/COLAB USERS: the web browser MAY not pop up, regardless, the report IS saved in your notebook/colab files.\n",
      "Report PM 2.5.html was generated! NOTEBOOK/COLAB USERS: the web browser MAY not pop up, regardless, the report IS saved in your notebook/colab files.\n",
      "Report So2.html was generated! NOTEBOOK/COLAB USERS: the web browser MAY not pop up, regardless, the report IS saved in your notebook/colab files.\n",
      "Report WWA.html was generated! NOTEBOOK/COLAB USERS: the web browser MAY not pop up, regardless, the report IS saved in your notebook/colab files.\n"
     ]
    }
   ],
   "source": [
    "import sweetviz as sv\n",
    "reports = sv.analyze(df)\n",
    "reports = sv.analyze(df1)\n",
    "reports = sv.analyze(df2)\n",
    "reports = sv.analyze(df3)\n",
    "reports = sv.analyze(df4)\n",
    "reports = sv.analyze(df5)\n",
    "reports = sv.analyze(df6)\n",
    "reports = sv.analyze(df7)\n",
    "reports = sv.analyze(df8)\n",
    "reports = sv.analyze(df9)\n",
    "reports = sv.analyze(df10)\n",
    "reports = sv.analyze(df11)\n",
    "reports = sv.analyze(df12)\n",
    "reports = sv.analyze(df13)\n",
    "reports = sv.analyze(df14)\n",
    "reports = sv.analyze(df15)\n",
    "reports = sv.analyze(df16)\n",
    "reports = sv.analyze(df17)\n",
    "\n",
    "\n",
    "reports.show_html('AsPM10.html')\n",
    "reports.show_html('BapPM10.html')\n",
    "reports.show_html('c6h6.html')\n",
    "reports.show_html('CdPM10.html')\n",
    "reports.show_html('CO.html')\n",
    "reports.show_html('DEPo_POL.html')\n",
    "reports.show_html('FORMAL.html')\n",
    "reports.show_html('Hg.html')\n",
    "reports.show_html('Ions.html')\n",
    "reports.show_html('Ni.html')\n",
    "reports.show_html('No2.html')\n",
    "reports.show_html('NOx.html')\n",
    "reports.show_html('O3.html')\n",
    "reports.show_html('Pb.html')\n",
    "reports.show_html('PM10.html')\n",
    "reports.show_html('PM 2.5.html')\n",
    "reports.show_html('So2.html')\n",
    "reports.show_html('WWA.html')"
   ]
  },
  {
   "cell_type": "code",
   "execution_count": 25,
   "id": "1af98079",
   "metadata": {},
   "outputs": [
    {
     "name": "stdout",
     "output_type": "stream",
     "text": [
      "Collecting dtale\n",
      "  Using cached dtale-2.12.2-py2.py3-none-any.whl (14.0 MB)\n",
      "Requirement already satisfied: pandas in c:\\users\\laptop\\anaconda3\\lib\\site-packages (from dtale) (1.3.5)\n",
      "Requirement already satisfied: packaging<=21.0 in c:\\users\\laptop\\anaconda3\\lib\\site-packages (from dtale) (21.0)\n",
      "Requirement already satisfied: scikit-learn==1.0.2 in c:\\users\\laptop\\anaconda3\\lib\\site-packages (from dtale) (1.0.2)\n",
      "Requirement already satisfied: itsdangerous in c:\\users\\laptop\\anaconda3\\lib\\site-packages (from dtale) (2.0.1)\n",
      "Requirement already satisfied: lz4 in c:\\users\\laptop\\anaconda3\\lib\\site-packages (from dtale) (4.3.2)\n",
      "Requirement already satisfied: seaborn in c:\\users\\laptop\\anaconda3\\lib\\site-packages (from dtale) (0.11.2)\n",
      "Collecting Flask-Compress\n",
      "  Using cached Flask_Compress-1.13-py3-none-any.whl (7.9 kB)\n",
      "Requirement already satisfied: openpyxl in c:\\users\\laptop\\anaconda3\\lib\\site-packages (from dtale) (3.0.10)\n",
      "Requirement already satisfied: requests in c:\\users\\laptop\\anaconda3\\lib\\site-packages (from dtale) (2.28.1)\n",
      "Requirement already satisfied: future>=0.14.0 in c:\\users\\laptop\\anaconda3\\lib\\site-packages (from dtale) (0.18.2)\n",
      "Collecting dash-daq\n",
      "  Using cached dash_daq-0.5.0-py3-none-any.whl\n",
      "Requirement already satisfied: Flask in c:\\users\\laptop\\anaconda3\\lib\\site-packages (from dtale) (2.0.3)\n",
      "Requirement already satisfied: scipy==1.7.3 in c:\\users\\laptop\\anaconda3\\lib\\site-packages (from dtale) (1.7.3)\n",
      "Collecting xarray\n",
      "  Using cached xarray-0.20.2-py3-none-any.whl (845 kB)\n",
      "Requirement already satisfied: strsimpy in c:\\users\\laptop\\anaconda3\\lib\\site-packages (from dtale) (0.2.1)\n",
      "Requirement already satisfied: et-xmlfile in c:\\users\\laptop\\anaconda3\\lib\\site-packages (from dtale) (1.1.0)\n",
      "Collecting dash-bootstrap-components\n",
      "  Using cached dash_bootstrap_components-1.3.1-py3-none-any.whl (219 kB)\n",
      "Collecting statsmodels==0.12.2\n",
      "  Using cached statsmodels-0.12.2-cp37-none-win_amd64.whl (9.3 MB)\n",
      "Collecting missingno<=0.4.2\n",
      "  Using cached missingno-0.4.2-py3-none-any.whl (9.7 kB)\n",
      "Requirement already satisfied: xlrd in c:\\users\\laptop\\anaconda3\\lib\\site-packages (from dtale) (2.0.1)\n",
      "Collecting flask-ngrok\n",
      "  Using cached flask_ngrok-0.0.25-py3-none-any.whl (3.1 kB)\n",
      "Requirement already satisfied: plotly>=5.0.0 in c:\\users\\laptop\\anaconda3\\lib\\site-packages (from dtale) (5.0.0)\n",
      "Requirement already satisfied: beautifulsoup4 in c:\\users\\laptop\\anaconda3\\lib\\site-packages (from dtale) (4.11.1)\n",
      "Collecting dash>=2.0.0\n",
      "  Using cached dash-2.8.1-py3-none-any.whl (9.9 MB)\n",
      "Requirement already satisfied: six in c:\\users\\laptop\\anaconda3\\lib\\site-packages (from dtale) (1.16.0)\n",
      "Requirement already satisfied: networkx==2.6.3 in c:\\users\\laptop\\anaconda3\\lib\\site-packages (from dtale) (2.6.3)\n",
      "Requirement already satisfied: squarify in c:\\users\\laptop\\anaconda3\\lib\\site-packages (from dtale) (0.4.3)\n",
      "Requirement already satisfied: matplotlib==3.5.3 in c:\\users\\laptop\\anaconda3\\lib\\site-packages (from dtale) (3.5.3)\n",
      "Requirement already satisfied: dash-colorscales in c:\\users\\laptop\\anaconda3\\lib\\site-packages (from dtale) (0.0.4)\n",
      "Requirement already satisfied: cycler in c:\\users\\laptop\\anaconda3\\lib\\site-packages (from dtale) (0.11.0)\n",
      "Requirement already satisfied: numpy in c:\\users\\laptop\\anaconda3\\lib\\site-packages (from dtale) (1.21.5)\n",
      "Requirement already satisfied: certifi in c:\\users\\laptop\\anaconda3\\lib\\site-packages (from dtale) (2022.6.15)\n",
      "Requirement already satisfied: kaleido in c:\\users\\laptop\\anaconda3\\lib\\site-packages (from dtale) (0.2.1)\n",
      "Requirement already satisfied: python-dateutil>=2.7 in c:\\users\\laptop\\anaconda3\\lib\\site-packages (from matplotlib==3.5.3->dtale) (2.8.2)\n",
      "Requirement already satisfied: kiwisolver>=1.0.1 in c:\\users\\laptop\\anaconda3\\lib\\site-packages (from matplotlib==3.5.3->dtale) (1.4.2)\n",
      "Requirement already satisfied: pyparsing>=2.2.1 in c:\\users\\laptop\\anaconda3\\lib\\site-packages (from matplotlib==3.5.3->dtale) (3.0.9)\n",
      "Requirement already satisfied: pillow>=6.2.0 in c:\\users\\laptop\\anaconda3\\lib\\site-packages (from matplotlib==3.5.3->dtale) (9.2.0)\n",
      "Requirement already satisfied: fonttools>=4.22.0 in c:\\users\\laptop\\anaconda3\\lib\\site-packages (from matplotlib==3.5.3->dtale) (4.25.0)\n",
      "Requirement already satisfied: threadpoolctl>=2.0.0 in c:\\users\\laptop\\anaconda3\\lib\\site-packages (from scikit-learn==1.0.2->dtale) (2.2.0)\n",
      "Requirement already satisfied: joblib>=0.11 in c:\\users\\laptop\\anaconda3\\lib\\site-packages (from scikit-learn==1.0.2->dtale) (1.1.0)\n",
      "Requirement already satisfied: patsy>=0.5 in c:\\users\\laptop\\anaconda3\\lib\\site-packages (from statsmodels==0.12.2->dtale) (0.5.2)\n",
      "Requirement already satisfied: dash-table==5.0.0 in c:\\users\\laptop\\anaconda3\\lib\\site-packages (from dash>=2.0.0->dtale) (5.0.0)\n",
      "Requirement already satisfied: dash-html-components==2.0.0 in c:\\users\\laptop\\anaconda3\\lib\\site-packages (from dash>=2.0.0->dtale) (2.0.0)\n",
      "Requirement already satisfied: dash-core-components==2.0.0 in c:\\users\\laptop\\anaconda3\\lib\\site-packages (from dash>=2.0.0->dtale) (2.0.0)\n",
      "Requirement already satisfied: Werkzeug>=2.0 in c:\\users\\laptop\\anaconda3\\lib\\site-packages (from Flask->dtale) (2.0.3)\n",
      "Requirement already satisfied: click>=7.1.2 in c:\\users\\laptop\\anaconda3\\lib\\site-packages (from Flask->dtale) (7.1.2)\n",
      "Requirement already satisfied: Jinja2>=3.0 in c:\\users\\laptop\\anaconda3\\lib\\site-packages (from Flask->dtale) (3.0.3)\n",
      "Requirement already satisfied: pytz>=2017.3 in c:\\users\\laptop\\anaconda3\\lib\\site-packages (from pandas->dtale) (2022.1)\n",
      "Requirement already satisfied: tenacity>=6.2.0 in c:\\users\\laptop\\anaconda3\\lib\\site-packages (from plotly>=5.0.0->dtale) (7.0.0)\n",
      "Requirement already satisfied: soupsieve>1.2 in c:\\users\\laptop\\anaconda3\\lib\\site-packages (from beautifulsoup4->dtale) (2.3.1)\n",
      "Requirement already satisfied: brotli in c:\\users\\laptop\\anaconda3\\lib\\site-packages (from Flask-Compress->dtale) (1.0.9)\n",
      "Requirement already satisfied: charset-normalizer<3,>=2 in c:\\users\\laptop\\anaconda3\\lib\\site-packages (from requests->dtale) (2.0.4)\n",
      "Requirement already satisfied: idna<4,>=2.5 in c:\\users\\laptop\\anaconda3\\lib\\site-packages (from requests->dtale) (3.3)\n",
      "Requirement already satisfied: urllib3<1.27,>=1.21.1 in c:\\users\\laptop\\anaconda3\\lib\\site-packages (from requests->dtale) (1.26.12)\n",
      "Requirement already satisfied: typing-extensions>=3.7 in c:\\users\\laptop\\anaconda3\\lib\\site-packages (from xarray->dtale) (3.10.0.2)\n",
      "Requirement already satisfied: importlib-metadata in c:\\users\\laptop\\anaconda3\\lib\\site-packages (from xarray->dtale) (4.2.0)\n",
      "Requirement already satisfied: MarkupSafe>=2.0 in c:\\users\\laptop\\anaconda3\\lib\\site-packages (from Jinja2>=3.0->Flask->dtale) (2.1.1)\n",
      "Requirement already satisfied: zipp>=0.5 in c:\\users\\laptop\\anaconda3\\lib\\site-packages (from importlib-metadata->xarray->dtale) (3.8.0)\n",
      "Installing collected packages: xarray, statsmodels, flask-ngrok, Flask-Compress, dash, missingno, dash-daq, dash-bootstrap-components, dtale\n",
      "  Attempting uninstall: statsmodels\n",
      "    Found existing installation: statsmodels 0.13.2\n",
      "    Uninstalling statsmodels-0.13.2:\n",
      "      Successfully uninstalled statsmodels-0.13.2\n",
      "  Attempting uninstall: missingno\n",
      "    Found existing installation: missingno 0.5.0\n",
      "    Uninstalling missingno-0.5.0:\n",
      "      Successfully uninstalled missingno-0.5.0\n",
      "Successfully installed Flask-Compress-1.13 dash-2.8.1 dash-bootstrap-components-1.3.1 dash-daq-0.5.0 dtale-2.12.2 flask-ngrok-0.0.25 missingno-0.4.2 statsmodels-0.12.2 xarray-0.20.2\n"
     ]
    },
    {
     "name": "stderr",
     "output_type": "stream",
     "text": [
      "WARNING: Ignoring invalid distribution -atplotlib (c:\\users\\laptop\\anaconda3\\lib\\site-packages)\n",
      "WARNING: Ignoring invalid distribution -atplotlib (c:\\users\\laptop\\anaconda3\\lib\\site-packages)\n",
      "WARNING: Ignoring invalid distribution -atplotlib (c:\\users\\laptop\\anaconda3\\lib\\site-packages)\n",
      "    WARNING: Ignoring invalid distribution -atplotlib (c:\\users\\laptop\\anaconda3\\lib\\site-packages)\n",
      "    WARNING: Ignoring invalid distribution -atplotlib (c:\\users\\laptop\\anaconda3\\lib\\site-packages)\n",
      "WARNING: Ignoring invalid distribution -atplotlib (c:\\users\\laptop\\anaconda3\\lib\\site-packages)\n",
      "WARNING: Ignoring invalid distribution -atplotlib (c:\\users\\laptop\\anaconda3\\lib\\site-packages)\n",
      "WARNING: Ignoring invalid distribution -atplotlib (c:\\users\\laptop\\anaconda3\\lib\\site-packages)\n",
      "WARNING: Ignoring invalid distribution -atplotlib (c:\\users\\laptop\\anaconda3\\lib\\site-packages)\n",
      "WARNING: Ignoring invalid distribution -atplotlib (c:\\users\\laptop\\anaconda3\\lib\\site-packages)\n",
      "WARNING: Ignoring invalid distribution -atplotlib (c:\\users\\laptop\\anaconda3\\lib\\site-packages)\n",
      "WARNING: Ignoring invalid distribution -atplotlib (c:\\users\\laptop\\anaconda3\\lib\\site-packages)\n",
      "WARNING: Ignoring invalid distribution -atplotlib (c:\\users\\laptop\\anaconda3\\lib\\site-packages)\n",
      "WARNING: Ignoring invalid distribution -atplotlib (c:\\users\\laptop\\anaconda3\\lib\\site-packages)\n",
      "WARNING: Ignoring invalid distribution -atplotlib (c:\\users\\laptop\\anaconda3\\lib\\site-packages)\n",
      "WARNING: Ignoring invalid distribution -atplotlib (c:\\users\\laptop\\anaconda3\\lib\\site-packages)\n",
      "WARNING: Ignoring invalid distribution -atplotlib (c:\\users\\laptop\\anaconda3\\lib\\site-packages)\n"
     ]
    }
   ],
   "source": [
    "!pip install dtale"
   ]
  },
  {
   "cell_type": "code",
   "execution_count": 27,
   "id": "7c65e4eb",
   "metadata": {},
   "outputs": [
    {
     "data": {
      "text/html": [
       "\n",
       "        <iframe\n",
       "            width=\"100%\"\n",
       "            height=\"475\"\n",
       "            src=\"http://DESKTOP-8C4GQ5U:40000/dtale/iframe/3\"\n",
       "            frameborder=\"0\"\n",
       "            allowfullscreen\n",
       "        ></iframe>\n",
       "        "
      ],
      "text/plain": [
       "<IPython.lib.display.IFrame at 0x1f5039559c8>"
      ]
     },
     "metadata": {},
     "output_type": "display_data"
    },
    {
     "data": {
      "text/plain": []
     },
     "execution_count": 27,
     "metadata": {},
     "output_type": "execute_result"
    }
   ],
   "source": [
    "import dtale\n",
    "\n",
    "dtale.show(df)\n",
    "\n"
   ]
  },
  {
   "cell_type": "code",
   "execution_count": 28,
   "id": "4e11fc48",
   "metadata": {},
   "outputs": [
    {
     "data": {
      "text/html": [
       "\n",
       "        <iframe\n",
       "            width=\"100%\"\n",
       "            height=\"475\"\n",
       "            src=\"http://DESKTOP-8C4GQ5U:40000/dtale/iframe/4\"\n",
       "            frameborder=\"0\"\n",
       "            allowfullscreen\n",
       "        ></iframe>\n",
       "        "
      ],
      "text/plain": [
       "<IPython.lib.display.IFrame at 0x1f503ad6cc8>"
      ]
     },
     "metadata": {},
     "output_type": "display_data"
    },
    {
     "data": {
      "text/plain": []
     },
     "execution_count": 28,
     "metadata": {},
     "output_type": "execute_result"
    }
   ],
   "source": [
    "dtale.show(df1)"
   ]
  },
  {
   "cell_type": "code",
   "execution_count": 29,
   "id": "46ab272e",
   "metadata": {},
   "outputs": [
    {
     "data": {
      "text/html": [
       "\n",
       "        <iframe\n",
       "            width=\"100%\"\n",
       "            height=\"475\"\n",
       "            src=\"http://DESKTOP-8C4GQ5U:40000/dtale/iframe/5\"\n",
       "            frameborder=\"0\"\n",
       "            allowfullscreen\n",
       "        ></iframe>\n",
       "        "
      ],
      "text/plain": [
       "<IPython.lib.display.IFrame at 0x1f503adb2c8>"
      ]
     },
     "metadata": {},
     "output_type": "display_data"
    },
    {
     "data": {
      "text/plain": []
     },
     "execution_count": 29,
     "metadata": {},
     "output_type": "execute_result"
    }
   ],
   "source": [
    "dtale.show(df2)"
   ]
  },
  {
   "cell_type": "code",
   "execution_count": 30,
   "id": "7697b884",
   "metadata": {},
   "outputs": [
    {
     "data": {
      "text/html": [
       "\n",
       "        <iframe\n",
       "            width=\"100%\"\n",
       "            height=\"475\"\n",
       "            src=\"http://DESKTOP-8C4GQ5U:40000/dtale/iframe/6\"\n",
       "            frameborder=\"0\"\n",
       "            allowfullscreen\n",
       "        ></iframe>\n",
       "        "
      ],
      "text/plain": [
       "<IPython.lib.display.IFrame at 0x1f503da9948>"
      ]
     },
     "metadata": {},
     "output_type": "display_data"
    },
    {
     "data": {
      "text/plain": []
     },
     "execution_count": 30,
     "metadata": {},
     "output_type": "execute_result"
    }
   ],
   "source": [
    "dtale.show(df3)"
   ]
  },
  {
   "cell_type": "code",
   "execution_count": 31,
   "id": "1f5e770c",
   "metadata": {},
   "outputs": [
    {
     "data": {
      "text/html": [
       "\n",
       "        <iframe\n",
       "            width=\"100%\"\n",
       "            height=\"475\"\n",
       "            src=\"http://DESKTOP-8C4GQ5U:40000/dtale/iframe/7\"\n",
       "            frameborder=\"0\"\n",
       "            allowfullscreen\n",
       "        ></iframe>\n",
       "        "
      ],
      "text/plain": [
       "<IPython.lib.display.IFrame at 0x1f503f03688>"
      ]
     },
     "metadata": {},
     "output_type": "display_data"
    },
    {
     "data": {
      "text/plain": []
     },
     "execution_count": 31,
     "metadata": {},
     "output_type": "execute_result"
    }
   ],
   "source": [
    "dtale.show(df4)"
   ]
  },
  {
   "cell_type": "code",
   "execution_count": 32,
   "id": "09faae25",
   "metadata": {},
   "outputs": [
    {
     "data": {
      "text/html": [
       "\n",
       "        <iframe\n",
       "            width=\"100%\"\n",
       "            height=\"475\"\n",
       "            src=\"http://DESKTOP-8C4GQ5U:40000/dtale/iframe/8\"\n",
       "            frameborder=\"0\"\n",
       "            allowfullscreen\n",
       "        ></iframe>\n",
       "        "
      ],
      "text/plain": [
       "<IPython.lib.display.IFrame at 0x1f5040ea148>"
      ]
     },
     "metadata": {},
     "output_type": "display_data"
    },
    {
     "data": {
      "text/plain": []
     },
     "execution_count": 32,
     "metadata": {},
     "output_type": "execute_result"
    }
   ],
   "source": [
    "dtale.show(df5)"
   ]
  },
  {
   "cell_type": "code",
   "execution_count": 33,
   "id": "ae1eb2fc",
   "metadata": {},
   "outputs": [
    {
     "data": {
      "text/html": [
       "\n",
       "        <iframe\n",
       "            width=\"100%\"\n",
       "            height=\"475\"\n",
       "            src=\"http://DESKTOP-8C4GQ5U:40000/dtale/iframe/9\"\n",
       "            frameborder=\"0\"\n",
       "            allowfullscreen\n",
       "        ></iframe>\n",
       "        "
      ],
      "text/plain": [
       "<IPython.lib.display.IFrame at 0x1f50423f6c8>"
      ]
     },
     "metadata": {},
     "output_type": "display_data"
    },
    {
     "data": {
      "text/plain": []
     },
     "execution_count": 33,
     "metadata": {},
     "output_type": "execute_result"
    }
   ],
   "source": [
    "dtale.show(df6)"
   ]
  },
  {
   "cell_type": "code",
   "execution_count": 34,
   "id": "5fe09c12",
   "metadata": {},
   "outputs": [
    {
     "data": {
      "text/html": [
       "\n",
       "        <iframe\n",
       "            width=\"100%\"\n",
       "            height=\"475\"\n",
       "            src=\"http://DESKTOP-8C4GQ5U:40000/dtale/iframe/10\"\n",
       "            frameborder=\"0\"\n",
       "            allowfullscreen\n",
       "        ></iframe>\n",
       "        "
      ],
      "text/plain": [
       "<IPython.lib.display.IFrame at 0x1f5043ed308>"
      ]
     },
     "metadata": {},
     "output_type": "display_data"
    },
    {
     "data": {
      "text/plain": []
     },
     "execution_count": 34,
     "metadata": {},
     "output_type": "execute_result"
    }
   ],
   "source": [
    "dtale.show(df7)"
   ]
  },
  {
   "cell_type": "code",
   "execution_count": 35,
   "id": "da48cb89",
   "metadata": {},
   "outputs": [
    {
     "data": {
      "text/html": [
       "\n",
       "        <iframe\n",
       "            width=\"100%\"\n",
       "            height=\"475\"\n",
       "            src=\"http://DESKTOP-8C4GQ5U:40000/dtale/iframe/11\"\n",
       "            frameborder=\"0\"\n",
       "            allowfullscreen\n",
       "        ></iframe>\n",
       "        "
      ],
      "text/plain": [
       "<IPython.lib.display.IFrame at 0x1f50454e708>"
      ]
     },
     "metadata": {},
     "output_type": "display_data"
    },
    {
     "data": {
      "text/plain": []
     },
     "execution_count": 35,
     "metadata": {},
     "output_type": "execute_result"
    }
   ],
   "source": [
    "dtale.show(df8)"
   ]
  },
  {
   "cell_type": "code",
   "execution_count": 36,
   "id": "3bf0f139",
   "metadata": {},
   "outputs": [
    {
     "data": {
      "text/html": [
       "\n",
       "        <iframe\n",
       "            width=\"100%\"\n",
       "            height=\"475\"\n",
       "            src=\"http://DESKTOP-8C4GQ5U:40000/dtale/iframe/12\"\n",
       "            frameborder=\"0\"\n",
       "            allowfullscreen\n",
       "        ></iframe>\n",
       "        "
      ],
      "text/plain": [
       "<IPython.lib.display.IFrame at 0x1f5046d6ac8>"
      ]
     },
     "metadata": {},
     "output_type": "display_data"
    },
    {
     "data": {
      "text/plain": []
     },
     "execution_count": 36,
     "metadata": {},
     "output_type": "execute_result"
    }
   ],
   "source": [
    "dtale.show(df9)"
   ]
  },
  {
   "cell_type": "code",
   "execution_count": 37,
   "id": "68206ca3",
   "metadata": {},
   "outputs": [
    {
     "data": {
      "text/html": [
       "\n",
       "        <iframe\n",
       "            width=\"100%\"\n",
       "            height=\"475\"\n",
       "            src=\"http://DESKTOP-8C4GQ5U:40000/dtale/iframe/13\"\n",
       "            frameborder=\"0\"\n",
       "            allowfullscreen\n",
       "        ></iframe>\n",
       "        "
      ],
      "text/plain": [
       "<IPython.lib.display.IFrame at 0x1f50423fe08>"
      ]
     },
     "metadata": {},
     "output_type": "display_data"
    },
    {
     "data": {
      "text/plain": []
     },
     "execution_count": 37,
     "metadata": {},
     "output_type": "execute_result"
    }
   ],
   "source": [
    "dtale.show(df10)"
   ]
  },
  {
   "cell_type": "code",
   "execution_count": 38,
   "id": "9b6a0b54",
   "metadata": {},
   "outputs": [
    {
     "data": {
      "text/html": [
       "\n",
       "        <iframe\n",
       "            width=\"100%\"\n",
       "            height=\"475\"\n",
       "            src=\"http://DESKTOP-8C4GQ5U:40000/dtale/iframe/14\"\n",
       "            frameborder=\"0\"\n",
       "            allowfullscreen\n",
       "        ></iframe>\n",
       "        "
      ],
      "text/plain": [
       "<IPython.lib.display.IFrame at 0x1f50499b708>"
      ]
     },
     "metadata": {},
     "output_type": "display_data"
    },
    {
     "data": {
      "text/plain": []
     },
     "execution_count": 38,
     "metadata": {},
     "output_type": "execute_result"
    }
   ],
   "source": [
    "dtale.show(df11)"
   ]
  },
  {
   "cell_type": "code",
   "execution_count": 39,
   "id": "53f9928f",
   "metadata": {},
   "outputs": [
    {
     "data": {
      "text/html": [
       "\n",
       "        <iframe\n",
       "            width=\"100%\"\n",
       "            height=\"475\"\n",
       "            src=\"http://DESKTOP-8C4GQ5U:40000/dtale/iframe/15\"\n",
       "            frameborder=\"0\"\n",
       "            allowfullscreen\n",
       "        ></iframe>\n",
       "        "
      ],
      "text/plain": [
       "<IPython.lib.display.IFrame at 0x1f504b4ebc8>"
      ]
     },
     "metadata": {},
     "output_type": "display_data"
    },
    {
     "data": {
      "text/plain": []
     },
     "execution_count": 39,
     "metadata": {},
     "output_type": "execute_result"
    }
   ],
   "source": [
    "dtale.show(df12)"
   ]
  },
  {
   "cell_type": "code",
   "execution_count": 40,
   "id": "5275c15b",
   "metadata": {},
   "outputs": [
    {
     "data": {
      "text/html": [
       "\n",
       "        <iframe\n",
       "            width=\"100%\"\n",
       "            height=\"475\"\n",
       "            src=\"http://DESKTOP-8C4GQ5U:40000/dtale/iframe/16\"\n",
       "            frameborder=\"0\"\n",
       "            allowfullscreen\n",
       "        ></iframe>\n",
       "        "
      ],
      "text/plain": [
       "<IPython.lib.display.IFrame at 0x1f504cc0308>"
      ]
     },
     "metadata": {},
     "output_type": "display_data"
    },
    {
     "data": {
      "text/plain": []
     },
     "execution_count": 40,
     "metadata": {},
     "output_type": "execute_result"
    }
   ],
   "source": [
    "dtale.show(df13)"
   ]
  },
  {
   "cell_type": "code",
   "execution_count": 41,
   "id": "6fe3e133",
   "metadata": {},
   "outputs": [
    {
     "data": {
      "text/html": [
       "\n",
       "        <iframe\n",
       "            width=\"100%\"\n",
       "            height=\"475\"\n",
       "            src=\"http://DESKTOP-8C4GQ5U:40000/dtale/iframe/17\"\n",
       "            frameborder=\"0\"\n",
       "            allowfullscreen\n",
       "        ></iframe>\n",
       "        "
      ],
      "text/plain": [
       "<IPython.lib.display.IFrame at 0x1f504e359c8>"
      ]
     },
     "metadata": {},
     "output_type": "display_data"
    },
    {
     "data": {
      "text/plain": []
     },
     "execution_count": 41,
     "metadata": {},
     "output_type": "execute_result"
    }
   ],
   "source": [
    "dtale.show(df14)"
   ]
  },
  {
   "cell_type": "code",
   "execution_count": 42,
   "id": "56f2b521",
   "metadata": {},
   "outputs": [
    {
     "data": {
      "text/html": [
       "\n",
       "        <iframe\n",
       "            width=\"100%\"\n",
       "            height=\"475\"\n",
       "            src=\"http://DESKTOP-8C4GQ5U:40000/dtale/iframe/18\"\n",
       "            frameborder=\"0\"\n",
       "            allowfullscreen\n",
       "        ></iframe>\n",
       "        "
      ],
      "text/plain": [
       "<IPython.lib.display.IFrame at 0x1f504f9ba08>"
      ]
     },
     "metadata": {},
     "output_type": "display_data"
    },
    {
     "data": {
      "text/plain": []
     },
     "execution_count": 42,
     "metadata": {},
     "output_type": "execute_result"
    }
   ],
   "source": [
    "dtale.show(df15)"
   ]
  },
  {
   "cell_type": "code",
   "execution_count": 43,
   "id": "99dd400d",
   "metadata": {},
   "outputs": [
    {
     "data": {
      "text/html": [
       "\n",
       "        <iframe\n",
       "            width=\"100%\"\n",
       "            height=\"475\"\n",
       "            src=\"http://DESKTOP-8C4GQ5U:40000/dtale/iframe/19\"\n",
       "            frameborder=\"0\"\n",
       "            allowfullscreen\n",
       "        ></iframe>\n",
       "        "
      ],
      "text/plain": [
       "<IPython.lib.display.IFrame at 0x1f5051301c8>"
      ]
     },
     "metadata": {},
     "output_type": "display_data"
    },
    {
     "data": {
      "text/plain": []
     },
     "execution_count": 43,
     "metadata": {},
     "output_type": "execute_result"
    }
   ],
   "source": [
    "dtale.show(df16)"
   ]
  },
  {
   "cell_type": "code",
   "execution_count": 44,
   "id": "c6e0e189",
   "metadata": {},
   "outputs": [
    {
     "data": {
      "text/html": [
       "\n",
       "        <iframe\n",
       "            width=\"100%\"\n",
       "            height=\"475\"\n",
       "            src=\"http://DESKTOP-8C4GQ5U:40000/dtale/iframe/20\"\n",
       "            frameborder=\"0\"\n",
       "            allowfullscreen\n",
       "        ></iframe>\n",
       "        "
      ],
      "text/plain": [
       "<IPython.lib.display.IFrame at 0x1f5052760c8>"
      ]
     },
     "metadata": {},
     "output_type": "display_data"
    },
    {
     "data": {
      "text/plain": []
     },
     "execution_count": 44,
     "metadata": {},
     "output_type": "execute_result"
    }
   ],
   "source": [
    "dtale.show(df17)"
   ]
  },
  {
   "cell_type": "code",
   "execution_count": null,
   "id": "c24a3185",
   "metadata": {},
   "outputs": [],
   "source": []
  }
 ],
 "metadata": {
  "kernelspec": {
   "display_name": "Python 3",
   "language": "python",
   "name": "python3"
  },
  "language_info": {
   "codemirror_mode": {
    "name": "ipython",
    "version": 3
   },
   "file_extension": ".py",
   "mimetype": "text/x-python",
   "name": "python",
   "nbconvert_exporter": "python",
   "pygments_lexer": "ipython3",
   "version": "3.7.13"
  }
 },
 "nbformat": 4,
 "nbformat_minor": 5
}
