{
 "cells": [
  {
   "cell_type": "code",
   "execution_count": 1,
   "id": "c5d3e93f",
   "metadata": {},
   "outputs": [],
   "source": [
    "import warnings\n",
    "import numpy as np\n",
    "import pandas as pd\n",
    "import re\n",
    "import seaborn as sns\n",
    "import matplotlib.pyplot as plt\n",
    "from lightgbm import LGBMClassifier\n",
    "warnings.filterwarnings(\"ignore\")\n",
    "from sklearn.preprocessing import LabelEncoder, OneHotEncoder\n",
    "from sklearn.metrics import accuracy_score, precision_score, recall_score, f1_score, roc_auc_score\n",
    "from sklearn.metrics import classification_report\n",
    "from sklearn.model_selection import train_test_split, cross_val_score, KFold\n",
    "from sklearn.metrics import accuracy_score\n",
    "warnings.filterwarnings(\"ignore\")\n",
    "%matplotlib inline"
   ]
  },
  {
   "cell_type": "code",
   "execution_count": 2,
   "id": "8acabf5e",
   "metadata": {},
   "outputs": [],
   "source": [
    "train = pd.read_parquet(\"train_nontemporal_classification.parquet.gz\")\n",
    "test =  pd.read_parquet(\"test_nontemporal_classification.parquet.gz\")"
   ]
  },
  {
   "cell_type": "code",
   "execution_count": 3,
   "id": "c7155997",
   "metadata": {},
   "outputs": [
    {
     "data": {
      "text/html": [
       "<div>\n",
       "<style scoped>\n",
       "    .dataframe tbody tr th:only-of-type {\n",
       "        vertical-align: middle;\n",
       "    }\n",
       "\n",
       "    .dataframe tbody tr th {\n",
       "        vertical-align: top;\n",
       "    }\n",
       "\n",
       "    .dataframe thead th {\n",
       "        text-align: right;\n",
       "    }\n",
       "</style>\n",
       "<table border=\"1\" class=\"dataframe\">\n",
       "  <thead>\n",
       "    <tr style=\"text-align: right;\">\n",
       "      <th></th>\n",
       "      <th>powiat_voivod</th>\n",
       "      <th>cloud_cover</th>\n",
       "      <th>wind_speed</th>\n",
       "      <th>humidity</th>\n",
       "      <th>precipitation</th>\n",
       "      <th>snow_depth</th>\n",
       "      <th>temperature</th>\n",
       "      <th>voivodship</th>\n",
       "      <th>animal stock - total</th>\n",
       "      <th>area by land - utilised agricultural area</th>\n",
       "      <th>...</th>\n",
       "      <th>crop production - permanent meadows, area in ha, total</th>\n",
       "      <th>crop production - permanent pastures, area in ha, total</th>\n",
       "      <th>CAQI_level</th>\n",
       "      <th>isUrban</th>\n",
       "      <th>season</th>\n",
       "      <th>holiday_name</th>\n",
       "      <th>is_school_holiday</th>\n",
       "      <th>is_lockdown</th>\n",
       "      <th>is_have_coalplant</th>\n",
       "      <th>is_weekend</th>\n",
       "    </tr>\n",
       "    <tr>\n",
       "      <th>DATE</th>\n",
       "      <th></th>\n",
       "      <th></th>\n",
       "      <th></th>\n",
       "      <th></th>\n",
       "      <th></th>\n",
       "      <th></th>\n",
       "      <th></th>\n",
       "      <th></th>\n",
       "      <th></th>\n",
       "      <th></th>\n",
       "      <th></th>\n",
       "      <th></th>\n",
       "      <th></th>\n",
       "      <th></th>\n",
       "      <th></th>\n",
       "      <th></th>\n",
       "      <th></th>\n",
       "      <th></th>\n",
       "      <th></th>\n",
       "      <th></th>\n",
       "      <th></th>\n",
       "    </tr>\n",
       "  </thead>\n",
       "  <tbody>\n",
       "    <tr>\n",
       "      <th>2017-01-01</th>\n",
       "      <td>powiat aleksandrowski, kujawsko-pomorskie</td>\n",
       "      <td>4.746750</td>\n",
       "      <td>0.0</td>\n",
       "      <td>88.4</td>\n",
       "      <td>1.0</td>\n",
       "      <td>0.0</td>\n",
       "      <td>1.8</td>\n",
       "      <td>kujawsko-pomorskie</td>\n",
       "      <td>44.997895</td>\n",
       "      <td>1.718015</td>\n",
       "      <td>...</td>\n",
       "      <td>4.884211</td>\n",
       "      <td>0.854737</td>\n",
       "      <td>vlow</td>\n",
       "      <td>0</td>\n",
       "      <td>Winter</td>\n",
       "      <td>New Year's Day</td>\n",
       "      <td>0.0</td>\n",
       "      <td>0.0</td>\n",
       "      <td>0.0</td>\n",
       "      <td>1</td>\n",
       "    </tr>\n",
       "    <tr>\n",
       "      <th>2017-01-01</th>\n",
       "      <td>powiat augustowski, podlaskie</td>\n",
       "      <td>8.000000</td>\n",
       "      <td>50.0</td>\n",
       "      <td>95.0</td>\n",
       "      <td>9.0</td>\n",
       "      <td>0.0</td>\n",
       "      <td>0.4</td>\n",
       "      <td>podlaskie</td>\n",
       "      <td>47.547318</td>\n",
       "      <td>4.963793</td>\n",
       "      <td>...</td>\n",
       "      <td>16.300784</td>\n",
       "      <td>2.241712</td>\n",
       "      <td>medium</td>\n",
       "      <td>0</td>\n",
       "      <td>Winter</td>\n",
       "      <td>New Year's Day</td>\n",
       "      <td>0.0</td>\n",
       "      <td>0.0</td>\n",
       "      <td>0.0</td>\n",
       "      <td>1</td>\n",
       "    </tr>\n",
       "    <tr>\n",
       "      <th>2017-01-01</th>\n",
       "      <td>powiat bełchatowski, łódzkie</td>\n",
       "      <td>5.923833</td>\n",
       "      <td>0.0</td>\n",
       "      <td>80.0</td>\n",
       "      <td>0.0</td>\n",
       "      <td>5.0</td>\n",
       "      <td>0.0</td>\n",
       "      <td>łódzkie</td>\n",
       "      <td>43.636364</td>\n",
       "      <td>3.809493</td>\n",
       "      <td>...</td>\n",
       "      <td>7.991736</td>\n",
       "      <td>0.686983</td>\n",
       "      <td>vlow</td>\n",
       "      <td>0</td>\n",
       "      <td>Winter</td>\n",
       "      <td>New Year's Day</td>\n",
       "      <td>0.0</td>\n",
       "      <td>0.0</td>\n",
       "      <td>1.0</td>\n",
       "      <td>1</td>\n",
       "    </tr>\n",
       "    <tr>\n",
       "      <th>2017-01-01</th>\n",
       "      <td>powiat biała podlaska, lubelskie</td>\n",
       "      <td>6.000000</td>\n",
       "      <td>0.0</td>\n",
       "      <td>78.0</td>\n",
       "      <td>0.0</td>\n",
       "      <td>0.0</td>\n",
       "      <td>0.9</td>\n",
       "      <td>lubelskie</td>\n",
       "      <td>21.265306</td>\n",
       "      <td>0.138255</td>\n",
       "      <td>...</td>\n",
       "      <td>8.612245</td>\n",
       "      <td>0.551020</td>\n",
       "      <td>medium</td>\n",
       "      <td>1</td>\n",
       "      <td>Winter</td>\n",
       "      <td>New Year's Day</td>\n",
       "      <td>0.0</td>\n",
       "      <td>0.0</td>\n",
       "      <td>0.0</td>\n",
       "      <td>1</td>\n",
       "    </tr>\n",
       "    <tr>\n",
       "      <th>2017-01-01</th>\n",
       "      <td>powiat białystok, podlaskie</td>\n",
       "      <td>8.000000</td>\n",
       "      <td>0.0</td>\n",
       "      <td>89.0</td>\n",
       "      <td>0.0</td>\n",
       "      <td>0.0</td>\n",
       "      <td>0.4</td>\n",
       "      <td>podlaskie</td>\n",
       "      <td>47.549020</td>\n",
       "      <td>0.305201</td>\n",
       "      <td>...</td>\n",
       "      <td>16.303922</td>\n",
       "      <td>2.245098</td>\n",
       "      <td>low</td>\n",
       "      <td>1</td>\n",
       "      <td>Winter</td>\n",
       "      <td>New Year's Day</td>\n",
       "      <td>0.0</td>\n",
       "      <td>0.0</td>\n",
       "      <td>0.0</td>\n",
       "      <td>1</td>\n",
       "    </tr>\n",
       "  </tbody>\n",
       "</table>\n",
       "<p>5 rows × 123 columns</p>\n",
       "</div>"
      ],
      "text/plain": [
       "                                        powiat_voivod  cloud_cover  \\\n",
       "DATE                                                                 \n",
       "2017-01-01  powiat aleksandrowski, kujawsko-pomorskie     4.746750   \n",
       "2017-01-01              powiat augustowski, podlaskie     8.000000   \n",
       "2017-01-01               powiat bełchatowski, łódzkie     5.923833   \n",
       "2017-01-01           powiat biała podlaska, lubelskie     6.000000   \n",
       "2017-01-01                powiat białystok, podlaskie     8.000000   \n",
       "\n",
       "            wind_speed  humidity  precipitation  snow_depth  temperature  \\\n",
       "DATE                                                                       \n",
       "2017-01-01         0.0      88.4            1.0         0.0          1.8   \n",
       "2017-01-01        50.0      95.0            9.0         0.0          0.4   \n",
       "2017-01-01         0.0      80.0            0.0         5.0          0.0   \n",
       "2017-01-01         0.0      78.0            0.0         0.0          0.9   \n",
       "2017-01-01         0.0      89.0            0.0         0.0          0.4   \n",
       "\n",
       "                    voivodship  animal stock - total  \\\n",
       "DATE                                                   \n",
       "2017-01-01  kujawsko-pomorskie             44.997895   \n",
       "2017-01-01           podlaskie             47.547318   \n",
       "2017-01-01             łódzkie             43.636364   \n",
       "2017-01-01           lubelskie             21.265306   \n",
       "2017-01-01           podlaskie             47.549020   \n",
       "\n",
       "            area by land - utilised agricultural area  ...  \\\n",
       "DATE                                                   ...   \n",
       "2017-01-01                                   1.718015  ...   \n",
       "2017-01-01                                   4.963793  ...   \n",
       "2017-01-01                                   3.809493  ...   \n",
       "2017-01-01                                   0.138255  ...   \n",
       "2017-01-01                                   0.305201  ...   \n",
       "\n",
       "            crop production - permanent meadows, area in ha, total  \\\n",
       "DATE                                                                 \n",
       "2017-01-01                                           4.884211        \n",
       "2017-01-01                                          16.300784        \n",
       "2017-01-01                                           7.991736        \n",
       "2017-01-01                                           8.612245        \n",
       "2017-01-01                                          16.303922        \n",
       "\n",
       "            crop production - permanent pastures, area in ha, total  \\\n",
       "DATE                                                                  \n",
       "2017-01-01                                           0.854737         \n",
       "2017-01-01                                           2.241712         \n",
       "2017-01-01                                           0.686983         \n",
       "2017-01-01                                           0.551020         \n",
       "2017-01-01                                           2.245098         \n",
       "\n",
       "            CAQI_level  isUrban  season    holiday_name  is_school_holiday  \\\n",
       "DATE                                                                         \n",
       "2017-01-01        vlow        0  Winter  New Year's Day                0.0   \n",
       "2017-01-01      medium        0  Winter  New Year's Day                0.0   \n",
       "2017-01-01        vlow        0  Winter  New Year's Day                0.0   \n",
       "2017-01-01      medium        1  Winter  New Year's Day                0.0   \n",
       "2017-01-01         low        1  Winter  New Year's Day                0.0   \n",
       "\n",
       "            is_lockdown  is_have_coalplant  is_weekend  \n",
       "DATE                                                    \n",
       "2017-01-01          0.0                0.0           1  \n",
       "2017-01-01          0.0                0.0           1  \n",
       "2017-01-01          0.0                1.0           1  \n",
       "2017-01-01          0.0                0.0           1  \n",
       "2017-01-01          0.0                0.0           1  \n",
       "\n",
       "[5 rows x 123 columns]"
      ]
     },
     "execution_count": 3,
     "metadata": {},
     "output_type": "execute_result"
    }
   ],
   "source": [
    "train.head()"
   ]
  },
  {
   "cell_type": "code",
   "execution_count": 3,
   "id": "76c4fed0",
   "metadata": {},
   "outputs": [
    {
     "name": "stdout",
     "output_type": "stream",
     "text": [
      "<class 'pandas.core.frame.DataFrame'>\n",
      "DatetimeIndex: 300960 entries, 2017-01-01 to 2021-02-28\n",
      "Columns: 123 entries, powiat_voivod to is_weekend\n",
      "dtypes: float64(116), int32(1), int64(1), object(5)\n",
      "memory usage: 283.6+ MB\n"
     ]
    }
   ],
   "source": [
    "train.info()"
   ]
  },
  {
   "cell_type": "code",
   "execution_count": 4,
   "id": "f5e04237",
   "metadata": {},
   "outputs": [
    {
     "data": {
      "text/plain": [
       "(300960, 123)"
      ]
     },
     "execution_count": 4,
     "metadata": {},
     "output_type": "execute_result"
    }
   ],
   "source": [
    "train.shape"
   ]
  },
  {
   "cell_type": "code",
   "execution_count": 5,
   "id": "3a1abf3b",
   "metadata": {},
   "outputs": [
    {
     "data": {
      "text/plain": [
       "powiat_voivod        0\n",
       "cloud_cover          0\n",
       "wind_speed           0\n",
       "humidity             0\n",
       "precipitation        0\n",
       "                    ..\n",
       "holiday_name         0\n",
       "is_school_holiday    0\n",
       "is_lockdown          0\n",
       "is_have_coalplant    0\n",
       "is_weekend           0\n",
       "Length: 123, dtype: int64"
      ]
     },
     "execution_count": 5,
     "metadata": {},
     "output_type": "execute_result"
    }
   ],
   "source": [
    "train.isnull().sum()"
   ]
  },
  {
   "cell_type": "code",
   "execution_count": 6,
   "id": "732cdb2e",
   "metadata": {},
   "outputs": [
    {
     "data": {
      "text/plain": [
       "vlow      134555\n",
       "low       126762\n",
       "medium     30737\n",
       "high        8026\n",
       "vhigh        880\n",
       "Name: CAQI_level, dtype: int64"
      ]
     },
     "execution_count": 6,
     "metadata": {},
     "output_type": "execute_result"
    }
   ],
   "source": [
    "train['CAQI_level'].value_counts()"
   ]
  },
  {
   "cell_type": "code",
   "execution_count": 6,
   "id": "3dd12ff3",
   "metadata": {},
   "outputs": [],
   "source": [
    "# combine high and vhigh to a single category, as we want to see how it will affect the accuracy of model\n",
    "train['CAQI_level'] = train['CAQI_level'].replace({'vhigh':'high'})"
   ]
  },
  {
   "cell_type": "code",
   "execution_count": 7,
   "id": "2f8883b7",
   "metadata": {},
   "outputs": [
    {
     "data": {
      "text/plain": [
       "vlow      134555\n",
       "low       126762\n",
       "medium     30737\n",
       "high        8906\n",
       "Name: CAQI_level, dtype: int64"
      ]
     },
     "execution_count": 7,
     "metadata": {},
     "output_type": "execute_result"
    }
   ],
   "source": [
    "train['CAQI_level'].value_counts()"
   ]
  },
  {
   "cell_type": "code",
   "execution_count": 8,
   "id": "59c33c5e",
   "metadata": {},
   "outputs": [],
   "source": [
    "# The ordered of mapping\n",
    "mapping = {'vlow': 0, 'low': 1, 'medium': 2, 'high': 3}\n",
    "train['CAQI_level'] = train['CAQI_level'].replace(mapping)"
   ]
  },
  {
   "cell_type": "code",
   "execution_count": 10,
   "id": "d98743f1",
   "metadata": {},
   "outputs": [
    {
     "data": {
      "text/plain": [
       "0    134555\n",
       "1    126762\n",
       "2     30737\n",
       "3      8906\n",
       "Name: CAQI_level, dtype: int64"
      ]
     },
     "execution_count": 10,
     "metadata": {},
     "output_type": "execute_result"
    }
   ],
   "source": [
    "train['CAQI_level'].value_counts()"
   ]
  },
  {
   "cell_type": "code",
   "execution_count": 11,
   "id": "83c10fa2",
   "metadata": {},
   "outputs": [
    {
     "data": {
      "text/plain": [
       "['powiat_voivod',\n",
       " 'cloud_cover',\n",
       " 'wind_speed',\n",
       " 'humidity',\n",
       " 'precipitation',\n",
       " 'snow_depth',\n",
       " 'temperature',\n",
       " 'voivodship',\n",
       " 'animal stock - total',\n",
       " 'area by land - utilised agricultural area',\n",
       " 'area by land - forests',\n",
       " 'area by land - residential areas',\n",
       " 'area by land - industrial lands',\n",
       " 'area by land - recreational and rest areas',\n",
       " 'area by land - lands under waters',\n",
       " 'area by land - wasteland',\n",
       " 'area by land - other area',\n",
       " 'emission of particulates - fugitive',\n",
       " 'emission of particulates - fuel combustion',\n",
       " 'emission of particulates - cement/lime and refractory materials',\n",
       " 'emission of particulates - silicon',\n",
       " 'emission of particulates - chemical fertilizers',\n",
       " 'emission of particulates - surface-active agents',\n",
       " 'emission of particulates - carbon and graphite, soot',\n",
       " 'emission of pollutant gases - fugitive',\n",
       " 'emission of pollutant gases - sulphur dioxide',\n",
       " 'emission of pollutant gases - nitrogen oxides',\n",
       " 'emission of pollutant gases - carbon monoxide',\n",
       " 'emission of pollutant gases - carbon dioxide',\n",
       " 'emission of pollutant gases - methane',\n",
       " 'emission of pollutant gases - dinitrogen monoxide',\n",
       " 'forest area - forests, grand total',\n",
       " 'plants of significant nuisance - total',\n",
       " 'plants of significant nuisance - possessing systems to reduce the emission of particulates',\n",
       " 'plants of significant nuisance - possessing systems to reduce the emission of gases',\n",
       " 'population density - population per 1 km2',\n",
       " 'production of electricity - total',\n",
       " 'production of electricity - water power plants and wind, biomass and wastes power plants, total',\n",
       " 'production of electricity - water power plants',\n",
       " 'production of electricity - thermal power plants, total',\n",
       " 'production of electricity - thermal public power plants',\n",
       " 'production of electricity - thermal autoproducing power plants',\n",
       " 'production of electricity - from renewable energy sources',\n",
       " 'production of electricity - share of renewable energy sources in total production of electricity',\n",
       " 'production of electricity - relation of electricity production to electricity consumption',\n",
       " 'share of green areas - share of parks, lawns and green areas of the housing estate areas in the total area',\n",
       " 'share of green areas - share of green areas in the total area',\n",
       " 'share of urbanized areas - total',\n",
       " 'total vehicles - road vehicles and tractors',\n",
       " 'total vehicles - motorcycles total',\n",
       " 'total vehicles - motorcycles, engine capacity up to 125 cm3',\n",
       " 'total vehicles - passenger cars',\n",
       " 'total vehicles - buses, total',\n",
       " 'total vehicles - lorries',\n",
       " 'total vehicles - goods and persons carrying vehicles',\n",
       " 'total vehicles - special purpose vehicles (including sanitary)',\n",
       " 'total vehicles - road tractors',\n",
       " 'total vehicles - agricultural tractors',\n",
       " 'total vehicles - mopeds',\n",
       " 'air pollution reduction systems - cyclones, equipment - efficiency low',\n",
       " 'air pollution reduction systems - cyclones, equipment - efficiency moderate',\n",
       " 'air pollution reduction systems - cyclones, equipment - efficiency high',\n",
       " 'air pollution reduction systems - cyclones, waste gas flow - efficiency low',\n",
       " 'air pollution reduction systems - cyclones, waste gas flow - efficiency moderate',\n",
       " 'air pollution reduction systems - cyclones, waste gas flow - efficiency high',\n",
       " 'air pollution reduction systems - multicyclones, equipment - efficiency low',\n",
       " 'air pollution reduction systems - multicyclones, equipment - efficiency moderate',\n",
       " 'air pollution reduction systems - multicyclones, equipment - efficiency high',\n",
       " 'air pollution reduction systems - multicyclones, waste gas flow - efficiency low',\n",
       " 'air pollution reduction systems - multicyclones, waste gas flow - efficiency moderate',\n",
       " 'air pollution reduction systems - multicyclones, waste gas flow - efficiency high',\n",
       " 'air pollution reduction systems - fabric filters, equipment - efficiency low',\n",
       " 'air pollution reduction systems - fabric filters, equipment - efficiency moderate',\n",
       " 'air pollution reduction systems - fabric filters, equipment - efficiency high',\n",
       " 'air pollution reduction systems - fabric filters, waste gas flow - efficiency low',\n",
       " 'air pollution reduction systems - fabric filters, waste gas flow - efficiency moderate',\n",
       " 'air pollution reduction systems - fabric filters, waste gas flow - efficiency high',\n",
       " 'air pollution reduction systems - electrofilters, equipment - efficiency low',\n",
       " 'air pollution reduction systems - electrofilters, equipment - efficiency moderate',\n",
       " 'air pollution reduction systems - electrofilters, equipment - efficiency high',\n",
       " 'air pollution reduction systems - electrofilters, waste gas flow - efficiency low',\n",
       " 'air pollution reduction systems - electrofilters, waste gas flow - efficiency moderate',\n",
       " 'air pollution reduction systems - electrofilters, waste gas flow - efficiency high',\n",
       " 'air pollution reduction systems - wet air cleaners, equipment - efficiency low',\n",
       " 'air pollution reduction systems - wet air cleaners, equipment - efficiency moderate',\n",
       " 'air pollution reduction systems - wet air cleaners, equipment - efficiency high',\n",
       " 'air pollution reduction systems - wet air cleaners, waste gas flow - efficiency low',\n",
       " 'air pollution reduction systems - wet air cleaners, waste gas flow - efficiency moderate',\n",
       " 'air pollution reduction systems - wet air cleaners, waste gas flow - efficiency high',\n",
       " 'air pollution reduction systems - others, equipment total',\n",
       " 'air pollution reduction systems - others, total waste gas flow',\n",
       " 'forest fires - number of forest fires, total',\n",
       " 'forest fires - area of forest fires, total',\n",
       " 'vehicles by type and fuel - passenger cars, petrol',\n",
       " 'vehicles by type and fuel - passenger cars, diesel oil',\n",
       " 'vehicles by type and fuel - passenger cars, Liquefied Petroleum Gas',\n",
       " 'vehicles by type and fuel - passenger cars, others',\n",
       " 'vehicles by type and fuel - lorries, petrol',\n",
       " 'vehicles by type and fuel - lorries, diesel oil',\n",
       " 'vehicles by type and fuel - lorries, Liquefied Petroleum Gas',\n",
       " 'vehicles by type and fuel - lorries, others',\n",
       " 'vehicles by type and fuel - busses, petrol',\n",
       " 'vehicles by type and fuel - busses, diesel oil',\n",
       " 'vehicles by type and fuel - busses, Liquefied Petroleum Gas',\n",
       " 'vehicles by type and fuel - busses, others',\n",
       " 'vehicles by type and fuel - road tractors, petrol',\n",
       " 'vehicles by type and fuel - road tractors, diesel oil',\n",
       " 'vehicles by type and fuel - road tractors, Liquefied Petroleum Gas',\n",
       " 'vehicles by type and fuel - road tractors, others',\n",
       " 'crop production - cereals, grand total, area in ha, total',\n",
       " 'crop production - potatoes, area in ha, total',\n",
       " 'crop production - sugar beets, area in ha, total',\n",
       " 'crop production - rape and turnip rape, area in ha, total',\n",
       " 'crop production - permanent meadows, area in ha, total',\n",
       " 'crop production - permanent pastures, area in ha, total',\n",
       " 'CAQI_level',\n",
       " 'isUrban',\n",
       " 'season',\n",
       " 'holiday_name',\n",
       " 'is_school_holiday',\n",
       " 'is_lockdown',\n",
       " 'is_have_coalplant',\n",
       " 'is_weekend']"
      ]
     },
     "execution_count": 11,
     "metadata": {},
     "output_type": "execute_result"
    }
   ],
   "source": [
    "train.columns.to_list()"
   ]
  },
  {
   "cell_type": "code",
   "execution_count": 9,
   "id": "ab2d58f0",
   "metadata": {},
   "outputs": [],
   "source": [
    "from sklearn.preprocessing import LabelEncoder\n",
    "# encoding the other categorical columns\n",
    "cat_cols = ['powiat_voivod', 'voivodship', 'season','holiday_name']\n",
    "for col in cat_cols:\n",
    "    le = LabelEncoder()\n",
    "    train['powiat_voivod_encoded'] = le.fit_transform(train['powiat_voivod'])\n",
    "    train['voivodship_encoded'] =le.fit_transform(train['voivodship'])\n",
    "    train['season_encoded'] =le.fit_transform(train['season'])\n",
    "    train['holiday_name_encoded'] =le.fit_transform(train['holiday_name'])"
   ]
  },
  {
   "cell_type": "markdown",
   "id": "835de94e",
   "metadata": {},
   "source": [
    "# TEST DATA"
   ]
  },
  {
   "cell_type": "code",
   "execution_count": 13,
   "id": "caef4c73",
   "metadata": {},
   "outputs": [
    {
     "data": {
      "text/html": [
       "<div>\n",
       "<style scoped>\n",
       "    .dataframe tbody tr th:only-of-type {\n",
       "        vertical-align: middle;\n",
       "    }\n",
       "\n",
       "    .dataframe tbody tr th {\n",
       "        vertical-align: top;\n",
       "    }\n",
       "\n",
       "    .dataframe thead th {\n",
       "        text-align: right;\n",
       "    }\n",
       "</style>\n",
       "<table border=\"1\" class=\"dataframe\">\n",
       "  <thead>\n",
       "    <tr style=\"text-align: right;\">\n",
       "      <th></th>\n",
       "      <th>powiat_voivod</th>\n",
       "      <th>cloud_cover</th>\n",
       "      <th>wind_speed</th>\n",
       "      <th>humidity</th>\n",
       "      <th>precipitation</th>\n",
       "      <th>snow_depth</th>\n",
       "      <th>temperature</th>\n",
       "      <th>voivodship</th>\n",
       "      <th>animal stock - total</th>\n",
       "      <th>area by land - utilised agricultural area</th>\n",
       "      <th>...</th>\n",
       "      <th>crop production - permanent meadows, area in ha, total</th>\n",
       "      <th>crop production - permanent pastures, area in ha, total</th>\n",
       "      <th>CAQI_level</th>\n",
       "      <th>isUrban</th>\n",
       "      <th>season</th>\n",
       "      <th>holiday_name</th>\n",
       "      <th>is_school_holiday</th>\n",
       "      <th>is_lockdown</th>\n",
       "      <th>is_have_coalplant</th>\n",
       "      <th>is_weekend</th>\n",
       "    </tr>\n",
       "    <tr>\n",
       "      <th>DATE</th>\n",
       "      <th></th>\n",
       "      <th></th>\n",
       "      <th></th>\n",
       "      <th></th>\n",
       "      <th></th>\n",
       "      <th></th>\n",
       "      <th></th>\n",
       "      <th></th>\n",
       "      <th></th>\n",
       "      <th></th>\n",
       "      <th></th>\n",
       "      <th></th>\n",
       "      <th></th>\n",
       "      <th></th>\n",
       "      <th></th>\n",
       "      <th></th>\n",
       "      <th></th>\n",
       "      <th></th>\n",
       "      <th></th>\n",
       "      <th></th>\n",
       "      <th></th>\n",
       "    </tr>\n",
       "  </thead>\n",
       "  <tbody>\n",
       "    <tr>\n",
       "      <th>2021-03-02</th>\n",
       "      <td>powiat aleksandrowski, kujawsko-pomorskie</td>\n",
       "      <td>5.000000</td>\n",
       "      <td>0.0</td>\n",
       "      <td>92.5</td>\n",
       "      <td>0.0</td>\n",
       "      <td>0.0</td>\n",
       "      <td>2.7</td>\n",
       "      <td>kujawsko-pomorskie</td>\n",
       "      <td>39.393684</td>\n",
       "      <td>1.712729</td>\n",
       "      <td>...</td>\n",
       "      <td>3.642105</td>\n",
       "      <td>0.623158</td>\n",
       "      <td>low</td>\n",
       "      <td>0</td>\n",
       "      <td>Spring</td>\n",
       "      <td>Non Holiday</td>\n",
       "      <td>0.0</td>\n",
       "      <td>0.0</td>\n",
       "      <td>0.0</td>\n",
       "      <td>0</td>\n",
       "    </tr>\n",
       "    <tr>\n",
       "      <th>2021-03-02</th>\n",
       "      <td>powiat augustowski, podlaskie</td>\n",
       "      <td>7.000000</td>\n",
       "      <td>60.0</td>\n",
       "      <td>90.0</td>\n",
       "      <td>0.0</td>\n",
       "      <td>0.0</td>\n",
       "      <td>2.3</td>\n",
       "      <td>podlaskie</td>\n",
       "      <td>51.660036</td>\n",
       "      <td>4.947356</td>\n",
       "      <td>...</td>\n",
       "      <td>20.197709</td>\n",
       "      <td>2.318264</td>\n",
       "      <td>vlow</td>\n",
       "      <td>0</td>\n",
       "      <td>Spring</td>\n",
       "      <td>Non Holiday</td>\n",
       "      <td>0.0</td>\n",
       "      <td>0.0</td>\n",
       "      <td>0.0</td>\n",
       "      <td>0</td>\n",
       "    </tr>\n",
       "    <tr>\n",
       "      <th>2021-03-02</th>\n",
       "      <td>powiat bełchatowski, łódzkie</td>\n",
       "      <td>4.846046</td>\n",
       "      <td>0.0</td>\n",
       "      <td>85.0</td>\n",
       "      <td>0.0</td>\n",
       "      <td>0.0</td>\n",
       "      <td>3.7</td>\n",
       "      <td>łódzkie</td>\n",
       "      <td>42.485537</td>\n",
       "      <td>3.735109</td>\n",
       "      <td>...</td>\n",
       "      <td>7.089876</td>\n",
       "      <td>0.634298</td>\n",
       "      <td>low</td>\n",
       "      <td>0</td>\n",
       "      <td>Spring</td>\n",
       "      <td>Non Holiday</td>\n",
       "      <td>0.0</td>\n",
       "      <td>0.0</td>\n",
       "      <td>1.0</td>\n",
       "      <td>0</td>\n",
       "    </tr>\n",
       "    <tr>\n",
       "      <th>2021-03-02</th>\n",
       "      <td>powiat biała podlaska, lubelskie</td>\n",
       "      <td>6.000000</td>\n",
       "      <td>0.0</td>\n",
       "      <td>89.0</td>\n",
       "      <td>0.0</td>\n",
       "      <td>0.0</td>\n",
       "      <td>3.7</td>\n",
       "      <td>lubelskie</td>\n",
       "      <td>19.326531</td>\n",
       "      <td>0.136890</td>\n",
       "      <td>...</td>\n",
       "      <td>7.204082</td>\n",
       "      <td>0.285714</td>\n",
       "      <td>medium</td>\n",
       "      <td>1</td>\n",
       "      <td>Spring</td>\n",
       "      <td>Non Holiday</td>\n",
       "      <td>0.0</td>\n",
       "      <td>0.0</td>\n",
       "      <td>0.0</td>\n",
       "      <td>0</td>\n",
       "    </tr>\n",
       "    <tr>\n",
       "      <th>2021-03-02</th>\n",
       "      <td>powiat białystok, podlaskie</td>\n",
       "      <td>7.000000</td>\n",
       "      <td>0.0</td>\n",
       "      <td>91.5</td>\n",
       "      <td>0.0</td>\n",
       "      <td>0.0</td>\n",
       "      <td>2.5</td>\n",
       "      <td>podlaskie</td>\n",
       "      <td>51.666667</td>\n",
       "      <td>0.304191</td>\n",
       "      <td>...</td>\n",
       "      <td>20.196078</td>\n",
       "      <td>2.313725</td>\n",
       "      <td>low</td>\n",
       "      <td>1</td>\n",
       "      <td>Spring</td>\n",
       "      <td>Non Holiday</td>\n",
       "      <td>0.0</td>\n",
       "      <td>0.0</td>\n",
       "      <td>0.0</td>\n",
       "      <td>0</td>\n",
       "    </tr>\n",
       "  </tbody>\n",
       "</table>\n",
       "<p>5 rows × 123 columns</p>\n",
       "</div>"
      ],
      "text/plain": [
       "                                        powiat_voivod  cloud_cover  \\\n",
       "DATE                                                                 \n",
       "2021-03-02  powiat aleksandrowski, kujawsko-pomorskie     5.000000   \n",
       "2021-03-02              powiat augustowski, podlaskie     7.000000   \n",
       "2021-03-02               powiat bełchatowski, łódzkie     4.846046   \n",
       "2021-03-02           powiat biała podlaska, lubelskie     6.000000   \n",
       "2021-03-02                powiat białystok, podlaskie     7.000000   \n",
       "\n",
       "            wind_speed  humidity  precipitation  snow_depth  temperature  \\\n",
       "DATE                                                                       \n",
       "2021-03-02         0.0      92.5            0.0         0.0          2.7   \n",
       "2021-03-02        60.0      90.0            0.0         0.0          2.3   \n",
       "2021-03-02         0.0      85.0            0.0         0.0          3.7   \n",
       "2021-03-02         0.0      89.0            0.0         0.0          3.7   \n",
       "2021-03-02         0.0      91.5            0.0         0.0          2.5   \n",
       "\n",
       "                    voivodship  animal stock - total  \\\n",
       "DATE                                                   \n",
       "2021-03-02  kujawsko-pomorskie             39.393684   \n",
       "2021-03-02           podlaskie             51.660036   \n",
       "2021-03-02             łódzkie             42.485537   \n",
       "2021-03-02           lubelskie             19.326531   \n",
       "2021-03-02           podlaskie             51.666667   \n",
       "\n",
       "            area by land - utilised agricultural area  ...  \\\n",
       "DATE                                                   ...   \n",
       "2021-03-02                                   1.712729  ...   \n",
       "2021-03-02                                   4.947356  ...   \n",
       "2021-03-02                                   3.735109  ...   \n",
       "2021-03-02                                   0.136890  ...   \n",
       "2021-03-02                                   0.304191  ...   \n",
       "\n",
       "            crop production - permanent meadows, area in ha, total  \\\n",
       "DATE                                                                 \n",
       "2021-03-02                                           3.642105        \n",
       "2021-03-02                                          20.197709        \n",
       "2021-03-02                                           7.089876        \n",
       "2021-03-02                                           7.204082        \n",
       "2021-03-02                                          20.196078        \n",
       "\n",
       "            crop production - permanent pastures, area in ha, total  \\\n",
       "DATE                                                                  \n",
       "2021-03-02                                           0.623158         \n",
       "2021-03-02                                           2.318264         \n",
       "2021-03-02                                           0.634298         \n",
       "2021-03-02                                           0.285714         \n",
       "2021-03-02                                           2.313725         \n",
       "\n",
       "            CAQI_level  isUrban  season  holiday_name  is_school_holiday  \\\n",
       "DATE                                                                       \n",
       "2021-03-02         low        0  Spring   Non Holiday                0.0   \n",
       "2021-03-02        vlow        0  Spring   Non Holiday                0.0   \n",
       "2021-03-02         low        0  Spring   Non Holiday                0.0   \n",
       "2021-03-02      medium        1  Spring   Non Holiday                0.0   \n",
       "2021-03-02         low        1  Spring   Non Holiday                0.0   \n",
       "\n",
       "            is_lockdown  is_have_coalplant  is_weekend  \n",
       "DATE                                                    \n",
       "2021-03-02          0.0                0.0           0  \n",
       "2021-03-02          0.0                0.0           0  \n",
       "2021-03-02          0.0                1.0           0  \n",
       "2021-03-02          0.0                0.0           0  \n",
       "2021-03-02          0.0                0.0           0  \n",
       "\n",
       "[5 rows x 123 columns]"
      ]
     },
     "execution_count": 13,
     "metadata": {},
     "output_type": "execute_result"
    }
   ],
   "source": [
    "test.head()"
   ]
  },
  {
   "cell_type": "code",
   "execution_count": 10,
   "id": "9d5ee03f",
   "metadata": {},
   "outputs": [
    {
     "name": "stdout",
     "output_type": "stream",
     "text": [
      "<class 'pandas.core.frame.DataFrame'>\n",
      "DatetimeIndex: 60390 entries, 2021-03-02 to 2021-12-31\n",
      "Columns: 123 entries, powiat_voivod to is_weekend\n",
      "dtypes: float64(116), int32(1), int64(1), object(5)\n",
      "memory usage: 56.9+ MB\n"
     ]
    }
   ],
   "source": [
    "test.info()"
   ]
  },
  {
   "cell_type": "code",
   "execution_count": 15,
   "id": "052eb3c8",
   "metadata": {},
   "outputs": [
    {
     "data": {
      "text/plain": [
       "(60390, 123)"
      ]
     },
     "execution_count": 15,
     "metadata": {},
     "output_type": "execute_result"
    }
   ],
   "source": [
    "test.shape"
   ]
  },
  {
   "cell_type": "code",
   "execution_count": 11,
   "id": "19a74287",
   "metadata": {},
   "outputs": [
    {
     "data": {
      "text/plain": [
       "vlow      31913\n",
       "low       24346\n",
       "medium     3683\n",
       "high        435\n",
       "vhigh        13\n",
       "Name: CAQI_level, dtype: int64"
      ]
     },
     "execution_count": 11,
     "metadata": {},
     "output_type": "execute_result"
    }
   ],
   "source": [
    "test['CAQI_level'].value_counts()"
   ]
  },
  {
   "cell_type": "code",
   "execution_count": 12,
   "id": "c3ec3382",
   "metadata": {},
   "outputs": [],
   "source": [
    "# combine high and vhigh to a single category, as we want to see how it will affect the accuracy of model\n",
    "test['CAQI_level'] = test['CAQI_level'].replace({'vhigh':'high'})"
   ]
  },
  {
   "cell_type": "code",
   "execution_count": 13,
   "id": "e1f2eec1",
   "metadata": {},
   "outputs": [
    {
     "data": {
      "text/plain": [
       "vlow      31913\n",
       "low       24346\n",
       "medium     3683\n",
       "high        448\n",
       "Name: CAQI_level, dtype: int64"
      ]
     },
     "execution_count": 13,
     "metadata": {},
     "output_type": "execute_result"
    }
   ],
   "source": [
    "test['CAQI_level'].value_counts()"
   ]
  },
  {
   "cell_type": "code",
   "execution_count": 14,
   "id": "6c7c3909",
   "metadata": {},
   "outputs": [],
   "source": [
    "# order of mapping\n",
    "mapping = {'vlow':0,'low':1,\"medium\":2,\"high\":3}\n",
    "test['CAQI_level'] = test['CAQI_level'].replace(mapping)"
   ]
  },
  {
   "cell_type": "code",
   "execution_count": 15,
   "id": "7dbf41a1",
   "metadata": {},
   "outputs": [
    {
     "data": {
      "text/plain": [
       "0    31913\n",
       "1    24346\n",
       "2     3683\n",
       "3      448\n",
       "Name: CAQI_level, dtype: int64"
      ]
     },
     "execution_count": 15,
     "metadata": {},
     "output_type": "execute_result"
    }
   ],
   "source": [
    "test['CAQI_level'].value_counts()"
   ]
  },
  {
   "cell_type": "code",
   "execution_count": 16,
   "id": "2079f5a7",
   "metadata": {},
   "outputs": [],
   "source": [
    "# encoding the other categorical columns\n",
    "from sklearn.preprocessing import LabelEncoder\n",
    "cat_cols = ['powiat_voivod', 'voivodship', 'season','holiday_name']\n",
    "for col in cat_cols:\n",
    "    le = LabelEncoder()\n",
    "    test['powiat_voivod_encoded'] = le.fit_transform(test['powiat_voivod'])\n",
    "    test['voivodship_encoded'] = le.fit_transform(test['voivodship'])\n",
    "    test['season_encoded'] = le.fit_transform(test['season'])\n",
    "    test['holiday_name_encoded'] = le.fit_transform(test['holiday_name'])"
   ]
  },
  {
   "cell_type": "code",
   "execution_count": 17,
   "id": "1c1660f7",
   "metadata": {},
   "outputs": [],
   "source": [
    "# imputing train_test_split\n",
    "X_train = train.drop(['CAQI_level','powiat_voivod', 'voivodship', 'season', 'holiday_name'], axis=1)\n",
    "y_train = train['CAQI_level']\n",
    "X_test = test.drop(['CAQI_level','powiat_voivod', 'voivodship', 'season', 'holiday_name'], axis=1)\n",
    "y_test = test['CAQI_level']"
   ]
  },
  {
   "cell_type": "code",
   "execution_count": 18,
   "id": "d25f125f",
   "metadata": {},
   "outputs": [],
   "source": [
    "#import RandomForestClassifier\n",
    "from sklearn.ensemble import RandomForestClassifier"
   ]
  },
  {
   "cell_type": "code",
   "execution_count": 19,
   "id": "83d3d688",
   "metadata": {},
   "outputs": [
    {
     "data": {
      "text/html": [
       "<style>#sk-container-id-1 {color: black;background-color: white;}#sk-container-id-1 pre{padding: 0;}#sk-container-id-1 div.sk-toggleable {background-color: white;}#sk-container-id-1 label.sk-toggleable__label {cursor: pointer;display: block;width: 100%;margin-bottom: 0;padding: 0.3em;box-sizing: border-box;text-align: center;}#sk-container-id-1 label.sk-toggleable__label-arrow:before {content: \"▸\";float: left;margin-right: 0.25em;color: #696969;}#sk-container-id-1 label.sk-toggleable__label-arrow:hover:before {color: black;}#sk-container-id-1 div.sk-estimator:hover label.sk-toggleable__label-arrow:before {color: black;}#sk-container-id-1 div.sk-toggleable__content {max-height: 0;max-width: 0;overflow: hidden;text-align: left;background-color: #f0f8ff;}#sk-container-id-1 div.sk-toggleable__content pre {margin: 0.2em;color: black;border-radius: 0.25em;background-color: #f0f8ff;}#sk-container-id-1 input.sk-toggleable__control:checked~div.sk-toggleable__content {max-height: 200px;max-width: 100%;overflow: auto;}#sk-container-id-1 input.sk-toggleable__control:checked~label.sk-toggleable__label-arrow:before {content: \"▾\";}#sk-container-id-1 div.sk-estimator input.sk-toggleable__control:checked~label.sk-toggleable__label {background-color: #d4ebff;}#sk-container-id-1 div.sk-label input.sk-toggleable__control:checked~label.sk-toggleable__label {background-color: #d4ebff;}#sk-container-id-1 input.sk-hidden--visually {border: 0;clip: rect(1px 1px 1px 1px);clip: rect(1px, 1px, 1px, 1px);height: 1px;margin: -1px;overflow: hidden;padding: 0;position: absolute;width: 1px;}#sk-container-id-1 div.sk-estimator {font-family: monospace;background-color: #f0f8ff;border: 1px dotted black;border-radius: 0.25em;box-sizing: border-box;margin-bottom: 0.5em;}#sk-container-id-1 div.sk-estimator:hover {background-color: #d4ebff;}#sk-container-id-1 div.sk-parallel-item::after {content: \"\";width: 100%;border-bottom: 1px solid gray;flex-grow: 1;}#sk-container-id-1 div.sk-label:hover label.sk-toggleable__label {background-color: #d4ebff;}#sk-container-id-1 div.sk-serial::before {content: \"\";position: absolute;border-left: 1px solid gray;box-sizing: border-box;top: 0;bottom: 0;left: 50%;z-index: 0;}#sk-container-id-1 div.sk-serial {display: flex;flex-direction: column;align-items: center;background-color: white;padding-right: 0.2em;padding-left: 0.2em;position: relative;}#sk-container-id-1 div.sk-item {position: relative;z-index: 1;}#sk-container-id-1 div.sk-parallel {display: flex;align-items: stretch;justify-content: center;background-color: white;position: relative;}#sk-container-id-1 div.sk-item::before, #sk-container-id-1 div.sk-parallel-item::before {content: \"\";position: absolute;border-left: 1px solid gray;box-sizing: border-box;top: 0;bottom: 0;left: 50%;z-index: -1;}#sk-container-id-1 div.sk-parallel-item {display: flex;flex-direction: column;z-index: 1;position: relative;background-color: white;}#sk-container-id-1 div.sk-parallel-item:first-child::after {align-self: flex-end;width: 50%;}#sk-container-id-1 div.sk-parallel-item:last-child::after {align-self: flex-start;width: 50%;}#sk-container-id-1 div.sk-parallel-item:only-child::after {width: 0;}#sk-container-id-1 div.sk-dashed-wrapped {border: 1px dashed gray;margin: 0 0.4em 0.5em 0.4em;box-sizing: border-box;padding-bottom: 0.4em;background-color: white;}#sk-container-id-1 div.sk-label label {font-family: monospace;font-weight: bold;display: inline-block;line-height: 1.2em;}#sk-container-id-1 div.sk-label-container {text-align: center;}#sk-container-id-1 div.sk-container {/* jupyter's `normalize.less` sets `[hidden] { display: none; }` but bootstrap.min.css set `[hidden] { display: none !important; }` so we also need the `!important` here to be able to override the default hidden behavior on the sphinx rendered scikit-learn.org. See: https://github.com/scikit-learn/scikit-learn/issues/21755 */display: inline-block !important;position: relative;}#sk-container-id-1 div.sk-text-repr-fallback {display: none;}</style><div id=\"sk-container-id-1\" class=\"sk-top-container\"><div class=\"sk-text-repr-fallback\"><pre>RandomForestClassifier(max_depth=2, random_state=42)</pre><b>In a Jupyter environment, please rerun this cell to show the HTML representation or trust the notebook. <br />On GitHub, the HTML representation is unable to render, please try loading this page with nbviewer.org.</b></div><div class=\"sk-container\" hidden><div class=\"sk-item\"><div class=\"sk-estimator sk-toggleable\"><input class=\"sk-toggleable__control sk-hidden--visually\" id=\"sk-estimator-id-1\" type=\"checkbox\" checked><label for=\"sk-estimator-id-1\" class=\"sk-toggleable__label sk-toggleable__label-arrow\">RandomForestClassifier</label><div class=\"sk-toggleable__content\"><pre>RandomForestClassifier(max_depth=2, random_state=42)</pre></div></div></div></div></div>"
      ],
      "text/plain": [
       "RandomForestClassifier(max_depth=2, random_state=42)"
      ]
     },
     "execution_count": 19,
     "metadata": {},
     "output_type": "execute_result"
    }
   ],
   "source": [
    "clf = RandomForestClassifier(max_depth=2, random_state=42)\n",
    "clf.fit(X_train, y_train)"
   ]
  },
  {
   "cell_type": "code",
   "execution_count": 20,
   "id": "6967e2ca",
   "metadata": {},
   "outputs": [
    {
     "name": "stdout",
     "output_type": "stream",
     "text": [
      "Model Accuracy: 0.549511508527902\n"
     ]
    }
   ],
   "source": [
    "# Predict on the test set\n",
    "y_pred = clf.predict(X_test)\n",
    "\n",
    "# Accuracy score:\n",
    "model_accuracy = accuracy_score(y_test, y_pred)\n",
    "print(\"Model Accuracy:\", model_accuracy)"
   ]
  },
  {
   "cell_type": "code",
   "execution_count": 21,
   "id": "e48cb2da",
   "metadata": {},
   "outputs": [
    {
     "name": "stdout",
     "output_type": "stream",
     "text": [
      "              precision    recall  f1-score   support\n",
      "\n",
      "           0       0.59      0.72      0.65     31913\n",
      "           1       0.48      0.42      0.44     24346\n",
      "           2       0.00      0.00      0.00      3683\n",
      "           3       0.00      0.00      0.00       448\n",
      "\n",
      "    accuracy                           0.55     60390\n",
      "   macro avg       0.27      0.28      0.27     60390\n",
      "weighted avg       0.50      0.55      0.52     60390\n",
      "\n"
     ]
    }
   ],
   "source": [
    "# Evaluating the model performance\n",
    "from sklearn.metrics import classification_report\n",
    "print(classification_report(y_test, y_pred))"
   ]
  },
  {
   "cell_type": "code",
   "execution_count": 24,
   "id": "a33230a2",
   "metadata": {},
   "outputs": [
    {
     "name": "stdout",
     "output_type": "stream",
     "text": [
      "[[23080  8833     0     0]\n",
      " [14241 10105     0     0]\n",
      " [ 1844  1839     0     0]\n",
      " [  148   300     0     0]]\n"
     ]
    }
   ],
   "source": [
    "from sklearn.metrics import confusion_matrix\n",
    "import seaborn as sns\n",
    "\n",
    "cm = confusion_matrix(y_test, y_pred)\n",
    "\n",
    "print(cm)"
   ]
  },
  {
   "cell_type": "markdown",
   "id": "e18546f6",
   "metadata": {},
   "source": [
    "# cross validation"
   ]
  },
  {
   "cell_type": "code",
   "execution_count": 30,
   "id": "1137edeb",
   "metadata": {},
   "outputs": [
    {
     "name": "stdout",
     "output_type": "stream",
     "text": [
      "Cross-validation scores: [0.49709264 0.49687666 0.49561404 0.49777379 0.49732523]\n",
      "Mean CV accuracy: 0.49693646996278573\n"
     ]
    }
   ],
   "source": [
    "from sklearn.model_selection import cross_val_score, StratifiedKFold\n",
    "\n",
    "kfold = StratifiedKFold(n_splits=5, shuffle=True, random_state=42)\n",
    "\n",
    "\n",
    "cv_scores = cross_val_score(clf, X_train, y_train, cv=kfold, scoring='accuracy')\n",
    "\n",
    "# Cross-validation scores\n",
    "print(\"Cross-validation scores:\", cv_scores)\n",
    "print(\"Mean CV accuracy:\", cv_scores.mean())"
   ]
  },
  {
   "cell_type": "code",
   "execution_count": null,
   "id": "f90d94c2",
   "metadata": {},
   "outputs": [],
   "source": []
  }
 ],
 "metadata": {
  "kernelspec": {
   "display_name": "Python 3 (ipykernel)",
   "language": "python",
   "name": "python3"
  },
  "language_info": {
   "codemirror_mode": {
    "name": "ipython",
    "version": 3
   },
   "file_extension": ".py",
   "mimetype": "text/x-python",
   "name": "python",
   "nbconvert_exporter": "python",
   "pygments_lexer": "ipython3",
   "version": "3.9.12"
  }
 },
 "nbformat": 4,
 "nbformat_minor": 5
}
