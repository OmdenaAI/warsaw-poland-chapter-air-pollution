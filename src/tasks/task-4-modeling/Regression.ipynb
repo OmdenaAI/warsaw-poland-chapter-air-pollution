{
 "cells": [
  {
   "cell_type": "code",
   "execution_count": 1,
   "id": "e626b126",
   "metadata": {},
   "outputs": [],
   "source": [
    "import warnings\n",
    "\n",
    "import pandas as pd\n",
    "import numpy as np\n",
    "import matplotlib.pyplot as plt\n",
    "import seaborn as sns\n",
    "from sklearn.linear_model import LinearRegression\n",
    "from sklearn.model_selection import train_test_split\n",
    "from sklearn.metrics import r2_score, mean_squared_error"
   ]
  },
  {
   "cell_type": "code",
   "execution_count": 2,
   "id": "78465e06",
   "metadata": {},
   "outputs": [],
   "source": [
    "df = pd.read_csv(\"Final_df_regression.csv\")"
   ]
  },
  {
   "cell_type": "code",
   "execution_count": 3,
   "id": "ac690eae",
   "metadata": {},
   "outputs": [
    {
     "data": {
      "text/html": [
       "<div>\n",
       "<style scoped>\n",
       "    .dataframe tbody tr th:only-of-type {\n",
       "        vertical-align: middle;\n",
       "    }\n",
       "\n",
       "    .dataframe tbody tr th {\n",
       "        vertical-align: top;\n",
       "    }\n",
       "\n",
       "    .dataframe thead th {\n",
       "        text-align: right;\n",
       "    }\n",
       "</style>\n",
       "<table border=\"1\" class=\"dataframe\">\n",
       "  <thead>\n",
       "    <tr style=\"text-align: right;\">\n",
       "      <th></th>\n",
       "      <th>powiat_voivod</th>\n",
       "      <th>DATE</th>\n",
       "      <th>CC</th>\n",
       "      <th>FG</th>\n",
       "      <th>HU</th>\n",
       "      <th>RR</th>\n",
       "      <th>SD</th>\n",
       "      <th>TG</th>\n",
       "      <th>voivodship</th>\n",
       "      <th>[animal stock] total</th>\n",
       "      <th>...</th>\n",
       "      <th>dayofweek</th>\n",
       "      <th>season</th>\n",
       "      <th>CAQI_lag1</th>\n",
       "      <th>holiday_name</th>\n",
       "      <th>is_school_holiday</th>\n",
       "      <th>is_lockdown</th>\n",
       "      <th>is_have_coalplant</th>\n",
       "      <th>rolling7_CAQI</th>\n",
       "      <th>rolling30_CAQI</th>\n",
       "      <th>rolling90_CAQI</th>\n",
       "    </tr>\n",
       "  </thead>\n",
       "  <tbody>\n",
       "    <tr>\n",
       "      <th>0</th>\n",
       "      <td>powiat aleksandrowski, kujawsko-pomorskie</td>\n",
       "      <td>2017-01-01</td>\n",
       "      <td>4.746750</td>\n",
       "      <td>0.0</td>\n",
       "      <td>88.4</td>\n",
       "      <td>1.0</td>\n",
       "      <td>0.0</td>\n",
       "      <td>1.8</td>\n",
       "      <td>kujawsko-pomorskie</td>\n",
       "      <td>44.997895</td>\n",
       "      <td>...</td>\n",
       "      <td>6</td>\n",
       "      <td>Winter</td>\n",
       "      <td>24.968064</td>\n",
       "      <td>New Year's Day</td>\n",
       "      <td>0.0</td>\n",
       "      <td>0.0</td>\n",
       "      <td>0.0</td>\n",
       "      <td>24.968064</td>\n",
       "      <td>28.884791</td>\n",
       "      <td>47.077522</td>\n",
       "    </tr>\n",
       "    <tr>\n",
       "      <th>1</th>\n",
       "      <td>powiat aleksandrowski, kujawsko-pomorskie</td>\n",
       "      <td>2017-01-02</td>\n",
       "      <td>6.167555</td>\n",
       "      <td>36.8</td>\n",
       "      <td>88.4</td>\n",
       "      <td>1.0</td>\n",
       "      <td>0.0</td>\n",
       "      <td>0.5</td>\n",
       "      <td>kujawsko-pomorskie</td>\n",
       "      <td>44.997895</td>\n",
       "      <td>...</td>\n",
       "      <td>0</td>\n",
       "      <td>Winter</td>\n",
       "      <td>24.968064</td>\n",
       "      <td>Non Holiday</td>\n",
       "      <td>0.0</td>\n",
       "      <td>0.0</td>\n",
       "      <td>0.0</td>\n",
       "      <td>24.968064</td>\n",
       "      <td>28.884791</td>\n",
       "      <td>47.077522</td>\n",
       "    </tr>\n",
       "    <tr>\n",
       "      <th>2</th>\n",
       "      <td>powiat aleksandrowski, kujawsko-pomorskie</td>\n",
       "      <td>2017-01-03</td>\n",
       "      <td>5.198131</td>\n",
       "      <td>0.0</td>\n",
       "      <td>88.4</td>\n",
       "      <td>63.0</td>\n",
       "      <td>0.0</td>\n",
       "      <td>0.3</td>\n",
       "      <td>kujawsko-pomorskie</td>\n",
       "      <td>44.997895</td>\n",
       "      <td>...</td>\n",
       "      <td>1</td>\n",
       "      <td>Winter</td>\n",
       "      <td>17.943745</td>\n",
       "      <td>Non Holiday</td>\n",
       "      <td>0.0</td>\n",
       "      <td>0.0</td>\n",
       "      <td>0.0</td>\n",
       "      <td>21.455904</td>\n",
       "      <td>28.884791</td>\n",
       "      <td>47.077522</td>\n",
       "    </tr>\n",
       "    <tr>\n",
       "      <th>3</th>\n",
       "      <td>powiat aleksandrowski, kujawsko-pomorskie</td>\n",
       "      <td>2017-01-04</td>\n",
       "      <td>8.432231</td>\n",
       "      <td>64.2</td>\n",
       "      <td>88.4</td>\n",
       "      <td>10.0</td>\n",
       "      <td>0.0</td>\n",
       "      <td>1.2</td>\n",
       "      <td>kujawsko-pomorskie</td>\n",
       "      <td>44.997895</td>\n",
       "      <td>...</td>\n",
       "      <td>2</td>\n",
       "      <td>Winter</td>\n",
       "      <td>17.500000</td>\n",
       "      <td>Non Holiday</td>\n",
       "      <td>0.0</td>\n",
       "      <td>0.0</td>\n",
       "      <td>0.0</td>\n",
       "      <td>20.137270</td>\n",
       "      <td>28.884791</td>\n",
       "      <td>47.077522</td>\n",
       "    </tr>\n",
       "    <tr>\n",
       "      <th>4</th>\n",
       "      <td>powiat aleksandrowski, kujawsko-pomorskie</td>\n",
       "      <td>2017-01-05</td>\n",
       "      <td>4.992977</td>\n",
       "      <td>0.0</td>\n",
       "      <td>82.4</td>\n",
       "      <td>2.0</td>\n",
       "      <td>1.0</td>\n",
       "      <td>-3.9</td>\n",
       "      <td>kujawsko-pomorskie</td>\n",
       "      <td>44.997895</td>\n",
       "      <td>...</td>\n",
       "      <td>3</td>\n",
       "      <td>Winter</td>\n",
       "      <td>23.941667</td>\n",
       "      <td>Non Holiday</td>\n",
       "      <td>0.0</td>\n",
       "      <td>0.0</td>\n",
       "      <td>0.0</td>\n",
       "      <td>21.088369</td>\n",
       "      <td>28.884791</td>\n",
       "      <td>47.077522</td>\n",
       "    </tr>\n",
       "  </tbody>\n",
       "</table>\n",
       "<p>5 rows × 131 columns</p>\n",
       "</div>"
      ],
      "text/plain": [
       "                               powiat_voivod        DATE        CC    FG  \\\n",
       "0  powiat aleksandrowski, kujawsko-pomorskie  2017-01-01  4.746750   0.0   \n",
       "1  powiat aleksandrowski, kujawsko-pomorskie  2017-01-02  6.167555  36.8   \n",
       "2  powiat aleksandrowski, kujawsko-pomorskie  2017-01-03  5.198131   0.0   \n",
       "3  powiat aleksandrowski, kujawsko-pomorskie  2017-01-04  8.432231  64.2   \n",
       "4  powiat aleksandrowski, kujawsko-pomorskie  2017-01-05  4.992977   0.0   \n",
       "\n",
       "     HU    RR   SD   TG          voivodship  [animal stock] total  ...  \\\n",
       "0  88.4   1.0  0.0  1.8  kujawsko-pomorskie             44.997895  ...   \n",
       "1  88.4   1.0  0.0  0.5  kujawsko-pomorskie             44.997895  ...   \n",
       "2  88.4  63.0  0.0  0.3  kujawsko-pomorskie             44.997895  ...   \n",
       "3  88.4  10.0  0.0  1.2  kujawsko-pomorskie             44.997895  ...   \n",
       "4  82.4   2.0  1.0 -3.9  kujawsko-pomorskie             44.997895  ...   \n",
       "\n",
       "   dayofweek  season  CAQI_lag1    holiday_name  is_school_holiday  \\\n",
       "0          6  Winter  24.968064  New Year's Day                0.0   \n",
       "1          0  Winter  24.968064     Non Holiday                0.0   \n",
       "2          1  Winter  17.943745     Non Holiday                0.0   \n",
       "3          2  Winter  17.500000     Non Holiday                0.0   \n",
       "4          3  Winter  23.941667     Non Holiday                0.0   \n",
       "\n",
       "   is_lockdown  is_have_coalplant  rolling7_CAQI  rolling30_CAQI  \\\n",
       "0          0.0                0.0      24.968064       28.884791   \n",
       "1          0.0                0.0      24.968064       28.884791   \n",
       "2          0.0                0.0      21.455904       28.884791   \n",
       "3          0.0                0.0      20.137270       28.884791   \n",
       "4          0.0                0.0      21.088369       28.884791   \n",
       "\n",
       "   rolling90_CAQI  \n",
       "0       47.077522  \n",
       "1       47.077522  \n",
       "2       47.077522  \n",
       "3       47.077522  \n",
       "4       47.077522  \n",
       "\n",
       "[5 rows x 131 columns]"
      ]
     },
     "execution_count": 3,
     "metadata": {},
     "output_type": "execute_result"
    }
   ],
   "source": [
    "df.head()"
   ]
  },
  {
   "cell_type": "code",
   "execution_count": 4,
   "id": "59c00f73",
   "metadata": {},
   "outputs": [
    {
     "data": {
      "text/plain": [
       "(361548, 131)"
      ]
     },
     "execution_count": 4,
     "metadata": {},
     "output_type": "execute_result"
    }
   ],
   "source": [
    "df.shape"
   ]
  },
  {
   "cell_type": "code",
   "execution_count": 5,
   "id": "cfea157a",
   "metadata": {},
   "outputs": [
    {
     "data": {
      "text/plain": [
       "powiat_voivod        0\n",
       "DATE                 0\n",
       "CC                   0\n",
       "FG                   0\n",
       "HU                   0\n",
       "                    ..\n",
       "is_lockdown          0\n",
       "is_have_coalplant    0\n",
       "rolling7_CAQI        0\n",
       "rolling30_CAQI       0\n",
       "rolling90_CAQI       0\n",
       "Length: 131, dtype: int64"
      ]
     },
     "execution_count": 5,
     "metadata": {},
     "output_type": "execute_result"
    }
   ],
   "source": [
    "df.isnull().sum()"
   ]
  },
  {
   "cell_type": "code",
   "execution_count": 6,
   "id": "7cc627fd",
   "metadata": {},
   "outputs": [
    {
     "data": {
      "text/plain": [
       "Index(['powiat_voivod', 'DATE', 'CC', 'FG', 'HU', 'RR', 'SD', 'TG',\n",
       "       'voivodship', '[animal stock] total',\n",
       "       ...\n",
       "       'dayofweek', 'season', 'CAQI_lag1', 'holiday_name', 'is_school_holiday',\n",
       "       'is_lockdown', 'is_have_coalplant', 'rolling7_CAQI', 'rolling30_CAQI',\n",
       "       'rolling90_CAQI'],\n",
       "      dtype='object', length=131)"
      ]
     },
     "execution_count": 6,
     "metadata": {},
     "output_type": "execute_result"
    }
   ],
   "source": [
    "df.columns"
   ]
  },
  {
   "cell_type": "code",
   "execution_count": 3,
   "id": "0d6207dc",
   "metadata": {
    "scrolled": false
   },
   "outputs": [],
   "source": [
    "df = df.drop(['[animal stock] total',\n",
    " '[area by land] utilised agricultural area',\n",
    " '[area by land] forests',\n",
    " '[area by land] residential areas',\n",
    " '[area by land] industrial lands',\n",
    " '[area by land] recreational and rest areas',\n",
    " '[area by land] lands under waters',\n",
    " '[area by land] wasteland',\n",
    " '[area by land] other area',\n",
    " '[emission of particulates] fugitive',\n",
    " '[emission of particulates] fuel combustion',\n",
    " '[emission of particulates] cement/lime and refractory materials',\n",
    " '[emission of particulates] silicon',\n",
    " '[emission of particulates] chemical fertilizers',\n",
    " '[emission of particulates] surface-active agents',\n",
    " '[emission of particulates] carbon and graphite, soot',\n",
    " '[emission of pollutant gases] fugitive',\n",
    " '[emission of pollutant gases] sulphur dioxide',\n",
    " '[emission of pollutant gases] nitrogen oxides',\n",
    " '[emission of pollutant gases] carbon monoxide',\n",
    " '[emission of pollutant gases] carbon dioxide',\n",
    " '[emission of pollutant gases] methane',\n",
    " '[emission of pollutant gases] dinitrogen monoxide',\n",
    " '[forest area] forests, grand total',\n",
    " '[plants of significant nuisance] total',\n",
    " '[plants of significant nuisance] possessing systems to reduce the emission of particulates',\n",
    " '[plants of significant nuisance] possessing systems to reduce the emission of gases',\n",
    " '[population density] population per 1 km2',\n",
    " '[production of electricity] total',\n",
    " '[production of electricity] water power plants and wind, biomass and wastes power plants, total',\n",
    " '[production of electricity] water power plants',\n",
    " '[production of electricity] thermal power plants, total',\n",
    " '[production of electricity] thermal public power plants',\n",
    " '[production of electricity] thermal autoproducing power plants',\n",
    " '[production of electricity] from renewable energy sources',\n",
    " '[production of electricity] share of renewable energy sources in total production of electricity',\n",
    " '[production of electricity] relation of electricity production to electricity consumption',\n",
    " '[share of green areas] share of parks, lawns and green areas of the housing estate areas in the total area',\n",
    " '[share of green areas] share of green areas in the total area',\n",
    " '[share of urbanized areas] total',\n",
    " '[total vehicles] road vehicles and tractors',\n",
    " '[total vehicles] motorcycles total',\n",
    " '[total vehicles] motorcycles, engine capacity up to 125 cm3',\n",
    " '[total vehicles] passenger cars',\n",
    " '[total vehicles] buses, total',\n",
    " '[total vehicles] lorries',\n",
    " '[total vehicles] goods and persons carrying vehicles',\n",
    " '[total vehicles] special purpose vehicles (including sanitary)',\n",
    " '[total vehicles] road tractors',\n",
    " '[total vehicles] agricultural tractors',\n",
    " '[total vehicles] mopeds',\n",
    " '[air pollution reduction systems] cyclones, equipment - efficiency low',\n",
    " '[air pollution reduction systems] cyclones, equipment - efficiency moderate',\n",
    " '[air pollution reduction systems] cyclones, equipment - efficiency high',\n",
    " '[air pollution reduction systems] cyclones, waste gas flow - efficiency low',\n",
    " '[air pollution reduction systems] cyclones, waste gas flow - efficiency moderate',\n",
    " '[air pollution reduction systems] cyclones, waste gas flow - efficiency high',\n",
    " '[air pollution reduction systems] multicyclones, equipment - efficiency low',\n",
    " '[air pollution reduction systems] multicyclones, equipment - efficiency moderate',\n",
    " '[air pollution reduction systems] multicyclones, equipment - efficiency high',\n",
    " '[air pollution reduction systems] multicyclones, waste gas flow - efficiency low',\n",
    " '[air pollution reduction systems] multicyclones, waste gas flow - efficiency moderate',\n",
    " '[air pollution reduction systems] multicyclones, waste gas flow - efficiency high',\n",
    " '[air pollution reduction systems] fabric filters, equipment - efficiency low',\n",
    " '[air pollution reduction systems] fabric filters, equipment - efficiency moderate',\n",
    " '[air pollution reduction systems] fabric filters, equipment - efficiency high',\n",
    " '[air pollution reduction systems] fabric filters, waste gas flow - efficiency low',\n",
    " '[air pollution reduction systems] fabric filters, waste gas flow - efficiency moderate',\n",
    " '[air pollution reduction systems] fabric filters, waste gas flow - efficiency high',\n",
    " '[air pollution reduction systems] electrofilters, equipment - efficiency low',\n",
    " '[air pollution reduction systems] electrofilters, equipment - efficiency moderate',\n",
    " '[air pollution reduction systems] electrofilters, equipment - efficiency high',\n",
    " '[air pollution reduction systems] electrofilters, waste gas flow - efficiency low',\n",
    " '[air pollution reduction systems] electrofilters, waste gas flow - efficiency moderate',\n",
    " '[air pollution reduction systems] electrofilters, waste gas flow - efficiency high',\n",
    " '[air pollution reduction systems] wet air cleaners, equipment - efficiency low',\n",
    " '[air pollution reduction systems] wet air cleaners, equipment - efficiency moderate',\n",
    " '[air pollution reduction systems] wet air cleaners, equipment - efficiency high',\n",
    " '[air pollution reduction systems] wet air cleaners, waste gas flow - efficiency low',\n",
    " '[air pollution reduction systems] wet air cleaners, waste gas flow - efficiency moderate',\n",
    " '[air pollution reduction systems] wet air cleaners, waste gas flow - efficiency high',\n",
    " '[forest fires] number of forest fires, total',\n",
    " '[forest fires] area of forest fires, total',\n",
    " '[vehicles by type and fuel] passenger cars, petrol',\n",
    " '[vehicles by type and fuel] passenger cars, diesel oil',\n",
    " '[vehicles by type and fuel] passenger cars, Liquefied Petroleum Gas',\n",
    " '[vehicles by type and fuel] passenger cars, others',\n",
    " '[vehicles by type and fuel] lorries, petrol',\n",
    " '[vehicles by type and fuel] lorries, diesel oil',\n",
    " '[vehicles by type and fuel] lorries, Liquefied Petroleum Gas',\n",
    " '[vehicles by type and fuel] lorries, others',\n",
    " '[vehicles by type and fuel] busses, petrol',\n",
    " '[vehicles by type and fuel] busses, diesel oil',\n",
    " '[vehicles by type and fuel] busses, Liquefied Petroleum Gas',\n",
    " '[vehicles by type and fuel] busses, others',\n",
    " '[vehicles by type and fuel] road tractors, petrol',\n",
    " '[vehicles by type and fuel] road tractors, diesel oil',\n",
    " '[vehicles by type and fuel] road tractors, Liquefied Petroleum Gas',\n",
    " '[vehicles by type and fuel] road tractors, others',\n",
    " '[crop production] cereals, grand total, area in ha, total',\n",
    " '[crop production] potatoes, area in ha, total',\n",
    " '[crop production] sugar beets, area in ha, total',\n",
    " '[crop production] rape and turnip rape, area in ha, total',\n",
    " '[crop production] permanent meadows, area in ha, total',\n",
    " '[crop production] permanent pastures, area in ha, total'],axis = 1)"
   ]
  },
  {
   "cell_type": "code",
   "execution_count": 4,
   "id": "ec2c82ec",
   "metadata": {},
   "outputs": [],
   "source": [
    "df = df.drop(['powiat_voivod', 'voivodship', 'holiday_name'], axis=1)"
   ]
  },
  {
   "cell_type": "code",
   "execution_count": 11,
   "id": "f3f9fc0d",
   "metadata": {},
   "outputs": [],
   "source": [
    "df = df.drop('season', axis=1)"
   ]
  },
  {
   "cell_type": "code",
   "execution_count": 5,
   "id": "2782fb87",
   "metadata": {},
   "outputs": [
    {
     "name": "stdout",
     "output_type": "stream",
     "text": [
      "<class 'pandas.core.frame.DataFrame'>\n",
      "RangeIndex: 361548 entries, 0 to 361547\n",
      "Data columns (total 23 columns):\n",
      " #   Column                                                          Non-Null Count   Dtype  \n",
      "---  ------                                                          --------------   -----  \n",
      " 0   DATE                                                            361548 non-null  object \n",
      " 1   CC                                                              361548 non-null  float64\n",
      " 2   FG                                                              361548 non-null  float64\n",
      " 3   HU                                                              361548 non-null  float64\n",
      " 4   RR                                                              361548 non-null  float64\n",
      " 5   SD                                                              361548 non-null  float64\n",
      " 6   TG                                                              361548 non-null  float64\n",
      " 7   [air pollution reduction systems] others, equipment total       361548 non-null  float64\n",
      " 8   [air pollution reduction systems] others, total waste gas flow  361548 non-null  float64\n",
      " 9   CAQI_idx                                                        361548 non-null  float64\n",
      " 10  isUrban                                                         361548 non-null  int64  \n",
      " 11  day                                                             361548 non-null  int64  \n",
      " 12  month                                                           361548 non-null  int64  \n",
      " 13  year                                                            361548 non-null  int64  \n",
      " 14  dayofweek                                                       361548 non-null  int64  \n",
      " 15  season                                                          361548 non-null  object \n",
      " 16  CAQI_lag1                                                       361548 non-null  float64\n",
      " 17  is_school_holiday                                               361548 non-null  float64\n",
      " 18  is_lockdown                                                     361548 non-null  float64\n",
      " 19  is_have_coalplant                                               361548 non-null  float64\n",
      " 20  rolling7_CAQI                                                   361548 non-null  float64\n",
      " 21  rolling30_CAQI                                                  361548 non-null  float64\n",
      " 22  rolling90_CAQI                                                  361548 non-null  float64\n",
      "dtypes: float64(16), int64(5), object(2)\n",
      "memory usage: 63.4+ MB\n"
     ]
    }
   ],
   "source": [
    "df.info()"
   ]
  },
  {
   "cell_type": "code",
   "execution_count": 6,
   "id": "b4818427",
   "metadata": {},
   "outputs": [],
   "source": [
    "# Convert date column to datetime format\n",
    "df['DATE'] = df['DATE'].astype('datetime64')"
   ]
  },
  {
   "cell_type": "code",
   "execution_count": 7,
   "id": "0577bec6",
   "metadata": {},
   "outputs": [],
   "source": [
    "df['date_offset'] = (df.DATE.dt.month * 100 + df.DATE.dt.day - 320) % 1300\n",
    "df['season'] = pd.cut(df['date_offset'], [0, 300, 602, 900, 1300], \n",
    "                      labels=['spring', 'summer', 'autumn', 'winter'])"
   ]
  },
  {
   "cell_type": "code",
   "execution_count": 8,
   "id": "004e8e4c",
   "metadata": {},
   "outputs": [],
   "source": [
    "df = df.drop(['date_offset', 'DATE'], axis=1)\n",
    "df = pd.get_dummies(df, columns=['season'], drop_first=True)"
   ]
  },
  {
   "cell_type": "code",
   "execution_count": 9,
   "id": "ac62bb89",
   "metadata": {},
   "outputs": [],
   "source": [
    "X = df.drop('CAQI_idx', axis=1)\n",
    "y = df['CAQI_idx']\n",
    "X_train, X_test, y_train, y_test = train_test_split(X,y)"
   ]
  },
  {
   "cell_type": "code",
   "execution_count": 10,
   "id": "8a083720",
   "metadata": {},
   "outputs": [
    {
     "data": {
      "text/html": [
       "<style>#sk-container-id-1 {color: black;background-color: white;}#sk-container-id-1 pre{padding: 0;}#sk-container-id-1 div.sk-toggleable {background-color: white;}#sk-container-id-1 label.sk-toggleable__label {cursor: pointer;display: block;width: 100%;margin-bottom: 0;padding: 0.3em;box-sizing: border-box;text-align: center;}#sk-container-id-1 label.sk-toggleable__label-arrow:before {content: \"▸\";float: left;margin-right: 0.25em;color: #696969;}#sk-container-id-1 label.sk-toggleable__label-arrow:hover:before {color: black;}#sk-container-id-1 div.sk-estimator:hover label.sk-toggleable__label-arrow:before {color: black;}#sk-container-id-1 div.sk-toggleable__content {max-height: 0;max-width: 0;overflow: hidden;text-align: left;background-color: #f0f8ff;}#sk-container-id-1 div.sk-toggleable__content pre {margin: 0.2em;color: black;border-radius: 0.25em;background-color: #f0f8ff;}#sk-container-id-1 input.sk-toggleable__control:checked~div.sk-toggleable__content {max-height: 200px;max-width: 100%;overflow: auto;}#sk-container-id-1 input.sk-toggleable__control:checked~label.sk-toggleable__label-arrow:before {content: \"▾\";}#sk-container-id-1 div.sk-estimator input.sk-toggleable__control:checked~label.sk-toggleable__label {background-color: #d4ebff;}#sk-container-id-1 div.sk-label input.sk-toggleable__control:checked~label.sk-toggleable__label {background-color: #d4ebff;}#sk-container-id-1 input.sk-hidden--visually {border: 0;clip: rect(1px 1px 1px 1px);clip: rect(1px, 1px, 1px, 1px);height: 1px;margin: -1px;overflow: hidden;padding: 0;position: absolute;width: 1px;}#sk-container-id-1 div.sk-estimator {font-family: monospace;background-color: #f0f8ff;border: 1px dotted black;border-radius: 0.25em;box-sizing: border-box;margin-bottom: 0.5em;}#sk-container-id-1 div.sk-estimator:hover {background-color: #d4ebff;}#sk-container-id-1 div.sk-parallel-item::after {content: \"\";width: 100%;border-bottom: 1px solid gray;flex-grow: 1;}#sk-container-id-1 div.sk-label:hover label.sk-toggleable__label {background-color: #d4ebff;}#sk-container-id-1 div.sk-serial::before {content: \"\";position: absolute;border-left: 1px solid gray;box-sizing: border-box;top: 0;bottom: 0;left: 50%;z-index: 0;}#sk-container-id-1 div.sk-serial {display: flex;flex-direction: column;align-items: center;background-color: white;padding-right: 0.2em;padding-left: 0.2em;position: relative;}#sk-container-id-1 div.sk-item {position: relative;z-index: 1;}#sk-container-id-1 div.sk-parallel {display: flex;align-items: stretch;justify-content: center;background-color: white;position: relative;}#sk-container-id-1 div.sk-item::before, #sk-container-id-1 div.sk-parallel-item::before {content: \"\";position: absolute;border-left: 1px solid gray;box-sizing: border-box;top: 0;bottom: 0;left: 50%;z-index: -1;}#sk-container-id-1 div.sk-parallel-item {display: flex;flex-direction: column;z-index: 1;position: relative;background-color: white;}#sk-container-id-1 div.sk-parallel-item:first-child::after {align-self: flex-end;width: 50%;}#sk-container-id-1 div.sk-parallel-item:last-child::after {align-self: flex-start;width: 50%;}#sk-container-id-1 div.sk-parallel-item:only-child::after {width: 0;}#sk-container-id-1 div.sk-dashed-wrapped {border: 1px dashed gray;margin: 0 0.4em 0.5em 0.4em;box-sizing: border-box;padding-bottom: 0.4em;background-color: white;}#sk-container-id-1 div.sk-label label {font-family: monospace;font-weight: bold;display: inline-block;line-height: 1.2em;}#sk-container-id-1 div.sk-label-container {text-align: center;}#sk-container-id-1 div.sk-container {/* jupyter's `normalize.less` sets `[hidden] { display: none; }` but bootstrap.min.css set `[hidden] { display: none !important; }` so we also need the `!important` here to be able to override the default hidden behavior on the sphinx rendered scikit-learn.org. See: https://github.com/scikit-learn/scikit-learn/issues/21755 */display: inline-block !important;position: relative;}#sk-container-id-1 div.sk-text-repr-fallback {display: none;}</style><div id=\"sk-container-id-1\" class=\"sk-top-container\"><div class=\"sk-text-repr-fallback\"><pre>LinearRegression()</pre><b>In a Jupyter environment, please rerun this cell to show the HTML representation or trust the notebook. <br />On GitHub, the HTML representation is unable to render, please try loading this page with nbviewer.org.</b></div><div class=\"sk-container\" hidden><div class=\"sk-item\"><div class=\"sk-estimator sk-toggleable\"><input class=\"sk-toggleable__control sk-hidden--visually\" id=\"sk-estimator-id-1\" type=\"checkbox\" checked><label for=\"sk-estimator-id-1\" class=\"sk-toggleable__label sk-toggleable__label-arrow\">LinearRegression</label><div class=\"sk-toggleable__content\"><pre>LinearRegression()</pre></div></div></div></div></div>"
      ],
      "text/plain": [
       "LinearRegression()"
      ]
     },
     "execution_count": 10,
     "metadata": {},
     "output_type": "execute_result"
    }
   ],
   "source": [
    "from sklearn.linear_model import LinearRegression\n",
    "regressor = LinearRegression()\n",
    "regressor.fit(X_train, y_train)"
   ]
  },
  {
   "cell_type": "code",
   "execution_count": 12,
   "id": "c5b95081",
   "metadata": {},
   "outputs": [
    {
     "name": "stdout",
     "output_type": "stream",
     "text": [
      "Mean squared error: 89.58\n",
      "R-squared score: 0.66\n"
     ]
    }
   ],
   "source": [
    "y_pred = regressor.predict(X_test)\n",
    "print(\"Mean squared error: %.2f\" % mean_squared_error(y_test, y_pred))\n",
    "print(\"R-squared score: %.2f\" % r2_score(y_test, y_pred))"
   ]
  },
  {
   "cell_type": "code",
   "execution_count": 13,
   "id": "f7b08b7f",
   "metadata": {},
   "outputs": [
    {
     "data": {
      "text/plain": [
       "array([25.12138929,  7.31507748, 13.96327126, ..., 20.12084545,\n",
       "       23.82523519, 11.2298153 ])"
      ]
     },
     "execution_count": 13,
     "metadata": {},
     "output_type": "execute_result"
    }
   ],
   "source": [
    "y_pred"
   ]
  },
  {
   "cell_type": "code",
   "execution_count": null,
   "id": "801983bd",
   "metadata": {},
   "outputs": [],
   "source": []
  },
  {
   "cell_type": "code",
   "execution_count": null,
   "id": "f64042c6",
   "metadata": {},
   "outputs": [],
   "source": []
  },
  {
   "cell_type": "code",
   "execution_count": null,
   "id": "af4ff504",
   "metadata": {},
   "outputs": [],
   "source": []
  }
 ],
 "metadata": {
  "kernelspec": {
   "display_name": "Python 3 (ipykernel)",
   "language": "python",
   "name": "python3"
  },
  "language_info": {
   "codemirror_mode": {
    "name": "ipython",
    "version": 3
   },
   "file_extension": ".py",
   "mimetype": "text/x-python",
   "name": "python",
   "nbconvert_exporter": "python",
   "pygments_lexer": "ipython3",
   "version": "3.9.12"
  }
 },
 "nbformat": 4,
 "nbformat_minor": 5
}
