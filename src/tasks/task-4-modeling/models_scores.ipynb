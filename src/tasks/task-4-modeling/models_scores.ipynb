{
 "cells": [
  {
   "cell_type": "code",
   "execution_count": 2,
   "id": "b7f788b8",
   "metadata": {},
   "outputs": [
    {
     "name": "stdout",
     "output_type": "stream",
     "text": [
      "Completed\n"
     ]
    }
   ],
   "source": [
    "'''\n",
    "Final_df_regression.csv - The target column for this dataset is the CAQI_idx column. There is no CAQI_level column.\n",
    "Final_df_classification.csv - The target column for this dataset is the CAQI_level column. There is no CAQI_idx column.\n",
    "data of 2021 used to test\n",
    "\n",
    "'''\n",
    "import fastparquet\n",
    "import pandas as pd\n",
    "import matplotlib.pyplot as plt\n",
    "import numpy as np\n",
    "from sklearn.feature_extraction.text import CountVectorizer\n",
    "from sklearn.metrics import mean_squared_error, r2_score, f1_score\n",
    "from sklearn.model_selection import GridSearchCV\n",
    "from sklearn.naive_bayes import GaussianNB, MultinomialNB\n",
    "from sklearn.preprocessing import LabelEncoder\n",
    "from sklearn import svm\n",
    "from sklearn.ensemble import RandomForestClassifier\n",
    "from sklearn.linear_model import LogisticRegression\n",
    "from sklearn.svm import SVC\n",
    "from sklearn.tree import DecisionTreeClassifier\n",
    "\n",
    "\n",
    "\n",
    "df = pd.read_parquet('train_temporal_classification.parquet.gz')\n",
    "# print(df.columns.to_list())\n",
    "'''\n",
    "columns that have text data -> methods used to convert to numericals\n",
    "powiat              ->One-Hot Encoding\n",
    "voivodship         -> LabelEncoder\n",
    "holiday_name       -> LabelEncoder\n",
    "season             -> One-Hot Encoding\n",
    "CAQI_level(target_value) -> label encoding\n",
    "'''\n",
    "df_textdata = pd.DataFrame(data=df[['holiday_name','season','CAQI_level']],columns=['holiday_name','season','CAQI_level'])\n",
    "df_textdata[['powiat','voivodship']] = df['powiat_voivod'].str.split(',', expand=True)\n",
    "# print(df_textdata.head())\n",
    "\n",
    "# Apply Label Encoding to the voivodship name column\n",
    "le = LabelEncoder()\n",
    "df_textdata['voivodship_le'] = le.fit_transform(df_textdata['voivodship'])\n",
    "df_textdata['CAQI_level_le'] = le.fit_transform(df_textdata['CAQI_level'])\n",
    "\n",
    "# Apply One-Hot Encoding to the powiat,season name column\n",
    "# powiat = pd.get_dummies(df_textdata['powiat'])\n",
    "season = pd.get_dummies(df_textdata['season'])\n",
    "\n",
    "# Concatenate the encoded columns with the original dataframe\n",
    "# df_textdata = pd.concat([df_textdata, powiat], axis=1)\n",
    "df_textdata = pd.concat([df_textdata, season], axis=1)\n",
    "\n",
    "# Remove the original non-encoded columns\n",
    "# df_textdata.drop(['voivodship', 'powiat'], axis=1, inplace=True)\n",
    "\n",
    "df_textdata.drop(['holiday_name','season','CAQI_level','powiat','voivodship'],axis='columns',inplace=True)\n",
    "df.drop(['powiat_voivod','voivodship','CAQI_level','season','holiday_name'],axis='columns',inplace=True)\n",
    "df_final = pd.concat([df, df_textdata], axis=1)\n",
    "\n",
    "##\n",
    "df_test = pd.read_parquet('train_temporal_classification.parquet.gz')\n",
    "\n",
    "'''\n",
    "columns that have text data -> methods used to convert to numericals\n",
    "powiat              ->One-Hot Encoding\n",
    "voivodship         -> LabelEncoder\n",
    "holiday_name       -> LabelEncoder\n",
    "season             -> One-Hot Encoding\n",
    "CAQI_level(target_value) -> label encoding\n",
    "'''\n",
    "df_test_textdata = pd.DataFrame(data=df_test[['holiday_name','season','CAQI_level']],columns=['holiday_name','season','CAQI_level'])\n",
    "df_test_textdata[['powiat','voivodship']] = df_test['powiat_voivod'].str.split(',', expand=True)\n",
    "# print(df_test_textdata.head())\n",
    "\n",
    "# Apply Label Encoding to the voivodship name column\n",
    "le = LabelEncoder()\n",
    "df_test_textdata['voivodship_le'] = le.fit_transform(df_test_textdata['voivodship'])\n",
    "df_test_textdata['CAQI_level_le'] = le.fit_transform(df_test_textdata['CAQI_level'])\n",
    "\n",
    "# Apply One-Hot Encoding to the powiat,season name column\n",
    "# powiat = pd.get_dummies(df_test_textdata['powiat'])\n",
    "season = pd.get_dummies(df_test_textdata['season'])\n",
    "\n",
    "# Concatenate the encoded columns with the original dataframe\n",
    "# df_test_textdata = pd.concat([df_test_textdata, powiat], axis=1)\n",
    "df_test_textdata = pd.concat([df_test_textdata, season], axis=1)\n",
    "\n",
    "# Remove the original non-encoded columns\n",
    "# df_test_textdata.drop(['voivodship', 'powiat'], axis=1, inplace=True)\n",
    "\n",
    "df_test_textdata.drop(['holiday_name','season','CAQI_level','powiat','voivodship'],axis='columns',inplace=True)\n",
    "df_test.drop(['powiat_voivod','voivodship','CAQI_level','season','holiday_name'],axis='columns',inplace=True)\n",
    "df_test_final = pd.concat([df_test, df_test_textdata], axis=1)\n",
    "\n",
    "x_train = df_final.drop('CAQI_level_le',axis='columns')\n",
    "y_train = df_final['CAQI_level_le']\n",
    "x_test = df_test_final.drop('CAQI_level_le',axis='columns')\n",
    "y_test = df_test_final['CAQI_level_le']\n",
    "print('Completed')"
   ]
  },
  {
   "cell_type": "code",
   "execution_count": 32,
   "id": "b2cb9667",
   "metadata": {},
   "outputs": [],
   "source": [
    "#comment and uncomment the models belows and re-run the scores below\n",
    "# model = DecisionTreeClassifier()\n",
    "# model = RandomForestClassifier()\n",
    "model.fit(x_train,y_train)\n",
    "y_pred = model.predict(x_test)"
   ]
  },
  {
   "cell_type": "code",
   "execution_count": 33,
   "id": "92ece66a",
   "metadata": {},
   "outputs": [
    {
     "data": {
      "text/plain": [
       "0.9999959576622943"
      ]
     },
     "execution_count": 33,
     "metadata": {},
     "output_type": "execute_result"
    }
   ],
   "source": [
    "f1 = f1_score(y_test,y_pred,average='macro')\n",
    "f1"
   ]
  },
  {
   "cell_type": "code",
   "execution_count": 34,
   "id": "715d155f",
   "metadata": {},
   "outputs": [
    {
     "data": {
      "text/plain": [
       "0.9999966772993089"
      ]
     },
     "execution_count": 34,
     "metadata": {},
     "output_type": "execute_result"
    }
   ],
   "source": [
    "f1 = f1_score(y_test,y_pred,average='micro')\n",
    "f1"
   ]
  },
  {
   "cell_type": "code",
   "execution_count": 35,
   "id": "4d79ee07",
   "metadata": {},
   "outputs": [
    {
     "data": {
      "text/plain": [
       "0.9999966772788362"
      ]
     },
     "execution_count": 35,
     "metadata": {},
     "output_type": "execute_result"
    }
   ],
   "source": [
    "f1 = f1_score(y_test,y_pred,average='weighted')\n",
    "f1"
   ]
  },
  {
   "cell_type": "code",
   "execution_count": 36,
   "id": "90beec38",
   "metadata": {},
   "outputs": [
    {
     "data": {
      "text/plain": [
       "0.9999966772993089"
      ]
     },
     "execution_count": 36,
     "metadata": {},
     "output_type": "execute_result"
    }
   ],
   "source": [
    "from sklearn.metrics import accuracy_score\n",
    "\n",
    "accuracy = accuracy_score(y_test, y_pred)\n",
    "accuracy"
   ]
  },
  {
   "cell_type": "code",
   "execution_count": 37,
   "id": "c002086c",
   "metadata": {},
   "outputs": [
    {
     "data": {
      "text/plain": [
       "0.9999966772993089"
      ]
     },
     "execution_count": 37,
     "metadata": {},
     "output_type": "execute_result"
    }
   ],
   "source": [
    "from sklearn.metrics import precision_score\n",
    "\n",
    "precision = precision_score(y_test, y_pred, average = 'micro')\n",
    "\n",
    "precision"
   ]
  },
  {
   "cell_type": "code",
   "execution_count": 38,
   "id": "ef9261e0",
   "metadata": {},
   "outputs": [
    {
     "data": {
      "text/plain": [
       "0.99999842225255"
      ]
     },
     "execution_count": 38,
     "metadata": {},
     "output_type": "execute_result"
    }
   ],
   "source": [
    "precision = precision_score(y_test, y_pred, average = 'macro')\n",
    "\n",
    "precision"
   ]
  },
  {
   "cell_type": "code",
   "execution_count": 39,
   "id": "0bebdf4b",
   "metadata": {},
   "outputs": [
    {
     "data": {
      "text/plain": [
       "0.9999966773255207"
      ]
     },
     "execution_count": 39,
     "metadata": {},
     "output_type": "execute_result"
    }
   ],
   "source": [
    "precision = precision_score(y_test, y_pred, average = 'weighted')\n",
    "\n",
    "precision"
   ]
  },
  {
   "cell_type": "code",
   "execution_count": 40,
   "id": "fe983991",
   "metadata": {},
   "outputs": [
    {
     "data": {
      "text/plain": [
       "0.9999966772993089"
      ]
     },
     "execution_count": 40,
     "metadata": {},
     "output_type": "execute_result"
    }
   ],
   "source": [
    "from sklearn.metrics import recall_score\n",
    "\n",
    "recall = recall_score(y_test, y_pred, average ='micro')\n",
    "\n",
    "recall"
   ]
  },
  {
   "cell_type": "code",
   "execution_count": 41,
   "id": "501da6b1",
   "metadata": {},
   "outputs": [
    {
     "data": {
      "text/plain": [
       "0.9999934931841103"
      ]
     },
     "execution_count": 41,
     "metadata": {},
     "output_type": "execute_result"
    }
   ],
   "source": [
    "recall = recall_score(y_test, y_pred, average ='macro')\n",
    "\n",
    "recall"
   ]
  },
  {
   "cell_type": "code",
   "execution_count": 42,
   "id": "0ba5441f",
   "metadata": {},
   "outputs": [
    {
     "data": {
      "text/plain": [
       "0.9999966772993089"
      ]
     },
     "execution_count": 42,
     "metadata": {},
     "output_type": "execute_result"
    }
   ],
   "source": [
    "recall = recall_score(y_test, y_pred, average ='weighted')\n",
    "\n",
    "recall"
   ]
  },
  {
   "cell_type": "code",
   "execution_count": 43,
   "id": "698f8401",
   "metadata": {},
   "outputs": [
    {
     "ename": "AxisError",
     "evalue": "axis 1 is out of bounds for array of dimension 1",
     "output_type": "error",
     "traceback": [
      "\u001b[1;31m---------------------------------------------------------------------------\u001b[0m",
      "\u001b[1;31mAxisError\u001b[0m                                 Traceback (most recent call last)",
      "Cell \u001b[1;32mIn[43], line 3\u001b[0m\n\u001b[0;32m      1\u001b[0m \u001b[38;5;28;01mfrom\u001b[39;00m \u001b[38;5;21;01msklearn\u001b[39;00m\u001b[38;5;21;01m.\u001b[39;00m\u001b[38;5;21;01mmetrics\u001b[39;00m \u001b[38;5;28;01mimport\u001b[39;00m roc_auc_score\n\u001b[1;32m----> 3\u001b[0m auc_roc \u001b[38;5;241m=\u001b[39m \u001b[43mroc_auc_score\u001b[49m\u001b[43m(\u001b[49m\u001b[43my_test\u001b[49m\u001b[43m,\u001b[49m\u001b[43m \u001b[49m\u001b[43my_pred\u001b[49m\u001b[43m,\u001b[49m\u001b[43mmulti_class\u001b[49m\u001b[38;5;241;43m=\u001b[39;49m\u001b[38;5;124;43m'\u001b[39;49m\u001b[38;5;124;43movr\u001b[39;49m\u001b[38;5;124;43m'\u001b[39;49m\u001b[43m)\u001b[49m\n\u001b[0;32m      5\u001b[0m auc_roc\n",
      "File \u001b[1;32m~\\AppData\\Local\\Programs\\Python\\Python310\\lib\\site-packages\\sklearn\\metrics\\_ranking.py:566\u001b[0m, in \u001b[0;36mroc_auc_score\u001b[1;34m(y_true, y_score, average, sample_weight, max_fpr, multi_class, labels)\u001b[0m\n\u001b[0;32m    564\u001b[0m     \u001b[38;5;28;01mif\u001b[39;00m multi_class \u001b[38;5;241m==\u001b[39m \u001b[38;5;124m\"\u001b[39m\u001b[38;5;124mraise\u001b[39m\u001b[38;5;124m\"\u001b[39m:\n\u001b[0;32m    565\u001b[0m         \u001b[38;5;28;01mraise\u001b[39;00m \u001b[38;5;167;01mValueError\u001b[39;00m(\u001b[38;5;124m\"\u001b[39m\u001b[38;5;124mmulti_class must be in (\u001b[39m\u001b[38;5;124m'\u001b[39m\u001b[38;5;124movo\u001b[39m\u001b[38;5;124m'\u001b[39m\u001b[38;5;124m, \u001b[39m\u001b[38;5;124m'\u001b[39m\u001b[38;5;124movr\u001b[39m\u001b[38;5;124m'\u001b[39m\u001b[38;5;124m)\u001b[39m\u001b[38;5;124m\"\u001b[39m)\n\u001b[1;32m--> 566\u001b[0m     \u001b[38;5;28;01mreturn\u001b[39;00m \u001b[43m_multiclass_roc_auc_score\u001b[49m\u001b[43m(\u001b[49m\n\u001b[0;32m    567\u001b[0m \u001b[43m        \u001b[49m\u001b[43my_true\u001b[49m\u001b[43m,\u001b[49m\u001b[43m \u001b[49m\u001b[43my_score\u001b[49m\u001b[43m,\u001b[49m\u001b[43m \u001b[49m\u001b[43mlabels\u001b[49m\u001b[43m,\u001b[49m\u001b[43m \u001b[49m\u001b[43mmulti_class\u001b[49m\u001b[43m,\u001b[49m\u001b[43m \u001b[49m\u001b[43maverage\u001b[49m\u001b[43m,\u001b[49m\u001b[43m \u001b[49m\u001b[43msample_weight\u001b[49m\n\u001b[0;32m    568\u001b[0m \u001b[43m    \u001b[49m\u001b[43m)\u001b[49m\n\u001b[0;32m    569\u001b[0m \u001b[38;5;28;01melif\u001b[39;00m y_type \u001b[38;5;241m==\u001b[39m \u001b[38;5;124m\"\u001b[39m\u001b[38;5;124mbinary\u001b[39m\u001b[38;5;124m\"\u001b[39m:\n\u001b[0;32m    570\u001b[0m     labels \u001b[38;5;241m=\u001b[39m np\u001b[38;5;241m.\u001b[39munique(y_true)\n",
      "File \u001b[1;32m~\\AppData\\Local\\Programs\\Python\\Python310\\lib\\site-packages\\sklearn\\metrics\\_ranking.py:638\u001b[0m, in \u001b[0;36m_multiclass_roc_auc_score\u001b[1;34m(y_true, y_score, labels, multi_class, average, sample_weight)\u001b[0m\n\u001b[0;32m    592\u001b[0m \u001b[38;5;250m\u001b[39m\u001b[38;5;124;03m\"\"\"Multiclass roc auc score.\u001b[39;00m\n\u001b[0;32m    593\u001b[0m \n\u001b[0;32m    594\u001b[0m \u001b[38;5;124;03mParameters\u001b[39;00m\n\u001b[1;32m   (...)\u001b[0m\n\u001b[0;32m    635\u001b[0m \n\u001b[0;32m    636\u001b[0m \u001b[38;5;124;03m\"\"\"\u001b[39;00m\n\u001b[0;32m    637\u001b[0m \u001b[38;5;66;03m# validation of the input y_score\u001b[39;00m\n\u001b[1;32m--> 638\u001b[0m \u001b[38;5;28;01mif\u001b[39;00m \u001b[38;5;129;01mnot\u001b[39;00m np\u001b[38;5;241m.\u001b[39mallclose(\u001b[38;5;241m1\u001b[39m, \u001b[43my_score\u001b[49m\u001b[38;5;241;43m.\u001b[39;49m\u001b[43msum\u001b[49m\u001b[43m(\u001b[49m\u001b[43maxis\u001b[49m\u001b[38;5;241;43m=\u001b[39;49m\u001b[38;5;241;43m1\u001b[39;49m\u001b[43m)\u001b[49m):\n\u001b[0;32m    639\u001b[0m     \u001b[38;5;28;01mraise\u001b[39;00m \u001b[38;5;167;01mValueError\u001b[39;00m(\n\u001b[0;32m    640\u001b[0m         \u001b[38;5;124m\"\u001b[39m\u001b[38;5;124mTarget scores need to be probabilities for multiclass \u001b[39m\u001b[38;5;124m\"\u001b[39m\n\u001b[0;32m    641\u001b[0m         \u001b[38;5;124m\"\u001b[39m\u001b[38;5;124mroc_auc, i.e. they should sum up to 1.0 over classes\u001b[39m\u001b[38;5;124m\"\u001b[39m\n\u001b[0;32m    642\u001b[0m     )\n\u001b[0;32m    644\u001b[0m \u001b[38;5;66;03m# validation for multiclass parameter specifications\u001b[39;00m\n",
      "File \u001b[1;32m~\\AppData\\Local\\Programs\\Python\\Python310\\lib\\site-packages\\numpy\\core\\_methods.py:49\u001b[0m, in \u001b[0;36m_sum\u001b[1;34m(a, axis, dtype, out, keepdims, initial, where)\u001b[0m\n\u001b[0;32m     47\u001b[0m \u001b[38;5;28;01mdef\u001b[39;00m \u001b[38;5;21m_sum\u001b[39m(a, axis\u001b[38;5;241m=\u001b[39m\u001b[38;5;28;01mNone\u001b[39;00m, dtype\u001b[38;5;241m=\u001b[39m\u001b[38;5;28;01mNone\u001b[39;00m, out\u001b[38;5;241m=\u001b[39m\u001b[38;5;28;01mNone\u001b[39;00m, keepdims\u001b[38;5;241m=\u001b[39m\u001b[38;5;28;01mFalse\u001b[39;00m,\n\u001b[0;32m     48\u001b[0m          initial\u001b[38;5;241m=\u001b[39m_NoValue, where\u001b[38;5;241m=\u001b[39m\u001b[38;5;28;01mTrue\u001b[39;00m):\n\u001b[1;32m---> 49\u001b[0m     \u001b[38;5;28;01mreturn\u001b[39;00m \u001b[43mumr_sum\u001b[49m\u001b[43m(\u001b[49m\u001b[43ma\u001b[49m\u001b[43m,\u001b[49m\u001b[43m \u001b[49m\u001b[43maxis\u001b[49m\u001b[43m,\u001b[49m\u001b[43m \u001b[49m\u001b[43mdtype\u001b[49m\u001b[43m,\u001b[49m\u001b[43m \u001b[49m\u001b[43mout\u001b[49m\u001b[43m,\u001b[49m\u001b[43m \u001b[49m\u001b[43mkeepdims\u001b[49m\u001b[43m,\u001b[49m\u001b[43m \u001b[49m\u001b[43minitial\u001b[49m\u001b[43m,\u001b[49m\u001b[43m \u001b[49m\u001b[43mwhere\u001b[49m\u001b[43m)\u001b[49m\n",
      "\u001b[1;31mAxisError\u001b[0m: axis 1 is out of bounds for array of dimension 1"
     ]
    }
   ],
   "source": [
    "from sklearn.metrics import roc_auc_score\n",
    "\n",
    "auc_roc = roc_auc_score(y_test, y_pred,multi_class='ovr')\n",
    "\n",
    "auc_roc"
   ]
  },
  {
   "cell_type": "code",
   "execution_count": 44,
   "id": "e877bf96",
   "metadata": {},
   "outputs": [
    {
     "name": "stdout",
     "output_type": "stream",
     "text": [
      "Confusion Matrix:\n"
     ]
    },
    {
     "data": {
      "text/plain": [
       "array([[  8026,      0,      0,      0,      0],\n",
       "       [     0, 126762,      0,      0,      0],\n",
       "       [     0,      1,  30736,      0,      0],\n",
       "       [     0,      0,      0,    880,      0],\n",
       "       [     0,      0,      0,      0, 134555]], dtype=int64)"
      ]
     },
     "execution_count": 44,
     "metadata": {},
     "output_type": "execute_result"
    }
   ],
   "source": [
    "from sklearn.metrics import confusion_matrix\n",
    "\n",
    "\n",
    "# calculate confusion matrix\n",
    "confusion = confusion_matrix(y_test, y_pred)\n",
    "\n",
    "print('Confusion Matrix:')\n",
    "confusion\n"
   ]
  },
  {
   "cell_type": "code",
   "execution_count": 45,
   "id": "ddd986ae",
   "metadata": {},
   "outputs": [
    {
     "data": {
      "image/png": "[encoded data removed]",
      "text/plain": [
       "<Figure size 640x480 with 1 Axes>"
      ]
     },
     "metadata": {},
     "output_type": "display_data"
    }
   ],
   "source": [
    "from sklearn.datasets import load_iris\n",
    "from sklearn.neighbors import KNeighborsClassifier\n",
    "import matplotlib.pyplot as plt\n",
    "\n",
    "\n",
    "# Train a KNN model using a range of n_neighbors values\n",
    "k_values = range(1, 11)\n",
    "performance = []\n",
    "for k in k_values:\n",
    "    knn = KNeighborsClassifier(n_neighbors=k)\n",
    "    knn.fit(x_train, y_train)\n",
    "    performance.append(knn.score(x_test, y_test))\n",
    "\n",
    "# Plot the performance as a function of n_neighbors\n",
    "plt.plot(k_values, performance)\n",
    "plt.xlabel('Number of neighbors')\n",
    "plt.ylabel('Accuracy')\n",
    "plt.title('KNN Elbow Method')\n",
    "plt.show()\n"
   ]
  },
  {
   "cell_type": "markdown",
   "id": "60a73cf3",
   "metadata": {},
   "source": [
    "<h4 color='Blue'>From the above diagram we can conclude that best value for n_neighbors is 2</h4>"
   ]
  },
  {
   "cell_type": "code",
   "execution_count": 46,
   "id": "b77bd094",
   "metadata": {},
   "outputs": [
    {
     "name": "stdout",
     "output_type": "stream",
     "text": [
      "Accuracy: 0.817085326953748\n"
     ]
    }
   ],
   "source": [
    "from sklearn.neighbors import KNeighborsClassifier\n",
    "from sklearn.model_selection import train_test_split\n",
    "from sklearn.datasets import load_iris\n",
    "\n",
    "\n",
    "\n",
    "# Create a KNN classifier with k=3\n",
    "knn = KNeighborsClassifier(n_neighbors=2)\n",
    "\n",
    "# Fit the model to the training data\n",
    "knn.fit(x_train, y_train)\n",
    "\n",
    "# Predict on the test data\n",
    "y_pred = knn.predict(x_test)\n",
    "\n",
    "# Calculate the accuracy score\n",
    "from sklearn.metrics import accuracy_score\n",
    "accuracy = accuracy_score(y_test, y_pred)\n",
    "print(\"Accuracy:\", accuracy)\n"
   ]
  },
  {
   "cell_type": "code",
   "execution_count": 47,
   "id": "2583f780",
   "metadata": {},
   "outputs": [
    {
     "name": "stdout",
     "output_type": "stream",
     "text": [
      "Accuracy: 0.7792165071770335\n"
     ]
    }
   ],
   "source": [
    "\n",
    "# Create a KNN classifier with k=3\n",
    "knn = KNeighborsClassifier(n_neighbors=4)\n",
    "\n",
    "# Fit the model to the training data\n",
    "knn.fit(x_train, y_train)\n",
    "\n",
    "# Predict on the test data\n",
    "y_pred = knn.predict(x_test)\n",
    "\n",
    "# Calculate the accuracy score\n",
    "from sklearn.metrics import accuracy_score\n",
    "accuracy = accuracy_score(y_test, y_pred)\n",
    "print(\"Accuracy:\", accuracy)"
   ]
  },
  {
   "cell_type": "code",
   "execution_count": null,
   "id": "a98d67ad",
   "metadata": {},
   "outputs": [],
   "source": []
  }
 ],
 "metadata": {
  "kernelspec": {
   "display_name": "Python 3 (ipykernel)",
   "language": "python",
   "name": "python3"
  },
  "language_info": {
   "codemirror_mode": {
    "name": "ipython",
    "version": 3
   },
   "file_extension": ".py",
   "mimetype": "text/x-python",
   "name": "python",
   "nbconvert_exporter": "python",
   "pygments_lexer": "ipython3",
   "version": "3.10.7"
  },
  "varInspector": {
   "cols": {
    "lenName": 16,
    "lenType": 16,
    "lenVar": 40
   },
   "kernels_config": {
    "python": {
     "delete_cmd_postfix": "",
     "delete_cmd_prefix": "del ",
     "library": "var_list.py",
     "varRefreshCmd": "print(var_dic_list())"
    },
    "r": {
     "delete_cmd_postfix": ") ",
     "delete_cmd_prefix": "rm(",
     "library": "var_list.r",
     "varRefreshCmd": "cat(var_dic_list()) "
    }
   },
   "types_to_exclude": [
    "module",
    "function",
    "builtin_function_or_method",
    "instance",
    "_Feature"
   ],
   "window_display": false
  }
 },
 "nbformat": 4,
 "nbformat_minor": 5
}
