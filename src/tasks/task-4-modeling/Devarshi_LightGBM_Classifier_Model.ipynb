{
  "nbformat": 4,
  "nbformat_minor": 0,
  "metadata": {
    "colab": {
      "provenance": []
    },
    "kernelspec": {
      "name": "python3",
      "display_name": "Python 3"
    },
    "language_info": {
      "name": "python"
    }
  },
  "cells": [
    {
      "cell_type": "code",
      "execution_count": 73,
      "metadata": {
        "colab": {
          "base_uri": "https://localhost:8080/"
        },
        "id": "CHp-6VrMajXc",
        "outputId": "9f69a9a5-dc77-4a76-9d79-cf6f38763d72"
      },
      "outputs": [
        {
          "output_type": "stream",
          "name": "stdout",
          "text": [
            "Drive already mounted at /content/drive; to attempt to forcibly remount, call drive.mount(\"/content/drive\", force_remount=True).\n"
          ]
        }
      ],
      "source": [
        "from google.colab import drive\n",
        "drive.mount('/content/drive')"
      ]
    },
    {
      "cell_type": "code",
      "source": [
        "import numpy as np\n",
        "import pandas as pd\n",
        "import re\n",
        "import seaborn as sns\n",
        "import matplotlib.pyplot as plt\n",
        "\n",
        "import lightgbm as lgb\n",
        "from sklearn.preprocessing import LabelEncoder, OneHotEncoder\n",
        "from sklearn.metrics import accuracy_score, precision_score, recall_score, f1_score, roc_auc_score\n",
        "from sklearn.metrics import classification_report\n",
        "from sklearn.metrics import confusion_matrix\n",
        "from sklearn.model_selection import train_test_split, cross_val_score, KFold\n",
        "from sklearn.metrics import accuracy_score\n",
        "%matplotlib inline"
      ],
      "metadata": {
        "id": "nzTzy5yYapJw"
      },
      "execution_count": 74,
      "outputs": []
    },
    {
      "cell_type": "code",
      "source": [
        "df = pd.read_csv('/content/drive/MyDrive/Final_df_classification.csv')\n",
        "df.head()"
      ],
      "metadata": {
        "colab": {
          "base_uri": "https://localhost:8080/",
          "height": 594
        },
        "id": "PjPs7YBUaqiP",
        "outputId": "007fe13b-a26c-4b4a-d860-10978738b1e3"
      },
      "execution_count": 75,
      "outputs": [
        {
          "output_type": "execute_result",
          "data": {
            "text/plain": [
              "                               powiat_voivod        DATE        CC    FG  \\\n",
              "0  powiat aleksandrowski, kujawsko-pomorskie  2017-01-01  4.746750   0.0   \n",
              "1  powiat aleksandrowski, kujawsko-pomorskie  2017-01-02  6.167555  36.8   \n",
              "2  powiat aleksandrowski, kujawsko-pomorskie  2017-01-03  5.198131   0.0   \n",
              "3  powiat aleksandrowski, kujawsko-pomorskie  2017-01-04  8.432231  64.2   \n",
              "4  powiat aleksandrowski, kujawsko-pomorskie  2017-01-05  4.992977   0.0   \n",
              "\n",
              "     HU    RR   SD   TG          voivodship  [animal stock] total  ...  \\\n",
              "0  88.4   1.0  0.0  1.8  kujawsko-pomorskie             44.997895  ...   \n",
              "1  88.4   1.0  0.0  0.5  kujawsko-pomorskie             44.997895  ...   \n",
              "2  88.4  63.0  0.0  0.3  kujawsko-pomorskie             44.997895  ...   \n",
              "3  88.4  10.0  0.0  1.2  kujawsko-pomorskie             44.997895  ...   \n",
              "4  82.4   2.0  1.0 -3.9  kujawsko-pomorskie             44.997895  ...   \n",
              "\n",
              "   dayofweek  season  CAQI_lag1    holiday_name  is_school_holiday  \\\n",
              "0          6  Winter  24.968064  New Year's Day                0.0   \n",
              "1          0  Winter  24.968064     Non Holiday                0.0   \n",
              "2          1  Winter  17.943745     Non Holiday                0.0   \n",
              "3          2  Winter  17.500000     Non Holiday                0.0   \n",
              "4          3  Winter  23.941667     Non Holiday                0.0   \n",
              "\n",
              "   is_lockdown  is_have_coalplant  rolling7_CAQI  rolling30_CAQI  \\\n",
              "0          0.0                0.0      24.968064       28.884791   \n",
              "1          0.0                0.0      24.968064       28.884791   \n",
              "2          0.0                0.0      21.455904       28.884791   \n",
              "3          0.0                0.0      20.137270       28.884791   \n",
              "4          0.0                0.0      21.088369       28.884791   \n",
              "\n",
              "   rolling90_CAQI  \n",
              "0       47.077522  \n",
              "1       47.077522  \n",
              "2       47.077522  \n",
              "3       47.077522  \n",
              "4       47.077522  \n",
              "\n",
              "[5 rows x 131 columns]"
            ],
            "text/html": [
              "\n",
              "  <div id=\"df-b03ffa57-a162-4979-a6cb-c1d8b74a43b6\">\n",
              "    <div class=\"colab-df-container\">\n",
              "      <div>\n",
              "<style scoped>\n",
              "    .dataframe tbody tr th:only-of-type {\n",
              "        vertical-align: middle;\n",
              "    }\n",
              "\n",
              "    .dataframe tbody tr th {\n",
              "        vertical-align: top;\n",
              "    }\n",
              "\n",
              "    .dataframe thead th {\n",
              "        text-align: right;\n",
              "    }\n",
              "</style>\n",
              "<table border=\"1\" class=\"dataframe\">\n",
              "  <thead>\n",
              "    <tr style=\"text-align: right;\">\n",
              "      <th></th>\n",
              "      <th>powiat_voivod</th>\n",
              "      <th>DATE</th>\n",
              "      <th>CC</th>\n",
              "      <th>FG</th>\n",
              "      <th>HU</th>\n",
              "      <th>RR</th>\n",
              "      <th>SD</th>\n",
              "      <th>TG</th>\n",
              "      <th>voivodship</th>\n",
              "      <th>[animal stock] total</th>\n",
              "      <th>...</th>\n",
              "      <th>dayofweek</th>\n",
              "      <th>season</th>\n",
              "      <th>CAQI_lag1</th>\n",
              "      <th>holiday_name</th>\n",
              "      <th>is_school_holiday</th>\n",
              "      <th>is_lockdown</th>\n",
              "      <th>is_have_coalplant</th>\n",
              "      <th>rolling7_CAQI</th>\n",
              "      <th>rolling30_CAQI</th>\n",
              "      <th>rolling90_CAQI</th>\n",
              "    </tr>\n",
              "  </thead>\n",
              "  <tbody>\n",
              "    <tr>\n",
              "      <th>0</th>\n",
              "      <td>powiat aleksandrowski, kujawsko-pomorskie</td>\n",
              "      <td>2017-01-01</td>\n",
              "      <td>4.746750</td>\n",
              "      <td>0.0</td>\n",
              "      <td>88.4</td>\n",
              "      <td>1.0</td>\n",
              "      <td>0.0</td>\n",
              "      <td>1.8</td>\n",
              "      <td>kujawsko-pomorskie</td>\n",
              "      <td>44.997895</td>\n",
              "      <td>...</td>\n",
              "      <td>6</td>\n",
              "      <td>Winter</td>\n",
              "      <td>24.968064</td>\n",
              "      <td>New Year's Day</td>\n",
              "      <td>0.0</td>\n",
              "      <td>0.0</td>\n",
              "      <td>0.0</td>\n",
              "      <td>24.968064</td>\n",
              "      <td>28.884791</td>\n",
              "      <td>47.077522</td>\n",
              "    </tr>\n",
              "    <tr>\n",
              "      <th>1</th>\n",
              "      <td>powiat aleksandrowski, kujawsko-pomorskie</td>\n",
              "      <td>2017-01-02</td>\n",
              "      <td>6.167555</td>\n",
              "      <td>36.8</td>\n",
              "      <td>88.4</td>\n",
              "      <td>1.0</td>\n",
              "      <td>0.0</td>\n",
              "      <td>0.5</td>\n",
              "      <td>kujawsko-pomorskie</td>\n",
              "      <td>44.997895</td>\n",
              "      <td>...</td>\n",
              "      <td>0</td>\n",
              "      <td>Winter</td>\n",
              "      <td>24.968064</td>\n",
              "      <td>Non Holiday</td>\n",
              "      <td>0.0</td>\n",
              "      <td>0.0</td>\n",
              "      <td>0.0</td>\n",
              "      <td>24.968064</td>\n",
              "      <td>28.884791</td>\n",
              "      <td>47.077522</td>\n",
              "    </tr>\n",
              "    <tr>\n",
              "      <th>2</th>\n",
              "      <td>powiat aleksandrowski, kujawsko-pomorskie</td>\n",
              "      <td>2017-01-03</td>\n",
              "      <td>5.198131</td>\n",
              "      <td>0.0</td>\n",
              "      <td>88.4</td>\n",
              "      <td>63.0</td>\n",
              "      <td>0.0</td>\n",
              "      <td>0.3</td>\n",
              "      <td>kujawsko-pomorskie</td>\n",
              "      <td>44.997895</td>\n",
              "      <td>...</td>\n",
              "      <td>1</td>\n",
              "      <td>Winter</td>\n",
              "      <td>17.943745</td>\n",
              "      <td>Non Holiday</td>\n",
              "      <td>0.0</td>\n",
              "      <td>0.0</td>\n",
              "      <td>0.0</td>\n",
              "      <td>21.455904</td>\n",
              "      <td>28.884791</td>\n",
              "      <td>47.077522</td>\n",
              "    </tr>\n",
              "    <tr>\n",
              "      <th>3</th>\n",
              "      <td>powiat aleksandrowski, kujawsko-pomorskie</td>\n",
              "      <td>2017-01-04</td>\n",
              "      <td>8.432231</td>\n",
              "      <td>64.2</td>\n",
              "      <td>88.4</td>\n",
              "      <td>10.0</td>\n",
              "      <td>0.0</td>\n",
              "      <td>1.2</td>\n",
              "      <td>kujawsko-pomorskie</td>\n",
              "      <td>44.997895</td>\n",
              "      <td>...</td>\n",
              "      <td>2</td>\n",
              "      <td>Winter</td>\n",
              "      <td>17.500000</td>\n",
              "      <td>Non Holiday</td>\n",
              "      <td>0.0</td>\n",
              "      <td>0.0</td>\n",
              "      <td>0.0</td>\n",
              "      <td>20.137270</td>\n",
              "      <td>28.884791</td>\n",
              "      <td>47.077522</td>\n",
              "    </tr>\n",
              "    <tr>\n",
              "      <th>4</th>\n",
              "      <td>powiat aleksandrowski, kujawsko-pomorskie</td>\n",
              "      <td>2017-01-05</td>\n",
              "      <td>4.992977</td>\n",
              "      <td>0.0</td>\n",
              "      <td>82.4</td>\n",
              "      <td>2.0</td>\n",
              "      <td>1.0</td>\n",
              "      <td>-3.9</td>\n",
              "      <td>kujawsko-pomorskie</td>\n",
              "      <td>44.997895</td>\n",
              "      <td>...</td>\n",
              "      <td>3</td>\n",
              "      <td>Winter</td>\n",
              "      <td>23.941667</td>\n",
              "      <td>Non Holiday</td>\n",
              "      <td>0.0</td>\n",
              "      <td>0.0</td>\n",
              "      <td>0.0</td>\n",
              "      <td>21.088369</td>\n",
              "      <td>28.884791</td>\n",
              "      <td>47.077522</td>\n",
              "    </tr>\n",
              "  </tbody>\n",
              "</table>\n",
              "<p>5 rows × 131 columns</p>\n",
              "</div>\n",
              "      <button class=\"colab-df-convert\" onclick=\"convertToInteractive('df-b03ffa57-a162-4979-a6cb-c1d8b74a43b6')\"\n",
              "              title=\"Convert this dataframe to an interactive table.\"\n",
              "              style=\"display:none;\">\n",
              "        \n",
              "  <svg xmlns=\"http://www.w3.org/2000/svg\" height=\"24px\"viewBox=\"0 0 24 24\"\n",
              "       width=\"24px\">\n",
              "    <path d=\"M0 0h24v24H0V0z\" fill=\"none\"/>\n",
              "    <path d=\"M18.56 5.44l.94 2.06.94-2.06 2.06-.94-2.06-.94-.94-2.06-.94 2.06-2.06.94zm-11 1L8.5 8.5l.94-2.06 2.06-.94-2.06-.94L8.5 2.5l-.94 2.06-2.06.94zm10 10l.94 2.06.94-2.06 2.06-.94-2.06-.94-.94-2.06-.94 2.06-2.06.94z\"/><path d=\"M17.41 7.96l-1.37-1.37c-.4-.4-.92-.59-1.43-.59-.52 0-1.04.2-1.43.59L10.3 9.45l-7.72 7.72c-.78.78-.78 2.05 0 2.83L4 21.41c.39.39.9.59 1.41.59.51 0 1.02-.2 1.41-.59l7.78-7.78 2.81-2.81c.8-.78.8-2.07 0-2.86zM5.41 20L4 18.59l7.72-7.72 1.47 1.35L5.41 20z\"/>\n",
              "  </svg>\n",
              "      </button>\n",
              "      \n",
              "  <style>\n",
              "    .colab-df-container {\n",
              "      display:flex;\n",
              "      flex-wrap:wrap;\n",
              "      gap: 12px;\n",
              "    }\n",
              "\n",
              "    .colab-df-convert {\n",
              "      background-color: #E8F0FE;\n",
              "      border: none;\n",
              "      border-radius: 50%;\n",
              "      cursor: pointer;\n",
              "      display: none;\n",
              "      fill: #1967D2;\n",
              "      height: 32px;\n",
              "      padding: 0 0 0 0;\n",
              "      width: 32px;\n",
              "    }\n",
              "\n",
              "    .colab-df-convert:hover {\n",
              "      background-color: #E2EBFA;\n",
              "      box-shadow: 0px 1px 2px rgba(60, 64, 67, 0.3), 0px 1px 3px 1px rgba(60, 64, 67, 0.15);\n",
              "      fill: #174EA6;\n",
              "    }\n",
              "\n",
              "    [theme=dark] .colab-df-convert {\n",
              "      background-color: #3B4455;\n",
              "      fill: #D2E3FC;\n",
              "    }\n",
              "\n",
              "    [theme=dark] .colab-df-convert:hover {\n",
              "      background-color: #434B5C;\n",
              "      box-shadow: 0px 1px 3px 1px rgba(0, 0, 0, 0.15);\n",
              "      filter: drop-shadow(0px 1px 2px rgba(0, 0, 0, 0.3));\n",
              "      fill: #FFFFFF;\n",
              "    }\n",
              "  </style>\n",
              "\n",
              "      <script>\n",
              "        const buttonEl =\n",
              "          document.querySelector('#df-b03ffa57-a162-4979-a6cb-c1d8b74a43b6 button.colab-df-convert');\n",
              "        buttonEl.style.display =\n",
              "          google.colab.kernel.accessAllowed ? 'block' : 'none';\n",
              "\n",
              "        async function convertToInteractive(key) {\n",
              "          const element = document.querySelector('#df-b03ffa57-a162-4979-a6cb-c1d8b74a43b6');\n",
              "          const dataTable =\n",
              "            await google.colab.kernel.invokeFunction('convertToInteractive',\n",
              "                                                     [key], {});\n",
              "          if (!dataTable) return;\n",
              "\n",
              "          const docLinkHtml = 'Like what you see? Visit the ' +\n",
              "            '<a target=\"_blank\" href=https://colab.research.google.com/notebooks/data_table.ipynb>data table notebook</a>'\n",
              "            + ' to learn more about interactive tables.';\n",
              "          element.innerHTML = '';\n",
              "          dataTable['output_type'] = 'display_data';\n",
              "          await google.colab.output.renderOutput(dataTable, element);\n",
              "          const docLink = document.createElement('div');\n",
              "          docLink.innerHTML = docLinkHtml;\n",
              "          element.appendChild(docLink);\n",
              "        }\n",
              "      </script>\n",
              "    </div>\n",
              "  </div>\n",
              "  "
            ]
          },
          "metadata": {},
          "execution_count": 75
        }
      ]
    },
    {
      "cell_type": "code",
      "source": [
        "df.info()"
      ],
      "metadata": {
        "colab": {
          "base_uri": "https://localhost:8080/"
        },
        "id": "tfZYv7I6aunP",
        "outputId": "5286b0ed-6bd4-4e41-ff7c-23cdf56d67c1"
      },
      "execution_count": 76,
      "outputs": [
        {
          "output_type": "stream",
          "name": "stdout",
          "text": [
            "<class 'pandas.core.frame.DataFrame'>\n",
            "RangeIndex: 361548 entries, 0 to 361547\n",
            "Columns: 131 entries, powiat_voivod to rolling90_CAQI\n",
            "dtypes: float64(120), int64(5), object(6)\n",
            "memory usage: 361.3+ MB\n"
          ]
        }
      ]
    },
    {
      "cell_type": "code",
      "source": [
        "df.columns.tolist()"
      ],
      "metadata": {
        "colab": {
          "base_uri": "https://localhost:8080/"
        },
        "id": "LNtjJmblav2W",
        "outputId": "f501a58f-4f91-4119-f3e5-97157603650b"
      },
      "execution_count": 77,
      "outputs": [
        {
          "output_type": "execute_result",
          "data": {
            "text/plain": [
              "['powiat_voivod',\n",
              " 'DATE',\n",
              " 'CC',\n",
              " 'FG',\n",
              " 'HU',\n",
              " 'RR',\n",
              " 'SD',\n",
              " 'TG',\n",
              " 'voivodship',\n",
              " '[animal stock] total',\n",
              " '[area by land] utilised agricultural area',\n",
              " '[area by land] forests',\n",
              " '[area by land] residential areas',\n",
              " '[area by land] industrial lands',\n",
              " '[area by land] recreational and rest areas',\n",
              " '[area by land] lands under waters',\n",
              " '[area by land] wasteland',\n",
              " '[area by land] other area',\n",
              " '[emission of particulates] fugitive',\n",
              " '[emission of particulates] fuel combustion',\n",
              " '[emission of particulates] cement/lime and refractory materials',\n",
              " '[emission of particulates] silicon',\n",
              " '[emission of particulates] chemical fertilizers',\n",
              " '[emission of particulates] surface-active agents',\n",
              " '[emission of particulates] carbon and graphite, soot',\n",
              " '[emission of pollutant gases] fugitive',\n",
              " '[emission of pollutant gases] sulphur dioxide',\n",
              " '[emission of pollutant gases] nitrogen oxides',\n",
              " '[emission of pollutant gases] carbon monoxide',\n",
              " '[emission of pollutant gases] carbon dioxide',\n",
              " '[emission of pollutant gases] methane',\n",
              " '[emission of pollutant gases] dinitrogen monoxide',\n",
              " '[forest area] forests, grand total',\n",
              " '[plants of significant nuisance] total',\n",
              " '[plants of significant nuisance] possessing systems to reduce the emission of particulates',\n",
              " '[plants of significant nuisance] possessing systems to reduce the emission of gases',\n",
              " '[population density] population per 1 km2',\n",
              " '[production of electricity] total',\n",
              " '[production of electricity] water power plants and wind, biomass and wastes power plants, total',\n",
              " '[production of electricity] water power plants',\n",
              " '[production of electricity] thermal power plants, total',\n",
              " '[production of electricity] thermal public power plants',\n",
              " '[production of electricity] thermal autoproducing power plants',\n",
              " '[production of electricity] from renewable energy sources',\n",
              " '[production of electricity] share of renewable energy sources in total production of electricity',\n",
              " '[production of electricity] relation of electricity production to electricity consumption',\n",
              " '[share of green areas] share of parks, lawns and green areas of the housing estate areas in the total area',\n",
              " '[share of green areas] share of green areas in the total area',\n",
              " '[share of urbanized areas] total',\n",
              " '[total vehicles] road vehicles and tractors',\n",
              " '[total vehicles] motorcycles total',\n",
              " '[total vehicles] motorcycles, engine capacity up to 125 cm3',\n",
              " '[total vehicles] passenger cars',\n",
              " '[total vehicles] buses, total',\n",
              " '[total vehicles] lorries',\n",
              " '[total vehicles] goods and persons carrying vehicles',\n",
              " '[total vehicles] special purpose vehicles (including sanitary)',\n",
              " '[total vehicles] road tractors',\n",
              " '[total vehicles] agricultural tractors',\n",
              " '[total vehicles] mopeds',\n",
              " '[air pollution reduction systems] cyclones, equipment - efficiency low',\n",
              " '[air pollution reduction systems] cyclones, equipment - efficiency moderate',\n",
              " '[air pollution reduction systems] cyclones, equipment - efficiency high',\n",
              " '[air pollution reduction systems] cyclones, waste gas flow - efficiency low',\n",
              " '[air pollution reduction systems] cyclones, waste gas flow - efficiency moderate',\n",
              " '[air pollution reduction systems] cyclones, waste gas flow - efficiency high',\n",
              " '[air pollution reduction systems] multicyclones, equipment - efficiency low',\n",
              " '[air pollution reduction systems] multicyclones, equipment - efficiency moderate',\n",
              " '[air pollution reduction systems] multicyclones, equipment - efficiency high',\n",
              " '[air pollution reduction systems] multicyclones, waste gas flow - efficiency low',\n",
              " '[air pollution reduction systems] multicyclones, waste gas flow - efficiency moderate',\n",
              " '[air pollution reduction systems] multicyclones, waste gas flow - efficiency high',\n",
              " '[air pollution reduction systems] fabric filters, equipment - efficiency low',\n",
              " '[air pollution reduction systems] fabric filters, equipment - efficiency moderate',\n",
              " '[air pollution reduction systems] fabric filters, equipment - efficiency high',\n",
              " '[air pollution reduction systems] fabric filters, waste gas flow - efficiency low',\n",
              " '[air pollution reduction systems] fabric filters, waste gas flow - efficiency moderate',\n",
              " '[air pollution reduction systems] fabric filters, waste gas flow - efficiency high',\n",
              " '[air pollution reduction systems] electrofilters, equipment - efficiency low',\n",
              " '[air pollution reduction systems] electrofilters, equipment - efficiency moderate',\n",
              " '[air pollution reduction systems] electrofilters, equipment - efficiency high',\n",
              " '[air pollution reduction systems] electrofilters, waste gas flow - efficiency low',\n",
              " '[air pollution reduction systems] electrofilters, waste gas flow - efficiency moderate',\n",
              " '[air pollution reduction systems] electrofilters, waste gas flow - efficiency high',\n",
              " '[air pollution reduction systems] wet air cleaners, equipment - efficiency low',\n",
              " '[air pollution reduction systems] wet air cleaners, equipment - efficiency moderate',\n",
              " '[air pollution reduction systems] wet air cleaners, equipment - efficiency high',\n",
              " '[air pollution reduction systems] wet air cleaners, waste gas flow - efficiency low',\n",
              " '[air pollution reduction systems] wet air cleaners, waste gas flow - efficiency moderate',\n",
              " '[air pollution reduction systems] wet air cleaners, waste gas flow - efficiency high',\n",
              " '[air pollution reduction systems] others, equipment total',\n",
              " '[air pollution reduction systems] others, total waste gas flow',\n",
              " '[forest fires] number of forest fires, total',\n",
              " '[forest fires] area of forest fires, total',\n",
              " '[vehicles by type and fuel] passenger cars, petrol',\n",
              " '[vehicles by type and fuel] passenger cars, diesel oil',\n",
              " '[vehicles by type and fuel] passenger cars, Liquefied Petroleum Gas',\n",
              " '[vehicles by type and fuel] passenger cars, others',\n",
              " '[vehicles by type and fuel] lorries, petrol',\n",
              " '[vehicles by type and fuel] lorries, diesel oil',\n",
              " '[vehicles by type and fuel] lorries, Liquefied Petroleum Gas',\n",
              " '[vehicles by type and fuel] lorries, others',\n",
              " '[vehicles by type and fuel] busses, petrol',\n",
              " '[vehicles by type and fuel] busses, diesel oil',\n",
              " '[vehicles by type and fuel] busses, Liquefied Petroleum Gas',\n",
              " '[vehicles by type and fuel] busses, others',\n",
              " '[vehicles by type and fuel] road tractors, petrol',\n",
              " '[vehicles by type and fuel] road tractors, diesel oil',\n",
              " '[vehicles by type and fuel] road tractors, Liquefied Petroleum Gas',\n",
              " '[vehicles by type and fuel] road tractors, others',\n",
              " '[crop production] cereals, grand total, area in ha, total',\n",
              " '[crop production] potatoes, area in ha, total',\n",
              " '[crop production] sugar beets, area in ha, total',\n",
              " '[crop production] rape and turnip rape, area in ha, total',\n",
              " '[crop production] permanent meadows, area in ha, total',\n",
              " '[crop production] permanent pastures, area in ha, total',\n",
              " 'CAQI_level',\n",
              " 'isUrban',\n",
              " 'day',\n",
              " 'month',\n",
              " 'year',\n",
              " 'dayofweek',\n",
              " 'season',\n",
              " 'CAQI_lag1',\n",
              " 'holiday_name',\n",
              " 'is_school_holiday',\n",
              " 'is_lockdown',\n",
              " 'is_have_coalplant',\n",
              " 'rolling7_CAQI',\n",
              " 'rolling30_CAQI',\n",
              " 'rolling90_CAQI']"
            ]
          },
          "metadata": {},
          "execution_count": 77
        }
      ]
    },
    {
      "cell_type": "code",
      "source": [
        "# Remove any special characters from the column names\n",
        "df.columns = [re.sub('[^0-9a-zA-Z]+', '_', col) for col in df.columns]"
      ],
      "metadata": {
        "id": "tBgwNRu3iC4v"
      },
      "execution_count": 78,
      "outputs": []
    },
    {
      "cell_type": "markdown",
      "source": [
        "The use of special JSON characters in column names is not supported by LightGBM, so it's important to remove them."
      ],
      "metadata": {
        "id": "YxsC0Boq4HHz"
      }
    },
    {
      "cell_type": "code",
      "source": [
        "# Converting the DATE column to datetime format\n",
        "df['DATE'] = pd.to_datetime(df['DATE'])"
      ],
      "metadata": {
        "id": "SFlxPil9ayEG"
      },
      "execution_count": 79,
      "outputs": []
    },
    {
      "cell_type": "code",
      "source": [
        "# encoding the target variable\n",
        "le = LabelEncoder()\n",
        "df['CAQI_level_encoded'] = le.fit_transform(df['CAQI_level'])"
      ],
      "metadata": {
        "id": "dbshJwHKg2Kq"
      },
      "execution_count": 80,
      "outputs": []
    },
    {
      "cell_type": "code",
      "source": [
        "# The mapping of the labels to the categories\n",
        "print('Label encoding mapping:')\n",
        "for i, cat in enumerate(le.classes_):\n",
        "    print(f'{cat} -> {i}')"
      ],
      "metadata": {
        "colab": {
          "base_uri": "https://localhost:8080/"
        },
        "id": "qj_QJ-ahJh1F",
        "outputId": "597b1397-d90f-4e8a-a6a8-d0e9642941fa"
      },
      "execution_count": 81,
      "outputs": [
        {
          "output_type": "stream",
          "name": "stdout",
          "text": [
            "Label encoding mapping:\n",
            "high -> 0\n",
            "low -> 1\n",
            "medium -> 2\n",
            "vhigh -> 3\n",
            "vlow -> 4\n"
          ]
        }
      ]
    },
    {
      "cell_type": "code",
      "source": [
        "# drop the 'CAQI_level' column\n",
        "df = df.drop(['CAQI_level'], axis=1)\n",
        "\n",
        "# Dropping the holiday column as well, as it throws an error when encoding\n",
        "df = df.drop(['holiday_name'], axis=1)"
      ],
      "metadata": {
        "id": "C2DR8l6gg6Gq"
      },
      "execution_count": 82,
      "outputs": []
    },
    {
      "cell_type": "code",
      "source": [
        "# splitting the data into train, validation and test sets\n",
        "train_data = df[(df['DATE'] >= '2017-01-01') & (df['DATE'] <= '2020-05-31')]\n",
        "val_data = df[(df['DATE'] >= '2020-06-02') & (df['DATE'] <= '2021-02-28')]\n",
        "test_data = df[(df['DATE'] >= '2021-03-02') & (df['DATE'] <= '2021-12-31')]"
      ],
      "metadata": {
        "id": "T9VuMzrPg8Jg"
      },
      "execution_count": 83,
      "outputs": []
    },
    {
      "cell_type": "code",
      "source": [
        "# dropping the 'DATE' column from all the sets as it is no longer needed for modelling\n",
        "train_data = train_data.drop(['DATE'], axis=1)\n",
        "val_data = val_data.drop(['DATE'], axis=1)\n",
        "test_data = test_data.drop(['DATE'], axis=1)"
      ],
      "metadata": {
        "id": "fUsrVduWg-Of"
      },
      "execution_count": 84,
      "outputs": []
    },
    {
      "cell_type": "code",
      "source": [
        "# encoding the other categorical columns\n",
        "cat_cols = ['powiat_voivod', 'voivodship', 'season']\n",
        "for col in cat_cols:\n",
        "    le = LabelEncoder()\n",
        "    train_data[col] = le.fit_transform(train_data[col])\n",
        "    val_data[col] = le.transform(val_data[col])\n",
        "    test_data[col] = le.transform(test_data[col])"
      ],
      "metadata": {
        "id": "gH_7EJ-WhAfO"
      },
      "execution_count": 85,
      "outputs": []
    },
    {
      "cell_type": "code",
      "source": [
        "# defining the features and target variable\n",
        "X_train = train_data.drop(['CAQI_level_encoded'], axis=1)\n",
        "y_train = train_data['CAQI_level_encoded']\n",
        "\n",
        "X_val = val_data.drop(['CAQI_level_encoded'], axis=1)\n",
        "y_val = val_data['CAQI_level_encoded']\n",
        "\n",
        "X_test = test_data.drop(['CAQI_level_encoded'], axis=1)\n",
        "y_test = test_data['CAQI_level_encoded']"
      ],
      "metadata": {
        "id": "D3X3_XsJhkf0"
      },
      "execution_count": 86,
      "outputs": []
    },
    {
      "cell_type": "markdown",
      "source": [
        "LightGBM is a gradient boosting framework based on decision trees"
      ],
      "metadata": {
        "id": "mu4ICO30G6k1"
      }
    },
    {
      "cell_type": "code",
      "source": [
        "from lightgbm import LGBMClassifier\n",
        "# initializing the LightGBM classifier\n",
        "lgbm = LGBMClassifier()\n",
        "\n",
        "# we fit the model on the training set\n",
        "lgbm.fit(X_train, y_train)"
      ],
      "metadata": {
        "colab": {
          "base_uri": "https://localhost:8080/",
          "height": 74
        },
        "id": "4S2vQtlghWRZ",
        "outputId": "f40519a2-f779-4c0f-cf5c-aec33118c083"
      },
      "execution_count": 87,
      "outputs": [
        {
          "output_type": "execute_result",
          "data": {
            "text/plain": [
              "LGBMClassifier()"
            ],
            "text/html": [
              "<style>#sk-container-id-4 {color: black;background-color: white;}#sk-container-id-4 pre{padding: 0;}#sk-container-id-4 div.sk-toggleable {background-color: white;}#sk-container-id-4 label.sk-toggleable__label {cursor: pointer;display: block;width: 100%;margin-bottom: 0;padding: 0.3em;box-sizing: border-box;text-align: center;}#sk-container-id-4 label.sk-toggleable__label-arrow:before {content: \"▸\";float: left;margin-right: 0.25em;color: #696969;}#sk-container-id-4 label.sk-toggleable__label-arrow:hover:before {color: black;}#sk-container-id-4 div.sk-estimator:hover label.sk-toggleable__label-arrow:before {color: black;}#sk-container-id-4 div.sk-toggleable__content {max-height: 0;max-width: 0;overflow: hidden;text-align: left;background-color: #f0f8ff;}#sk-container-id-4 div.sk-toggleable__content pre {margin: 0.2em;color: black;border-radius: 0.25em;background-color: #f0f8ff;}#sk-container-id-4 input.sk-toggleable__control:checked~div.sk-toggleable__content {max-height: 200px;max-width: 100%;overflow: auto;}#sk-container-id-4 input.sk-toggleable__control:checked~label.sk-toggleable__label-arrow:before {content: \"▾\";}#sk-container-id-4 div.sk-estimator input.sk-toggleable__control:checked~label.sk-toggleable__label {background-color: #d4ebff;}#sk-container-id-4 div.sk-label input.sk-toggleable__control:checked~label.sk-toggleable__label {background-color: #d4ebff;}#sk-container-id-4 input.sk-hidden--visually {border: 0;clip: rect(1px 1px 1px 1px);clip: rect(1px, 1px, 1px, 1px);height: 1px;margin: -1px;overflow: hidden;padding: 0;position: absolute;width: 1px;}#sk-container-id-4 div.sk-estimator {font-family: monospace;background-color: #f0f8ff;border: 1px dotted black;border-radius: 0.25em;box-sizing: border-box;margin-bottom: 0.5em;}#sk-container-id-4 div.sk-estimator:hover {background-color: #d4ebff;}#sk-container-id-4 div.sk-parallel-item::after {content: \"\";width: 100%;border-bottom: 1px solid gray;flex-grow: 1;}#sk-container-id-4 div.sk-label:hover label.sk-toggleable__label {background-color: #d4ebff;}#sk-container-id-4 div.sk-serial::before {content: \"\";position: absolute;border-left: 1px solid gray;box-sizing: border-box;top: 0;bottom: 0;left: 50%;z-index: 0;}#sk-container-id-4 div.sk-serial {display: flex;flex-direction: column;align-items: center;background-color: white;padding-right: 0.2em;padding-left: 0.2em;position: relative;}#sk-container-id-4 div.sk-item {position: relative;z-index: 1;}#sk-container-id-4 div.sk-parallel {display: flex;align-items: stretch;justify-content: center;background-color: white;position: relative;}#sk-container-id-4 div.sk-item::before, #sk-container-id-4 div.sk-parallel-item::before {content: \"\";position: absolute;border-left: 1px solid gray;box-sizing: border-box;top: 0;bottom: 0;left: 50%;z-index: -1;}#sk-container-id-4 div.sk-parallel-item {display: flex;flex-direction: column;z-index: 1;position: relative;background-color: white;}#sk-container-id-4 div.sk-parallel-item:first-child::after {align-self: flex-end;width: 50%;}#sk-container-id-4 div.sk-parallel-item:last-child::after {align-self: flex-start;width: 50%;}#sk-container-id-4 div.sk-parallel-item:only-child::after {width: 0;}#sk-container-id-4 div.sk-dashed-wrapped {border: 1px dashed gray;margin: 0 0.4em 0.5em 0.4em;box-sizing: border-box;padding-bottom: 0.4em;background-color: white;}#sk-container-id-4 div.sk-label label {font-family: monospace;font-weight: bold;display: inline-block;line-height: 1.2em;}#sk-container-id-4 div.sk-label-container {text-align: center;}#sk-container-id-4 div.sk-container {/* jupyter's `normalize.less` sets `[hidden] { display: none; }` but bootstrap.min.css set `[hidden] { display: none !important; }` so we also need the `!important` here to be able to override the default hidden behavior on the sphinx rendered scikit-learn.org. See: https://github.com/scikit-learn/scikit-learn/issues/21755 */display: inline-block !important;position: relative;}#sk-container-id-4 div.sk-text-repr-fallback {display: none;}</style><div id=\"sk-container-id-4\" class=\"sk-top-container\"><div class=\"sk-text-repr-fallback\"><pre>LGBMClassifier()</pre><b>In a Jupyter environment, please rerun this cell to show the HTML representation or trust the notebook. <br />On GitHub, the HTML representation is unable to render, please try loading this page with nbviewer.org.</b></div><div class=\"sk-container\" hidden><div class=\"sk-item\"><div class=\"sk-estimator sk-toggleable\"><input class=\"sk-toggleable__control sk-hidden--visually\" id=\"sk-estimator-id-4\" type=\"checkbox\" checked><label for=\"sk-estimator-id-4\" class=\"sk-toggleable__label sk-toggleable__label-arrow\">LGBMClassifier</label><div class=\"sk-toggleable__content\"><pre>LGBMClassifier()</pre></div></div></div></div></div>"
            ]
          },
          "metadata": {},
          "execution_count": 87
        }
      ]
    },
    {
      "cell_type": "code",
      "source": [
        "# Prediction on the validation set\n",
        "y_pred = lgbm.predict(X_val)\n",
        "\n",
        "# Accuracy score on the validation set\n",
        "val_accuracy = accuracy_score(y_val, y_pred)\n",
        "print(\"Validation Accuracy:\", val_accuracy)"
      ],
      "metadata": {
        "colab": {
          "base_uri": "https://localhost:8080/"
        },
        "id": "3bmm9ctUhW4X",
        "outputId": "d0412596-3336-4697-fa79-128ffbea4b3c"
      },
      "execution_count": 88,
      "outputs": [
        {
          "output_type": "stream",
          "name": "stdout",
          "text": [
            "Validation Accuracy: 0.7416258169934641\n"
          ]
        }
      ]
    },
    {
      "cell_type": "code",
      "source": [
        "print(\"Validation set Classification report:\")\n",
        "print(classification_report(y_val, y_pred))"
      ],
      "metadata": {
        "colab": {
          "base_uri": "https://localhost:8080/"
        },
        "id": "OjWM2UoSjNtJ",
        "outputId": "24193833-1c63-40e1-bd8c-6a39254b68ee"
      },
      "execution_count": 89,
      "outputs": [
        {
          "output_type": "stream",
          "name": "stdout",
          "text": [
            "Validation set Classification report:\n",
            "              precision    recall  f1-score   support\n",
            "\n",
            "           0       0.45      0.22      0.29      1023\n",
            "           1       0.66      0.65      0.66     18611\n",
            "           2       0.50      0.48      0.49      4671\n",
            "           3       0.06      0.12      0.08        34\n",
            "           4       0.83      0.86      0.84     29517\n",
            "\n",
            "    accuracy                           0.74     53856\n",
            "   macro avg       0.50      0.46      0.47     53856\n",
            "weighted avg       0.74      0.74      0.74     53856\n",
            "\n"
          ]
        }
      ]
    },
    {
      "cell_type": "markdown",
      "source": [
        "---\n",
        "- The model achieved the highest precision, recall, and F1-score for class 4, with values of 0.83, 0.86, and 0.84, respectively. This indicates that the model performed well in correctly identifying class 4 instances.\n",
        "- Class 1 also had a relatively high precision, recall, and F1-score of 0.66, 0.65, and 0.66, respectively, indicating that the model performed reasonably well in identifying class 1 instances.\n",
        "- The model did not perform as well on the other classes, with precision, recall, and F1-score values ranging from 0.06 to 0.50. For example, the precision, recall, and F1-score for class 0 were 0.45, 0.22, and 0.29, respectively, indicating that the model had difficulty identifying class 0 instances.\n",
        "- The macro average of precision, recall, and F1-score is 0.50, 0.46, and 0.47, respectively, indicating that the model's performance across all classes is average.\n",
        "- The overall accuracy of the model on this dataset is 0.74, meaning that the model correctly classified 74% of the instances in the dataset.\n",
        "\n",
        "\n",
        "---\n",
        "\n"
      ],
      "metadata": {
        "id": "S2GquRm3KRxB"
      }
    },
    {
      "cell_type": "markdown",
      "source": [
        "Label encoding mapping:\n",
        "high -> 0, \n",
        "low -> 1, \n",
        "medium -> 2, \n",
        "vhigh -> 3, \n",
        "vlow -> 4"
      ],
      "metadata": {
        "id": "3zvkCLc3KESn"
      }
    },
    {
      "cell_type": "code",
      "source": [
        "# prediction on the test set\n",
        "y_pred_test = lgbm.predict(X_test)\n",
        "\n",
        "# Accuracy score on the test set\n",
        "test_accuracy = accuracy_score(y_test, y_pred_test)\n",
        "print(\"Test Accuracy:\", test_accuracy)"
      ],
      "metadata": {
        "colab": {
          "base_uri": "https://localhost:8080/"
        },
        "id": "iKoZGiYLijPn",
        "outputId": "1bd85673-2885-4654-c9d2-a731e7e8ffe7"
      },
      "execution_count": 90,
      "outputs": [
        {
          "output_type": "stream",
          "name": "stdout",
          "text": [
            "Test Accuracy: 0.7540818016227853\n"
          ]
        }
      ]
    },
    {
      "cell_type": "code",
      "source": [
        "print(\"Test set Classification report:\")\n",
        "print(classification_report(y_test, y_pred_test))"
      ],
      "metadata": {
        "colab": {
          "base_uri": "https://localhost:8080/"
        },
        "id": "6dOIGZm-jHVg",
        "outputId": "42402afb-31d4-4770-eba3-37f9855a8d32"
      },
      "execution_count": 91,
      "outputs": [
        {
          "output_type": "stream",
          "name": "stdout",
          "text": [
            "Test set Classification report:\n",
            "              precision    recall  f1-score   support\n",
            "\n",
            "           0       0.34      0.20      0.25       435\n",
            "           1       0.69      0.75      0.72     24346\n",
            "           2       0.55      0.39      0.45      3683\n",
            "           3       0.00      0.00      0.00        13\n",
            "           4       0.83      0.81      0.82     31913\n",
            "\n",
            "    accuracy                           0.75     60390\n",
            "   macro avg       0.48      0.43      0.45     60390\n",
            "weighted avg       0.75      0.75      0.75     60390\n",
            "\n"
          ]
        }
      ]
    },
    {
      "cell_type": "markdown",
      "source": [
        "---\n",
        "- The model performs relatively well for classes 1 and 4, with precision, recall, and F1-score values all above 0.7\n",
        "- Class 0 has a low precision and recall value, indicating that the model struggles to correctly identify instances of this class\n",
        "- The macro average F1-score is 0.45, indicating that the model struggles to perform well across all classes.\n",
        "- Class 2 has a lower F1-score, which suggests that the model has some difficulty identifying instances of this class correctly.\n",
        "- The overall accuracy of the model is 0.75, which means that it correctly predicted the class of 75% of instances in the test set.\n",
        "\n",
        "---"
      ],
      "metadata": {
        "id": "PVMMvDiv8mWv"
      }
    },
    {
      "cell_type": "markdown",
      "source": [
        "- F1 score is a weighted harmonic mean of precision and recall such that the best score is 1.0 and the worst is 0.0"
      ],
      "metadata": {
        "id": "YZL_7YsPMG7G"
      }
    },
    {
      "cell_type": "markdown",
      "source": [
        "## **Cross Validation:**"
      ],
      "metadata": {
        "id": "GwI8onccGCg4"
      }
    },
    {
      "cell_type": "code",
      "source": [
        "from sklearn.model_selection import cross_val_score, StratifiedKFold\n",
        "\n",
        "# Defining the k-fold cross-validation object\n",
        "kfold = StratifiedKFold(n_splits=5, shuffle=True, random_state=42)\n",
        "\n",
        "# Computing the cross-validation scores\n",
        "# Used the training set data only for cross validation.\n",
        "cv_scores = cross_val_score(lgbm, X_train, y_train, cv=kfold, scoring='accuracy')\n",
        "\n",
        "# Cross-validation scores\n",
        "print(\"Cross-validation scores:\", cv_scores)\n",
        "print(\"Mean CV accuracy:\", cv_scores.mean())"
      ],
      "metadata": {
        "colab": {
          "base_uri": "https://localhost:8080/"
        },
        "id": "9jL07f69CvYC",
        "outputId": "4bb21be4-3dc2-4192-974a-f1edcda77dc0"
      },
      "execution_count": 92,
      "outputs": [
        {
          "output_type": "stream",
          "name": "stdout",
          "text": [
            "Cross-validation scores: [0.75199465 0.75306292 0.75877362 0.75049108 0.75543225]\n",
            "Mean CV accuracy: 0.753950904215573\n"
          ]
        }
      ]
    },
    {
      "cell_type": "markdown",
      "source": [
        "---\n",
        "- In this cross-validation where I have used KFold cross-validation technique with 5 splits. \n",
        "- We split the data into 5 folds, then trained the model on 4 folds and evaluated it on the 5th fold, and repeated this process for all the 5 folds.\n",
        "---"
      ],
      "metadata": {
        "id": "Ubzbi6zSFCpk"
      }
    },
    {
      "cell_type": "markdown",
      "source": [
        "- The cross-validation scores range from **0.75199465** to **0.75877362**, and the mean CV accuracy is **0.753950904215573**. \n",
        "- This means that the model is performing consistently across all the folds and the estimated generalization performance is around 75.4%.\n"
      ],
      "metadata": {
        "id": "cnhwrncwExE0"
      }
    }
  ]
}