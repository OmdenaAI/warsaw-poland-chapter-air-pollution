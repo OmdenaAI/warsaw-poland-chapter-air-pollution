{
 "cells": [
  {
   "cell_type": "code",
   "execution_count": 1,
   "id": "0d00fdf4",
   "metadata": {},
   "outputs": [],
   "source": [
    "import warnings\n",
    "import pickle\n",
    "\n",
    "import pandas as pd\n",
    "import numpy as np\n",
    "import matplotlib.pyplot as plt\n",
    "import seaborn as sns\n",
    "\n",
    "from sklearn.pipeline import make_pipeline\n",
    "from sklearn.model_selection import TimeSeriesSplit, cross_val_score\n",
    "from sklearn.metrics import mean_squared_error, r2_score\n",
    "\n",
    "from xgboost import XGBRegressor\n",
    "from tqdm.auto import tqdm\n",
    "\n",
    "import optuna\n",
    "\n",
    "sns.set(style=\"ticks\", palette=\"muted\", color_codes=True)\n",
    "\n",
    "warnings.filterwarnings(\"ignore\")\n",
    "\n",
    "plt.rcParams['axes.labelsize'] = 15\n",
    "plt.rcParams['axes.titlesize'] = 20\n",
    "\n",
    "seed = 42"
   ]
  },
  {
   "cell_type": "code",
   "execution_count": 2,
   "id": "cb1e2b8c",
   "metadata": {},
   "outputs": [],
   "source": [
    "train = pd.read_parquet(\"train_temporal_regression.parquet.gz\")"
   ]
  },
  {
   "cell_type": "code",
   "execution_count": 3,
   "id": "3ba733c9",
   "metadata": {},
   "outputs": [],
   "source": [
    "unpkl_encoders = open(\"encoders.pkl\", \"rb\")\n",
    "encoders = pickle.load(unpkl_encoders)"
   ]
  },
  {
   "cell_type": "code",
   "execution_count": 4,
   "id": "7875cb7d",
   "metadata": {},
   "outputs": [],
   "source": [
    "selected_powiats = \\\n",
    "train.groupby([\"voivodship\", \"powiat_voivod\"])['CAQI_idx'].mean().\\\n",
    "    groupby(\"voivodship\").nlargest(1).index.get_level_values(2)\n",
    "\n",
    "df_subset = train.query(\"powiat_voivod in @selected_powiats\")"
   ]
  },
  {
   "cell_type": "code",
   "execution_count": 5,
   "id": "b93b9d9a",
   "metadata": {},
   "outputs": [],
   "source": [
    "df = encoders.fit_transform(df_subset)\n",
    "# df = encoders.fit_transform(train)\n",
    "\n",
    "X=df.drop(\"CAQI_idx\", axis=1)\n",
    "y=df[\"CAQI_idx\"]"
   ]
  },
  {
   "cell_type": "code",
   "execution_count": 6,
   "id": "cd5a3fb5",
   "metadata": {},
   "outputs": [
    {
     "name": "stdout",
     "output_type": "stream",
     "text": [
      "16\n"
     ]
    }
   ],
   "source": [
    "LEN = len(df['powiat_voivod'].unique())\n",
    "print(LEN)"
   ]
  },
  {
   "cell_type": "code",
   "execution_count": 7,
   "id": "88c81ce6",
   "metadata": {},
   "outputs": [],
   "source": [
    "tss = TimeSeriesSplit(\n",
    "    n_splits=10, \n",
    "    max_train_size=None, \n",
    "    test_size=None, \n",
    "    gap=LEN*15\n",
    ")"
   ]
  },
  {
   "cell_type": "code",
   "execution_count": 8,
   "id": "46eb45f2",
   "metadata": {
    "scrolled": true
   },
   "outputs": [
    {
     "name": "stderr",
     "output_type": "stream",
     "text": [
      "\u001b[32m[I 2023-03-28 13:20:25,963]\u001b[0m A new study created in memory with name: no-name-01705bc3-7f4b-4b41-99de-c69b0ccf4a99\u001b[0m\n"
     ]
    },
    {
     "data": {
      "application/vnd.jupyter.widget-view+json": {
       "model_id": "04187e33d6bc4953857e9908be98387a",
       "version_major": 2,
       "version_minor": 0
      },
      "text/plain": [
       "  0%|          | 0/100 [00:00<?, ?it/s]"
      ]
     },
     "metadata": {},
     "output_type": "display_data"
    },
    {
     "name": "stdout",
     "output_type": "stream",
     "text": [
      "\u001b[32m[I 2023-03-28 13:20:57,169]\u001b[0m Trial 0 finished with value: 11.532062373612508 and parameters: {'n_estimators': 250, 'max_depth': 6, 'learning_rate': 0.007593236651807639, 'gamma': 7.3102612944746115, 'alpha': 7.980877826093808, 'lambda': 9.425851942497323, 'subsample': 0.5406880515174297, 'colsample_bytree': 0.5444078568393409, 'min_child_weight': 5}. Best is trial 0 with value: 11.532062373612508.\u001b[0m\n",
      "\u001b[32m[I 2023-03-28 13:21:08,898]\u001b[0m Trial 1 finished with value: 9.938962768627842 and parameters: {'n_estimators': 100, 'max_depth': 4, 'learning_rate': 0.14465829983854817, 'gamma': 1.9226599479427042, 'alpha': 9.46131163427754, 'lambda': 0.12611600056453232, 'subsample': 0.6236650435732408, 'colsample_bytree': 0.5995389572245535, 'min_child_weight': 3}. Best is trial 1 with value: 9.938962768627842.\u001b[0m\n",
      "\u001b[32m[I 2023-03-28 13:21:26,659]\u001b[0m Trial 2 finished with value: 9.993587996926077 and parameters: {'n_estimators': 100, 'max_depth': 6, 'learning_rate': 0.13828046063264504, 'gamma': 1.0096810231472164, 'alpha': 8.841290769525319, 'lambda': 0.9133201318598427, 'subsample': 0.9349676985976769, 'colsample_bytree': 0.693419681796168, 'min_child_weight': 9}. Best is trial 1 with value: 9.938962768627842.\u001b[0m\n",
      "\u001b[32m[I 2023-03-28 13:22:07,394]\u001b[0m Trial 3 finished with value: 10.126029376832232 and parameters: {'n_estimators': 300, 'max_depth': 4, 'learning_rate': 0.14940585170715412, 'gamma': 2.130441515851411, 'alpha': 6.866465265213309, 'lambda': 9.400574948377805, 'subsample': 0.9889155627008608, 'colsample_bytree': 0.9850435510355343, 'min_child_weight': 10}. Best is trial 1 with value: 9.938962768627842.\u001b[0m\n",
      "\u001b[32m[I 2023-03-28 13:22:39,383]\u001b[0m Trial 4 finished with value: 10.105083244883028 and parameters: {'n_estimators': 150, 'max_depth': 7, 'learning_rate': 0.08800313831562308, 'gamma': 1.7626108485438352, 'alpha': 5.29404572786258, 'lambda': 1.4185779260008502, 'subsample': 0.60861525480928, 'colsample_bytree': 0.8708958669260538, 'min_child_weight': 8}. Best is trial 1 with value: 9.938962768627842.\u001b[0m\n",
      "\u001b[32m[I 2023-03-28 13:23:48,481]\u001b[0m Trial 5 finished with value: 9.893710322161258 and parameters: {'n_estimators': 450, 'max_depth': 5, 'learning_rate': 0.040609819818784275, 'gamma': 9.21277888246011, 'alpha': 4.489739842493697, 'lambda': 1.5350108693862619, 'subsample': 0.8762733010945036, 'colsample_bytree': 0.7350959350391906, 'min_child_weight': 3}. Best is trial 5 with value: 9.893710322161258.\u001b[0m\n",
      "\u001b[32m[I 2023-03-28 13:24:45,976]\u001b[0m Trial 6 finished with value: 20.46401557059549 and parameters: {'n_estimators': 400, 'max_depth': 5, 'learning_rate': 0.0018677757806574414, 'gamma': 3.010046587547209, 'alpha': 3.0824448545183225, 'lambda': 3.756893593509465, 'subsample': 0.9812361479638112, 'colsample_bytree': 0.6075594986020492, 'min_child_weight': 6}. Best is trial 5 with value: 9.893710322161258.\u001b[0m\n",
      "\u001b[32m[I 2023-03-28 13:25:21,570]\u001b[0m Trial 7 finished with value: 9.855713138551554 and parameters: {'n_estimators': 350, 'max_depth': 3, 'learning_rate': 0.015484111816749153, 'gamma': 2.022215919494573, 'alpha': 5.465330469661659, 'lambda': 1.8819644988224293, 'subsample': 0.6615547581159102, 'colsample_bytree': 0.704950051506545, 'min_child_weight': 2}. Best is trial 7 with value: 9.855713138551554.\u001b[0m\n",
      "\u001b[32m[I 2023-03-28 13:26:39,749]\u001b[0m Trial 8 finished with value: 10.179617816775343 and parameters: {'n_estimators': 500, 'max_depth': 6, 'learning_rate': 0.08172088663710594, 'gamma': 7.366665731027705, 'alpha': 9.153338352717705, 'lambda': 6.33192987781422, 'subsample': 0.5118338948059116, 'colsample_bytree': 0.5959617051972674, 'min_child_weight': 10}. Best is trial 7 with value: 9.855713138551554.\u001b[0m\n",
      "\u001b[32m[I 2023-03-28 13:27:46,078]\u001b[0m Trial 9 finished with value: 10.565931424216707 and parameters: {'n_estimators': 400, 'max_depth': 6, 'learning_rate': 0.1469575223122128, 'gamma': 6.139429367053405, 'alpha': 9.627255123124472, 'lambda': 2.760727991549806, 'subsample': 0.6513172909039044, 'colsample_bytree': 0.5431408336422555, 'min_child_weight': 6}. Best is trial 7 with value: 9.855713138551554.\u001b[0m\n",
      "\u001b[32m[I 2023-03-28 13:28:14,460]\u001b[0m Trial 10 finished with value: 10.060213367086856 and parameters: {'n_estimators': 250, 'max_depth': 3, 'learning_rate': 0.012543376747639199, 'gamma': 3.933180781323294, 'alpha': 0.05876042993949948, 'lambda': 4.795781356170342, 'subsample': 0.7380695361473155, 'colsample_bytree': 0.8220431448236374, 'min_child_weight': 1}. Best is trial 7 with value: 9.855713138551554.\u001b[0m\n",
      "\u001b[32m[I 2023-03-28 13:29:03,006]\u001b[0m Trial 11 finished with value: 9.797866995600272 and parameters: {'n_estimators': 450, 'max_depth': 3, 'learning_rate': 0.03022662920465147, 'gamma': 9.959453777943637, 'alpha': 4.772733971290503, 'lambda': 2.3243506538858605, 'subsample': 0.8545892189302798, 'colsample_bytree': 0.7208240537379699, 'min_child_weight': 1}. Best is trial 11 with value: 9.797866995600272.\u001b[0m\n",
      "\u001b[32m[I 2023-03-28 13:29:40,068]\u001b[0m Trial 12 finished with value: 9.77388272081883 and parameters: {'n_estimators': 350, 'max_depth': 3, 'learning_rate': 0.0277294746434064, 'gamma': 0.27330623824540434, 'alpha': 6.198161014069934, 'lambda': 2.81041058142479, 'subsample': 0.7957938337312337, 'colsample_bytree': 0.6904303588343135, 'min_child_weight': 1}. Best is trial 12 with value: 9.77388272081883.\u001b[0m\n",
      "\u001b[32m[I 2023-03-28 13:30:31,844]\u001b[0m Trial 13 finished with value: 9.789561688534373 and parameters: {'n_estimators': 500, 'max_depth': 3, 'learning_rate': 0.03340382089982709, 'gamma': 0.08204853632873396, 'alpha': 7.012772182623689, 'lambda': 2.933355212580228, 'subsample': 0.826586061796719, 'colsample_bytree': 0.665360771534998, 'min_child_weight': 1}. Best is trial 12 with value: 9.77388272081883.\u001b[0m\n",
      "\u001b[32m[I 2023-03-28 13:32:36,821]\u001b[0m Trial 14 finished with value: 9.88560553784371 and parameters: {'n_estimators': 500, 'max_depth': 8, 'learning_rate': 0.03477555361712213, 'gamma': 0.26265083184893057, 'alpha': 7.062978722736886, 'lambda': 3.6109368191130398, 'subsample': 0.7691555363974207, 'colsample_bytree': 0.6573380399191537, 'min_child_weight': 4}. Best is trial 12 with value: 9.77388272081883.\u001b[0m\n",
      "\u001b[32m[I 2023-03-28 13:33:24,363]\u001b[0m Trial 15 finished with value: 10.784658125147462 and parameters: {'n_estimators': 350, 'max_depth': 4, 'learning_rate': 0.006013951992517389, 'gamma': 0.36720229298972384, 'alpha': 7.1695876855780325, 'lambda': 5.400665981743823, 'subsample': 0.7686640784347148, 'colsample_bytree': 0.7817703905382484, 'min_child_weight': 1}. Best is trial 12 with value: 9.77388272081883.\u001b[0m\n",
      "\u001b[32m[I 2023-03-28 13:33:50,470]\u001b[0m Trial 16 finished with value: 9.750961940272711 and parameters: {'n_estimators': 200, 'max_depth': 4, 'learning_rate': 0.049178145140649485, 'gamma': 0.18364211022712135, 'alpha': 6.275545164448152, 'lambda': 3.0768116328926114, 'subsample': 0.8431511541855643, 'colsample_bytree': 0.651046930461649, 'min_child_weight': 3}. Best is trial 16 with value: 9.750961940272711.\u001b[0m\n",
      "\u001b[32m[I 2023-03-28 13:34:14,489]\u001b[0m Trial 17 finished with value: 9.826830755347363 and parameters: {'n_estimators': 200, 'max_depth': 4, 'learning_rate': 0.0677069969371457, 'gamma': 3.659675641455335, 'alpha': 6.160713872673027, 'lambda': 0.3470065398309634, 'subsample': 0.8983522668828818, 'colsample_bytree': 0.5036110319024654, 'min_child_weight': 3}. Best is trial 16 with value: 9.750961940272711.\u001b[0m\n",
      "\u001b[32m[I 2023-03-28 13:34:45,707]\u001b[0m Trial 18 finished with value: 9.714091899446114 and parameters: {'n_estimators': 200, 'max_depth': 5, 'learning_rate': 0.01961789693638332, 'gamma': 1.163588723345569, 'alpha': 8.035234871251857, 'lambda': 4.09194880210867, 'subsample': 0.8182769277350103, 'colsample_bytree': 0.6464911783828291, 'min_child_weight': 4}. Best is trial 18 with value: 9.714091899446114.\u001b[0m\n",
      "\u001b[32m[I 2023-03-28 13:35:16,884]\u001b[0m Trial 19 finished with value: 9.935673290575737 and parameters: {'n_estimators': 200, 'max_depth': 5, 'learning_rate': 0.014339853919774602, 'gamma': 1.1418674828581052, 'alpha': 8.377400168672104, 'lambda': 4.358414774049433, 'subsample': 0.8120325410368002, 'colsample_bytree': 0.6500007685278486, 'min_child_weight': 5}. Best is trial 18 with value: 9.714091899446114.\u001b[0m\n"
     ]
    },
    {
     "name": "stdout",
     "output_type": "stream",
     "text": [
      "\u001b[32m[I 2023-03-28 13:35:50,011]\u001b[0m Trial 20 finished with value: 9.725623010642035 and parameters: {'n_estimators': 150, 'max_depth': 7, 'learning_rate': 0.055900602068540854, 'gamma': 4.495758120366551, 'alpha': 9.919496525886373, 'lambda': 6.386180593476539, 'subsample': 0.7028543788055065, 'colsample_bytree': 0.7661231507894555, 'min_child_weight': 7}. Best is trial 18 with value: 9.714091899446114.\u001b[0m\n",
      "\u001b[32m[I 2023-03-28 13:36:28,313]\u001b[0m Trial 21 finished with value: 9.803817106872682 and parameters: {'n_estimators': 150, 'max_depth': 8, 'learning_rate': 0.06115140952553455, 'gamma': 4.5560237809755435, 'alpha': 8.197573388375748, 'lambda': 5.878811424528164, 'subsample': 0.7068520793311688, 'colsample_bytree': 0.7700344577824996, 'min_child_weight': 7}. Best is trial 18 with value: 9.714091899446114.\u001b[0m\n",
      "\u001b[32m[I 2023-03-28 13:37:12,779]\u001b[0m Trial 22 finished with value: 9.721533374218687 and parameters: {'n_estimators': 200, 'max_depth': 7, 'learning_rate': 0.04873006052684402, 'gamma': 3.0171540206616143, 'alpha': 9.636522613482324, 'lambda': 6.55958340602558, 'subsample': 0.7241231563779668, 'colsample_bytree': 0.7426469233428921, 'min_child_weight': 4}. Best is trial 18 with value: 9.714091899446114.\u001b[0m\n",
      "\u001b[32m[I 2023-03-28 13:37:45,759]\u001b[0m Trial 23 finished with value: 9.773801339918817 and parameters: {'n_estimators': 150, 'max_depth': 7, 'learning_rate': 0.02280173855012068, 'gamma': 2.9598043230064244, 'alpha': 9.809409556410827, 'lambda': 6.678610138763662, 'subsample': 0.7056684921801758, 'colsample_bytree': 0.7562845838690803, 'min_child_weight': 4}. Best is trial 18 with value: 9.714091899446114.\u001b[0m\n",
      "\u001b[32m[I 2023-03-28 13:38:42,222]\u001b[0m Trial 24 finished with value: 9.856084329451162 and parameters: {'n_estimators': 250, 'max_depth': 7, 'learning_rate': 0.05512140970214553, 'gamma': 4.622532051804269, 'alpha': 9.736474681025435, 'lambda': 7.31955017907068, 'subsample': 0.7321082730135383, 'colsample_bytree': 0.7969857035780109, 'min_child_weight': 7}. Best is trial 18 with value: 9.714091899446114.\u001b[0m\n",
      "\u001b[32m[I 2023-03-28 13:39:16,848]\u001b[0m Trial 25 finished with value: 9.944199324779444 and parameters: {'n_estimators': 150, 'max_depth': 7, 'learning_rate': 0.019389434956138377, 'gamma': 3.1014474854671366, 'alpha': 8.756038430254698, 'lambda': 7.434045348874207, 'subsample': 0.7783316559383158, 'colsample_bytree': 0.8275662696091561, 'min_child_weight': 4}. Best is trial 18 with value: 9.714091899446114.\u001b[0m\n",
      "\u001b[32m[I 2023-03-28 13:40:07,957]\u001b[0m Trial 26 finished with value: 9.720985383362235 and parameters: {'n_estimators': 200, 'max_depth': 8, 'learning_rate': 0.045826238104370226, 'gamma': 4.018393162397137, 'alpha': 9.83136614754072, 'lambda': 5.002661257276848, 'subsample': 0.8157926337254217, 'colsample_bytree': 0.7255049469281115, 'min_child_weight': 7}. Best is trial 18 with value: 9.714091899446114.\u001b[0m\n",
      "\u001b[32m[I 2023-03-28 13:41:25,692]\u001b[0m Trial 27 finished with value: 10.154432639071388 and parameters: {'n_estimators': 300, 'max_depth': 8, 'learning_rate': 0.08851800011784038, 'gamma': 5.382275233182554, 'alpha': 7.9511401569488065, 'lambda': 4.743638014221467, 'subsample': 0.7929942503793319, 'colsample_bytree': 0.7297417942775364, 'min_child_weight': 5}. Best is trial 18 with value: 9.714091899446114.\u001b[0m\n",
      "\u001b[32m[I 2023-03-28 13:42:16,312]\u001b[0m Trial 28 finished with value: 9.744979392769537 and parameters: {'n_estimators': 200, 'max_depth': 8, 'learning_rate': 0.04175527558675063, 'gamma': 2.381012557554118, 'alpha': 9.035004348748817, 'lambda': 5.341585023732505, 'subsample': 0.8131960207135223, 'colsample_bytree': 0.7352208994391033, 'min_child_weight': 8}. Best is trial 18 with value: 9.714091899446114.\u001b[0m\n",
      "\u001b[32m[I 2023-03-28 13:43:19,776]\u001b[0m Trial 29 finished with value: 9.696638267413213 and parameters: {'n_estimators': 250, 'max_depth': 8, 'learning_rate': 0.020149212525124468, 'gamma': 3.65391557211736, 'alpha': 8.095150752040347, 'lambda': 4.128246652843579, 'subsample': 0.8485376092171357, 'colsample_bytree': 0.6851682068010249, 'min_child_weight': 6}. Best is trial 29 with value: 9.696638267413213.\u001b[0m\n",
      "\u001b[32m[I 2023-03-28 13:44:30,651]\u001b[0m Trial 30 finished with value: 10.14055094613318 and parameters: {'n_estimators': 300, 'max_depth': 8, 'learning_rate': 0.008679228696914952, 'gamma': 5.292706919430494, 'alpha': 7.776808701956023, 'lambda': 4.002865867881097, 'subsample': 0.8779165408597569, 'colsample_bytree': 0.6255100663689286, 'min_child_weight': 6}. Best is trial 29 with value: 9.696638267413213.\u001b[0m\n",
      "\u001b[32m[I 2023-03-28 13:45:45,649]\u001b[0m Trial 31 finished with value: 9.704474874427603 and parameters: {'n_estimators': 250, 'max_depth': 8, 'learning_rate': 0.023113964242074514, 'gamma': 3.634934368595288, 'alpha': 8.719609715181504, 'lambda': 4.421377432537436, 'subsample': 0.836680132740602, 'colsample_bytree': 0.7095920961627346, 'min_child_weight': 5}. Best is trial 29 with value: 9.696638267413213.\u001b[0m\n",
      "\u001b[32m[I 2023-03-28 13:46:56,715]\u001b[0m Trial 32 finished with value: 9.667613696739684 and parameters: {'n_estimators': 250, 'max_depth': 8, 'learning_rate': 0.021889521885113495, 'gamma': 3.819182612606028, 'alpha': 8.44224229679516, 'lambda': 4.651545630702647, 'subsample': 0.842906393401094, 'colsample_bytree': 0.6849305320297973, 'min_child_weight': 5}. Best is trial 32 with value: 9.667613696739684.\u001b[0m\n",
      "\u001b[32m[I 2023-03-28 13:48:05,573]\u001b[0m Trial 33 finished with value: 9.674876448525778 and parameters: {'n_estimators': 250, 'max_depth': 8, 'learning_rate': 0.020397682273311787, 'gamma': 3.59558965967761, 'alpha': 8.734381583272947, 'lambda': 4.259051733740548, 'subsample': 0.8536017648509047, 'colsample_bytree': 0.6818795218021116, 'min_child_weight': 5}. Best is trial 32 with value: 9.667613696739684.\u001b[0m\n",
      "\u001b[32m[I 2023-03-28 13:49:12,922]\u001b[0m Trial 34 finished with value: 9.703674099486737 and parameters: {'n_estimators': 250, 'max_depth': 8, 'learning_rate': 0.0277516497056709, 'gamma': 3.5669148018318286, 'alpha': 8.651230059478667, 'lambda': 3.415278699104781, 'subsample': 0.9100241972300233, 'colsample_bytree': 0.6940186653628004, 'min_child_weight': 5}. Best is trial 32 with value: 9.667613696739684.\u001b[0m\n",
      "\u001b[32m[I 2023-03-28 13:50:21,168]\u001b[0m Trial 35 finished with value: 9.929759189639853 and parameters: {'n_estimators': 250, 'max_depth': 8, 'learning_rate': 0.011697689336538242, 'gamma': 2.5242665912953486, 'alpha': 9.070291576045886, 'lambda': 3.754345917826251, 'subsample': 0.9119620660500667, 'colsample_bytree': 0.68818619319634, 'min_child_weight': 5}. Best is trial 32 with value: 9.667613696739684.\u001b[0m\n",
      "\u001b[32m[I 2023-03-28 13:51:31,078]\u001b[0m Trial 36 finished with value: 9.708217093553568 and parameters: {'n_estimators': 300, 'max_depth': 7, 'learning_rate': 0.028985889088921947, 'gamma': 3.3961708733284564, 'alpha': 7.709299021250788, 'lambda': 3.25294928383847, 'subsample': 0.9426103715087644, 'colsample_bytree': 0.6795372244665117, 'min_child_weight': 6}. Best is trial 32 with value: 9.667613696739684.\u001b[0m\n",
      "\u001b[32m[I 2023-03-28 13:52:35,761]\u001b[0m Trial 37 finished with value: 9.701284884623147 and parameters: {'n_estimators': 250, 'max_depth': 8, 'learning_rate': 0.017446232962102966, 'gamma': 4.090676646973585, 'alpha': 8.451393863379312, 'lambda': 3.4291166272415463, 'subsample': 0.8650748885039483, 'colsample_bytree': 0.5917228042416928, 'min_child_weight': 8}. Best is trial 32 with value: 9.667613696739684.\u001b[0m\n",
      "\u001b[32m[I 2023-03-28 13:52:55,377]\u001b[0m Trial 38 finished with value: 17.247744868323114 and parameters: {'n_estimators': 100, 'max_depth': 6, 'learning_rate': 0.0098393903060532, 'gamma': 4.170174898383078, 'alpha': 7.613698114641011, 'lambda': 2.253148138924235, 'subsample': 0.8551266836464776, 'colsample_bytree': 0.5915360630400656, 'min_child_weight': 8}. Best is trial 32 with value: 9.667613696739684.\u001b[0m\n",
      "\u001b[32m[I 2023-03-28 13:54:02,039]\u001b[0m Trial 39 finished with value: 11.501172082803162 and parameters: {'n_estimators': 300, 'max_depth': 8, 'learning_rate': 0.006181665755549766, 'gamma': 5.01686252669314, 'alpha': 8.291726120865816, 'lambda': 4.271953655671764, 'subsample': 0.8742710365085506, 'colsample_bytree': 0.619711833388406, 'min_child_weight': 9}. Best is trial 32 with value: 9.667613696739684.\u001b[0m\n"
     ]
    },
    {
     "name": "stdout",
     "output_type": "stream",
     "text": [
      "\u001b[32m[I 2023-03-28 13:54:55,261]\u001b[0m Trial 40 finished with value: 9.685373832449514 and parameters: {'n_estimators': 250, 'max_depth': 7, 'learning_rate': 0.017523641311981704, 'gamma': 1.81148021049186, 'alpha': 9.33624532577643, 'lambda': 3.6118675741908293, 'subsample': 0.9414934682475861, 'colsample_bytree': 0.5706328561667104, 'min_child_weight': 9}. Best is trial 32 with value: 9.667613696739684.\u001b[0m\n",
      "\u001b[32m[I 2023-03-28 13:55:54,061]\u001b[0m Trial 41 finished with value: 9.707128798395868 and parameters: {'n_estimators': 250, 'max_depth': 7, 'learning_rate': 0.015153677001493828, 'gamma': 1.7948175519769003, 'alpha': 9.400931454919473, 'lambda': 3.384054171371988, 'subsample': 0.9441725888023299, 'colsample_bytree': 0.5851902640042984, 'min_child_weight': 9}. Best is trial 32 with value: 9.667613696739684.\u001b[0m\n",
      "\u001b[32m[I 2023-03-28 13:56:59,467]\u001b[0m Trial 42 finished with value: 9.713247829851605 and parameters: {'n_estimators': 250, 'max_depth': 8, 'learning_rate': 0.019529310488428424, 'gamma': 2.4872951935785785, 'alpha': 9.171215837055582, 'lambda': 3.6531994742972156, 'subsample': 0.9567353750957625, 'colsample_bytree': 0.5714313528913212, 'min_child_weight': 9}. Best is trial 32 with value: 9.667613696739684.\u001b[0m\n",
      "\u001b[32m[I 2023-03-28 13:58:09,826]\u001b[0m Trial 43 finished with value: 9.779107875404302 and parameters: {'n_estimators': 300, 'max_depth': 7, 'learning_rate': 0.011079137871255161, 'gamma': 4.147626965117469, 'alpha': 8.739078106814562, 'lambda': 4.044703627922819, 'subsample': 0.9964430551518001, 'colsample_bytree': 0.628192550830186, 'min_child_weight': 8}. Best is trial 32 with value: 9.667613696739684.\u001b[0m\n",
      "\u001b[32m[I 2023-03-28 13:59:38,522]\u001b[0m Trial 44 finished with value: 9.722450689089873 and parameters: {'n_estimators': 350, 'max_depth': 8, 'learning_rate': 0.017289877222782732, 'gamma': 1.5546766513152712, 'alpha': 9.290734789015042, 'lambda': 2.4068358037794817, 'subsample': 0.8875118250664124, 'colsample_bytree': 0.5598318050053934, 'min_child_weight': 10}. Best is trial 32 with value: 9.667613696739684.\u001b[0m\n",
      "\u001b[32m[I 2023-03-28 14:00:37,334]\u001b[0m Trial 45 finished with value: 9.710293322262839 and parameters: {'n_estimators': 250, 'max_depth': 7, 'learning_rate': 0.014307748689064958, 'gamma': 2.7472306344588606, 'alpha': 8.391298259200045, 'lambda': 4.565519167853621, 'subsample': 0.8609592954310985, 'colsample_bytree': 0.6080869640244797, 'min_child_weight': 6}. Best is trial 32 with value: 9.667613696739684.\u001b[0m\n",
      "\u001b[32m[I 2023-03-28 14:01:42,492]\u001b[0m Trial 46 finished with value: 9.756282751903658 and parameters: {'n_estimators': 250, 'max_depth': 8, 'learning_rate': 0.02301919003210607, 'gamma': 2.0629148196899427, 'alpha': 7.526084916257197, 'lambda': 1.4217337993806454, 'subsample': 0.9187010580600534, 'colsample_bytree': 0.632848229644637, 'min_child_weight': 10}. Best is trial 32 with value: 9.667613696739684.\u001b[0m\n",
      "\u001b[32m[I 2023-03-28 14:03:01,966]\u001b[0m Trial 47 finished with value: 10.487174551980576 and parameters: {'n_estimators': 300, 'max_depth': 8, 'learning_rate': 0.007934840079856061, 'gamma': 3.0045630313861533, 'alpha': 8.416808886849893, 'lambda': 2.9376652054269816, 'subsample': 0.8902135396580051, 'colsample_bytree': 0.6699271278473755, 'min_child_weight': 2}. Best is trial 32 with value: 9.667613696739684.\u001b[0m\n",
      "\u001b[32m[I 2023-03-28 14:04:01,208]\u001b[0m Trial 48 finished with value: 9.743322616982955 and parameters: {'n_estimators': 300, 'max_depth': 7, 'learning_rate': 0.034623602118636916, 'gamma': 2.2958855439485837, 'alpha': 9.295205137792312, 'lambda': 4.962084871086842, 'subsample': 0.9661972645535774, 'colsample_bytree': 0.544248523653479, 'min_child_weight': 8}. Best is trial 32 with value: 9.667613696739684.\u001b[0m\n",
      "\u001b[32m[I 2023-03-28 14:05:11,160]\u001b[0m Trial 49 finished with value: 9.66633302035129 and parameters: {'n_estimators': 350, 'max_depth': 6, 'learning_rate': 0.012635801163188446, 'gamma': 3.2932448273170314, 'alpha': 8.961459887955275, 'lambda': 3.7328162791234116, 'subsample': 0.8628143483988552, 'colsample_bytree': 0.703428476067901, 'min_child_weight': 6}. Best is trial 49 with value: 9.66633302035129.\u001b[0m\n",
      "\u001b[32m[I 2023-03-28 14:06:18,495]\u001b[0m Trial 50 finished with value: 9.65482148945883 and parameters: {'n_estimators': 350, 'max_depth': 6, 'learning_rate': 0.013016310734035074, 'gamma': 3.378855657098948, 'alpha': 7.344986901450115, 'lambda': 3.8985777127726187, 'subsample': 0.8416898198510097, 'colsample_bytree': 0.7056192776301032, 'min_child_weight': 6}. Best is trial 50 with value: 9.65482148945883.\u001b[0m\n",
      "\u001b[32m[I 2023-03-28 14:07:40,028]\u001b[0m Trial 51 finished with value: 9.65517543716694 and parameters: {'n_estimators': 400, 'max_depth': 6, 'learning_rate': 0.012494386147215254, 'gamma': 3.3143372642912494, 'alpha': 7.310643748352555, 'lambda': 3.8124381241640037, 'subsample': 0.8447203818001779, 'colsample_bytree': 0.7063275127637028, 'min_child_weight': 6}. Best is trial 50 with value: 9.65482148945883.\u001b[0m\n",
      "\u001b[32m[I 2023-03-28 14:09:03,603]\u001b[0m Trial 52 finished with value: 9.669299462427633 and parameters: {'n_estimators': 400, 'max_depth': 6, 'learning_rate': 0.013147472258283194, 'gamma': 3.2979014295451403, 'alpha': 7.442273780761242, 'lambda': 3.779649011199308, 'subsample': 0.8323887694998685, 'colsample_bytree': 0.7095970492958846, 'min_child_weight': 6}. Best is trial 50 with value: 9.65482148945883.\u001b[0m\n",
      "\u001b[32m[I 2023-03-28 14:10:27,600]\u001b[0m Trial 53 finished with value: 9.664187989662858 and parameters: {'n_estimators': 400, 'max_depth': 6, 'learning_rate': 0.01175440275240463, 'gamma': 3.309432246005717, 'alpha': 7.399091328736456, 'lambda': 4.672196803338935, 'subsample': 0.8361831448693091, 'colsample_bytree': 0.7097471337380026, 'min_child_weight': 6}. Best is trial 50 with value: 9.65482148945883.\u001b[0m\n",
      "\u001b[32m[I 2023-03-28 14:11:50,146]\u001b[0m Trial 54 finished with value: 9.681995017798684 and parameters: {'n_estimators': 400, 'max_depth': 6, 'learning_rate': 0.01194559963075404, 'gamma': 3.470210937439505, 'alpha': 6.68541444951063, 'lambda': 2.64391206714181, 'subsample': 0.8322936738862268, 'colsample_bytree': 0.70582030389984, 'min_child_weight': 6}. Best is trial 50 with value: 9.65482148945883.\u001b[0m\n",
      "\u001b[32m[I 2023-03-28 14:13:13,123]\u001b[0m Trial 55 finished with value: 9.708979103764253 and parameters: {'n_estimators': 400, 'max_depth': 6, 'learning_rate': 0.009991780415860085, 'gamma': 2.6656581121101546, 'alpha': 7.074155982415759, 'lambda': 3.1246343705154196, 'subsample': 0.8333015765775621, 'colsample_bytree': 0.7469594119107303, 'min_child_weight': 7}. Best is trial 50 with value: 9.65482148945883.\u001b[0m\n",
      "\u001b[32m[I 2023-03-28 14:14:27,975]\u001b[0m Trial 56 finished with value: 9.983968648406755 and parameters: {'n_estimators': 450, 'max_depth': 5, 'learning_rate': 0.006167743509931042, 'gamma': 3.2831325940768883, 'alpha': 7.301663971211664, 'lambda': 4.785229090861138, 'subsample': 0.8738014950426349, 'colsample_bytree': 0.7089546068486684, 'min_child_weight': 7}. Best is trial 50 with value: 9.65482148945883.\u001b[0m\n",
      "\u001b[32m[I 2023-03-28 14:15:51,412]\u001b[0m Trial 57 finished with value: 9.654057655233215 and parameters: {'n_estimators': 400, 'max_depth': 6, 'learning_rate': 0.013146623225458516, 'gamma': 3.2528895807735454, 'alpha': 6.6948687616384515, 'lambda': 3.8705659254671203, 'subsample': 0.8002305837109409, 'colsample_bytree': 0.717014196584628, 'min_child_weight': 6}. Best is trial 57 with value: 9.654057655233215.\u001b[0m\n",
      "\u001b[32m[I 2023-03-28 14:17:04,879]\u001b[0m Trial 58 finished with value: 9.695348324362161 and parameters: {'n_estimators': 450, 'max_depth': 5, 'learning_rate': 0.009268502305152668, 'gamma': 3.882006827506932, 'alpha': 6.715971879078894, 'lambda': 5.304458225672819, 'subsample': 0.7976707320109445, 'colsample_bytree': 0.6569512843076799, 'min_child_weight': 6}. Best is trial 57 with value: 9.654057655233215.\u001b[0m\n",
      "\u001b[32m[I 2023-03-28 14:18:14,409]\u001b[0m Trial 59 finished with value: 9.658906105149317 and parameters: {'n_estimators': 350, 'max_depth': 6, 'learning_rate': 0.014036266381342153, 'gamma': 2.818780875728947, 'alpha': 6.481337053769995, 'lambda': 4.4544545362794645, 'subsample': 0.7558285891913595, 'colsample_bytree': 0.7211240070816802, 'min_child_weight': 5}. Best is trial 57 with value: 9.654057655233215.\u001b[0m\n"
     ]
    },
    {
     "name": "stdout",
     "output_type": "stream",
     "text": [
      "\u001b[32m[I 2023-03-28 14:19:28,717]\u001b[0m Trial 60 finished with value: 9.654789075336966 and parameters: {'n_estimators': 350, 'max_depth': 6, 'learning_rate': 0.01391074733064928, 'gamma': 2.791459402390517, 'alpha': 6.508246760578731, 'lambda': 3.868154113224536, 'subsample': 0.7686405634445621, 'colsample_bytree': 0.7222765806858807, 'min_child_weight': 7}. Best is trial 57 with value: 9.654057655233215.\u001b[0m\n",
      "\u001b[32m[I 2023-03-28 14:20:41,704]\u001b[0m Trial 61 finished with value: 10.049369390887632 and parameters: {'n_estimators': 350, 'max_depth': 6, 'learning_rate': 0.007448566887866156, 'gamma': 2.7932553271674325, 'alpha': 5.725369875198998, 'lambda': 3.9432086936746664, 'subsample': 0.7580247767450796, 'colsample_bytree': 0.7232150562482328, 'min_child_weight': 7}. Best is trial 57 with value: 9.654057655233215.\u001b[0m\n",
      "\u001b[32m[I 2023-03-28 14:21:54,932]\u001b[0m Trial 62 finished with value: 9.687437153248784 and parameters: {'n_estimators': 350, 'max_depth': 6, 'learning_rate': 0.013414906532448097, 'gamma': 2.2206771491622606, 'alpha': 6.595150393018015, 'lambda': 3.1385271711624325, 'subsample': 0.7490278284315681, 'colsample_bytree': 0.7476606636685817, 'min_child_weight': 6}. Best is trial 57 with value: 9.654057655233215.\u001b[0m\n",
      "\u001b[32m[I 2023-03-28 14:23:07,689]\u001b[0m Trial 63 finished with value: 9.679835702203738 and parameters: {'n_estimators': 350, 'max_depth': 6, 'learning_rate': 0.010932394406805813, 'gamma': 2.8115303626952115, 'alpha': 6.350919093613733, 'lambda': 3.836287031175277, 'subsample': 0.7856562467242629, 'colsample_bytree': 0.7231012195976829, 'min_child_weight': 7}. Best is trial 57 with value: 9.654057655233215.\u001b[0m\n",
      "\u001b[32m[I 2023-03-28 14:24:25,184]\u001b[0m Trial 64 finished with value: 9.653467225571996 and parameters: {'n_estimators': 400, 'max_depth': 6, 'learning_rate': 0.014965454690187804, 'gamma': 3.2000912381549904, 'alpha': 7.188708229460026, 'lambda': 4.457289611291061, 'subsample': 0.801917215193583, 'colsample_bytree': 0.7369672787367898, 'min_child_weight': 6}. Best is trial 64 with value: 9.653467225571996.\u001b[0m\n",
      "\u001b[32m[I 2023-03-28 14:25:31,341]\u001b[0m Trial 65 finished with value: 9.6990532793322 and parameters: {'n_estimators': 400, 'max_depth': 5, 'learning_rate': 0.015409487008346958, 'gamma': 3.149484648064562, 'alpha': 6.999482145309308, 'lambda': 4.86435525882885, 'subsample': 0.801605281049998, 'colsample_bytree': 0.7621096530396786, 'min_child_weight': 7}. Best is trial 64 with value: 9.653467225571996.\u001b[0m\n",
      "\u001b[32m[I 2023-03-28 14:26:57,701]\u001b[0m Trial 66 finished with value: 9.706792451781585 and parameters: {'n_estimators': 450, 'max_depth': 6, 'learning_rate': 0.008732745425265571, 'gamma': 2.6883009719587103, 'alpha': 7.288989209387996, 'lambda': 4.311902550902661, 'subsample': 0.7773550360601157, 'colsample_bytree': 0.7408139917920865, 'min_child_weight': 4}. Best is trial 64 with value: 9.653467225571996.\u001b[0m\n",
      "\u001b[32m[I 2023-03-28 14:28:17,884]\u001b[0m Trial 67 finished with value: 9.88682817902877 and parameters: {'n_estimators': 400, 'max_depth': 6, 'learning_rate': 0.007331191773163085, 'gamma': 2.0804752804517364, 'alpha': 5.966939515658746, 'lambda': 4.228012604021905, 'subsample': 0.80851365247826, 'colsample_bytree': 0.7785654076990616, 'min_child_weight': 5}. Best is trial 64 with value: 9.653467225571996.\u001b[0m\n",
      "\u001b[32m[I 2023-03-28 14:29:39,294]\u001b[0m Trial 68 finished with value: 10.539207027170628 and parameters: {'n_estimators': 450, 'max_depth': 6, 'learning_rate': 0.00496747920924969, 'gamma': 2.446991513067489, 'alpha': 6.884434324612459, 'lambda': 5.150124392743917, 'subsample': 0.7606210133007745, 'colsample_bytree': 0.6672137884444177, 'min_child_weight': 6}. Best is trial 64 with value: 9.653467225571996.\u001b[0m\n",
      "\u001b[32m[I 2023-03-28 14:30:45,448]\u001b[0m Trial 69 finished with value: 9.68452011795995 and parameters: {'n_estimators': 400, 'max_depth': 5, 'learning_rate': 0.01522575889090746, 'gamma': 2.9327157336605953, 'alpha': 6.313181370423514, 'lambda': 5.200370014239865, 'subsample': 0.780892402572483, 'colsample_bytree': 0.7342304616927978, 'min_child_weight': 5}. Best is trial 64 with value: 9.653467225571996.\u001b[0m\n",
      "\u001b[32m[I 2023-03-28 14:31:53,007]\u001b[0m Trial 70 finished with value: 9.72567936142214 and parameters: {'n_estimators': 350, 'max_depth': 6, 'learning_rate': 0.01015115504887341, 'gamma': 4.302216833199831, 'alpha': 5.280234114033051, 'lambda': 5.541544718779603, 'subsample': 0.8127217746591054, 'colsample_bytree': 0.7186653180677677, 'min_child_weight': 6}. Best is trial 64 with value: 9.653467225571996.\u001b[0m\n",
      "\u001b[32m[I 2023-03-28 14:33:20,870]\u001b[0m Trial 71 finished with value: 9.695917576313716 and parameters: {'n_estimators': 400, 'max_depth': 6, 'learning_rate': 0.012990365471112066, 'gamma': 3.289109037667838, 'alpha': 6.503790435070501, 'lambda': 4.585055587289472, 'subsample': 0.8227306463107776, 'colsample_bytree': 0.7536814614265719, 'min_child_weight': 6}. Best is trial 64 with value: 9.653467225571996.\u001b[0m\n",
      "\u001b[32m[I 2023-03-28 14:34:30,168]\u001b[0m Trial 72 finished with value: 9.653532229560295 and parameters: {'n_estimators': 350, 'max_depth': 6, 'learning_rate': 0.012302084331123817, 'gamma': 3.8247773700548504, 'alpha': 7.8334764506567325, 'lambda': 4.4997269912571625, 'subsample': 0.7936829716255047, 'colsample_bytree': 0.699758655423368, 'min_child_weight': 5}. Best is trial 64 with value: 9.653467225571996.\u001b[0m\n",
      "\u001b[32m[I 2023-03-28 14:35:42,349]\u001b[0m Trial 73 finished with value: 9.676100773187102 and parameters: {'n_estimators': 350, 'max_depth': 6, 'learning_rate': 0.011989090422135513, 'gamma': 3.769210464925448, 'alpha': 7.842037217681499, 'lambda': 4.630424389193852, 'subsample': 0.7995088437860556, 'colsample_bytree': 0.6936204519757873, 'min_child_weight': 5}. Best is trial 64 with value: 9.653467225571996.\u001b[0m\n",
      "\u001b[32m[I 2023-03-28 14:36:48,726]\u001b[0m Trial 74 finished with value: 9.638482258789233 and parameters: {'n_estimators': 400, 'max_depth': 5, 'learning_rate': 0.01717524777344668, 'gamma': 3.8860270216499067, 'alpha': 7.309216344147174, 'lambda': 4.306045376074897, 'subsample': 0.772161324249837, 'colsample_bytree': 0.6719419729708013, 'min_child_weight': 5}. Best is trial 74 with value: 9.638482258789233.\u001b[0m\n",
      "\u001b[32m[I 2023-03-28 14:37:47,501]\u001b[0m Trial 75 finished with value: 9.64372501317122 and parameters: {'n_estimators': 350, 'max_depth': 5, 'learning_rate': 0.01618151920468735, 'gamma': 4.402195038744377, 'alpha': 6.907058095632703, 'lambda': 4.006741155878594, 'subsample': 0.7464931786497324, 'colsample_bytree': 0.6718571353971099, 'min_child_weight': 4}. Best is trial 74 with value: 9.638482258789233.\u001b[0m\n",
      "\u001b[32m[I 2023-03-28 14:38:56,192]\u001b[0m Trial 76 finished with value: 9.655240556756185 and parameters: {'n_estimators': 400, 'max_depth': 5, 'learning_rate': 0.0239498967317927, 'gamma': 3.9041859214864933, 'alpha': 6.933194830088399, 'lambda': 4.10779248329441, 'subsample': 0.7692713070038998, 'colsample_bytree': 0.6673874497107921, 'min_child_weight': 4}. Best is trial 74 with value: 9.638482258789233.\u001b[0m\n",
      "\u001b[32m[I 2023-03-28 14:40:12,000]\u001b[0m Trial 77 finished with value: 9.620122131833506 and parameters: {'n_estimators': 450, 'max_depth': 5, 'learning_rate': 0.018176540972712065, 'gamma': 4.522423911437366, 'alpha': 7.8505300392319235, 'lambda': 3.4344881323232164, 'subsample': 0.7433983377243534, 'colsample_bytree': 0.6457393282500294, 'min_child_weight': 3}. Best is trial 77 with value: 9.620122131833506.\u001b[0m\n",
      "\u001b[32m[I 2023-03-28 14:41:21,378]\u001b[0m Trial 78 finished with value: 9.674456396823603 and parameters: {'n_estimators': 500, 'max_depth': 4, 'learning_rate': 0.016959437625330438, 'gamma': 4.405974699589667, 'alpha': 8.086669791941267, 'lambda': 3.491339607974808, 'subsample': 0.739353250948627, 'colsample_bytree': 0.6487949966512315, 'min_child_weight': 3}. Best is trial 77 with value: 9.620122131833506.\u001b[0m\n",
      "\u001b[32m[I 2023-03-28 14:42:36,675]\u001b[0m Trial 79 finished with value: 9.702361668639066 and parameters: {'n_estimators': 450, 'max_depth': 5, 'learning_rate': 0.02653201390550294, 'gamma': 4.9234116542281745, 'alpha': 7.692729990347577, 'lambda': 3.223025779509182, 'subsample': 0.7178754287412196, 'colsample_bytree': 0.6793103571819491, 'min_child_weight': 3}. Best is trial 77 with value: 9.620122131833506.\u001b[0m\n"
     ]
    },
    {
     "name": "stdout",
     "output_type": "stream",
     "text": [
      "\u001b[32m[I 2023-03-28 14:43:51,536]\u001b[0m Trial 80 finished with value: 9.648169185017691 and parameters: {'n_estimators': 450, 'max_depth': 5, 'learning_rate': 0.01639159204094288, 'gamma': 4.602027167366717, 'alpha': 7.896655772987791, 'lambda': 2.8215722287597744, 'subsample': 0.7881763097864617, 'colsample_bytree': 0.6375971701389493, 'min_child_weight': 4}. Best is trial 77 with value: 9.620122131833506.\u001b[0m\n",
      "\u001b[32m[I 2023-03-28 14:45:05,739]\u001b[0m Trial 81 finished with value: 9.627631339004262 and parameters: {'n_estimators': 450, 'max_depth': 5, 'learning_rate': 0.017904914196997312, 'gamma': 4.552187741225728, 'alpha': 7.951570521780045, 'lambda': 2.9649863326186043, 'subsample': 0.7879717445759209, 'colsample_bytree': 0.634271599384877, 'min_child_weight': 2}. Best is trial 77 with value: 9.620122131833506.\u001b[0m\n",
      "\u001b[32m[I 2023-03-28 14:46:17,973]\u001b[0m Trial 82 finished with value: 9.628215941600851 and parameters: {'n_estimators': 450, 'max_depth': 5, 'learning_rate': 0.01764856577731028, 'gamma': 4.604473383253624, 'alpha': 8.050379475950267, 'lambda': 2.966132048786844, 'subsample': 0.7838206824749245, 'colsample_bytree': 0.6429600695621481, 'min_child_weight': 2}. Best is trial 77 with value: 9.620122131833506.\u001b[0m\n",
      "\u001b[32m[I 2023-03-28 14:47:33,044]\u001b[0m Trial 83 finished with value: 9.650369054541567 and parameters: {'n_estimators': 450, 'max_depth': 5, 'learning_rate': 0.020055282638935353, 'gamma': 4.6973947877646545, 'alpha': 7.873321358660519, 'lambda': 2.790528948157298, 'subsample': 0.7915262156222579, 'colsample_bytree': 0.6315706811535249, 'min_child_weight': 2}. Best is trial 77 with value: 9.620122131833506.\u001b[0m\n",
      "\u001b[32m[I 2023-03-28 14:48:56,990]\u001b[0m Trial 84 finished with value: 9.65607148162746 and parameters: {'n_estimators': 500, 'max_depth': 5, 'learning_rate': 0.01850245551120377, 'gamma': 4.84487551477737, 'alpha': 7.999642944122851, 'lambda': 2.885633302739431, 'subsample': 0.7873848815704761, 'colsample_bytree': 0.6436435843948599, 'min_child_weight': 2}. Best is trial 77 with value: 9.620122131833506.\u001b[0m\n",
      "\u001b[32m[I 2023-03-28 14:50:07,694]\u001b[0m Trial 85 finished with value: 9.706842596425396 and parameters: {'n_estimators': 450, 'max_depth': 5, 'learning_rate': 0.02517872535465151, 'gamma': 4.639983287585575, 'alpha': 7.880505798276873, 'lambda': 2.6251998758424113, 'subsample': 0.7385597278375684, 'colsample_bytree': 0.641376171729813, 'min_child_weight': 2}. Best is trial 77 with value: 9.620122131833506.\u001b[0m\n",
      "\u001b[32m[I 2023-03-28 14:51:34,648]\u001b[0m Trial 86 finished with value: 9.670774810664067 and parameters: {'n_estimators': 450, 'max_depth': 5, 'learning_rate': 0.020736140446949394, 'gamma': 4.362431359031084, 'alpha': 8.164226067048284, 'lambda': 2.0551385909985793, 'subsample': 0.7874116969433922, 'colsample_bytree': 0.6168223201304711, 'min_child_weight': 2}. Best is trial 77 with value: 9.620122131833506.\u001b[0m\n",
      "\u001b[32m[I 2023-03-28 14:52:48,336]\u001b[0m Trial 87 finished with value: 9.67620095702053 and parameters: {'n_estimators': 500, 'max_depth': 4, 'learning_rate': 0.016182869270386008, 'gamma': 5.3951418035940915, 'alpha': 7.616539878484432, 'lambda': 2.768928556075788, 'subsample': 0.7470338139164322, 'colsample_bytree': 0.6332051587409662, 'min_child_weight': 1}. Best is trial 77 with value: 9.620122131833506.\u001b[0m\n",
      "\u001b[32m[I 2023-03-28 14:54:13,112]\u001b[0m Trial 88 finished with value: 9.67587071159412 and parameters: {'n_estimators': 450, 'max_depth': 5, 'learning_rate': 0.021325273639165726, 'gamma': 4.073294971513931, 'alpha': 7.86189699131192, 'lambda': 1.7628822559984008, 'subsample': 0.7701465826836417, 'colsample_bytree': 0.6057531447344399, 'min_child_weight': 4}. Best is trial 77 with value: 9.620122131833506.\u001b[0m\n",
      "\u001b[32m[I 2023-03-28 14:55:18,494]\u001b[0m Trial 89 finished with value: 9.74529123092779 and parameters: {'n_estimators': 450, 'max_depth': 4, 'learning_rate': 0.029130130960374177, 'gamma': 4.750992901747729, 'alpha': 8.196186520878154, 'lambda': 2.47099777113784, 'subsample': 0.7295028115873966, 'colsample_bytree': 0.6575754260834158, 'min_child_weight': 3}. Best is trial 77 with value: 9.620122131833506.\u001b[0m\n",
      "\u001b[32m[I 2023-03-28 14:56:48,061]\u001b[0m Trial 90 finished with value: 9.650244333174701 and parameters: {'n_estimators': 500, 'max_depth': 5, 'learning_rate': 0.018309472243605903, 'gamma': 4.426389953231712, 'alpha': 7.112263425091495, 'lambda': 3.0176341858726907, 'subsample': 0.816604131807793, 'colsample_bytree': 0.6206922977596114, 'min_child_weight': 2}. Best is trial 77 with value: 9.620122131833506.\u001b[0m\n",
      "\u001b[32m[I 2023-03-28 14:58:15,888]\u001b[0m Trial 91 finished with value: 9.659503979894344 and parameters: {'n_estimators': 500, 'max_depth': 5, 'learning_rate': 0.017836065604776557, 'gamma': 4.497939388814695, 'alpha': 7.672275610365516, 'lambda': 2.965267189668944, 'subsample': 0.8196985847346604, 'colsample_bytree': 0.6168123026325009, 'min_child_weight': 2}. Best is trial 77 with value: 9.620122131833506.\u001b[0m\n",
      "\u001b[32m[I 2023-03-28 14:59:39,247]\u001b[0m Trial 92 finished with value: 9.664212454679287 and parameters: {'n_estimators': 500, 'max_depth': 5, 'learning_rate': 0.018865044520269072, 'gamma': 5.055145435803956, 'alpha': 7.158983158691952, 'lambda': 3.4350645666186237, 'subsample': 0.7913331002411734, 'colsample_bytree': 0.6351593919533791, 'min_child_weight': 2}. Best is trial 77 with value: 9.620122131833506.\u001b[0m\n",
      "\u001b[32m[I 2023-03-28 15:01:00,465]\u001b[0m Trial 93 finished with value: 9.690031519263666 and parameters: {'n_estimators': 450, 'max_depth': 5, 'learning_rate': 0.0246617284202572, 'gamma': 4.250301893995854, 'alpha': 8.510141804238415, 'lambda': 3.2641520627837215, 'subsample': 0.7802613549314408, 'colsample_bytree': 0.6402916731027986, 'min_child_weight': 3}. Best is trial 77 with value: 9.620122131833506.\u001b[0m\n",
      "\u001b[32m[I 2023-03-28 15:02:23,997]\u001b[0m Trial 94 finished with value: 9.802461746981843 and parameters: {'n_estimators': 450, 'max_depth': 5, 'learning_rate': 0.031581122650453985, 'gamma': 4.621096964750649, 'alpha': 7.942696612181177, 'lambda': 3.037733689101178, 'subsample': 0.811006275906285, 'colsample_bytree': 0.6561534337590614, 'min_child_weight': 3}. Best is trial 77 with value: 9.620122131833506.\u001b[0m\n",
      "\u001b[32m[I 2023-03-28 15:03:56,221]\u001b[0m Trial 95 finished with value: 9.672494278577188 and parameters: {'n_estimators': 500, 'max_depth': 5, 'learning_rate': 0.021359552967232767, 'gamma': 3.9763766168864083, 'alpha': 7.513546005486923, 'lambda': 2.1715418217343645, 'subsample': 0.8242932635882213, 'colsample_bytree': 0.6229428246907378, 'min_child_weight': 1}. Best is trial 77 with value: 9.620122131833506.\u001b[0m\n",
      "\u001b[32m[I 2023-03-28 15:05:15,905]\u001b[0m Trial 96 finished with value: 9.68196261452416 and parameters: {'n_estimators': 450, 'max_depth': 5, 'learning_rate': 0.01586732333928039, 'gamma': 5.2169626280253745, 'alpha': 7.1395323864551, 'lambda': 2.529732249525975, 'subsample': 0.7614888825632469, 'colsample_bytree': 0.676376957294414, 'min_child_weight': 2}. Best is trial 77 with value: 9.620122131833506.\u001b[0m\n",
      "\u001b[32m[I 2023-03-28 15:06:32,862]\u001b[0m Trial 97 finished with value: 9.691960440010927 and parameters: {'n_estimators': 500, 'max_depth': 4, 'learning_rate': 0.018464635405482856, 'gamma': 4.255753491740835, 'alpha': 8.270221708237365, 'lambda': 2.743905426363864, 'subsample': 0.7750349903684709, 'colsample_bytree': 0.6626242390280725, 'min_child_weight': 4}. Best is trial 77 with value: 9.620122131833506.\u001b[0m\n",
      "\u001b[32m[I 2023-03-28 15:07:50,380]\u001b[0m Trial 98 finished with value: 9.659381267500347 and parameters: {'n_estimators': 450, 'max_depth': 5, 'learning_rate': 0.016287008943113697, 'gamma': 3.693162194475371, 'alpha': 7.601668899888354, 'lambda': 3.516398027643193, 'subsample': 0.7491289617192385, 'colsample_bytree': 0.6731738646819966, 'min_child_weight': 2}. Best is trial 77 with value: 9.620122131833506.\u001b[0m\n",
      "\u001b[32m[I 2023-03-28 15:09:05,914]\u001b[0m Trial 99 finished with value: 9.70904637761998 and parameters: {'n_estimators': 450, 'max_depth': 5, 'learning_rate': 0.027073183179076792, 'gamma': 5.551911701024177, 'alpha': 8.602518111412115, 'lambda': 2.39832518748645, 'subsample': 0.804702575271669, 'colsample_bytree': 0.6484013394271464, 'min_child_weight': 1}. Best is trial 77 with value: 9.620122131833506.\u001b[0m\n",
      "\n",
      "Best hyperparameters: {'n_estimators': 450, 'max_depth': 5, 'learning_rate': 0.018176540972712065, 'gamma': 4.522423911437366, 'alpha': 7.8505300392319235, 'lambda': 3.4344881323232164, 'subsample': 0.7433983377243534, 'colsample_bytree': 0.6457393282500294, 'min_child_weight': 3}\n"
     ]
    }
   ],
   "source": [
    "# Define the objective function for Optuna\n",
    "def objective(trial):\n",
    "    # Define the hyperparameters to optimize\n",
    "    params = {\n",
    "        'n_estimators': trial.suggest_int('n_estimators', 100, 500, 50),\n",
    "        'max_depth': trial.suggest_int('max_depth', 3, 8),\n",
    "        'learning_rate': trial.suggest_loguniform('learning_rate', 0.001, 0.2),\n",
    "        'gamma': trial.suggest_float('gamma', 0, 10),\n",
    "        'alpha': trial.suggest_float('alpha', 0, 10),\n",
    "        'lambda': trial.suggest_float('lambda', 0, 10),\n",
    "        'subsample': trial.suggest_float('subsample', 0.5, 1),\n",
    "        'colsample_bytree': trial.suggest_float('colsample_bytree', 0.5, 1),\n",
    "        'min_child_weight': trial.suggest_int('min_child_weight', 1, 10),\n",
    "        'objective': 'reg:squarederror',\n",
    "        'eval_metric': 'rmse',\n",
    "        'booster': 'gbtree',\n",
    "    }\n",
    "\n",
    "    # Define the XGBoost regressor with the hyperparameters to optimize\n",
    "    model = XGBRegressor(**params)\n",
    "\n",
    "    # Evaluate the XGBoost regressor using TimeSeriesSplit cross-validation\n",
    "    scores = cross_val_score(model, X=X, y=y, cv=tss, scoring='neg_root_mean_squared_error')\n",
    "\n",
    "    # Return the mean of the negative mean squared error scores as the objective value for Optuna\n",
    "    return scores.mean()*-1\n",
    "\n",
    "# Create an Optuna study and optimize the objective function\n",
    "study = optuna.create_study(direction='minimize', \n",
    "                            sampler=optuna.samplers.TPESampler(warn_independent_sampling=False))\n",
    "\n",
    "study.optimize(objective, n_trials=100, show_progress_bar=True)\n",
    "\n",
    "# Print the best hyperparameters found by Optuna\n",
    "print()\n",
    "print('Best hyperparameters: {}'.format(study.best_params))"
   ]
  },
  {
   "cell_type": "code",
   "execution_count": null,
   "id": "fbf6d161",
   "metadata": {},
   "outputs": [],
   "source": []
  },
  {
   "cell_type": "code",
   "execution_count": null,
   "id": "6a19b659",
   "metadata": {},
   "outputs": [],
   "source": []
  }
 ],
 "metadata": {
  "kernelspec": {
   "display_name": "Python 3 (ipykernel)",
   "language": "python",
   "name": "python3"
  },
  "language_info": {
   "codemirror_mode": {
    "name": "ipython",
    "version": 3
   },
   "file_extension": ".py",
   "mimetype": "text/x-python",
   "name": "python",
   "nbconvert_exporter": "python",
   "pygments_lexer": "ipython3",
   "version": "3.9.13"
  }
 },
 "nbformat": 4,
 "nbformat_minor": 5
}
