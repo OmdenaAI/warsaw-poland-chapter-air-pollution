{
 "cells": [
  {
   "cell_type": "code",
   "execution_count": 1,
   "id": "0d00fdf4",
   "metadata": {},
   "outputs": [],
   "source": [
    "import warnings\n",
    "import pickle\n",
    "\n",
    "import pandas as pd\n",
    "import numpy as np\n",
    "import matplotlib.pyplot as plt\n",
    "import seaborn as sns\n",
    "\n",
    "from sklearn.pipeline import make_pipeline\n",
    "from sklearn.model_selection import TimeSeriesSplit, cross_val_score\n",
    "from sklearn.metrics import mean_squared_error, r2_score\n",
    "\n",
    "from xgboost import XGBRegressor\n",
    "from tqdm.auto import tqdm\n",
    "\n",
    "import optuna\n",
    "\n",
    "sns.set(style=\"ticks\", palette=\"muted\", color_codes=True)\n",
    "\n",
    "warnings.filterwarnings(\"ignore\")\n",
    "\n",
    "plt.rcParams['axes.labelsize'] = 15\n",
    "plt.rcParams['axes.titlesize'] = 20\n",
    "\n",
    "seed = 42"
   ]
  },
  {
   "cell_type": "code",
   "execution_count": 2,
   "id": "cb1e2b8c",
   "metadata": {},
   "outputs": [],
   "source": [
    "train = pd.read_parquet(\"train_temporal_regression.parquet.gz\")"
   ]
  },
  {
   "cell_type": "code",
   "execution_count": 3,
   "id": "3ba733c9",
   "metadata": {},
   "outputs": [],
   "source": [
    "unpkl_encoders = open(\"encoders.pkl\", \"rb\")\n",
    "encoders = pickle.load(unpkl_encoders)"
   ]
  },
  {
   "cell_type": "code",
   "execution_count": 4,
   "id": "7875cb7d",
   "metadata": {},
   "outputs": [],
   "source": [
    "selected_powiats = \\\n",
    "train.groupby([\"voivodship\", \"powiat_voivod\"])['CAQI_idx'].mean().\\\n",
    "    groupby(\"voivodship\").nlargest(1).index.get_level_values(2)\n",
    "\n",
    "df_subset = train.query(\"powiat_voivod in @selected_powiats\")"
   ]
  },
  {
   "cell_type": "code",
   "execution_count": 5,
   "id": "b93b9d9a",
   "metadata": {},
   "outputs": [],
   "source": [
    "df = encoders.fit_transform(df_subset)\n",
    "# df = encoders.fit_transform(train)\n",
    "\n",
    "X=df.drop(\"CAQI_idx\", axis=1)\n",
    "y=df[\"CAQI_idx\"]"
   ]
  },
  {
   "cell_type": "code",
   "execution_count": 6,
   "id": "cd5a3fb5",
   "metadata": {},
   "outputs": [
    {
     "name": "stdout",
     "output_type": "stream",
     "text": [
      "16\n"
     ]
    }
   ],
   "source": [
    "LEN = len(df['powiat_voivod'].unique())\n",
    "print(LEN)"
   ]
  },
  {
   "cell_type": "code",
   "execution_count": 7,
   "id": "88c81ce6",
   "metadata": {},
   "outputs": [],
   "source": [
    "tss = TimeSeriesSplit(\n",
    "    n_splits=10, \n",
    "    max_train_size=None, \n",
    "    test_size=None, \n",
    "    gap=LEN*15\n",
    ")"
   ]
  },
  {
   "cell_type": "code",
   "execution_count": 8,
   "id": "46eb45f2",
   "metadata": {
    "scrolled": true
   },
   "outputs": [
    {
     "name": "stderr",
     "output_type": "stream",
     "text": [
      "\u001b[32m[I 2023-03-27 22:15:25,103]\u001b[0m A new study created in memory with name: no-name-4af4558d-5284-4bd8-ae03-a176b00efa09\u001b[0m\n"
     ]
    },
    {
     "data": {
      "application/vnd.jupyter.widget-view+json": {
       "model_id": "54292a0d3e6e4e4a85c686880ce4b45b",
       "version_major": 2,
       "version_minor": 0
      },
      "text/plain": [
       "  0%|          | 0/100 [00:00<?, ?it/s]"
      ]
     },
     "metadata": {},
     "output_type": "display_data"
    },
    {
     "name": "stdout",
     "output_type": "stream",
     "text": [
      "\u001b[32m[I 2023-03-27 22:15:41,365]\u001b[0m Trial 0 finished with value: 11.454465752799829 and parameters: {'n_estimators': 500, 'learning_rate': 0.014503729526887586}. Best is trial 0 with value: 11.454465752799829.\u001b[0m\n",
      "\u001b[32m[I 2023-03-27 22:15:54,400]\u001b[0m Trial 1 finished with value: 10.718747138166682 and parameters: {'n_estimators': 300, 'learning_rate': 0.0970859847093839}. Best is trial 1 with value: 10.718747138166682.\u001b[0m\n",
      "\u001b[32m[I 2023-03-27 22:16:16,091]\u001b[0m Trial 2 finished with value: 10.739501932460731 and parameters: {'n_estimators': 500, 'learning_rate': 0.11413649403157394}. Best is trial 1 with value: 10.718747138166682.\u001b[0m\n",
      "\u001b[32m[I 2023-03-27 22:16:26,947]\u001b[0m Trial 3 finished with value: 10.802541438424294 and parameters: {'n_estimators': 300, 'learning_rate': 0.06254992081813109}. Best is trial 1 with value: 10.718747138166682.\u001b[0m\n",
      "\u001b[32m[I 2023-03-27 22:16:38,030]\u001b[0m Trial 4 finished with value: 10.733071322420178 and parameters: {'n_estimators': 300, 'learning_rate': 0.30719880262103677}. Best is trial 1 with value: 10.718747138166682.\u001b[0m\n",
      "\u001b[32m[I 2023-03-27 22:16:59,356]\u001b[0m Trial 5 finished with value: 10.732082462691361 and parameters: {'n_estimators': 500, 'learning_rate': 0.08305490496147351}. Best is trial 1 with value: 10.718747138166682.\u001b[0m\n",
      "\u001b[32m[I 2023-03-27 22:17:13,172]\u001b[0m Trial 6 finished with value: 11.544013990198204 and parameters: {'n_estimators': 300, 'learning_rate': 0.022168874481752105}. Best is trial 1 with value: 10.718747138166682.\u001b[0m\n",
      "\u001b[32m[I 2023-03-27 22:17:33,279]\u001b[0m Trial 7 finished with value: 10.776088493793413 and parameters: {'n_estimators': 500, 'learning_rate': 0.2206543344672523}. Best is trial 1 with value: 10.718747138166682.\u001b[0m\n",
      "\u001b[32m[I 2023-03-27 22:17:53,219]\u001b[0m Trial 8 finished with value: 10.76242207175571 and parameters: {'n_estimators': 450, 'learning_rate': 0.04785792345916762}. Best is trial 1 with value: 10.718747138166682.\u001b[0m\n",
      "\u001b[32m[I 2023-03-27 22:18:13,674]\u001b[0m Trial 9 finished with value: 10.732872502052661 and parameters: {'n_estimators': 450, 'learning_rate': 0.10319378957232667}. Best is trial 1 with value: 10.718747138166682.\u001b[0m\n",
      "\u001b[32m[I 2023-03-27 22:18:23,472]\u001b[0m Trial 10 finished with value: 10.707680459791415 and parameters: {'n_estimators': 200, 'learning_rate': 0.4394523837529181}. Best is trial 10 with value: 10.707680459791415.\u001b[0m\n",
      "\u001b[32m[I 2023-03-27 22:18:32,905]\u001b[0m Trial 11 finished with value: 10.698629625085935 and parameters: {'n_estimators': 200, 'learning_rate': 0.354885823036924}. Best is trial 11 with value: 10.698629625085935.\u001b[0m\n",
      "\u001b[32m[I 2023-03-27 22:18:42,153]\u001b[0m Trial 12 finished with value: 10.733240911703309 and parameters: {'n_estimators': 200, 'learning_rate': 0.4825715620982448}. Best is trial 11 with value: 10.698629625085935.\u001b[0m\n",
      "\u001b[32m[I 2023-03-27 22:18:51,735]\u001b[0m Trial 13 finished with value: 10.758689164271896 and parameters: {'n_estimators': 200, 'learning_rate': 0.47476992767920345}. Best is trial 11 with value: 10.698629625085935.\u001b[0m\n",
      "\u001b[32m[I 2023-03-27 22:19:01,391]\u001b[0m Trial 14 finished with value: 10.717028081659652 and parameters: {'n_estimators': 200, 'learning_rate': 0.21315958183594752}. Best is trial 11 with value: 10.698629625085935.\u001b[0m\n",
      "\u001b[32m[I 2023-03-27 22:19:13,241]\u001b[0m Trial 15 finished with value: 10.75305986022078 and parameters: {'n_estimators': 250, 'learning_rate': 0.24545619077731043}. Best is trial 11 with value: 10.698629625085935.\u001b[0m\n",
      "\u001b[32m[I 2023-03-27 22:19:24,526]\u001b[0m Trial 16 finished with value: 10.717001608877068 and parameters: {'n_estimators': 250, 'learning_rate': 0.1497073003338738}. Best is trial 11 with value: 10.698629625085935.\u001b[0m\n",
      "\u001b[32m[I 2023-03-27 22:19:42,344]\u001b[0m Trial 17 finished with value: 10.851322160218192 and parameters: {'n_estimators': 400, 'learning_rate': 0.35816059602116607}. Best is trial 11 with value: 10.698629625085935.\u001b[0m\n",
      "\u001b[32m[I 2023-03-27 22:19:54,059]\u001b[0m Trial 18 finished with value: 10.719369445852234 and parameters: {'n_estimators': 250, 'learning_rate': 0.1678618097204051}. Best is trial 11 with value: 10.698629625085935.\u001b[0m\n",
      "\u001b[32m[I 2023-03-27 22:20:10,010]\u001b[0m Trial 19 finished with value: 10.739936620667024 and parameters: {'n_estimators': 350, 'learning_rate': 0.3391561751256421}. Best is trial 11 with value: 10.698629625085935.\u001b[0m\n",
      "\u001b[32m[I 2023-03-27 22:20:19,481]\u001b[0m Trial 20 finished with value: 10.686485994159742 and parameters: {'n_estimators': 200, 'learning_rate': 0.44606493744464026}. Best is trial 20 with value: 10.686485994159742.\u001b[0m\n",
      "\u001b[32m[I 2023-03-27 22:20:29,056]\u001b[0m Trial 21 finished with value: 10.721778765288695 and parameters: {'n_estimators': 200, 'learning_rate': 0.45419592389202285}. Best is trial 20 with value: 10.686485994159742.\u001b[0m\n",
      "\u001b[32m[I 2023-03-27 22:20:40,722]\u001b[0m Trial 22 finished with value: 10.767670991019424 and parameters: {'n_estimators': 250, 'learning_rate': 0.3096070543432791}. Best is trial 20 with value: 10.686485994159742.\u001b[0m\n",
      "\u001b[32m[I 2023-03-27 22:20:50,301]\u001b[0m Trial 23 finished with value: 10.698244153639859 and parameters: {'n_estimators': 200, 'learning_rate': 0.4745642768319987}. Best is trial 20 with value: 10.686485994159742.\u001b[0m\n",
      "\u001b[32m[I 2023-03-27 22:21:01,970]\u001b[0m Trial 24 finished with value: 10.706513716814595 and parameters: {'n_estimators': 250, 'learning_rate': 0.2874676166309321}. Best is trial 20 with value: 10.686485994159742.\u001b[0m\n",
      "\u001b[32m[I 2023-03-27 22:21:18,410]\u001b[0m Trial 25 finished with value: 10.746532399982517 and parameters: {'n_estimators': 350, 'learning_rate': 0.18440929269405607}. Best is trial 20 with value: 10.686485994159742.\u001b[0m\n",
      "\u001b[32m[I 2023-03-27 22:21:27,550]\u001b[0m Trial 26 finished with value: 10.71656998064471 and parameters: {'n_estimators': 200, 'learning_rate': 0.24577898590699843}. Best is trial 20 with value: 10.686485994159742.\u001b[0m\n",
      "\u001b[32m[I 2023-03-27 22:21:39,676]\u001b[0m Trial 27 finished with value: 10.703360833870866 and parameters: {'n_estimators': 250, 'learning_rate': 0.3591439877841032}. Best is trial 20 with value: 10.686485994159742.\u001b[0m\n",
      "\u001b[32m[I 2023-03-27 22:21:50,152]\u001b[0m Trial 28 finished with value: 10.728332427964524 and parameters: {'n_estimators': 200, 'learning_rate': 0.14763064784730998}. Best is trial 20 with value: 10.686485994159742.\u001b[0m\n",
      "\u001b[32m[I 2023-03-27 22:22:06,502]\u001b[0m Trial 29 finished with value: 10.806772975149332 and parameters: {'n_estimators': 350, 'learning_rate': 0.49098110545392254}. Best is trial 20 with value: 10.686485994159742.\u001b[0m\n",
      "\u001b[32m[I 2023-03-27 22:22:18,325]\u001b[0m Trial 30 finished with value: 10.71882570681925 and parameters: {'n_estimators': 250, 'learning_rate': 0.25642596761945413}. Best is trial 20 with value: 10.686485994159742.\u001b[0m\n",
      "\u001b[32m[I 2023-03-27 22:22:27,844]\u001b[0m Trial 31 finished with value: 10.685227263801762 and parameters: {'n_estimators': 200, 'learning_rate': 0.36591760101776166}. Best is trial 31 with value: 10.685227263801762.\u001b[0m\n",
      "\u001b[32m[I 2023-03-27 22:22:37,621]\u001b[0m Trial 32 finished with value: 10.686626520961768 and parameters: {'n_estimators': 200, 'learning_rate': 0.39637701587649704}. Best is trial 31 with value: 10.685227263801762.\u001b[0m\n",
      "\u001b[32m[I 2023-03-27 22:22:47,365]\u001b[0m Trial 33 finished with value: 10.706218278330345 and parameters: {'n_estimators': 200, 'learning_rate': 0.3815187596460678}. Best is trial 31 with value: 10.685227263801762.\u001b[0m\n",
      "\u001b[32m[I 2023-03-27 22:22:58,765]\u001b[0m Trial 34 finished with value: 10.708206618711882 and parameters: {'n_estimators': 250, 'learning_rate': 0.27667303216898237}. Best is trial 31 with value: 10.685227263801762.\u001b[0m\n",
      "\u001b[32m[I 2023-03-27 22:23:12,104]\u001b[0m Trial 35 finished with value: 10.757509066493373 and parameters: {'n_estimators': 300, 'learning_rate': 0.3943994895652683}. Best is trial 31 with value: 10.685227263801762.\u001b[0m\n",
      "\u001b[32m[I 2023-03-27 22:23:22,326]\u001b[0m Trial 36 finished with value: 10.69719547115873 and parameters: {'n_estimators': 200, 'learning_rate': 0.2983777430541443}. Best is trial 31 with value: 10.685227263801762.\u001b[0m\n",
      "\u001b[32m[I 2023-03-27 22:23:37,031]\u001b[0m Trial 37 finished with value: 10.737931855944025 and parameters: {'n_estimators': 300, 'learning_rate': 0.2904114303176851}. Best is trial 31 with value: 10.685227263801762.\u001b[0m\n",
      "\u001b[32m[I 2023-03-27 22:23:52,805]\u001b[0m Trial 38 finished with value: 10.719945499345243 and parameters: {'n_estimators': 300, 'learning_rate': 0.2090042653065446}. Best is trial 31 with value: 10.685227263801762.\u001b[0m\n"
     ]
    },
    {
     "name": "stdout",
     "output_type": "stream",
     "text": [
      "\u001b[32m[I 2023-03-27 22:24:03,870]\u001b[0m Trial 39 finished with value: 10.727600010894355 and parameters: {'n_estimators': 250, 'learning_rate': 0.31124251122410157}. Best is trial 31 with value: 10.685227263801762.\u001b[0m\n",
      "\u001b[32m[I 2023-03-27 22:24:11,649]\u001b[0m Trial 40 finished with value: 10.722027122740842 and parameters: {'n_estimators': 200, 'learning_rate': 0.12664551913213418}. Best is trial 31 with value: 10.685227263801762.\u001b[0m\n",
      "\u001b[32m[I 2023-03-27 22:24:19,257]\u001b[0m Trial 41 finished with value: 10.706010266273971 and parameters: {'n_estimators': 200, 'learning_rate': 0.3998759489426337}. Best is trial 31 with value: 10.685227263801762.\u001b[0m\n",
      "\u001b[32m[I 2023-03-27 22:24:27,053]\u001b[0m Trial 42 finished with value: 10.715562034913889 and parameters: {'n_estimators': 200, 'learning_rate': 0.4108777745224247}. Best is trial 31 with value: 10.685227263801762.\u001b[0m\n",
      "\u001b[32m[I 2023-03-27 22:24:34,727]\u001b[0m Trial 43 finished with value: 10.729333656794378 and parameters: {'n_estimators': 200, 'learning_rate': 0.4912531556681732}. Best is trial 31 with value: 10.685227263801762.\u001b[0m\n",
      "\u001b[32m[I 2023-03-27 22:24:45,329]\u001b[0m Trial 44 finished with value: 10.715954893139282 and parameters: {'n_estimators': 250, 'learning_rate': 0.3228640599040707}. Best is trial 31 with value: 10.685227263801762.\u001b[0m\n",
      "\u001b[32m[I 2023-03-27 22:24:53,114]\u001b[0m Trial 45 finished with value: 10.722127262932254 and parameters: {'n_estimators': 200, 'learning_rate': 0.22622400395788075}. Best is trial 31 with value: 10.685227263801762.\u001b[0m\n",
      "\u001b[32m[I 2023-03-27 22:25:07,963]\u001b[0m Trial 46 finished with value: 10.79737152738957 and parameters: {'n_estimators': 400, 'learning_rate': 0.40687495254243794}. Best is trial 31 with value: 10.685227263801762.\u001b[0m\n",
      "\u001b[32m[I 2023-03-27 22:25:15,782]\u001b[0m Trial 47 finished with value: 10.71403020918321 and parameters: {'n_estimators': 200, 'learning_rate': 0.19769957509301206}. Best is trial 31 with value: 10.685227263801762.\u001b[0m\n",
      "\u001b[32m[I 2023-03-27 22:25:24,639]\u001b[0m Trial 48 finished with value: 10.724024102960533 and parameters: {'n_estimators': 200, 'learning_rate': 0.26624798537797684}. Best is trial 31 with value: 10.685227263801762.\u001b[0m\n",
      "\u001b[32m[I 2023-03-27 22:25:37,275]\u001b[0m Trial 49 finished with value: 10.750532211402774 and parameters: {'n_estimators': 300, 'learning_rate': 0.4224016937949063}. Best is trial 31 with value: 10.685227263801762.\u001b[0m\n",
      "\u001b[32m[I 2023-03-27 22:25:46,798]\u001b[0m Trial 50 finished with value: 10.733930716469603 and parameters: {'n_estimators': 250, 'learning_rate': 0.3461571857973085}. Best is trial 31 with value: 10.685227263801762.\u001b[0m\n",
      "\u001b[32m[I 2023-03-27 22:25:54,337]\u001b[0m Trial 51 finished with value: 10.73424825657025 and parameters: {'n_estimators': 200, 'learning_rate': 0.34648353584743513}. Best is trial 31 with value: 10.685227263801762.\u001b[0m\n",
      "\u001b[32m[I 2023-03-27 22:26:04,491]\u001b[0m Trial 52 finished with value: 10.747646653552017 and parameters: {'n_estimators': 200, 'learning_rate': 0.49910986335260776}. Best is trial 31 with value: 10.685227263801762.\u001b[0m\n",
      "\u001b[32m[I 2023-03-27 22:26:14,285]\u001b[0m Trial 53 finished with value: 10.716777901708014 and parameters: {'n_estimators': 200, 'learning_rate': 0.24257822771801274}. Best is trial 31 with value: 10.685227263801762.\u001b[0m\n",
      "\u001b[32m[I 2023-03-27 22:26:26,744]\u001b[0m Trial 54 finished with value: 10.716116953641514 and parameters: {'n_estimators': 250, 'learning_rate': 0.42390001022800466}. Best is trial 31 with value: 10.685227263801762.\u001b[0m\n",
      "\u001b[32m[I 2023-03-27 22:26:38,039]\u001b[0m Trial 55 finished with value: 10.720329111922968 and parameters: {'n_estimators': 200, 'learning_rate': 0.3059976208386544}. Best is trial 31 with value: 10.685227263801762.\u001b[0m\n",
      "\u001b[32m[I 2023-03-27 22:26:50,489]\u001b[0m Trial 56 finished with value: 10.70296977343101 and parameters: {'n_estimators': 250, 'learning_rate': 0.36110017384625037}. Best is trial 31 with value: 10.685227263801762.\u001b[0m\n",
      "\u001b[32m[I 2023-03-27 22:27:11,389]\u001b[0m Trial 57 finished with value: 10.821432731810898 and parameters: {'n_estimators': 450, 'learning_rate': 0.43836328348413894}. Best is trial 31 with value: 10.685227263801762.\u001b[0m\n",
      "\u001b[32m[I 2023-03-27 22:27:20,978]\u001b[0m Trial 58 finished with value: 10.706267613361153 and parameters: {'n_estimators': 200, 'learning_rate': 0.2786032024697004}. Best is trial 31 with value: 10.685227263801762.\u001b[0m\n",
      "\u001b[32m[I 2023-03-27 22:27:32,850]\u001b[0m Trial 59 finished with value: 10.714709431074876 and parameters: {'n_estimators': 250, 'learning_rate': 0.23333408598579664}. Best is trial 31 with value: 10.685227263801762.\u001b[0m\n",
      "\u001b[32m[I 2023-03-27 22:27:42,650]\u001b[0m Trial 60 finished with value: 10.727236967052134 and parameters: {'n_estimators': 200, 'learning_rate': 0.3419939115186778}. Best is trial 31 with value: 10.685227263801762.\u001b[0m\n",
      "\u001b[32m[I 2023-03-27 22:27:52,353]\u001b[0m Trial 61 finished with value: 10.70290097543683 and parameters: {'n_estimators': 200, 'learning_rate': 0.34836795215456506}. Best is trial 31 with value: 10.685227263801762.\u001b[0m\n",
      "\u001b[32m[I 2023-03-27 22:28:01,963]\u001b[0m Trial 62 finished with value: 10.727451338490322 and parameters: {'n_estimators': 200, 'learning_rate': 0.3760154817501238}. Best is trial 31 with value: 10.685227263801762.\u001b[0m\n",
      "\u001b[32m[I 2023-03-27 22:28:11,574]\u001b[0m Trial 63 finished with value: 10.69430164117343 and parameters: {'n_estimators': 200, 'learning_rate': 0.4509117923923773}. Best is trial 31 with value: 10.685227263801762.\u001b[0m\n",
      "\u001b[32m[I 2023-03-27 22:28:34,380]\u001b[0m Trial 64 finished with value: 10.843991995443927 and parameters: {'n_estimators': 500, 'learning_rate': 0.4441087387407586}. Best is trial 31 with value: 10.685227263801762.\u001b[0m\n",
      "\u001b[32m[I 2023-03-27 22:28:44,008]\u001b[0m Trial 65 finished with value: 10.712607712478583 and parameters: {'n_estimators': 200, 'learning_rate': 0.4930498106528409}. Best is trial 31 with value: 10.685227263801762.\u001b[0m\n",
      "\u001b[32m[I 2023-03-27 22:28:55,914]\u001b[0m Trial 66 finished with value: 10.723984386503298 and parameters: {'n_estimators': 250, 'learning_rate': 0.28531389391502027}. Best is trial 31 with value: 10.685227263801762.\u001b[0m\n",
      "\u001b[32m[I 2023-03-27 22:29:05,415]\u001b[0m Trial 67 finished with value: 10.674119139725658 and parameters: {'n_estimators': 200, 'learning_rate': 0.434556157264825}. Best is trial 67 with value: 10.674119139725658.\u001b[0m\n",
      "\u001b[32m[I 2023-03-27 22:29:14,893]\u001b[0m Trial 68 finished with value: 10.713766625484425 and parameters: {'n_estimators': 200, 'learning_rate': 0.44300550529653154}. Best is trial 67 with value: 10.674119139725658.\u001b[0m\n",
      "\u001b[32m[I 2023-03-27 22:29:26,583]\u001b[0m Trial 69 finished with value: 10.693698433448272 and parameters: {'n_estimators': 250, 'learning_rate': 0.3193433609510201}. Best is trial 67 with value: 10.674119139725658.\u001b[0m\n",
      "\u001b[32m[I 2023-03-27 22:29:39,028]\u001b[0m Trial 70 finished with value: 10.747905674881924 and parameters: {'n_estimators': 250, 'learning_rate': 0.31348116812711774}. Best is trial 67 with value: 10.674119139725658.\u001b[0m\n",
      "\u001b[32m[I 2023-03-27 22:29:48,643]\u001b[0m Trial 71 finished with value: 10.740324696132404 and parameters: {'n_estimators': 200, 'learning_rate': 0.3881853540158763}. Best is trial 67 with value: 10.674119139725658.\u001b[0m\n",
      "\u001b[32m[I 2023-03-27 22:29:58,185]\u001b[0m Trial 72 finished with value: 10.695354314656472 and parameters: {'n_estimators': 200, 'learning_rate': 0.46091027789733147}. Best is trial 67 with value: 10.674119139725658.\u001b[0m\n",
      "\u001b[32m[I 2023-03-27 22:30:07,264]\u001b[0m Trial 73 finished with value: 10.695284258824117 and parameters: {'n_estimators': 200, 'learning_rate': 0.38483571891147245}. Best is trial 67 with value: 10.674119139725658.\u001b[0m\n",
      "\u001b[32m[I 2023-03-27 22:30:17,049]\u001b[0m Trial 74 finished with value: 10.75335953118287 and parameters: {'n_estimators': 250, 'learning_rate': 0.43826622073161625}. Best is trial 67 with value: 10.674119139725658.\u001b[0m\n",
      "\u001b[32m[I 2023-03-27 22:30:24,869]\u001b[0m Trial 75 finished with value: 10.729737971290358 and parameters: {'n_estimators': 200, 'learning_rate': 0.3898069129175636}. Best is trial 67 with value: 10.674119139725658.\u001b[0m\n",
      "\u001b[32m[I 2023-03-27 22:30:32,578]\u001b[0m Trial 76 finished with value: 10.738325972556012 and parameters: {'n_estimators': 200, 'learning_rate': 0.25997194154782693}. Best is trial 67 with value: 10.674119139725658.\u001b[0m\n",
      "\u001b[32m[I 2023-03-27 22:30:40,146]\u001b[0m Trial 77 finished with value: 10.728637751547865 and parameters: {'n_estimators': 200, 'learning_rate': 0.4986195272858101}. Best is trial 67 with value: 10.674119139725658.\u001b[0m\n"
     ]
    },
    {
     "name": "stdout",
     "output_type": "stream",
     "text": [
      "\u001b[32m[I 2023-03-27 22:30:49,632]\u001b[0m Trial 78 finished with value: 10.71956465616486 and parameters: {'n_estimators': 250, 'learning_rate': 0.33497666905828993}. Best is trial 67 with value: 10.674119139725658.\u001b[0m\n",
      "\u001b[32m[I 2023-03-27 22:30:57,363]\u001b[0m Trial 79 finished with value: 10.721941363072613 and parameters: {'n_estimators': 200, 'learning_rate': 0.38115533450480643}. Best is trial 67 with value: 10.674119139725658.\u001b[0m\n",
      "\u001b[32m[I 2023-03-27 22:31:05,414]\u001b[0m Trial 80 finished with value: 10.697336411017412 and parameters: {'n_estimators': 200, 'learning_rate': 0.449619544040034}. Best is trial 67 with value: 10.674119139725658.\u001b[0m\n",
      "\u001b[32m[I 2023-03-27 22:31:14,552]\u001b[0m Trial 81 finished with value: 10.712542133962675 and parameters: {'n_estimators': 200, 'learning_rate': 0.30607071659527596}. Best is trial 67 with value: 10.674119139725658.\u001b[0m\n",
      "\u001b[32m[I 2023-03-27 22:31:24,466]\u001b[0m Trial 82 finished with value: 10.737441833803452 and parameters: {'n_estimators': 200, 'learning_rate': 0.4106829797162618}. Best is trial 67 with value: 10.674119139725658.\u001b[0m\n",
      "\u001b[32m[I 2023-03-27 22:31:33,477]\u001b[0m Trial 83 finished with value: 10.699435960459983 and parameters: {'n_estimators': 200, 'learning_rate': 0.3193422204480078}. Best is trial 67 with value: 10.674119139725658.\u001b[0m\n",
      "\u001b[32m[I 2023-03-27 22:31:48,160]\u001b[0m Trial 84 finished with value: 10.794008623187223 and parameters: {'n_estimators': 400, 'learning_rate': 0.37016510174074696}. Best is trial 67 with value: 10.674119139725658.\u001b[0m\n",
      "\u001b[32m[I 2023-03-27 22:31:55,634]\u001b[0m Trial 85 finished with value: 10.719189168627954 and parameters: {'n_estimators': 200, 'learning_rate': 0.26955567441093115}. Best is trial 67 with value: 10.674119139725658.\u001b[0m\n",
      "\u001b[32m[I 2023-03-27 22:32:03,603]\u001b[0m Trial 86 finished with value: 10.711706176932186 and parameters: {'n_estimators': 200, 'learning_rate': 0.4561148081962049}. Best is trial 67 with value: 10.674119139725658.\u001b[0m\n",
      "\u001b[32m[I 2023-03-27 22:32:16,119]\u001b[0m Trial 87 finished with value: 10.729737096695581 and parameters: {'n_estimators': 250, 'learning_rate': 0.2945719743432651}. Best is trial 67 with value: 10.674119139725658.\u001b[0m\n",
      "\u001b[32m[I 2023-03-27 22:32:25,462]\u001b[0m Trial 88 finished with value: 10.692057743085448 and parameters: {'n_estimators': 200, 'learning_rate': 0.4078576495273349}. Best is trial 67 with value: 10.674119139725658.\u001b[0m\n",
      "\u001b[32m[I 2023-03-27 22:32:34,988]\u001b[0m Trial 89 finished with value: 10.71834678785918 and parameters: {'n_estimators': 200, 'learning_rate': 0.41779911850957707}. Best is trial 67 with value: 10.674119139725658.\u001b[0m\n",
      "\u001b[32m[I 2023-03-27 22:32:46,543]\u001b[0m Trial 90 finished with value: 10.787914502545602 and parameters: {'n_estimators': 250, 'learning_rate': 0.4667749942788389}. Best is trial 67 with value: 10.674119139725658.\u001b[0m\n",
      "\u001b[32m[I 2023-03-27 22:32:56,108]\u001b[0m Trial 91 finished with value: 10.695121843598795 and parameters: {'n_estimators': 200, 'learning_rate': 0.33413032652666436}. Best is trial 67 with value: 10.674119139725658.\u001b[0m\n",
      "\u001b[32m[I 2023-03-27 22:33:05,660]\u001b[0m Trial 92 finished with value: 10.700659440508659 and parameters: {'n_estimators': 200, 'learning_rate': 0.36308639727353104}. Best is trial 67 with value: 10.674119139725658.\u001b[0m\n",
      "\u001b[32m[I 2023-03-27 22:33:15,091]\u001b[0m Trial 93 finished with value: 10.69524682332234 and parameters: {'n_estimators': 200, 'learning_rate': 0.40023492158584634}. Best is trial 67 with value: 10.674119139725658.\u001b[0m\n",
      "\u001b[32m[I 2023-03-27 22:33:24,485]\u001b[0m Trial 94 finished with value: 10.707484891444718 and parameters: {'n_estimators': 200, 'learning_rate': 0.326503286894377}. Best is trial 67 with value: 10.674119139725658.\u001b[0m\n",
      "\u001b[32m[I 2023-03-27 22:33:34,315]\u001b[0m Trial 95 finished with value: 10.69277650462242 and parameters: {'n_estimators': 200, 'learning_rate': 0.3956057653731078}. Best is trial 67 with value: 10.674119139725658.\u001b[0m\n",
      "\u001b[32m[I 2023-03-27 22:33:44,015]\u001b[0m Trial 96 finished with value: 10.691227792836342 and parameters: {'n_estimators': 200, 'learning_rate': 0.41007378594076344}. Best is trial 67 with value: 10.674119139725658.\u001b[0m\n",
      "\u001b[32m[I 2023-03-27 22:33:53,159]\u001b[0m Trial 97 finished with value: 10.704672973662882 and parameters: {'n_estimators': 200, 'learning_rate': 0.33297288214710324}. Best is trial 67 with value: 10.674119139725658.\u001b[0m\n",
      "\u001b[32m[I 2023-03-27 22:34:03,849]\u001b[0m Trial 98 finished with value: 10.702787106547346 and parameters: {'n_estimators': 250, 'learning_rate': 0.2568269960097401}. Best is trial 67 with value: 10.674119139725658.\u001b[0m\n",
      "\u001b[32m[I 2023-03-27 22:34:12,806]\u001b[0m Trial 99 finished with value: 10.702104941083487 and parameters: {'n_estimators': 200, 'learning_rate': 0.35819619005650616}. Best is trial 67 with value: 10.674119139725658.\u001b[0m\n",
      "\n",
      "Best hyperparameters: {'n_estimators': 200, 'learning_rate': 0.434556157264825}\n"
     ]
    }
   ],
   "source": [
    "# Define the objective function for Optuna\n",
    "def objective(trial):\n",
    "    # Define the hyperparameters to optimize\n",
    "    params = {\n",
    "        'n_estimators': trial.suggest_int('n_estimators', 200, 500, 50),\n",
    "        'eta': trial.suggest_loguniform('learning_rate', 0.01, 0.5),\n",
    "        'booster' : \"gblinear\",\n",
    "        'eval_metric' : \"rmse\"\n",
    "    }\n",
    "\n",
    "    # Define the XGBoost regressor with the hyperparameters to optimize\n",
    "    model = XGBRegressor(**params)\n",
    "\n",
    "    # Evaluate the XGBoost regressor using TimeSeriesSplit cross-validation\n",
    "    scores = cross_val_score(model, X=X, y=y, cv=tss, scoring='neg_root_mean_squared_error')\n",
    "\n",
    "    # Return the mean of the negative mean squared error scores as the objective value for Optuna\n",
    "    return scores.mean()*-1\n",
    "\n",
    "# Create an Optuna study and optimize the objective function\n",
    "study = optuna.create_study(direction='minimize', \n",
    "                            sampler=optuna.samplers.TPESampler(warn_independent_sampling=False))\n",
    "\n",
    "study.optimize(objective, n_trials=100, show_progress_bar=True)\n",
    "\n",
    "# Print the best hyperparameters found by Optuna\n",
    "print()\n",
    "print('Best hyperparameters: {}'.format(study.best_params))"
   ]
  },
  {
   "cell_type": "code",
   "execution_count": null,
   "id": "fbf6d161",
   "metadata": {},
   "outputs": [],
   "source": []
  },
  {
   "cell_type": "code",
   "execution_count": null,
   "id": "6a19b659",
   "metadata": {},
   "outputs": [],
   "source": []
  }
 ],
 "metadata": {
  "kernelspec": {
   "display_name": "Python 3 (ipykernel)",
   "language": "python",
   "name": "python3"
  },
  "language_info": {
   "codemirror_mode": {
    "name": "ipython",
    "version": 3
   },
   "file_extension": ".py",
   "mimetype": "text/x-python",
   "name": "python",
   "nbconvert_exporter": "python",
   "pygments_lexer": "ipython3",
   "version": "3.9.13"
  }
 },
 "nbformat": 4,
 "nbformat_minor": 5
}
