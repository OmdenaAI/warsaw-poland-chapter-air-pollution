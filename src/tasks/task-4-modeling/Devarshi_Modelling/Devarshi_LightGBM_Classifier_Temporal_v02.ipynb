{
 "cells": [
  {
   "cell_type": "markdown",
   "id": "66206435",
   "metadata": {},
   "source": [
    "## Temporal_Classifier_V02\n",
    "<br>\n",
    "\n",
    "### Key Differences from \"Devarshi_LightGBM_Classifier_Temporal_v01\":\n",
    "1. **Grouped** similar columns and summed their values.\n",
    "2. **Removed** columns which did not seem impoortant.\n",
    "3. **Updated** Accuracy, F1-score, Confusion Matrix, Cross Validation.\n",
    "4. **Updated** Feature importance"
   ]
  },
  {
   "cell_type": "code",
   "execution_count": 1,
   "id": "358e4a09",
   "metadata": {},
   "outputs": [],
   "source": [
    "import pandas as pd\n",
    "import numpy as np\n",
    "import re\n",
    "from sklearn.preprocessing import LabelEncoder\n",
    "import lightgbm as lgb\n",
    "from lightgbm import LGBMClassifier\n",
    "\n",
    "from sklearn.metrics import accuracy_score, precision_score, recall_score, f1_score, roc_auc_score\n",
    "from sklearn.metrics import classification_report\n",
    "from sklearn.metrics import confusion_matrix"
   ]
  },
  {
   "cell_type": "markdown",
   "id": "241d7f89",
   "metadata": {},
   "source": [
    "---\n",
    "\n",
    "## Train set:"
   ]
  },
  {
   "cell_type": "code",
   "execution_count": 2,
   "id": "80ff6932",
   "metadata": {
    "scrolled": true
   },
   "outputs": [],
   "source": [
    "df = pd.read_parquet(\"train_temporal_classification.parquet.gz\", engine = \"pyarrow\") "
   ]
  },
  {
   "cell_type": "code",
   "execution_count": 3,
   "id": "7355596a",
   "metadata": {},
   "outputs": [
    {
     "data": {
      "text/plain": [
       "(300960, 131)"
      ]
     },
     "execution_count": 3,
     "metadata": {},
     "output_type": "execute_result"
    }
   ],
   "source": [
    "df.shape"
   ]
  },
  {
   "cell_type": "code",
   "execution_count": 4,
   "id": "f81c407b",
   "metadata": {},
   "outputs": [],
   "source": [
    "train_start_date = '2017-01-01'\n",
    "train_end_date = '2020-05-31'\n",
    "df= df.loc[train_start_date:train_end_date]"
   ]
  },
  {
   "cell_type": "code",
   "execution_count": 5,
   "id": "4d4bbb05",
   "metadata": {},
   "outputs": [
    {
     "data": {
      "text/plain": [
       "(246906, 131)"
      ]
     },
     "execution_count": 5,
     "metadata": {},
     "output_type": "execute_result"
    }
   ],
   "source": [
    "df.shape"
   ]
  },
  {
   "cell_type": "code",
   "execution_count": 6,
   "id": "36e458f0",
   "metadata": {},
   "outputs": [],
   "source": [
    "# combine high and vhigh to a single category, as we want to see how it will affect the accuracy of model\n",
    "df['CAQI_level'] = df['CAQI_level'].replace({'vhigh':'high'})"
   ]
  },
  {
   "cell_type": "code",
   "execution_count": 7,
   "id": "ff294671",
   "metadata": {},
   "outputs": [
    {
     "data": {
      "text/plain": [
       "low       108092\n",
       "vlow      104899\n",
       "medium     26066\n",
       "high        7849\n",
       "Name: CAQI_level, dtype: int64"
      ]
     },
     "execution_count": 7,
     "metadata": {},
     "output_type": "execute_result"
    }
   ],
   "source": [
    "df['CAQI_level'].value_counts()"
   ]
  },
  {
   "cell_type": "code",
   "execution_count": 8,
   "id": "648fe8b0",
   "metadata": {},
   "outputs": [],
   "source": [
    "# The ordered mapping of the labels to their categories \n",
    "mapping = {'vlow': 0, 'low': 1, 'medium': 2, 'high': 3}\n",
    "\n",
    "df['CAQI_level'] = df['CAQI_level'].replace(mapping)"
   ]
  },
  {
   "cell_type": "code",
   "execution_count": 9,
   "id": "763c6db0",
   "metadata": {},
   "outputs": [],
   "source": [
    "# encoding the other categorical columns:\n",
    "cat_cols = ['powiat_voivod', 'voivodship', 'season', 'holiday_name']\n",
    "for col in cat_cols:\n",
    "    le = LabelEncoder()\n",
    "    df['powiat_voivod_encoded'] = le.fit_transform(df['powiat_voivod'])\n",
    "    df['voivodship_encoded'] = le.fit_transform(df['voivodship'])\n",
    "    df['season_encoded'] = le.fit_transform(df['season'])\n",
    "    df['holiday_name_encoded'] = le.fit_transform(df['holiday_name'])"
   ]
  },
  {
   "cell_type": "code",
   "execution_count": 10,
   "id": "32703a41",
   "metadata": {},
   "outputs": [],
   "source": [
    "# group similar cols together (and sum their values)\n",
    "# https://github.com/OmdenaAI/warsaw-poland-chapter-air-pollution/blob/main/src/tasks/task-4-modeling/Joseph%20Antony_Modelling/1.%20BaseLine%20Model.ipynb\n",
    "# https://github.com/OmdenaAI/warsaw-poland-chapter-air-pollution/blob/main/src/tasks/task-4-modeling/Vulcan_Catalin_modelling/LGBMClassifier.ipynb\n",
    "\n",
    "\n",
    "df['emission of particules'] = df[[col for col in df.columns if col.startswith('emission of particulates ')]].sum(axis=1)\n",
    "df = df.loc[:, ~df.columns.str.startswith('emission of particulates')]\n",
    "\n",
    "df['emission of pollutant gasees'] = df[[col for col in df.columns if col.startswith('emission of pollutant gases ')]].sum(axis=1)\n",
    "df = df.loc[:, ~df.columns.str.startswith('emission of pollutant gases ')]\n",
    "\n",
    "df['total vehicles'] = df[[col for col in df.columns if col.startswith('total vehicles ')]].sum(axis=1)\n",
    "df = df.loc[:, ~df.columns.str.startswith('total vehicles ')]\n",
    "\n",
    "df['vehicles by type and fuel'] = df[[col for col in df.columns if col.startswith('vehicles by type and fuel ')]].sum(axis=1)\n",
    "df = df.loc[:, ~df.columns.str.startswith('vehicles by type and fuel ')]\n",
    "\n",
    "df['crop production'] = df[[col for col in df.columns if col.startswith('crop production ')]].sum(axis=1)\n",
    "df = df.loc[:, ~df.columns.str.startswith('crop production ')]\n",
    "\n",
    "df['air pollution reduction systems'] = df[[col for col in df.columns if col.startswith('air pollution reduction systems ')]].sum(axis=1)\n",
    "df = df.loc[:, ~df.columns.str.startswith('air pollution reduction systems ')]"
   ]
  },
  {
   "cell_type": "code",
   "execution_count": 11,
   "id": "1e6a2f8f",
   "metadata": {},
   "outputs": [],
   "source": [
    "# drop cols\n",
    "\n",
    "cols = [\n",
    "        'production of electricity - water power plants and wind, biomass and wastes power plants, total',\n",
    "        'production of electricity - water power plants',\n",
    "        'production of electricity - thermal power plants, total',\n",
    "        'production of electricity - thermal public power plants',\n",
    "        'production of electricity - thermal autoproducing power plants',\n",
    "        'production of electricity - from renewable energy sources',\n",
    "        'production of electricity - share of renewable energy sources in total production of electricity',\n",
    "        'production of electricity - relation of electricity production to electricity consumption',\n",
    "        'forest fires - number of forest fires, total',\n",
    "        'plants of significant nuisance - possessing systems to reduce the emission of gases',\n",
    "        'plants of significant nuisance - possessing systems to reduce the emission of particulates',\n",
    "        'season',\n",
    "        'voivodship',\n",
    "        'powiat_voivod',\n",
    "        'holiday_name',\n",
    "        'isUrban'\n",
    "    ]\n",
    "df.drop(columns=cols, inplace=True)\n",
    "    "
   ]
  },
  {
   "cell_type": "code",
   "execution_count": 12,
   "id": "8518597d",
   "metadata": {},
   "outputs": [
    {
     "data": {
      "text/plain": [
       "(246906, 46)"
      ]
     },
     "execution_count": 12,
     "metadata": {},
     "output_type": "execute_result"
    }
   ],
   "source": [
    "df.shape"
   ]
  },
  {
   "cell_type": "code",
   "execution_count": 13,
   "id": "406fb7d6",
   "metadata": {},
   "outputs": [],
   "source": [
    "# Remove any special characters from the column names\n",
    "df.columns = [re.sub('[^0-9a-zA-Z]+', '_', col) for col in df.columns]"
   ]
  },
  {
   "cell_type": "code",
   "execution_count": 14,
   "id": "470e5488",
   "metadata": {
    "scrolled": true
   },
   "outputs": [
    {
     "data": {
      "text/plain": [
       "['cloud_cover',\n",
       " 'wind_speed',\n",
       " 'humidity',\n",
       " 'precipitation',\n",
       " 'snow_depth',\n",
       " 'temperature',\n",
       " 'animal_stock_total',\n",
       " 'area_by_land_utilised_agricultural_area',\n",
       " 'area_by_land_forests',\n",
       " 'area_by_land_residential_areas',\n",
       " 'area_by_land_industrial_lands',\n",
       " 'area_by_land_recreational_and_rest_areas',\n",
       " 'area_by_land_lands_under_waters',\n",
       " 'area_by_land_wasteland',\n",
       " 'area_by_land_other_area',\n",
       " 'forest_area_forests_grand_total',\n",
       " 'plants_of_significant_nuisance_total',\n",
       " 'population_density_population_per_1_km2',\n",
       " 'production_of_electricity_total',\n",
       " 'share_of_green_areas_share_of_parks_lawns_and_green_areas_of_the_housing_estate_areas_in_the_total_area',\n",
       " 'share_of_green_areas_share_of_green_areas_in_the_total_area',\n",
       " 'share_of_urbanized_areas_total',\n",
       " 'forest_fires_area_of_forest_fires_total',\n",
       " 'CAQI_level',\n",
       " 'day',\n",
       " 'month',\n",
       " 'year',\n",
       " 'dayofweek',\n",
       " 'CAQI_lag1',\n",
       " 'is_school_holiday',\n",
       " 'is_lockdown',\n",
       " 'is_have_coalplant',\n",
       " 'rolling7_CAQI',\n",
       " 'rolling30_CAQI',\n",
       " 'rolling90_CAQI',\n",
       " 'is_weekend',\n",
       " 'powiat_voivod_encoded',\n",
       " 'voivodship_encoded',\n",
       " 'season_encoded',\n",
       " 'holiday_name_encoded',\n",
       " 'emission_of_particules',\n",
       " 'emission_of_pollutant_gasees',\n",
       " 'total_vehicles',\n",
       " 'vehicles_by_type_and_fuel',\n",
       " 'crop_production',\n",
       " 'air_pollution_reduction_systems']"
      ]
     },
     "execution_count": 14,
     "metadata": {},
     "output_type": "execute_result"
    }
   ],
   "source": [
    "df.columns.tolist()"
   ]
  },
  {
   "cell_type": "code",
   "execution_count": 15,
   "id": "e4cfc06e",
   "metadata": {},
   "outputs": [],
   "source": [
    "X_train = df.drop('CAQI_level', axis=1)\n",
    "y_train = df['CAQI_level']"
   ]
  },
  {
   "cell_type": "code",
   "execution_count": 16,
   "id": "5247c1b0",
   "metadata": {
    "scrolled": true
   },
   "outputs": [
    {
     "name": "stdout",
     "output_type": "stream",
     "text": [
      "<class 'pandas.core.frame.DataFrame'>\n",
      "DatetimeIndex: 246906 entries, 2017-01-01 to 2020-05-31\n",
      "Data columns (total 45 columns):\n",
      " #   Column                                                                                                   Non-Null Count   Dtype  \n",
      "---  ------                                                                                                   --------------   -----  \n",
      " 0   cloud_cover                                                                                              246906 non-null  float64\n",
      " 1   wind_speed                                                                                               246906 non-null  float64\n",
      " 2   humidity                                                                                                 246906 non-null  float64\n",
      " 3   precipitation                                                                                            246906 non-null  float64\n",
      " 4   snow_depth                                                                                               246906 non-null  float64\n",
      " 5   temperature                                                                                              246906 non-null  float64\n",
      " 6   animal_stock_total                                                                                       246906 non-null  float64\n",
      " 7   area_by_land_utilised_agricultural_area                                                                  246906 non-null  float64\n",
      " 8   area_by_land_forests                                                                                     246906 non-null  float64\n",
      " 9   area_by_land_residential_areas                                                                           246906 non-null  float64\n",
      " 10  area_by_land_industrial_lands                                                                            246906 non-null  float64\n",
      " 11  area_by_land_recreational_and_rest_areas                                                                 246906 non-null  float64\n",
      " 12  area_by_land_lands_under_waters                                                                          246906 non-null  float64\n",
      " 13  area_by_land_wasteland                                                                                   246906 non-null  float64\n",
      " 14  area_by_land_other_area                                                                                  246906 non-null  float64\n",
      " 15  forest_area_forests_grand_total                                                                          246906 non-null  float64\n",
      " 16  plants_of_significant_nuisance_total                                                                     246906 non-null  float64\n",
      " 17  population_density_population_per_1_km2                                                                  246906 non-null  float64\n",
      " 18  production_of_electricity_total                                                                          246906 non-null  float64\n",
      " 19  share_of_green_areas_share_of_parks_lawns_and_green_areas_of_the_housing_estate_areas_in_the_total_area  246906 non-null  float64\n",
      " 20  share_of_green_areas_share_of_green_areas_in_the_total_area                                              246906 non-null  float64\n",
      " 21  share_of_urbanized_areas_total                                                                           246906 non-null  float64\n",
      " 22  forest_fires_area_of_forest_fires_total                                                                  246906 non-null  float64\n",
      " 23  day                                                                                                      246906 non-null  int64  \n",
      " 24  month                                                                                                    246906 non-null  int64  \n",
      " 25  year                                                                                                     246906 non-null  int64  \n",
      " 26  dayofweek                                                                                                246906 non-null  int64  \n",
      " 27  CAQI_lag1                                                                                                246906 non-null  float64\n",
      " 28  is_school_holiday                                                                                        246906 non-null  float64\n",
      " 29  is_lockdown                                                                                              246906 non-null  float64\n",
      " 30  is_have_coalplant                                                                                        246906 non-null  float64\n",
      " 31  rolling7_CAQI                                                                                            246906 non-null  float64\n",
      " 32  rolling30_CAQI                                                                                           246906 non-null  float64\n",
      " 33  rolling90_CAQI                                                                                           246906 non-null  float64\n",
      " 34  is_weekend                                                                                               246906 non-null  int32  \n",
      " 35  powiat_voivod_encoded                                                                                    246906 non-null  int32  \n",
      " 36  voivodship_encoded                                                                                       246906 non-null  int32  \n",
      " 37  season_encoded                                                                                           246906 non-null  int32  \n",
      " 38  holiday_name_encoded                                                                                     246906 non-null  int32  \n",
      " 39  emission_of_particules                                                                                   246906 non-null  float64\n",
      " 40  emission_of_pollutant_gasees                                                                             246906 non-null  float64\n",
      " 41  total_vehicles                                                                                           246906 non-null  float64\n",
      " 42  vehicles_by_type_and_fuel                                                                                246906 non-null  float64\n",
      " 43  crop_production                                                                                          246906 non-null  float64\n",
      " 44  air_pollution_reduction_systems                                                                          246906 non-null  float64\n",
      "dtypes: float64(36), int32(5), int64(4)\n",
      "memory usage: 81.9 MB\n"
     ]
    }
   ],
   "source": [
    "X_train.info()"
   ]
  },
  {
   "cell_type": "code",
   "execution_count": 17,
   "id": "5d433900",
   "metadata": {},
   "outputs": [
    {
     "data": {
      "text/plain": [
       "LGBMClassifier()"
      ]
     },
     "execution_count": 17,
     "metadata": {},
     "output_type": "execute_result"
    }
   ],
   "source": [
    "# initializing the LightGBM classifier\n",
    "lgbm = LGBMClassifier()\n",
    "\n",
    "# we fit the model on the training set\n",
    "lgbm.fit(X_train, y_train)"
   ]
  },
  {
   "cell_type": "code",
   "execution_count": 18,
   "id": "92b97999",
   "metadata": {},
   "outputs": [
    {
     "name": "stdout",
     "output_type": "stream",
     "text": [
      "Model Accuracy: 0.7725288166346707\n"
     ]
    }
   ],
   "source": [
    "# Predict on the train set\n",
    "y_pred = lgbm.predict(X_train)\n",
    "\n",
    "# Accuracy score:\n",
    "model_accuracy = accuracy_score(y_train, y_pred)\n",
    "print(\"Model Accuracy:\", model_accuracy)"
   ]
  },
  {
   "cell_type": "code",
   "execution_count": 19,
   "id": "83f2297c",
   "metadata": {},
   "outputs": [
    {
     "name": "stdout",
     "output_type": "stream",
     "text": [
      "Train F1 score: 0.7725288166346707\n"
     ]
    }
   ],
   "source": [
    "from sklearn.metrics import f1_score\n",
    "\n",
    "# y_test contains the true labels of the test set\n",
    "# y_pred contains the predicted labels of the test set\n",
    "f1 = f1_score(y_train, y_pred, average='micro')\n",
    "\n",
    "print(\"Train F1 score:\", f1)"
   ]
  },
  {
   "cell_type": "markdown",
   "id": "bcd696f3",
   "metadata": {},
   "source": [
    "### Train F1 Score:\n",
    "\n",
    "- Train set F1 Score is **0.7725**"
   ]
  },
  {
   "cell_type": "markdown",
   "id": "876faaa9",
   "metadata": {},
   "source": [
    "---\n",
    "\n",
    "## Test set:"
   ]
  },
  {
   "cell_type": "code",
   "execution_count": 20,
   "id": "3c9a9104",
   "metadata": {},
   "outputs": [
    {
     "data": {
      "text/plain": [
       "(60390, 131)"
      ]
     },
     "execution_count": 20,
     "metadata": {},
     "output_type": "execute_result"
    }
   ],
   "source": [
    "test = pd.read_parquet(\"test_temporal_classification.parquet.gz\", engine = \"pyarrow\") \n",
    "test.shape"
   ]
  },
  {
   "cell_type": "code",
   "execution_count": 21,
   "id": "c753ff4b",
   "metadata": {},
   "outputs": [
    {
     "name": "stdout",
     "output_type": "stream",
     "text": [
      "<class 'pandas.core.frame.DataFrame'>\n",
      "DatetimeIndex: 60390 entries, 2021-03-02 to 2021-12-31\n",
      "Columns: 131 entries, powiat_voivod to is_weekend\n",
      "dtypes: float64(120), int32(1), int64(5), object(5)\n",
      "memory usage: 60.6+ MB\n"
     ]
    }
   ],
   "source": [
    "test.info()"
   ]
  },
  {
   "cell_type": "code",
   "execution_count": 22,
   "id": "aa6332bd",
   "metadata": {},
   "outputs": [
    {
     "data": {
      "text/plain": [
       "vlow      31913\n",
       "low       24346\n",
       "medium     3683\n",
       "high        448\n",
       "Name: CAQI_level, dtype: int64"
      ]
     },
     "execution_count": 22,
     "metadata": {},
     "output_type": "execute_result"
    }
   ],
   "source": [
    "test['CAQI_level'] = test['CAQI_level'].replace({'vhigh':'high'})\n",
    "test['CAQI_level'].value_counts()"
   ]
  },
  {
   "cell_type": "code",
   "execution_count": 23,
   "id": "ffb09a81",
   "metadata": {},
   "outputs": [],
   "source": [
    "# The ordered mapping of the labels to their categories \n",
    "mapping = {'vlow': 0, 'low': 1, 'medium': 2, 'high': 3}\n",
    "\n",
    "test['CAQI_level'] = test['CAQI_level'].replace(mapping)"
   ]
  },
  {
   "cell_type": "code",
   "execution_count": 24,
   "id": "c17c63da",
   "metadata": {},
   "outputs": [],
   "source": [
    "cat_cols = ['powiat_voivod', 'voivodship', 'season', 'holiday_name']\n",
    "for col in cat_cols:\n",
    "    le = LabelEncoder()\n",
    "    test['powiat_voivod_encoded'] = le.fit_transform(test['powiat_voivod'])\n",
    "    test['voivodship_encoded'] = le.fit_transform(test['voivodship'])\n",
    "    test['season_encoded'] = le.fit_transform(test['season'])\n",
    "    test['holiday_name_encoded'] = le.fit_transform(test['holiday_name'])"
   ]
  },
  {
   "cell_type": "markdown",
   "id": "d9720262",
   "metadata": {},
   "source": [
    "### Grouping similar columns together (and sum their values):"
   ]
  },
  {
   "cell_type": "code",
   "execution_count": 25,
   "id": "9359f2d8",
   "metadata": {},
   "outputs": [],
   "source": [
    "# https://github.com/OmdenaAI/warsaw-poland-chapter-air-pollution/blob/main/src/tasks/task-4-modeling/Joseph%20Antony_Modelling/1.%20BaseLine%20Model.ipynb\n",
    "# https://github.com/OmdenaAI/warsaw-poland-chapter-air-pollution/blob/main/src/tasks/task-4-modeling/Vulcan_Catalin_modelling/LGBMClassifier.ipynb\n",
    "\n",
    "\n",
    "test['emission of particules'] = test[[col for col in test.columns if col.startswith('emission of particulates ')]].sum(axis=1)\n",
    "test = test.loc[:, ~test.columns.str.startswith('emission of particulates')]\n",
    "\n",
    "test['emission of pollutant gasees'] = test[[col for col in test.columns if col.startswith('emission of pollutant gases ')]].sum(axis=1)\n",
    "test = test.loc[:, ~test.columns.str.startswith('emission of pollutant gases ')]\n",
    "\n",
    "test['total vehicles'] = test[[col for col in test.columns if col.startswith('total vehicles ')]].sum(axis=1)\n",
    "test = test.loc[:, ~test.columns.str.startswith('total vehicles ')]\n",
    "\n",
    "test['vehicles by type and fuel'] = test[[col for col in test.columns if col.startswith('vehicles by type and fuel ')]].sum(axis=1)\n",
    "test = test.loc[:, ~test.columns.str.startswith('vehicles by type and fuel ')]\n",
    "\n",
    "test['crop production'] = test[[col for col in test.columns if col.startswith('crop production ')]].sum(axis=1)\n",
    "test = test.loc[:, ~test.columns.str.startswith('crop production ')]\n",
    "\n",
    "test['air pollution reduction systems'] = test[[col for col in test.columns if col.startswith('air pollution reduction systems ')]].sum(axis=1)\n",
    "test = test.loc[:, ~test.columns.str.startswith('air pollution reduction systems ')]\n",
    "\n",
    "# drop cols\n",
    "\n",
    "cols = [\n",
    "        'production of electricity - water power plants and wind, biomass and wastes power plants, total',\n",
    "        'production of electricity - water power plants',\n",
    "        'production of electricity - thermal power plants, total',\n",
    "        'production of electricity - thermal public power plants',\n",
    "        'production of electricity - thermal autoproducing power plants',\n",
    "        'production of electricity - from renewable energy sources',\n",
    "        'production of electricity - share of renewable energy sources in total production of electricity',\n",
    "        'production of electricity - relation of electricity production to electricity consumption',\n",
    "        'forest fires - number of forest fires, total',\n",
    "        'plants of significant nuisance - possessing systems to reduce the emission of gases',\n",
    "        'plants of significant nuisance - possessing systems to reduce the emission of particulates',\n",
    "        'season',\n",
    "        'voivodship',\n",
    "        'powiat_voivod',\n",
    "        'holiday_name',\n",
    "        'isUrban'\n",
    "    ]\n",
    "test.drop(columns=cols, inplace=True)"
   ]
  },
  {
   "cell_type": "code",
   "execution_count": 26,
   "id": "38c80941",
   "metadata": {},
   "outputs": [
    {
     "data": {
      "text/plain": [
       "(60390, 46)"
      ]
     },
     "execution_count": 26,
     "metadata": {},
     "output_type": "execute_result"
    }
   ],
   "source": [
    "test.shape"
   ]
  },
  {
   "cell_type": "code",
   "execution_count": 27,
   "id": "c0c47e7a",
   "metadata": {},
   "outputs": [],
   "source": [
    "# Remove any special characters from the column names\n",
    "test.columns = [re.sub('[^0-9a-zA-Z]+', '_', col) for col in test.columns]"
   ]
  },
  {
   "cell_type": "code",
   "execution_count": 28,
   "id": "319ffd82",
   "metadata": {},
   "outputs": [],
   "source": [
    "X_test = test.drop(['CAQI_level'], axis=1)\n",
    "y_test = test['CAQI_level']"
   ]
  },
  {
   "cell_type": "code",
   "execution_count": 29,
   "id": "3b475b83",
   "metadata": {},
   "outputs": [
    {
     "data": {
      "text/plain": [
       "LGBMClassifier()"
      ]
     },
     "execution_count": 29,
     "metadata": {},
     "output_type": "execute_result"
    }
   ],
   "source": [
    "# initializing the LightGBM classifier\n",
    "lgbm = LGBMClassifier()\n",
    "\n",
    "# we fit the model on the training set\n",
    "lgbm.fit(X_train, y_train)"
   ]
  },
  {
   "cell_type": "code",
   "execution_count": 30,
   "id": "72779ec1",
   "metadata": {},
   "outputs": [
    {
     "name": "stdout",
     "output_type": "stream",
     "text": [
      "Model Accuracy: 0.7528564331843021\n"
     ]
    }
   ],
   "source": [
    "# Predict on the test set\n",
    "y_pred = lgbm.predict(X_test)\n",
    "\n",
    "# Accuracy score:\n",
    "model_accuracy = accuracy_score(y_test, y_pred)\n",
    "print(\"Model Accuracy:\", model_accuracy)"
   ]
  },
  {
   "cell_type": "markdown",
   "id": "879bbb12",
   "metadata": {},
   "source": [
    "- The overall accuracy of the model is 0.7528, indicating that **75.28%** of the predictions were correct."
   ]
  },
  {
   "cell_type": "markdown",
   "id": "03b4006d",
   "metadata": {},
   "source": [
    "---\n",
    "\n",
    "### Model Evaluation:"
   ]
  },
  {
   "cell_type": "code",
   "execution_count": 31,
   "id": "2f280745",
   "metadata": {
    "scrolled": true
   },
   "outputs": [
    {
     "name": "stdout",
     "output_type": "stream",
     "text": [
      "              precision    recall  f1-score   support\n",
      "\n",
      "           0       0.81      0.83      0.82     31913\n",
      "           1       0.70      0.72      0.71     24346\n",
      "           2       0.55      0.36      0.43      3683\n",
      "           3       0.40      0.23      0.29       448\n",
      "\n",
      "    accuracy                           0.75     60390\n",
      "   macro avg       0.61      0.53      0.56     60390\n",
      "weighted avg       0.75      0.75      0.75     60390\n",
      "\n"
     ]
    }
   ],
   "source": [
    "# Evaluating the model performance\n",
    "from sklearn.metrics import classification_report\n",
    "print(classification_report(y_test, y_pred))"
   ]
  },
  {
   "cell_type": "markdown",
   "id": "ac37a70e",
   "metadata": {},
   "source": [
    "Label encoding mapping: 'vlow': 0, 'low': 1, 'medium': 2, 'high': 3"
   ]
  },
  {
   "cell_type": "code",
   "execution_count": 32,
   "id": "22555870",
   "metadata": {},
   "outputs": [
    {
     "name": "stdout",
     "output_type": "stream",
     "text": [
      "Test F1 score: 0.7528564331843021\n"
     ]
    }
   ],
   "source": [
    "from sklearn.metrics import f1_score\n",
    "\n",
    "# y_test contains the true labels of the test set\n",
    "# y_pred contains the predicted labels of the test set\n",
    "f1 = f1_score(y_test, y_pred, average='micro')\n",
    "\n",
    "print(\"Test F1 score:\", f1)"
   ]
  },
  {
   "cell_type": "markdown",
   "id": "9320112a",
   "metadata": {},
   "source": [
    "### F1 Scores: \n",
    "\n",
    "- The F1-score for class 0, the F1-score is 0.82, which is the weighted average of precision and recall. \n",
    "- Similarly, the F1-score for class 1 is 0.71, the F1-score for class 2 is 0.43, and the F1-score for class 3 is 0.29.\n",
    "- View https://stephenallwright.com/good-f1-score/ to learn more about the F1 score and other classification measures.\n",
    "<br> \n",
    "\n",
    "- Test set F1 Score is **0.7528**"
   ]
  },
  {
   "cell_type": "markdown",
   "id": "348b93e3",
   "metadata": {},
   "source": [
    "--- \n",
    "\n",
    "## Confusion Matrix:"
   ]
  },
  {
   "cell_type": "code",
   "execution_count": 33,
   "id": "fedab066",
   "metadata": {},
   "outputs": [
    {
     "name": "stdout",
     "output_type": "stream",
     "text": [
      "[[26574  5231   101     7]\n",
      " [ 6138 17478   700    30]\n",
      " [  102  2152  1310   119]\n",
      " [    3    74   268   103]]\n"
     ]
    }
   ],
   "source": [
    "from sklearn.metrics import confusion_matrix\n",
    "import seaborn as sns\n",
    "import matplotlib.pyplot as plt\n",
    "\n",
    "cm = confusion_matrix(y_test, y_pred)\n",
    "\n",
    "print(cm)"
   ]
  },
  {
   "cell_type": "code",
   "execution_count": 34,
   "id": "2688c9bd",
   "metadata": {},
   "outputs": [
    {
     "data": {
      "image/png": "[encoded data removed]",
      "text/plain": [
       "<Figure size 640x480 with 2 Axes>"
      ]
     },
     "metadata": {},
     "output_type": "display_data"
    }
   ],
   "source": [
    "# Class labels\n",
    "class_names = ['Vlow: 0', 'Low: 1', 'Medium: 2', 'High: 3']\n",
    "\n",
    "# Heatmap plot of the confusion matrix\n",
    "sns.heatmap(cm, annot=True, fmt='d', cmap='Blues', xticklabels=class_names, yticklabels=class_names)\n",
    "\n",
    "# Plot labels and title\n",
    "plt.title('Confusion Matrix')\n",
    "plt.xlabel('Predicted label')\n",
    "plt.ylabel('True label')\n",
    "plt.show()"
   ]
  },
  {
   "cell_type": "markdown",
   "id": "8ef59f7c",
   "metadata": {},
   "source": [
    "Based on the confusion matrix, we can see that:\n",
    "\n",
    "- **26574** samples were correctly predicted as class 0 (true negatives).\n",
    "- **17478** samples were correctly predicted as class 1 (true positives).\n",
    "- **1310** samples were correctly predicted as class 2 (true positives).\n",
    "- **103** samples were correctly predicted as class 3 (true positives).\n",
    "<br>\n",
    "\n",
    "- **5231** samples were incorrectly predicted as class 1, when the actual class was 0 (false positives).\n",
    "- **2152** samples were incorrectly predicted as class 2, when the actual class was 0 (false positives).\n",
    "- **3** samples were incorrectly predicted as class 3, when the actual class was 0 (false positives).\n",
    "<br>\n",
    "\n",
    "Overall, the confusion matrix provides a summary of the model's performance and helps to evaluate how well the model is able to correctly classify the samples."
   ]
  },
  {
   "cell_type": "markdown",
   "id": "827a9793",
   "metadata": {},
   "source": [
    "---\n",
    "\n",
    "## Feature Importance:"
   ]
  },
  {
   "cell_type": "code",
   "execution_count": 35,
   "id": "b66ecbb1",
   "metadata": {},
   "outputs": [
    {
     "data": {
      "image/png": "[encoded data removed]",
      "text/plain": [
       "<Figure size 500x500 with 1 Axes>"
      ]
     },
     "metadata": {},
     "output_type": "display_data"
    }
   ],
   "source": [
    "# get feature importances and corresponding feature names\n",
    "importances = lgbm.feature_importances_\n",
    "feature_names = X_train.columns\n",
    "feature_importances = pd.DataFrame({'feature': feature_names, 'importance': importances})\n",
    "\n",
    "#Creating a dataframe for feature importance\n",
    "feat_imp_df = \\\n",
    "pd.DataFrame({\n",
    "    'features': feature_names[:15],\n",
    "    'importance': np.round(importances[:15], 4)\n",
    "}).set_index('features').sort_values('importance')\n",
    "\n",
    "ax = feat_imp_df.plot(kind='barh', figsize=(5, 5))\n",
    "ax.set_title(\"Top 15 Features\");\n",
    "ax.bar_label(ax.containers[0], padding=3);\n",
    "ax.legend().remove()\n",
    "ax.figure.savefig('most_important_features.png', facecolor=\"white\", bbox_inches='tight')"
   ]
  },
  {
   "cell_type": "markdown",
   "id": "464f8bc2",
   "metadata": {},
   "source": [
    "### Key observations:\n",
    "- The main contributing features in our model are temperature, wind speed, humidity, and cloud cover.\n",
    "- The most significant influences on 'CAQI level' appear to be temperature and wind speed."
   ]
  },
  {
   "cell_type": "markdown",
   "id": "63dc3c29",
   "metadata": {},
   "source": [
    "---\n",
    "\n",
    "## Cross validation:"
   ]
  },
  {
   "cell_type": "code",
   "execution_count": 36,
   "id": "e455eefc",
   "metadata": {},
   "outputs": [],
   "source": [
    "from sklearn.model_selection import TimeSeriesSplit\n",
    "from sklearn.metrics import accuracy_score\n",
    "\n",
    "# Lets create a TimeSeriesSplit object with the desired number of splits\n",
    "tscv = TimeSeriesSplit(n_splits=5)\n",
    "\n",
    "# The purpose of time series cross-validation is to simulate how the model will perform on new and unseen data, \n",
    "# so I will use the training set for defining X and y.\n",
    "X = df.drop(['CAQI_level'], axis=1)\n",
    "y = df['CAQI_level']\n",
    "\n",
    "# create an empty list to store the accuracies for each split\n",
    "accuracy_list = []"
   ]
  },
  {
   "cell_type": "code",
   "execution_count": 37,
   "id": "1b174af5",
   "metadata": {},
   "outputs": [
    {
     "name": "stdout",
     "output_type": "stream",
     "text": [
      "Average accuracy: 0.7052076498748512\n"
     ]
    }
   ],
   "source": [
    "# loop over each split and fit the model\n",
    "for train_index, test_index in tscv.split(X):\n",
    "    # split the data into training and testing sets\n",
    "    X_train, X_test = X.iloc[train_index], X.iloc[test_index]\n",
    "    y_train, y_test = y.iloc[train_index], y.iloc[test_index]\n",
    "    \n",
    "    # fit the LightGBM classifier on the training data\n",
    "    clf = LGBMClassifier()\n",
    "    clf.fit(X_train, y_train)\n",
    "    \n",
    "    # prediction on the testing data and calculate accuracy\n",
    "    y_pred = clf.predict(X_test)\n",
    "    accuracy = accuracy_score(y_test, y_pred)\n",
    "    accuracy_list.append(accuracy)\n",
    "    \n",
    "# print the average accuracy across all splits\n",
    "print('Average accuracy:', sum(accuracy_list)/len(accuracy_list))"
   ]
  },
  {
   "cell_type": "markdown",
   "id": "20c19d02",
   "metadata": {},
   "source": [
    "- Cross-validation using the TimeSeriesSplit method yields an average accuracy of **70.52%** across all splits.\n",
    "- This means that the model has moderate predictive power."
   ]
  },
  {
   "cell_type": "markdown",
   "id": "ed5e3bd7",
   "metadata": {},
   "source": [
    "--- \n",
    "\n",
    "### Plotting train and test targets to visually check:"
   ]
  },
  {
   "cell_type": "code",
   "execution_count": 38,
   "id": "6a40ef5d",
   "metadata": {},
   "outputs": [
    {
     "data": {
      "text/plain": [
       "Int64Index([2017, 2017, 2017, 2017, 2017, 2017, 2017, 2017, 2017, 2017,\n",
       "            ...\n",
       "            2019, 2019, 2019, 2019, 2019, 2019, 2019, 2019, 2019, 2019],\n",
       "           dtype='int64', name='DATE', length=205755)"
      ]
     },
     "execution_count": 38,
     "metadata": {},
     "output_type": "execute_result"
    }
   ],
   "source": [
    "X_train.index.year"
   ]
  },
  {
   "cell_type": "code",
   "execution_count": 39,
   "id": "7a8c4c63",
   "metadata": {},
   "outputs": [
    {
     "data": {
      "text/plain": [
       "Int64Index([2019, 2019, 2019, 2019, 2019, 2019, 2019, 2019, 2019, 2019,\n",
       "            ...\n",
       "            2020, 2020, 2020, 2020, 2020, 2020, 2020, 2020, 2020, 2020],\n",
       "           dtype='int64', name='DATE', length=41151)"
      ]
     },
     "execution_count": 39,
     "metadata": {},
     "output_type": "execute_result"
    }
   ],
   "source": [
    "X_test.index.year"
   ]
  },
  {
   "cell_type": "code",
   "execution_count": 40,
   "id": "8905f203",
   "metadata": {},
   "outputs": [
    {
     "data": {
      "text/plain": [
       "DatetimeIndex(['2017-01-01', '2017-01-01', '2017-01-01', '2017-01-01',\n",
       "               '2017-01-01', '2017-01-01', '2017-01-01', '2017-01-01',\n",
       "               '2017-01-01', '2017-01-01',\n",
       "               ...\n",
       "               '2019-11-06', '2019-11-06', '2019-11-06', '2019-11-06',\n",
       "               '2019-11-06', '2019-11-06', '2019-11-06', '2019-11-06',\n",
       "               '2019-11-06', '2019-11-06'],\n",
       "              dtype='datetime64[ns]', name='DATE', length=205755, freq=None)"
      ]
     },
     "execution_count": 40,
     "metadata": {},
     "output_type": "execute_result"
    }
   ],
   "source": [
    "y_train.index"
   ]
  },
  {
   "cell_type": "code",
   "execution_count": 41,
   "id": "74edbe37",
   "metadata": {},
   "outputs": [
    {
     "data": {
      "image/png": "[encoded data removed]",
      "text/plain": [
       "<Figure size 640x480 with 1 Axes>"
      ]
     },
     "metadata": {},
     "output_type": "display_data"
    }
   ],
   "source": [
    "y_train.groupby('DATE').mean().plot()\n",
    "y_test.groupby('DATE').mean().plot()\n",
    "\n",
    "plt.legend(['Train', 'Test'])\n",
    "plt.title('Mean CAQI Values by Date')\n",
    "plt.xlabel('Date')\n",
    "plt.ylabel('Mean CAQI_level')\n",
    "plt.show()"
   ]
  }
 ],
 "metadata": {
  "kernelspec": {
   "display_name": "Python 3 (ipykernel)",
   "language": "python",
   "name": "python3"
  },
  "language_info": {
   "codemirror_mode": {
    "name": "ipython",
    "version": 3
   },
   "file_extension": ".py",
   "mimetype": "text/x-python",
   "name": "python",
   "nbconvert_exporter": "python",
   "pygments_lexer": "ipython3",
   "version": "3.9.13"
  }
 },
 "nbformat": 4,
 "nbformat_minor": 5
}
