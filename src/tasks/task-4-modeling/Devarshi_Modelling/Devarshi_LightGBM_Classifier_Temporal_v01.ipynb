{
 "cells": [
  {
   "cell_type": "markdown",
   "id": "37ab4cdf",
   "metadata": {},
   "source": [
    "## Temporal_Classifier_V01\n",
    "<br>\n",
    "\n",
    "### Key Differences from \"Devarshi_LightGBM_Classifier_Model.ipynb\":\n",
    "1. Dataset used: **'train_temporal_classification.parquet.gz'** AND **'test_temporal_classification.parquet.gz'**.\n",
    "2. v01 makes use of the 'Jupyter Notebook enviroment'.\n",
    "3. This data **includes** the time component.\n",
    "4. **Label Encoding** has been done in an orderly manner for the ease of understanding.\n",
    "5. For the 'CAQI_level' column, we **merged** 'vhigh' into the 'high' category with an intention to see an improvement in our model accuracy. \n",
    "6. The accuracy results of **all** the methods are mentioned in the notebook.\n",
    "7. Merger technique which yielded the **best result** is shown in this notebook.\n",
    "8. Like the nonTemporal dataset an attempt to improve accruacy using GridSearchCV was also made.\n",
    "9. Codes that produced ineffctive results have been **#commented out**.\n",
    "10. **Confusion Matrix** was included to improve results interpretation. \n",
    "11. **'TimeSeriesSplit'** is used a Cross validation method.\n",
    "12. The Notebook has a **feature importance** section as well.\n",
    "13. Added Train and Test 'CAQI_level' **plot**.\n",
    "---"
   ]
  },
  {
   "cell_type": "code",
   "execution_count": 1,
   "id": "069d69e3",
   "metadata": {},
   "outputs": [
    {
     "name": "stdout",
     "output_type": "stream",
     "text": [
      "Requirement already satisfied: lightgbm in d:\\apps\\anaconda3\\lib\\site-packages (3.3.5)\n",
      "Requirement already satisfied: wheel in d:\\apps\\anaconda3\\lib\\site-packages (from lightgbm) (0.37.1)\n",
      "Requirement already satisfied: numpy in d:\\apps\\anaconda3\\lib\\site-packages (from lightgbm) (1.21.5)\n",
      "Requirement already satisfied: scikit-learn!=0.22.0 in d:\\apps\\anaconda3\\lib\\site-packages (from lightgbm) (1.0.2)\n",
      "Requirement already satisfied: scipy in d:\\apps\\anaconda3\\lib\\site-packages (from lightgbm) (1.9.1)\n",
      "Requirement already satisfied: joblib>=0.11 in d:\\apps\\anaconda3\\lib\\site-packages (from scikit-learn!=0.22.0->lightgbm) (1.1.0)\n",
      "Requirement already satisfied: threadpoolctl>=2.0.0 in d:\\apps\\anaconda3\\lib\\site-packages (from scikit-learn!=0.22.0->lightgbm) (2.2.0)\n",
      "Note: you may need to restart the kernel to use updated packages.\n"
     ]
    }
   ],
   "source": [
    "pip install lightgbm "
   ]
  },
  {
   "cell_type": "code",
   "execution_count": 2,
   "id": "bc67c23b",
   "metadata": {},
   "outputs": [
    {
     "name": "stdout",
     "output_type": "stream",
     "text": [
      "Requirement already satisfied: pyarrow in d:\\apps\\anaconda3\\lib\\site-packages (11.0.0)\n",
      "Requirement already satisfied: numpy>=1.16.6 in d:\\apps\\anaconda3\\lib\\site-packages (from pyarrow) (1.21.5)\n",
      "Note: you may need to restart the kernel to use updated packages.\n"
     ]
    }
   ],
   "source": [
    "pip install pyarrow"
   ]
  },
  {
   "cell_type": "code",
   "execution_count": 3,
   "id": "5ecb2e15",
   "metadata": {},
   "outputs": [],
   "source": [
    "import numpy as np\n",
    "import pandas as pd\n",
    "import re\n",
    "import seaborn as sns\n",
    "import matplotlib.pyplot as plt\n",
    "\n",
    "import lightgbm as lgb\n",
    "from lightgbm import LGBMClassifier\n",
    "from sklearn.preprocessing import LabelEncoder, OneHotEncoder\n",
    "from sklearn.metrics import accuracy_score, precision_score, recall_score, f1_score, roc_auc_score\n",
    "from sklearn.metrics import classification_report\n",
    "from sklearn.metrics import confusion_matrix\n",
    "from sklearn.model_selection import train_test_split, cross_val_score, KFold\n",
    "from sklearn.metrics import accuracy_score\n",
    "%matplotlib inline"
   ]
  },
  {
   "cell_type": "markdown",
   "id": "c70e5a7e",
   "metadata": {},
   "source": [
    "--- \n",
    "\n",
    "# Train Dataset:\n",
    "- 'train_temporal_classification.parquet.gz'"
   ]
  },
  {
   "cell_type": "code",
   "execution_count": 4,
   "id": "248292c5",
   "metadata": {},
   "outputs": [
    {
     "data": {
      "text/html": [
       "<div>\n",
       "<style scoped>\n",
       "    .dataframe tbody tr th:only-of-type {\n",
       "        vertical-align: middle;\n",
       "    }\n",
       "\n",
       "    .dataframe tbody tr th {\n",
       "        vertical-align: top;\n",
       "    }\n",
       "\n",
       "    .dataframe thead th {\n",
       "        text-align: right;\n",
       "    }\n",
       "</style>\n",
       "<table border=\"1\" class=\"dataframe\">\n",
       "  <thead>\n",
       "    <tr style=\"text-align: right;\">\n",
       "      <th></th>\n",
       "      <th>powiat_voivod</th>\n",
       "      <th>cloud_cover</th>\n",
       "      <th>wind_speed</th>\n",
       "      <th>humidity</th>\n",
       "      <th>precipitation</th>\n",
       "      <th>snow_depth</th>\n",
       "      <th>temperature</th>\n",
       "      <th>voivodship</th>\n",
       "      <th>animal stock - total</th>\n",
       "      <th>area by land - utilised agricultural area</th>\n",
       "      <th>...</th>\n",
       "      <th>season</th>\n",
       "      <th>CAQI_lag1</th>\n",
       "      <th>holiday_name</th>\n",
       "      <th>is_school_holiday</th>\n",
       "      <th>is_lockdown</th>\n",
       "      <th>is_have_coalplant</th>\n",
       "      <th>rolling7_CAQI</th>\n",
       "      <th>rolling30_CAQI</th>\n",
       "      <th>rolling90_CAQI</th>\n",
       "      <th>is_weekend</th>\n",
       "    </tr>\n",
       "    <tr>\n",
       "      <th>DATE</th>\n",
       "      <th></th>\n",
       "      <th></th>\n",
       "      <th></th>\n",
       "      <th></th>\n",
       "      <th></th>\n",
       "      <th></th>\n",
       "      <th></th>\n",
       "      <th></th>\n",
       "      <th></th>\n",
       "      <th></th>\n",
       "      <th></th>\n",
       "      <th></th>\n",
       "      <th></th>\n",
       "      <th></th>\n",
       "      <th></th>\n",
       "      <th></th>\n",
       "      <th></th>\n",
       "      <th></th>\n",
       "      <th></th>\n",
       "      <th></th>\n",
       "      <th></th>\n",
       "    </tr>\n",
       "  </thead>\n",
       "  <tbody>\n",
       "    <tr>\n",
       "      <th>2017-01-01</th>\n",
       "      <td>powiat aleksandrowski, kujawsko-pomorskie</td>\n",
       "      <td>4.746750</td>\n",
       "      <td>0.0</td>\n",
       "      <td>88.4</td>\n",
       "      <td>1.0</td>\n",
       "      <td>0.0</td>\n",
       "      <td>1.8</td>\n",
       "      <td>kujawsko-pomorskie</td>\n",
       "      <td>44.997895</td>\n",
       "      <td>1.718015</td>\n",
       "      <td>...</td>\n",
       "      <td>Winter</td>\n",
       "      <td>24.968064</td>\n",
       "      <td>New Year's Day</td>\n",
       "      <td>0.0</td>\n",
       "      <td>0.0</td>\n",
       "      <td>0.0</td>\n",
       "      <td>24.968064</td>\n",
       "      <td>28.884791</td>\n",
       "      <td>47.077522</td>\n",
       "      <td>1</td>\n",
       "    </tr>\n",
       "    <tr>\n",
       "      <th>2017-01-01</th>\n",
       "      <td>powiat augustowski, podlaskie</td>\n",
       "      <td>8.000000</td>\n",
       "      <td>50.0</td>\n",
       "      <td>95.0</td>\n",
       "      <td>9.0</td>\n",
       "      <td>0.0</td>\n",
       "      <td>0.4</td>\n",
       "      <td>podlaskie</td>\n",
       "      <td>47.547318</td>\n",
       "      <td>4.963793</td>\n",
       "      <td>...</td>\n",
       "      <td>Winter</td>\n",
       "      <td>61.553125</td>\n",
       "      <td>New Year's Day</td>\n",
       "      <td>0.0</td>\n",
       "      <td>0.0</td>\n",
       "      <td>0.0</td>\n",
       "      <td>61.553125</td>\n",
       "      <td>36.561883</td>\n",
       "      <td>54.128302</td>\n",
       "      <td>1</td>\n",
       "    </tr>\n",
       "    <tr>\n",
       "      <th>2017-01-01</th>\n",
       "      <td>powiat bełchatowski, łódzkie</td>\n",
       "      <td>5.923833</td>\n",
       "      <td>0.0</td>\n",
       "      <td>80.0</td>\n",
       "      <td>0.0</td>\n",
       "      <td>5.0</td>\n",
       "      <td>0.0</td>\n",
       "      <td>łódzkie</td>\n",
       "      <td>43.636364</td>\n",
       "      <td>3.809493</td>\n",
       "      <td>...</td>\n",
       "      <td>Winter</td>\n",
       "      <td>11.000000</td>\n",
       "      <td>New Year's Day</td>\n",
       "      <td>0.0</td>\n",
       "      <td>0.0</td>\n",
       "      <td>1.0</td>\n",
       "      <td>11.000000</td>\n",
       "      <td>29.314815</td>\n",
       "      <td>48.801235</td>\n",
       "      <td>1</td>\n",
       "    </tr>\n",
       "    <tr>\n",
       "      <th>2017-01-01</th>\n",
       "      <td>powiat biała podlaska, lubelskie</td>\n",
       "      <td>6.000000</td>\n",
       "      <td>0.0</td>\n",
       "      <td>78.0</td>\n",
       "      <td>0.0</td>\n",
       "      <td>0.0</td>\n",
       "      <td>0.9</td>\n",
       "      <td>lubelskie</td>\n",
       "      <td>21.265306</td>\n",
       "      <td>0.138255</td>\n",
       "      <td>...</td>\n",
       "      <td>Winter</td>\n",
       "      <td>71.000000</td>\n",
       "      <td>New Year's Day</td>\n",
       "      <td>0.0</td>\n",
       "      <td>0.0</td>\n",
       "      <td>0.0</td>\n",
       "      <td>71.000000</td>\n",
       "      <td>59.414286</td>\n",
       "      <td>70.084646</td>\n",
       "      <td>1</td>\n",
       "    </tr>\n",
       "    <tr>\n",
       "      <th>2017-01-01</th>\n",
       "      <td>powiat białystok, podlaskie</td>\n",
       "      <td>8.000000</td>\n",
       "      <td>0.0</td>\n",
       "      <td>89.0</td>\n",
       "      <td>0.0</td>\n",
       "      <td>0.0</td>\n",
       "      <td>0.4</td>\n",
       "      <td>podlaskie</td>\n",
       "      <td>47.549020</td>\n",
       "      <td>0.305201</td>\n",
       "      <td>...</td>\n",
       "      <td>Winter</td>\n",
       "      <td>49.878097</td>\n",
       "      <td>New Year's Day</td>\n",
       "      <td>0.0</td>\n",
       "      <td>0.0</td>\n",
       "      <td>0.0</td>\n",
       "      <td>49.878097</td>\n",
       "      <td>33.337733</td>\n",
       "      <td>50.529500</td>\n",
       "      <td>1</td>\n",
       "    </tr>\n",
       "  </tbody>\n",
       "</table>\n",
       "<p>5 rows × 131 columns</p>\n",
       "</div>"
      ],
      "text/plain": [
       "                                        powiat_voivod  cloud_cover  \\\n",
       "DATE                                                                 \n",
       "2017-01-01  powiat aleksandrowski, kujawsko-pomorskie     4.746750   \n",
       "2017-01-01              powiat augustowski, podlaskie     8.000000   \n",
       "2017-01-01               powiat bełchatowski, łódzkie     5.923833   \n",
       "2017-01-01           powiat biała podlaska, lubelskie     6.000000   \n",
       "2017-01-01                powiat białystok, podlaskie     8.000000   \n",
       "\n",
       "            wind_speed  humidity  precipitation  snow_depth  temperature  \\\n",
       "DATE                                                                       \n",
       "2017-01-01         0.0      88.4            1.0         0.0          1.8   \n",
       "2017-01-01        50.0      95.0            9.0         0.0          0.4   \n",
       "2017-01-01         0.0      80.0            0.0         5.0          0.0   \n",
       "2017-01-01         0.0      78.0            0.0         0.0          0.9   \n",
       "2017-01-01         0.0      89.0            0.0         0.0          0.4   \n",
       "\n",
       "                    voivodship  animal stock - total  \\\n",
       "DATE                                                   \n",
       "2017-01-01  kujawsko-pomorskie             44.997895   \n",
       "2017-01-01           podlaskie             47.547318   \n",
       "2017-01-01             łódzkie             43.636364   \n",
       "2017-01-01           lubelskie             21.265306   \n",
       "2017-01-01           podlaskie             47.549020   \n",
       "\n",
       "            area by land - utilised agricultural area  ...  season  CAQI_lag1  \\\n",
       "DATE                                                   ...                      \n",
       "2017-01-01                                   1.718015  ...  Winter  24.968064   \n",
       "2017-01-01                                   4.963793  ...  Winter  61.553125   \n",
       "2017-01-01                                   3.809493  ...  Winter  11.000000   \n",
       "2017-01-01                                   0.138255  ...  Winter  71.000000   \n",
       "2017-01-01                                   0.305201  ...  Winter  49.878097   \n",
       "\n",
       "              holiday_name  is_school_holiday  is_lockdown  is_have_coalplant  \\\n",
       "DATE                                                                            \n",
       "2017-01-01  New Year's Day                0.0          0.0                0.0   \n",
       "2017-01-01  New Year's Day                0.0          0.0                0.0   \n",
       "2017-01-01  New Year's Day                0.0          0.0                1.0   \n",
       "2017-01-01  New Year's Day                0.0          0.0                0.0   \n",
       "2017-01-01  New Year's Day                0.0          0.0                0.0   \n",
       "\n",
       "            rolling7_CAQI  rolling30_CAQI  rolling90_CAQI  is_weekend  \n",
       "DATE                                                                   \n",
       "2017-01-01      24.968064       28.884791       47.077522           1  \n",
       "2017-01-01      61.553125       36.561883       54.128302           1  \n",
       "2017-01-01      11.000000       29.314815       48.801235           1  \n",
       "2017-01-01      71.000000       59.414286       70.084646           1  \n",
       "2017-01-01      49.878097       33.337733       50.529500           1  \n",
       "\n",
       "[5 rows x 131 columns]"
      ]
     },
     "execution_count": 4,
     "metadata": {},
     "output_type": "execute_result"
    }
   ],
   "source": [
    "train = pd.read_parquet(\"train_temporal_classification.parquet.gz\", engine = \"pyarrow\") \n",
    "train.head()"
   ]
  },
  {
   "cell_type": "code",
   "execution_count": 5,
   "id": "8a10b542",
   "metadata": {},
   "outputs": [
    {
     "name": "stdout",
     "output_type": "stream",
     "text": [
      "<class 'pandas.core.frame.DataFrame'>\n",
      "DatetimeIndex: 300960 entries, 2017-01-01 to 2021-02-28\n",
      "Columns: 131 entries, powiat_voivod to is_weekend\n",
      "dtypes: float64(120), int32(1), int64(5), object(5)\n",
      "memory usage: 301.9+ MB\n"
     ]
    }
   ],
   "source": [
    "train.info()"
   ]
  },
  {
   "cell_type": "code",
   "execution_count": 6,
   "id": "98f0a61f",
   "metadata": {},
   "outputs": [
    {
     "data": {
      "text/plain": [
       "(300960, 131)"
      ]
     },
     "execution_count": 6,
     "metadata": {},
     "output_type": "execute_result"
    }
   ],
   "source": [
    "train.shape"
   ]
  },
  {
   "cell_type": "code",
   "execution_count": 7,
   "id": "d458a1ec",
   "metadata": {},
   "outputs": [
    {
     "data": {
      "text/plain": [
       "['powiat_voivod',\n",
       " 'cloud_cover',\n",
       " 'wind_speed',\n",
       " 'humidity',\n",
       " 'precipitation',\n",
       " 'snow_depth',\n",
       " 'temperature',\n",
       " 'voivodship',\n",
       " 'animal stock - total',\n",
       " 'area by land - utilised agricultural area',\n",
       " 'area by land - forests',\n",
       " 'area by land - residential areas',\n",
       " 'area by land - industrial lands',\n",
       " 'area by land - recreational and rest areas',\n",
       " 'area by land - lands under waters',\n",
       " 'area by land - wasteland',\n",
       " 'area by land - other area',\n",
       " 'emission of particulates - fugitive',\n",
       " 'emission of particulates - fuel combustion',\n",
       " 'emission of particulates - cement/lime and refractory materials',\n",
       " 'emission of particulates - silicon',\n",
       " 'emission of particulates - chemical fertilizers',\n",
       " 'emission of particulates - surface-active agents',\n",
       " 'emission of particulates - carbon and graphite, soot',\n",
       " 'emission of pollutant gases - fugitive',\n",
       " 'emission of pollutant gases - sulphur dioxide',\n",
       " 'emission of pollutant gases - nitrogen oxides',\n",
       " 'emission of pollutant gases - carbon monoxide',\n",
       " 'emission of pollutant gases - carbon dioxide',\n",
       " 'emission of pollutant gases - methane',\n",
       " 'emission of pollutant gases - dinitrogen monoxide',\n",
       " 'forest area - forests, grand total',\n",
       " 'plants of significant nuisance - total',\n",
       " 'plants of significant nuisance - possessing systems to reduce the emission of particulates',\n",
       " 'plants of significant nuisance - possessing systems to reduce the emission of gases',\n",
       " 'population density - population per 1 km2',\n",
       " 'production of electricity - total',\n",
       " 'production of electricity - water power plants and wind, biomass and wastes power plants, total',\n",
       " 'production of electricity - water power plants',\n",
       " 'production of electricity - thermal power plants, total',\n",
       " 'production of electricity - thermal public power plants',\n",
       " 'production of electricity - thermal autoproducing power plants',\n",
       " 'production of electricity - from renewable energy sources',\n",
       " 'production of electricity - share of renewable energy sources in total production of electricity',\n",
       " 'production of electricity - relation of electricity production to electricity consumption',\n",
       " 'share of green areas - share of parks, lawns and green areas of the housing estate areas in the total area',\n",
       " 'share of green areas - share of green areas in the total area',\n",
       " 'share of urbanized areas - total',\n",
       " 'total vehicles - road vehicles and tractors',\n",
       " 'total vehicles - motorcycles total',\n",
       " 'total vehicles - motorcycles, engine capacity up to 125 cm3',\n",
       " 'total vehicles - passenger cars',\n",
       " 'total vehicles - buses, total',\n",
       " 'total vehicles - lorries',\n",
       " 'total vehicles - goods and persons carrying vehicles',\n",
       " 'total vehicles - special purpose vehicles (including sanitary)',\n",
       " 'total vehicles - road tractors',\n",
       " 'total vehicles - agricultural tractors',\n",
       " 'total vehicles - mopeds',\n",
       " 'air pollution reduction systems - cyclones, equipment - efficiency low',\n",
       " 'air pollution reduction systems - cyclones, equipment - efficiency moderate',\n",
       " 'air pollution reduction systems - cyclones, equipment - efficiency high',\n",
       " 'air pollution reduction systems - cyclones, waste gas flow - efficiency low',\n",
       " 'air pollution reduction systems - cyclones, waste gas flow - efficiency moderate',\n",
       " 'air pollution reduction systems - cyclones, waste gas flow - efficiency high',\n",
       " 'air pollution reduction systems - multicyclones, equipment - efficiency low',\n",
       " 'air pollution reduction systems - multicyclones, equipment - efficiency moderate',\n",
       " 'air pollution reduction systems - multicyclones, equipment - efficiency high',\n",
       " 'air pollution reduction systems - multicyclones, waste gas flow - efficiency low',\n",
       " 'air pollution reduction systems - multicyclones, waste gas flow - efficiency moderate',\n",
       " 'air pollution reduction systems - multicyclones, waste gas flow - efficiency high',\n",
       " 'air pollution reduction systems - fabric filters, equipment - efficiency low',\n",
       " 'air pollution reduction systems - fabric filters, equipment - efficiency moderate',\n",
       " 'air pollution reduction systems - fabric filters, equipment - efficiency high',\n",
       " 'air pollution reduction systems - fabric filters, waste gas flow - efficiency low',\n",
       " 'air pollution reduction systems - fabric filters, waste gas flow - efficiency moderate',\n",
       " 'air pollution reduction systems - fabric filters, waste gas flow - efficiency high',\n",
       " 'air pollution reduction systems - electrofilters, equipment - efficiency low',\n",
       " 'air pollution reduction systems - electrofilters, equipment - efficiency moderate',\n",
       " 'air pollution reduction systems - electrofilters, equipment - efficiency high',\n",
       " 'air pollution reduction systems - electrofilters, waste gas flow - efficiency low',\n",
       " 'air pollution reduction systems - electrofilters, waste gas flow - efficiency moderate',\n",
       " 'air pollution reduction systems - electrofilters, waste gas flow - efficiency high',\n",
       " 'air pollution reduction systems - wet air cleaners, equipment - efficiency low',\n",
       " 'air pollution reduction systems - wet air cleaners, equipment - efficiency moderate',\n",
       " 'air pollution reduction systems - wet air cleaners, equipment - efficiency high',\n",
       " 'air pollution reduction systems - wet air cleaners, waste gas flow - efficiency low',\n",
       " 'air pollution reduction systems - wet air cleaners, waste gas flow - efficiency moderate',\n",
       " 'air pollution reduction systems - wet air cleaners, waste gas flow - efficiency high',\n",
       " 'air pollution reduction systems - others, equipment total',\n",
       " 'air pollution reduction systems - others, total waste gas flow',\n",
       " 'forest fires - number of forest fires, total',\n",
       " 'forest fires - area of forest fires, total',\n",
       " 'vehicles by type and fuel - passenger cars, petrol',\n",
       " 'vehicles by type and fuel - passenger cars, diesel oil',\n",
       " 'vehicles by type and fuel - passenger cars, Liquefied Petroleum Gas',\n",
       " 'vehicles by type and fuel - passenger cars, others',\n",
       " 'vehicles by type and fuel - lorries, petrol',\n",
       " 'vehicles by type and fuel - lorries, diesel oil',\n",
       " 'vehicles by type and fuel - lorries, Liquefied Petroleum Gas',\n",
       " 'vehicles by type and fuel - lorries, others',\n",
       " 'vehicles by type and fuel - busses, petrol',\n",
       " 'vehicles by type and fuel - busses, diesel oil',\n",
       " 'vehicles by type and fuel - busses, Liquefied Petroleum Gas',\n",
       " 'vehicles by type and fuel - busses, others',\n",
       " 'vehicles by type and fuel - road tractors, petrol',\n",
       " 'vehicles by type and fuel - road tractors, diesel oil',\n",
       " 'vehicles by type and fuel - road tractors, Liquefied Petroleum Gas',\n",
       " 'vehicles by type and fuel - road tractors, others',\n",
       " 'crop production - cereals, grand total, area in ha, total',\n",
       " 'crop production - potatoes, area in ha, total',\n",
       " 'crop production - sugar beets, area in ha, total',\n",
       " 'crop production - rape and turnip rape, area in ha, total',\n",
       " 'crop production - permanent meadows, area in ha, total',\n",
       " 'crop production - permanent pastures, area in ha, total',\n",
       " 'CAQI_level',\n",
       " 'isUrban',\n",
       " 'day',\n",
       " 'month',\n",
       " 'year',\n",
       " 'dayofweek',\n",
       " 'season',\n",
       " 'CAQI_lag1',\n",
       " 'holiday_name',\n",
       " 'is_school_holiday',\n",
       " 'is_lockdown',\n",
       " 'is_have_coalplant',\n",
       " 'rolling7_CAQI',\n",
       " 'rolling30_CAQI',\n",
       " 'rolling90_CAQI',\n",
       " 'is_weekend']"
      ]
     },
     "execution_count": 7,
     "metadata": {},
     "output_type": "execute_result"
    }
   ],
   "source": [
    "train.columns.tolist()"
   ]
  },
  {
   "cell_type": "code",
   "execution_count": 8,
   "id": "00bdaabb",
   "metadata": {},
   "outputs": [],
   "source": [
    "# Remove any special characters from the column names\n",
    "train.columns = [re.sub('[^0-9a-zA-Z]+', '_', col) for col in train.columns]"
   ]
  },
  {
   "cell_type": "code",
   "execution_count": 9,
   "id": "51fb6fb3",
   "metadata": {},
   "outputs": [
    {
     "data": {
      "text/plain": [
       "2021"
      ]
     },
     "execution_count": 9,
     "metadata": {},
     "output_type": "execute_result"
    }
   ],
   "source": [
    "train['year'].max()"
   ]
  },
  {
   "cell_type": "code",
   "execution_count": 10,
   "id": "27d12e61",
   "metadata": {},
   "outputs": [],
   "source": [
    "train_start_date = '2017-01-01'\n",
    "train_end_date = '2020-05-31'\n",
    "train= train.loc[train_start_date:train_end_date]"
   ]
  },
  {
   "cell_type": "code",
   "execution_count": 11,
   "id": "e955c0c7",
   "metadata": {},
   "outputs": [
    {
     "data": {
      "text/plain": [
       "(246906, 131)"
      ]
     },
     "execution_count": 11,
     "metadata": {},
     "output_type": "execute_result"
    }
   ],
   "source": [
    "train.shape"
   ]
  },
  {
   "cell_type": "code",
   "execution_count": 12,
   "id": "7eeab11a",
   "metadata": {},
   "outputs": [
    {
     "data": {
      "text/plain": [
       "2020"
      ]
     },
     "execution_count": 12,
     "metadata": {},
     "output_type": "execute_result"
    }
   ],
   "source": [
    "train['year'].max()"
   ]
  },
  {
   "cell_type": "code",
   "execution_count": 13,
   "id": "0186cf00",
   "metadata": {},
   "outputs": [
    {
     "data": {
      "text/plain": [
       "DATE\n",
       "2020-05-31    2020\n",
       "2020-05-31    2020\n",
       "2020-05-31    2020\n",
       "2020-05-31    2020\n",
       "2020-05-31    2020\n",
       "Name: year, dtype: int64"
      ]
     },
     "execution_count": 13,
     "metadata": {},
     "output_type": "execute_result"
    }
   ],
   "source": [
    "train['year'].tail()"
   ]
  },
  {
   "cell_type": "code",
   "execution_count": 14,
   "id": "c770be3e",
   "metadata": {},
   "outputs": [
    {
     "data": {
      "text/plain": [
       "(246906, 131)"
      ]
     },
     "execution_count": 14,
     "metadata": {},
     "output_type": "execute_result"
    }
   ],
   "source": [
    "train.shape"
   ]
  },
  {
   "cell_type": "code",
   "execution_count": 15,
   "id": "4a6ddcbc",
   "metadata": {
    "scrolled": true
   },
   "outputs": [
    {
     "data": {
      "text/plain": [
       "['powiat_voivod',\n",
       " 'cloud_cover',\n",
       " 'wind_speed',\n",
       " 'humidity',\n",
       " 'precipitation',\n",
       " 'snow_depth',\n",
       " 'temperature',\n",
       " 'voivodship',\n",
       " 'animal_stock_total',\n",
       " 'area_by_land_utilised_agricultural_area',\n",
       " 'area_by_land_forests',\n",
       " 'area_by_land_residential_areas',\n",
       " 'area_by_land_industrial_lands',\n",
       " 'area_by_land_recreational_and_rest_areas',\n",
       " 'area_by_land_lands_under_waters',\n",
       " 'area_by_land_wasteland',\n",
       " 'area_by_land_other_area',\n",
       " 'emission_of_particulates_fugitive',\n",
       " 'emission_of_particulates_fuel_combustion',\n",
       " 'emission_of_particulates_cement_lime_and_refractory_materials',\n",
       " 'emission_of_particulates_silicon',\n",
       " 'emission_of_particulates_chemical_fertilizers',\n",
       " 'emission_of_particulates_surface_active_agents',\n",
       " 'emission_of_particulates_carbon_and_graphite_soot',\n",
       " 'emission_of_pollutant_gases_fugitive',\n",
       " 'emission_of_pollutant_gases_sulphur_dioxide',\n",
       " 'emission_of_pollutant_gases_nitrogen_oxides',\n",
       " 'emission_of_pollutant_gases_carbon_monoxide',\n",
       " 'emission_of_pollutant_gases_carbon_dioxide',\n",
       " 'emission_of_pollutant_gases_methane',\n",
       " 'emission_of_pollutant_gases_dinitrogen_monoxide',\n",
       " 'forest_area_forests_grand_total',\n",
       " 'plants_of_significant_nuisance_total',\n",
       " 'plants_of_significant_nuisance_possessing_systems_to_reduce_the_emission_of_particulates',\n",
       " 'plants_of_significant_nuisance_possessing_systems_to_reduce_the_emission_of_gases',\n",
       " 'population_density_population_per_1_km2',\n",
       " 'production_of_electricity_total',\n",
       " 'production_of_electricity_water_power_plants_and_wind_biomass_and_wastes_power_plants_total',\n",
       " 'production_of_electricity_water_power_plants',\n",
       " 'production_of_electricity_thermal_power_plants_total',\n",
       " 'production_of_electricity_thermal_public_power_plants',\n",
       " 'production_of_electricity_thermal_autoproducing_power_plants',\n",
       " 'production_of_electricity_from_renewable_energy_sources',\n",
       " 'production_of_electricity_share_of_renewable_energy_sources_in_total_production_of_electricity',\n",
       " 'production_of_electricity_relation_of_electricity_production_to_electricity_consumption',\n",
       " 'share_of_green_areas_share_of_parks_lawns_and_green_areas_of_the_housing_estate_areas_in_the_total_area',\n",
       " 'share_of_green_areas_share_of_green_areas_in_the_total_area',\n",
       " 'share_of_urbanized_areas_total',\n",
       " 'total_vehicles_road_vehicles_and_tractors',\n",
       " 'total_vehicles_motorcycles_total',\n",
       " 'total_vehicles_motorcycles_engine_capacity_up_to_125_cm3',\n",
       " 'total_vehicles_passenger_cars',\n",
       " 'total_vehicles_buses_total',\n",
       " 'total_vehicles_lorries',\n",
       " 'total_vehicles_goods_and_persons_carrying_vehicles',\n",
       " 'total_vehicles_special_purpose_vehicles_including_sanitary_',\n",
       " 'total_vehicles_road_tractors',\n",
       " 'total_vehicles_agricultural_tractors',\n",
       " 'total_vehicles_mopeds',\n",
       " 'air_pollution_reduction_systems_cyclones_equipment_efficiency_low',\n",
       " 'air_pollution_reduction_systems_cyclones_equipment_efficiency_moderate',\n",
       " 'air_pollution_reduction_systems_cyclones_equipment_efficiency_high',\n",
       " 'air_pollution_reduction_systems_cyclones_waste_gas_flow_efficiency_low',\n",
       " 'air_pollution_reduction_systems_cyclones_waste_gas_flow_efficiency_moderate',\n",
       " 'air_pollution_reduction_systems_cyclones_waste_gas_flow_efficiency_high',\n",
       " 'air_pollution_reduction_systems_multicyclones_equipment_efficiency_low',\n",
       " 'air_pollution_reduction_systems_multicyclones_equipment_efficiency_moderate',\n",
       " 'air_pollution_reduction_systems_multicyclones_equipment_efficiency_high',\n",
       " 'air_pollution_reduction_systems_multicyclones_waste_gas_flow_efficiency_low',\n",
       " 'air_pollution_reduction_systems_multicyclones_waste_gas_flow_efficiency_moderate',\n",
       " 'air_pollution_reduction_systems_multicyclones_waste_gas_flow_efficiency_high',\n",
       " 'air_pollution_reduction_systems_fabric_filters_equipment_efficiency_low',\n",
       " 'air_pollution_reduction_systems_fabric_filters_equipment_efficiency_moderate',\n",
       " 'air_pollution_reduction_systems_fabric_filters_equipment_efficiency_high',\n",
       " 'air_pollution_reduction_systems_fabric_filters_waste_gas_flow_efficiency_low',\n",
       " 'air_pollution_reduction_systems_fabric_filters_waste_gas_flow_efficiency_moderate',\n",
       " 'air_pollution_reduction_systems_fabric_filters_waste_gas_flow_efficiency_high',\n",
       " 'air_pollution_reduction_systems_electrofilters_equipment_efficiency_low',\n",
       " 'air_pollution_reduction_systems_electrofilters_equipment_efficiency_moderate',\n",
       " 'air_pollution_reduction_systems_electrofilters_equipment_efficiency_high',\n",
       " 'air_pollution_reduction_systems_electrofilters_waste_gas_flow_efficiency_low',\n",
       " 'air_pollution_reduction_systems_electrofilters_waste_gas_flow_efficiency_moderate',\n",
       " 'air_pollution_reduction_systems_electrofilters_waste_gas_flow_efficiency_high',\n",
       " 'air_pollution_reduction_systems_wet_air_cleaners_equipment_efficiency_low',\n",
       " 'air_pollution_reduction_systems_wet_air_cleaners_equipment_efficiency_moderate',\n",
       " 'air_pollution_reduction_systems_wet_air_cleaners_equipment_efficiency_high',\n",
       " 'air_pollution_reduction_systems_wet_air_cleaners_waste_gas_flow_efficiency_low',\n",
       " 'air_pollution_reduction_systems_wet_air_cleaners_waste_gas_flow_efficiency_moderate',\n",
       " 'air_pollution_reduction_systems_wet_air_cleaners_waste_gas_flow_efficiency_high',\n",
       " 'air_pollution_reduction_systems_others_equipment_total',\n",
       " 'air_pollution_reduction_systems_others_total_waste_gas_flow',\n",
       " 'forest_fires_number_of_forest_fires_total',\n",
       " 'forest_fires_area_of_forest_fires_total',\n",
       " 'vehicles_by_type_and_fuel_passenger_cars_petrol',\n",
       " 'vehicles_by_type_and_fuel_passenger_cars_diesel_oil',\n",
       " 'vehicles_by_type_and_fuel_passenger_cars_Liquefied_Petroleum_Gas',\n",
       " 'vehicles_by_type_and_fuel_passenger_cars_others',\n",
       " 'vehicles_by_type_and_fuel_lorries_petrol',\n",
       " 'vehicles_by_type_and_fuel_lorries_diesel_oil',\n",
       " 'vehicles_by_type_and_fuel_lorries_Liquefied_Petroleum_Gas',\n",
       " 'vehicles_by_type_and_fuel_lorries_others',\n",
       " 'vehicles_by_type_and_fuel_busses_petrol',\n",
       " 'vehicles_by_type_and_fuel_busses_diesel_oil',\n",
       " 'vehicles_by_type_and_fuel_busses_Liquefied_Petroleum_Gas',\n",
       " 'vehicles_by_type_and_fuel_busses_others',\n",
       " 'vehicles_by_type_and_fuel_road_tractors_petrol',\n",
       " 'vehicles_by_type_and_fuel_road_tractors_diesel_oil',\n",
       " 'vehicles_by_type_and_fuel_road_tractors_Liquefied_Petroleum_Gas',\n",
       " 'vehicles_by_type_and_fuel_road_tractors_others',\n",
       " 'crop_production_cereals_grand_total_area_in_ha_total',\n",
       " 'crop_production_potatoes_area_in_ha_total',\n",
       " 'crop_production_sugar_beets_area_in_ha_total',\n",
       " 'crop_production_rape_and_turnip_rape_area_in_ha_total',\n",
       " 'crop_production_permanent_meadows_area_in_ha_total',\n",
       " 'crop_production_permanent_pastures_area_in_ha_total',\n",
       " 'CAQI_level',\n",
       " 'isUrban',\n",
       " 'day',\n",
       " 'month',\n",
       " 'year',\n",
       " 'dayofweek',\n",
       " 'season',\n",
       " 'CAQI_lag1',\n",
       " 'holiday_name',\n",
       " 'is_school_holiday',\n",
       " 'is_lockdown',\n",
       " 'is_have_coalplant',\n",
       " 'rolling7_CAQI',\n",
       " 'rolling30_CAQI',\n",
       " 'rolling90_CAQI',\n",
       " 'is_weekend']"
      ]
     },
     "execution_count": 15,
     "metadata": {},
     "output_type": "execute_result"
    }
   ],
   "source": [
    "train.columns.tolist()"
   ]
  },
  {
   "cell_type": "code",
   "execution_count": 16,
   "id": "8e8aaebe",
   "metadata": {},
   "outputs": [
    {
     "data": {
      "text/plain": [
       "low       108092\n",
       "vlow      104899\n",
       "medium     26066\n",
       "high        7003\n",
       "vhigh        846\n",
       "Name: CAQI_level, dtype: int64"
      ]
     },
     "execution_count": 16,
     "metadata": {},
     "output_type": "execute_result"
    }
   ],
   "source": [
    "train['CAQI_level'].value_counts()"
   ]
  },
  {
   "cell_type": "code",
   "execution_count": 17,
   "id": "95929c02",
   "metadata": {},
   "outputs": [],
   "source": [
    "# combine high and vhigh to a single category, as we want to see how it will affect the accuracy of model\n",
    "train['CAQI_level'] = train['CAQI_level'].replace({'vhigh':'high'})"
   ]
  },
  {
   "cell_type": "code",
   "execution_count": 18,
   "id": "a5d482f4",
   "metadata": {},
   "outputs": [],
   "source": [
    "# The ordered mapping of the labels to their categories \n",
    "#mapping = {'vlow': 0, 'low': 1, 'medium': 2, 'high': 3, 'vhigh':4}\n",
    "mapping = {'vlow': 0, 'low': 1, 'medium': 2, 'high': 3}\n",
    "train['CAQI_level'] = train['CAQI_level'].replace(mapping)"
   ]
  },
  {
   "cell_type": "code",
   "execution_count": 19,
   "id": "07ffdf14",
   "metadata": {},
   "outputs": [
    {
     "data": {
      "text/plain": [
       "1    108092\n",
       "0    104899\n",
       "2     26066\n",
       "3      7849\n",
       "Name: CAQI_level, dtype: int64"
      ]
     },
     "execution_count": 19,
     "metadata": {},
     "output_type": "execute_result"
    }
   ],
   "source": [
    "train['CAQI_level'].value_counts()"
   ]
  },
  {
   "cell_type": "code",
   "execution_count": 20,
   "id": "03ff7cae",
   "metadata": {},
   "outputs": [],
   "source": [
    "# encoding the other categorical columns:\n",
    "cat_cols = ['powiat_voivod', 'voivodship', 'season', 'holiday_name']\n",
    "for col in cat_cols:\n",
    "    le = LabelEncoder()\n",
    "    train['powiat_voivod_encoded'] = le.fit_transform(train['powiat_voivod'])\n",
    "    train['voivodship_encoded'] = le.fit_transform(train['voivodship'])\n",
    "    train['season_encoded'] = le.fit_transform(train['season'])\n",
    "    train['holiday_name_encoded'] = le.fit_transform(train['holiday_name'])"
   ]
  },
  {
   "cell_type": "code",
   "execution_count": 21,
   "id": "a93b7448",
   "metadata": {},
   "outputs": [
    {
     "data": {
      "text/plain": [
       "DATE\n",
       "2017-01-01     1\n",
       "2017-01-01     8\n",
       "2017-01-01    13\n",
       "2017-01-01     2\n",
       "2017-01-01     8\n",
       "              ..\n",
       "2020-05-31    12\n",
       "2020-05-31     3\n",
       "2020-05-31     3\n",
       "2020-05-31    14\n",
       "2020-05-31    14\n",
       "Name: voivodship_encoded, Length: 246906, dtype: int32"
      ]
     },
     "execution_count": 21,
     "metadata": {},
     "output_type": "execute_result"
    }
   ],
   "source": [
    "train['voivodship_encoded']"
   ]
  },
  {
   "cell_type": "code",
   "execution_count": 22,
   "id": "6d984074",
   "metadata": {},
   "outputs": [
    {
     "data": {
      "text/plain": [
       "powiat_voivod            0\n",
       "cloud_cover              0\n",
       "wind_speed               0\n",
       "humidity                 0\n",
       "precipitation            0\n",
       "                        ..\n",
       "is_weekend               0\n",
       "powiat_voivod_encoded    0\n",
       "voivodship_encoded       0\n",
       "season_encoded           0\n",
       "holiday_name_encoded     0\n",
       "Length: 135, dtype: int64"
      ]
     },
     "execution_count": 22,
     "metadata": {},
     "output_type": "execute_result"
    }
   ],
   "source": [
    "# quick check for any nulls\n",
    "train.isna().sum()"
   ]
  },
  {
   "cell_type": "code",
   "execution_count": 23,
   "id": "01fc4b00",
   "metadata": {},
   "outputs": [
    {
     "data": {
      "text/plain": [
       "['powiat_voivod',\n",
       " 'cloud_cover',\n",
       " 'wind_speed',\n",
       " 'humidity',\n",
       " 'precipitation',\n",
       " 'snow_depth',\n",
       " 'temperature',\n",
       " 'voivodship',\n",
       " 'animal_stock_total',\n",
       " 'area_by_land_utilised_agricultural_area',\n",
       " 'area_by_land_forests',\n",
       " 'area_by_land_residential_areas',\n",
       " 'area_by_land_industrial_lands',\n",
       " 'area_by_land_recreational_and_rest_areas',\n",
       " 'area_by_land_lands_under_waters',\n",
       " 'area_by_land_wasteland',\n",
       " 'area_by_land_other_area',\n",
       " 'emission_of_particulates_fugitive',\n",
       " 'emission_of_particulates_fuel_combustion',\n",
       " 'emission_of_particulates_cement_lime_and_refractory_materials',\n",
       " 'emission_of_particulates_silicon',\n",
       " 'emission_of_particulates_chemical_fertilizers',\n",
       " 'emission_of_particulates_surface_active_agents',\n",
       " 'emission_of_particulates_carbon_and_graphite_soot',\n",
       " 'emission_of_pollutant_gases_fugitive',\n",
       " 'emission_of_pollutant_gases_sulphur_dioxide',\n",
       " 'emission_of_pollutant_gases_nitrogen_oxides',\n",
       " 'emission_of_pollutant_gases_carbon_monoxide',\n",
       " 'emission_of_pollutant_gases_carbon_dioxide',\n",
       " 'emission_of_pollutant_gases_methane',\n",
       " 'emission_of_pollutant_gases_dinitrogen_monoxide',\n",
       " 'forest_area_forests_grand_total',\n",
       " 'plants_of_significant_nuisance_total',\n",
       " 'plants_of_significant_nuisance_possessing_systems_to_reduce_the_emission_of_particulates',\n",
       " 'plants_of_significant_nuisance_possessing_systems_to_reduce_the_emission_of_gases',\n",
       " 'population_density_population_per_1_km2',\n",
       " 'production_of_electricity_total',\n",
       " 'production_of_electricity_water_power_plants_and_wind_biomass_and_wastes_power_plants_total',\n",
       " 'production_of_electricity_water_power_plants',\n",
       " 'production_of_electricity_thermal_power_plants_total',\n",
       " 'production_of_electricity_thermal_public_power_plants',\n",
       " 'production_of_electricity_thermal_autoproducing_power_plants',\n",
       " 'production_of_electricity_from_renewable_energy_sources',\n",
       " 'production_of_electricity_share_of_renewable_energy_sources_in_total_production_of_electricity',\n",
       " 'production_of_electricity_relation_of_electricity_production_to_electricity_consumption',\n",
       " 'share_of_green_areas_share_of_parks_lawns_and_green_areas_of_the_housing_estate_areas_in_the_total_area',\n",
       " 'share_of_green_areas_share_of_green_areas_in_the_total_area',\n",
       " 'share_of_urbanized_areas_total',\n",
       " 'total_vehicles_road_vehicles_and_tractors',\n",
       " 'total_vehicles_motorcycles_total',\n",
       " 'total_vehicles_motorcycles_engine_capacity_up_to_125_cm3',\n",
       " 'total_vehicles_passenger_cars',\n",
       " 'total_vehicles_buses_total',\n",
       " 'total_vehicles_lorries',\n",
       " 'total_vehicles_goods_and_persons_carrying_vehicles',\n",
       " 'total_vehicles_special_purpose_vehicles_including_sanitary_',\n",
       " 'total_vehicles_road_tractors',\n",
       " 'total_vehicles_agricultural_tractors',\n",
       " 'total_vehicles_mopeds',\n",
       " 'air_pollution_reduction_systems_cyclones_equipment_efficiency_low',\n",
       " 'air_pollution_reduction_systems_cyclones_equipment_efficiency_moderate',\n",
       " 'air_pollution_reduction_systems_cyclones_equipment_efficiency_high',\n",
       " 'air_pollution_reduction_systems_cyclones_waste_gas_flow_efficiency_low',\n",
       " 'air_pollution_reduction_systems_cyclones_waste_gas_flow_efficiency_moderate',\n",
       " 'air_pollution_reduction_systems_cyclones_waste_gas_flow_efficiency_high',\n",
       " 'air_pollution_reduction_systems_multicyclones_equipment_efficiency_low',\n",
       " 'air_pollution_reduction_systems_multicyclones_equipment_efficiency_moderate',\n",
       " 'air_pollution_reduction_systems_multicyclones_equipment_efficiency_high',\n",
       " 'air_pollution_reduction_systems_multicyclones_waste_gas_flow_efficiency_low',\n",
       " 'air_pollution_reduction_systems_multicyclones_waste_gas_flow_efficiency_moderate',\n",
       " 'air_pollution_reduction_systems_multicyclones_waste_gas_flow_efficiency_high',\n",
       " 'air_pollution_reduction_systems_fabric_filters_equipment_efficiency_low',\n",
       " 'air_pollution_reduction_systems_fabric_filters_equipment_efficiency_moderate',\n",
       " 'air_pollution_reduction_systems_fabric_filters_equipment_efficiency_high',\n",
       " 'air_pollution_reduction_systems_fabric_filters_waste_gas_flow_efficiency_low',\n",
       " 'air_pollution_reduction_systems_fabric_filters_waste_gas_flow_efficiency_moderate',\n",
       " 'air_pollution_reduction_systems_fabric_filters_waste_gas_flow_efficiency_high',\n",
       " 'air_pollution_reduction_systems_electrofilters_equipment_efficiency_low',\n",
       " 'air_pollution_reduction_systems_electrofilters_equipment_efficiency_moderate',\n",
       " 'air_pollution_reduction_systems_electrofilters_equipment_efficiency_high',\n",
       " 'air_pollution_reduction_systems_electrofilters_waste_gas_flow_efficiency_low',\n",
       " 'air_pollution_reduction_systems_electrofilters_waste_gas_flow_efficiency_moderate',\n",
       " 'air_pollution_reduction_systems_electrofilters_waste_gas_flow_efficiency_high',\n",
       " 'air_pollution_reduction_systems_wet_air_cleaners_equipment_efficiency_low',\n",
       " 'air_pollution_reduction_systems_wet_air_cleaners_equipment_efficiency_moderate',\n",
       " 'air_pollution_reduction_systems_wet_air_cleaners_equipment_efficiency_high',\n",
       " 'air_pollution_reduction_systems_wet_air_cleaners_waste_gas_flow_efficiency_low',\n",
       " 'air_pollution_reduction_systems_wet_air_cleaners_waste_gas_flow_efficiency_moderate',\n",
       " 'air_pollution_reduction_systems_wet_air_cleaners_waste_gas_flow_efficiency_high',\n",
       " 'air_pollution_reduction_systems_others_equipment_total',\n",
       " 'air_pollution_reduction_systems_others_total_waste_gas_flow',\n",
       " 'forest_fires_number_of_forest_fires_total',\n",
       " 'forest_fires_area_of_forest_fires_total',\n",
       " 'vehicles_by_type_and_fuel_passenger_cars_petrol',\n",
       " 'vehicles_by_type_and_fuel_passenger_cars_diesel_oil',\n",
       " 'vehicles_by_type_and_fuel_passenger_cars_Liquefied_Petroleum_Gas',\n",
       " 'vehicles_by_type_and_fuel_passenger_cars_others',\n",
       " 'vehicles_by_type_and_fuel_lorries_petrol',\n",
       " 'vehicles_by_type_and_fuel_lorries_diesel_oil',\n",
       " 'vehicles_by_type_and_fuel_lorries_Liquefied_Petroleum_Gas',\n",
       " 'vehicles_by_type_and_fuel_lorries_others',\n",
       " 'vehicles_by_type_and_fuel_busses_petrol',\n",
       " 'vehicles_by_type_and_fuel_busses_diesel_oil',\n",
       " 'vehicles_by_type_and_fuel_busses_Liquefied_Petroleum_Gas',\n",
       " 'vehicles_by_type_and_fuel_busses_others',\n",
       " 'vehicles_by_type_and_fuel_road_tractors_petrol',\n",
       " 'vehicles_by_type_and_fuel_road_tractors_diesel_oil',\n",
       " 'vehicles_by_type_and_fuel_road_tractors_Liquefied_Petroleum_Gas',\n",
       " 'vehicles_by_type_and_fuel_road_tractors_others',\n",
       " 'crop_production_cereals_grand_total_area_in_ha_total',\n",
       " 'crop_production_potatoes_area_in_ha_total',\n",
       " 'crop_production_sugar_beets_area_in_ha_total',\n",
       " 'crop_production_rape_and_turnip_rape_area_in_ha_total',\n",
       " 'crop_production_permanent_meadows_area_in_ha_total',\n",
       " 'crop_production_permanent_pastures_area_in_ha_total',\n",
       " 'CAQI_level',\n",
       " 'isUrban',\n",
       " 'day',\n",
       " 'month',\n",
       " 'year',\n",
       " 'dayofweek',\n",
       " 'season',\n",
       " 'CAQI_lag1',\n",
       " 'holiday_name',\n",
       " 'is_school_holiday',\n",
       " 'is_lockdown',\n",
       " 'is_have_coalplant',\n",
       " 'rolling7_CAQI',\n",
       " 'rolling30_CAQI',\n",
       " 'rolling90_CAQI',\n",
       " 'is_weekend',\n",
       " 'powiat_voivod_encoded',\n",
       " 'voivodship_encoded',\n",
       " 'season_encoded',\n",
       " 'holiday_name_encoded']"
      ]
     },
     "execution_count": 23,
     "metadata": {},
     "output_type": "execute_result"
    }
   ],
   "source": [
    "train.columns.tolist()"
   ]
  },
  {
   "cell_type": "code",
   "execution_count": 24,
   "id": "08d19221",
   "metadata": {},
   "outputs": [
    {
     "data": {
      "text/plain": [
       "2020"
      ]
     },
     "execution_count": 24,
     "metadata": {},
     "output_type": "execute_result"
    }
   ],
   "source": [
    "train['year'].max()"
   ]
  },
  {
   "cell_type": "code",
   "execution_count": 25,
   "id": "f3b3a5ae",
   "metadata": {},
   "outputs": [
    {
     "data": {
      "text/plain": [
       "(246906, 135)"
      ]
     },
     "execution_count": 25,
     "metadata": {},
     "output_type": "execute_result"
    }
   ],
   "source": [
    "train.shape"
   ]
  },
  {
   "cell_type": "markdown",
   "id": "61b74923",
   "metadata": {},
   "source": [
    "--- \n",
    "# Test Dataset: \n",
    "- 'test_temporal_classification.parquet.gz'"
   ]
  },
  {
   "cell_type": "code",
   "execution_count": 26,
   "id": "84f1456a",
   "metadata": {},
   "outputs": [
    {
     "data": {
      "text/html": [
       "<div>\n",
       "<style scoped>\n",
       "    .dataframe tbody tr th:only-of-type {\n",
       "        vertical-align: middle;\n",
       "    }\n",
       "\n",
       "    .dataframe tbody tr th {\n",
       "        vertical-align: top;\n",
       "    }\n",
       "\n",
       "    .dataframe thead th {\n",
       "        text-align: right;\n",
       "    }\n",
       "</style>\n",
       "<table border=\"1\" class=\"dataframe\">\n",
       "  <thead>\n",
       "    <tr style=\"text-align: right;\">\n",
       "      <th></th>\n",
       "      <th>powiat_voivod</th>\n",
       "      <th>cloud_cover</th>\n",
       "      <th>wind_speed</th>\n",
       "      <th>humidity</th>\n",
       "      <th>precipitation</th>\n",
       "      <th>snow_depth</th>\n",
       "      <th>temperature</th>\n",
       "      <th>voivodship</th>\n",
       "      <th>animal stock - total</th>\n",
       "      <th>area by land - utilised agricultural area</th>\n",
       "      <th>...</th>\n",
       "      <th>season</th>\n",
       "      <th>CAQI_lag1</th>\n",
       "      <th>holiday_name</th>\n",
       "      <th>is_school_holiday</th>\n",
       "      <th>is_lockdown</th>\n",
       "      <th>is_have_coalplant</th>\n",
       "      <th>rolling7_CAQI</th>\n",
       "      <th>rolling30_CAQI</th>\n",
       "      <th>rolling90_CAQI</th>\n",
       "      <th>is_weekend</th>\n",
       "    </tr>\n",
       "    <tr>\n",
       "      <th>DATE</th>\n",
       "      <th></th>\n",
       "      <th></th>\n",
       "      <th></th>\n",
       "      <th></th>\n",
       "      <th></th>\n",
       "      <th></th>\n",
       "      <th></th>\n",
       "      <th></th>\n",
       "      <th></th>\n",
       "      <th></th>\n",
       "      <th></th>\n",
       "      <th></th>\n",
       "      <th></th>\n",
       "      <th></th>\n",
       "      <th></th>\n",
       "      <th></th>\n",
       "      <th></th>\n",
       "      <th></th>\n",
       "      <th></th>\n",
       "      <th></th>\n",
       "      <th></th>\n",
       "    </tr>\n",
       "  </thead>\n",
       "  <tbody>\n",
       "    <tr>\n",
       "      <th>2021-03-02</th>\n",
       "      <td>powiat aleksandrowski, kujawsko-pomorskie</td>\n",
       "      <td>5.000000</td>\n",
       "      <td>0.0</td>\n",
       "      <td>92.5</td>\n",
       "      <td>0.0</td>\n",
       "      <td>0.0</td>\n",
       "      <td>2.7</td>\n",
       "      <td>kujawsko-pomorskie</td>\n",
       "      <td>39.393684</td>\n",
       "      <td>1.712729</td>\n",
       "      <td>...</td>\n",
       "      <td>Spring</td>\n",
       "      <td>23.821706</td>\n",
       "      <td>Non Holiday</td>\n",
       "      <td>0.0</td>\n",
       "      <td>0.0</td>\n",
       "      <td>0.0</td>\n",
       "      <td>41.629324</td>\n",
       "      <td>44.641164</td>\n",
       "      <td>33.798813</td>\n",
       "      <td>0</td>\n",
       "    </tr>\n",
       "    <tr>\n",
       "      <th>2021-03-02</th>\n",
       "      <td>powiat augustowski, podlaskie</td>\n",
       "      <td>7.000000</td>\n",
       "      <td>60.0</td>\n",
       "      <td>90.0</td>\n",
       "      <td>0.0</td>\n",
       "      <td>0.0</td>\n",
       "      <td>2.3</td>\n",
       "      <td>podlaskie</td>\n",
       "      <td>51.660036</td>\n",
       "      <td>4.947356</td>\n",
       "      <td>...</td>\n",
       "      <td>Spring</td>\n",
       "      <td>20.593006</td>\n",
       "      <td>Non Holiday</td>\n",
       "      <td>0.0</td>\n",
       "      <td>0.0</td>\n",
       "      <td>0.0</td>\n",
       "      <td>51.103275</td>\n",
       "      <td>39.976399</td>\n",
       "      <td>33.184952</td>\n",
       "      <td>0</td>\n",
       "    </tr>\n",
       "    <tr>\n",
       "      <th>2021-03-02</th>\n",
       "      <td>powiat bełchatowski, łódzkie</td>\n",
       "      <td>4.846046</td>\n",
       "      <td>0.0</td>\n",
       "      <td>85.0</td>\n",
       "      <td>0.0</td>\n",
       "      <td>0.0</td>\n",
       "      <td>3.7</td>\n",
       "      <td>łódzkie</td>\n",
       "      <td>42.485537</td>\n",
       "      <td>3.735109</td>\n",
       "      <td>...</td>\n",
       "      <td>Spring</td>\n",
       "      <td>21.945455</td>\n",
       "      <td>Non Holiday</td>\n",
       "      <td>0.0</td>\n",
       "      <td>0.0</td>\n",
       "      <td>1.0</td>\n",
       "      <td>42.552922</td>\n",
       "      <td>40.208157</td>\n",
       "      <td>33.076156</td>\n",
       "      <td>0</td>\n",
       "    </tr>\n",
       "    <tr>\n",
       "      <th>2021-03-02</th>\n",
       "      <td>powiat biała podlaska, lubelskie</td>\n",
       "      <td>6.000000</td>\n",
       "      <td>0.0</td>\n",
       "      <td>89.0</td>\n",
       "      <td>0.0</td>\n",
       "      <td>0.0</td>\n",
       "      <td>3.7</td>\n",
       "      <td>lubelskie</td>\n",
       "      <td>19.326531</td>\n",
       "      <td>0.136890</td>\n",
       "      <td>...</td>\n",
       "      <td>Spring</td>\n",
       "      <td>33.166667</td>\n",
       "      <td>Non Holiday</td>\n",
       "      <td>0.0</td>\n",
       "      <td>0.0</td>\n",
       "      <td>0.0</td>\n",
       "      <td>58.112608</td>\n",
       "      <td>57.730682</td>\n",
       "      <td>48.761292</td>\n",
       "      <td>0</td>\n",
       "    </tr>\n",
       "    <tr>\n",
       "      <th>2021-03-02</th>\n",
       "      <td>powiat białystok, podlaskie</td>\n",
       "      <td>7.000000</td>\n",
       "      <td>0.0</td>\n",
       "      <td>91.5</td>\n",
       "      <td>0.0</td>\n",
       "      <td>0.0</td>\n",
       "      <td>2.5</td>\n",
       "      <td>podlaskie</td>\n",
       "      <td>51.666667</td>\n",
       "      <td>0.304191</td>\n",
       "      <td>...</td>\n",
       "      <td>Spring</td>\n",
       "      <td>21.850145</td>\n",
       "      <td>Non Holiday</td>\n",
       "      <td>0.0</td>\n",
       "      <td>0.0</td>\n",
       "      <td>0.0</td>\n",
       "      <td>50.750194</td>\n",
       "      <td>46.867564</td>\n",
       "      <td>38.484418</td>\n",
       "      <td>0</td>\n",
       "    </tr>\n",
       "  </tbody>\n",
       "</table>\n",
       "<p>5 rows × 131 columns</p>\n",
       "</div>"
      ],
      "text/plain": [
       "                                        powiat_voivod  cloud_cover  \\\n",
       "DATE                                                                 \n",
       "2021-03-02  powiat aleksandrowski, kujawsko-pomorskie     5.000000   \n",
       "2021-03-02              powiat augustowski, podlaskie     7.000000   \n",
       "2021-03-02               powiat bełchatowski, łódzkie     4.846046   \n",
       "2021-03-02           powiat biała podlaska, lubelskie     6.000000   \n",
       "2021-03-02                powiat białystok, podlaskie     7.000000   \n",
       "\n",
       "            wind_speed  humidity  precipitation  snow_depth  temperature  \\\n",
       "DATE                                                                       \n",
       "2021-03-02         0.0      92.5            0.0         0.0          2.7   \n",
       "2021-03-02        60.0      90.0            0.0         0.0          2.3   \n",
       "2021-03-02         0.0      85.0            0.0         0.0          3.7   \n",
       "2021-03-02         0.0      89.0            0.0         0.0          3.7   \n",
       "2021-03-02         0.0      91.5            0.0         0.0          2.5   \n",
       "\n",
       "                    voivodship  animal stock - total  \\\n",
       "DATE                                                   \n",
       "2021-03-02  kujawsko-pomorskie             39.393684   \n",
       "2021-03-02           podlaskie             51.660036   \n",
       "2021-03-02             łódzkie             42.485537   \n",
       "2021-03-02           lubelskie             19.326531   \n",
       "2021-03-02           podlaskie             51.666667   \n",
       "\n",
       "            area by land - utilised agricultural area  ...  season  CAQI_lag1  \\\n",
       "DATE                                                   ...                      \n",
       "2021-03-02                                   1.712729  ...  Spring  23.821706   \n",
       "2021-03-02                                   4.947356  ...  Spring  20.593006   \n",
       "2021-03-02                                   3.735109  ...  Spring  21.945455   \n",
       "2021-03-02                                   0.136890  ...  Spring  33.166667   \n",
       "2021-03-02                                   0.304191  ...  Spring  21.850145   \n",
       "\n",
       "            holiday_name  is_school_holiday  is_lockdown  is_have_coalplant  \\\n",
       "DATE                                                                          \n",
       "2021-03-02   Non Holiday                0.0          0.0                0.0   \n",
       "2021-03-02   Non Holiday                0.0          0.0                0.0   \n",
       "2021-03-02   Non Holiday                0.0          0.0                1.0   \n",
       "2021-03-02   Non Holiday                0.0          0.0                0.0   \n",
       "2021-03-02   Non Holiday                0.0          0.0                0.0   \n",
       "\n",
       "            rolling7_CAQI  rolling30_CAQI  rolling90_CAQI  is_weekend  \n",
       "DATE                                                                   \n",
       "2021-03-02      41.629324       44.641164       33.798813           0  \n",
       "2021-03-02      51.103275       39.976399       33.184952           0  \n",
       "2021-03-02      42.552922       40.208157       33.076156           0  \n",
       "2021-03-02      58.112608       57.730682       48.761292           0  \n",
       "2021-03-02      50.750194       46.867564       38.484418           0  \n",
       "\n",
       "[5 rows x 131 columns]"
      ]
     },
     "execution_count": 26,
     "metadata": {},
     "output_type": "execute_result"
    }
   ],
   "source": [
    "test = pd.read_parquet(\"test_temporal_classification.parquet.gz\", engine = \"pyarrow\") \n",
    "test.head()"
   ]
  },
  {
   "cell_type": "code",
   "execution_count": 27,
   "id": "5075f5e2",
   "metadata": {},
   "outputs": [
    {
     "data": {
      "text/plain": [
       "(60390, 131)"
      ]
     },
     "execution_count": 27,
     "metadata": {},
     "output_type": "execute_result"
    }
   ],
   "source": [
    "test.shape"
   ]
  },
  {
   "cell_type": "code",
   "execution_count": 28,
   "id": "06152e16",
   "metadata": {},
   "outputs": [
    {
     "data": {
      "text/plain": [
       "['powiat_voivod',\n",
       " 'cloud_cover',\n",
       " 'wind_speed',\n",
       " 'humidity',\n",
       " 'precipitation',\n",
       " 'snow_depth',\n",
       " 'temperature',\n",
       " 'voivodship',\n",
       " 'animal stock - total',\n",
       " 'area by land - utilised agricultural area',\n",
       " 'area by land - forests',\n",
       " 'area by land - residential areas',\n",
       " 'area by land - industrial lands',\n",
       " 'area by land - recreational and rest areas',\n",
       " 'area by land - lands under waters',\n",
       " 'area by land - wasteland',\n",
       " 'area by land - other area',\n",
       " 'emission of particulates - fugitive',\n",
       " 'emission of particulates - fuel combustion',\n",
       " 'emission of particulates - cement/lime and refractory materials',\n",
       " 'emission of particulates - silicon',\n",
       " 'emission of particulates - chemical fertilizers',\n",
       " 'emission of particulates - surface-active agents',\n",
       " 'emission of particulates - carbon and graphite, soot',\n",
       " 'emission of pollutant gases - fugitive',\n",
       " 'emission of pollutant gases - sulphur dioxide',\n",
       " 'emission of pollutant gases - nitrogen oxides',\n",
       " 'emission of pollutant gases - carbon monoxide',\n",
       " 'emission of pollutant gases - carbon dioxide',\n",
       " 'emission of pollutant gases - methane',\n",
       " 'emission of pollutant gases - dinitrogen monoxide',\n",
       " 'forest area - forests, grand total',\n",
       " 'plants of significant nuisance - total',\n",
       " 'plants of significant nuisance - possessing systems to reduce the emission of particulates',\n",
       " 'plants of significant nuisance - possessing systems to reduce the emission of gases',\n",
       " 'population density - population per 1 km2',\n",
       " 'production of electricity - total',\n",
       " 'production of electricity - water power plants and wind, biomass and wastes power plants, total',\n",
       " 'production of electricity - water power plants',\n",
       " 'production of electricity - thermal power plants, total',\n",
       " 'production of electricity - thermal public power plants',\n",
       " 'production of electricity - thermal autoproducing power plants',\n",
       " 'production of electricity - from renewable energy sources',\n",
       " 'production of electricity - share of renewable energy sources in total production of electricity',\n",
       " 'production of electricity - relation of electricity production to electricity consumption',\n",
       " 'share of green areas - share of parks, lawns and green areas of the housing estate areas in the total area',\n",
       " 'share of green areas - share of green areas in the total area',\n",
       " 'share of urbanized areas - total',\n",
       " 'total vehicles - road vehicles and tractors',\n",
       " 'total vehicles - motorcycles total',\n",
       " 'total vehicles - motorcycles, engine capacity up to 125 cm3',\n",
       " 'total vehicles - passenger cars',\n",
       " 'total vehicles - buses, total',\n",
       " 'total vehicles - lorries',\n",
       " 'total vehicles - goods and persons carrying vehicles',\n",
       " 'total vehicles - special purpose vehicles (including sanitary)',\n",
       " 'total vehicles - road tractors',\n",
       " 'total vehicles - agricultural tractors',\n",
       " 'total vehicles - mopeds',\n",
       " 'air pollution reduction systems - cyclones, equipment - efficiency low',\n",
       " 'air pollution reduction systems - cyclones, equipment - efficiency moderate',\n",
       " 'air pollution reduction systems - cyclones, equipment - efficiency high',\n",
       " 'air pollution reduction systems - cyclones, waste gas flow - efficiency low',\n",
       " 'air pollution reduction systems - cyclones, waste gas flow - efficiency moderate',\n",
       " 'air pollution reduction systems - cyclones, waste gas flow - efficiency high',\n",
       " 'air pollution reduction systems - multicyclones, equipment - efficiency low',\n",
       " 'air pollution reduction systems - multicyclones, equipment - efficiency moderate',\n",
       " 'air pollution reduction systems - multicyclones, equipment - efficiency high',\n",
       " 'air pollution reduction systems - multicyclones, waste gas flow - efficiency low',\n",
       " 'air pollution reduction systems - multicyclones, waste gas flow - efficiency moderate',\n",
       " 'air pollution reduction systems - multicyclones, waste gas flow - efficiency high',\n",
       " 'air pollution reduction systems - fabric filters, equipment - efficiency low',\n",
       " 'air pollution reduction systems - fabric filters, equipment - efficiency moderate',\n",
       " 'air pollution reduction systems - fabric filters, equipment - efficiency high',\n",
       " 'air pollution reduction systems - fabric filters, waste gas flow - efficiency low',\n",
       " 'air pollution reduction systems - fabric filters, waste gas flow - efficiency moderate',\n",
       " 'air pollution reduction systems - fabric filters, waste gas flow - efficiency high',\n",
       " 'air pollution reduction systems - electrofilters, equipment - efficiency low',\n",
       " 'air pollution reduction systems - electrofilters, equipment - efficiency moderate',\n",
       " 'air pollution reduction systems - electrofilters, equipment - efficiency high',\n",
       " 'air pollution reduction systems - electrofilters, waste gas flow - efficiency low',\n",
       " 'air pollution reduction systems - electrofilters, waste gas flow - efficiency moderate',\n",
       " 'air pollution reduction systems - electrofilters, waste gas flow - efficiency high',\n",
       " 'air pollution reduction systems - wet air cleaners, equipment - efficiency low',\n",
       " 'air pollution reduction systems - wet air cleaners, equipment - efficiency moderate',\n",
       " 'air pollution reduction systems - wet air cleaners, equipment - efficiency high',\n",
       " 'air pollution reduction systems - wet air cleaners, waste gas flow - efficiency low',\n",
       " 'air pollution reduction systems - wet air cleaners, waste gas flow - efficiency moderate',\n",
       " 'air pollution reduction systems - wet air cleaners, waste gas flow - efficiency high',\n",
       " 'air pollution reduction systems - others, equipment total',\n",
       " 'air pollution reduction systems - others, total waste gas flow',\n",
       " 'forest fires - number of forest fires, total',\n",
       " 'forest fires - area of forest fires, total',\n",
       " 'vehicles by type and fuel - passenger cars, petrol',\n",
       " 'vehicles by type and fuel - passenger cars, diesel oil',\n",
       " 'vehicles by type and fuel - passenger cars, Liquefied Petroleum Gas',\n",
       " 'vehicles by type and fuel - passenger cars, others',\n",
       " 'vehicles by type and fuel - lorries, petrol',\n",
       " 'vehicles by type and fuel - lorries, diesel oil',\n",
       " 'vehicles by type and fuel - lorries, Liquefied Petroleum Gas',\n",
       " 'vehicles by type and fuel - lorries, others',\n",
       " 'vehicles by type and fuel - busses, petrol',\n",
       " 'vehicles by type and fuel - busses, diesel oil',\n",
       " 'vehicles by type and fuel - busses, Liquefied Petroleum Gas',\n",
       " 'vehicles by type and fuel - busses, others',\n",
       " 'vehicles by type and fuel - road tractors, petrol',\n",
       " 'vehicles by type and fuel - road tractors, diesel oil',\n",
       " 'vehicles by type and fuel - road tractors, Liquefied Petroleum Gas',\n",
       " 'vehicles by type and fuel - road tractors, others',\n",
       " 'crop production - cereals, grand total, area in ha, total',\n",
       " 'crop production - potatoes, area in ha, total',\n",
       " 'crop production - sugar beets, area in ha, total',\n",
       " 'crop production - rape and turnip rape, area in ha, total',\n",
       " 'crop production - permanent meadows, area in ha, total',\n",
       " 'crop production - permanent pastures, area in ha, total',\n",
       " 'CAQI_level',\n",
       " 'isUrban',\n",
       " 'day',\n",
       " 'month',\n",
       " 'year',\n",
       " 'dayofweek',\n",
       " 'season',\n",
       " 'CAQI_lag1',\n",
       " 'holiday_name',\n",
       " 'is_school_holiday',\n",
       " 'is_lockdown',\n",
       " 'is_have_coalplant',\n",
       " 'rolling7_CAQI',\n",
       " 'rolling30_CAQI',\n",
       " 'rolling90_CAQI',\n",
       " 'is_weekend']"
      ]
     },
     "execution_count": 28,
     "metadata": {},
     "output_type": "execute_result"
    }
   ],
   "source": [
    "test.columns.tolist()"
   ]
  },
  {
   "cell_type": "code",
   "execution_count": 29,
   "id": "11f0e62d",
   "metadata": {},
   "outputs": [
    {
     "data": {
      "text/plain": [
       "DATE\n",
       "2021-12-31    2021\n",
       "2021-12-31    2021\n",
       "2021-12-31    2021\n",
       "2021-12-31    2021\n",
       "2021-12-31    2021\n",
       "Name: year, dtype: int64"
      ]
     },
     "execution_count": 29,
     "metadata": {},
     "output_type": "execute_result"
    }
   ],
   "source": [
    "test['year'].tail()"
   ]
  },
  {
   "cell_type": "code",
   "execution_count": 30,
   "id": "2b2968df",
   "metadata": {},
   "outputs": [
    {
     "data": {
      "text/plain": [
       "vlow      31913\n",
       "low       24346\n",
       "medium     3683\n",
       "high        435\n",
       "vhigh        13\n",
       "Name: CAQI_level, dtype: int64"
      ]
     },
     "execution_count": 30,
     "metadata": {},
     "output_type": "execute_result"
    }
   ],
   "source": [
    "test['CAQI_level'].value_counts()"
   ]
  },
  {
   "cell_type": "code",
   "execution_count": 31,
   "id": "9666291b",
   "metadata": {},
   "outputs": [],
   "source": [
    "# combine high and vhigh to a single category, as we want to see how it will affect the accuracy of model\n",
    "test['CAQI_level'] = test['CAQI_level'].replace({'vhigh':'high'})"
   ]
  },
  {
   "cell_type": "code",
   "execution_count": 32,
   "id": "5fb82d29",
   "metadata": {},
   "outputs": [
    {
     "data": {
      "text/plain": [
       "vlow      31913\n",
       "low       24346\n",
       "medium     3683\n",
       "high        448\n",
       "Name: CAQI_level, dtype: int64"
      ]
     },
     "execution_count": 32,
     "metadata": {},
     "output_type": "execute_result"
    }
   ],
   "source": [
    "test['CAQI_level'].value_counts()"
   ]
  },
  {
   "cell_type": "code",
   "execution_count": 33,
   "id": "c4dbc84e",
   "metadata": {},
   "outputs": [],
   "source": [
    "# The ordered mapping of the labels to their categories \n",
    "#mapping = {'vlow': 0, 'low': 1, 'medium': 2, 'high': 3, 'vhigh':4}\n",
    "mapping = {'vlow': 0, 'low': 1, 'medium': 2, 'high': 3}\n",
    "\n",
    "test['CAQI_level'] = test['CAQI_level'].replace(mapping)"
   ]
  },
  {
   "cell_type": "code",
   "execution_count": 34,
   "id": "58d055d8",
   "metadata": {},
   "outputs": [],
   "source": [
    "# encoding the other categorical columns:\n",
    "cat_cols = ['powiat_voivod', 'voivodship', 'season', 'holiday_name']\n",
    "for col in cat_cols:\n",
    "    le = LabelEncoder()\n",
    "    test['powiat_voivod_encoded'] = le.fit_transform(test['powiat_voivod'])\n",
    "    test['voivodship_encoded'] = le.fit_transform(test['voivodship'])\n",
    "    test['season_encoded'] = le.fit_transform(test['season'])\n",
    "    test['holiday_name_encoded'] = le.fit_transform(test['holiday_name'])"
   ]
  },
  {
   "cell_type": "code",
   "execution_count": 35,
   "id": "aa02f23b",
   "metadata": {},
   "outputs": [],
   "source": [
    "# Remove any special characters from the column names\n",
    "train.columns = [re.sub('[^0-9a-zA-Z]+', '_', col) for col in train.columns]"
   ]
  },
  {
   "cell_type": "code",
   "execution_count": 36,
   "id": "ba7bdad6",
   "metadata": {},
   "outputs": [
    {
     "data": {
      "text/plain": [
       "0    31913\n",
       "1    24346\n",
       "2     3683\n",
       "3      448\n",
       "Name: CAQI_level, dtype: int64"
      ]
     },
     "execution_count": 36,
     "metadata": {},
     "output_type": "execute_result"
    }
   ],
   "source": [
    "test['CAQI_level'].value_counts()"
   ]
  },
  {
   "cell_type": "code",
   "execution_count": 37,
   "id": "92c6ddc0",
   "metadata": {},
   "outputs": [
    {
     "data": {
      "text/plain": [
       "2021"
      ]
     },
     "execution_count": 37,
     "metadata": {},
     "output_type": "execute_result"
    }
   ],
   "source": [
    "test['year'].max()"
   ]
  },
  {
   "cell_type": "code",
   "execution_count": 38,
   "id": "486232f6",
   "metadata": {},
   "outputs": [
    {
     "data": {
      "text/plain": [
       "(60390, 135)"
      ]
     },
     "execution_count": 38,
     "metadata": {},
     "output_type": "execute_result"
    }
   ],
   "source": [
    "test.shape"
   ]
  },
  {
   "cell_type": "markdown",
   "id": "63753507",
   "metadata": {},
   "source": [
    "--- \n",
    "\n",
    "## Train and Test data are ready for use"
   ]
  },
  {
   "cell_type": "code",
   "execution_count": 39,
   "id": "be41e5a1",
   "metadata": {},
   "outputs": [],
   "source": [
    "# defining the features and target variable\n",
    "X_train = train.drop(['CAQI_level','powiat_voivod', 'voivodship', 'season', 'holiday_name'], axis=1)\n",
    "y_train = train['CAQI_level']\n",
    "X_test = test.drop(['CAQI_level','powiat_voivod', 'voivodship', 'season', 'holiday_name',], axis=1)\n",
    "y_test = test['CAQI_level']"
   ]
  },
  {
   "cell_type": "code",
   "execution_count": 40,
   "id": "a932975d",
   "metadata": {},
   "outputs": [
    {
     "name": "stdout",
     "output_type": "stream",
     "text": [
      "<class 'pandas.core.frame.DataFrame'>\n",
      "DatetimeIndex: 246906 entries, 2017-01-01 to 2020-05-31\n",
      "Columns: 130 entries, cloud_cover to holiday_name_encoded\n",
      "dtypes: float64(120), int32(5), int64(5)\n",
      "memory usage: 242.1 MB\n"
     ]
    }
   ],
   "source": [
    "X_train.info()"
   ]
  },
  {
   "cell_type": "code",
   "execution_count": 41,
   "id": "d53b8f53",
   "metadata": {},
   "outputs": [
    {
     "name": "stdout",
     "output_type": "stream",
     "text": [
      "<class 'pandas.core.frame.DataFrame'>\n",
      "DatetimeIndex: 60390 entries, 2021-03-02 to 2021-12-31\n",
      "Columns: 130 entries, cloud_cover to holiday_name_encoded\n",
      "dtypes: float64(120), int32(5), int64(5)\n",
      "memory usage: 59.2 MB\n"
     ]
    }
   ],
   "source": [
    "X_test.info()"
   ]
  },
  {
   "cell_type": "code",
   "execution_count": 42,
   "id": "4b37e00d",
   "metadata": {},
   "outputs": [
    {
     "data": {
      "text/plain": [
       "(60390, 130)"
      ]
     },
     "execution_count": 42,
     "metadata": {},
     "output_type": "execute_result"
    }
   ],
   "source": [
    "X_test.shape"
   ]
  },
  {
   "cell_type": "code",
   "execution_count": 43,
   "id": "4c246e12",
   "metadata": {},
   "outputs": [
    {
     "data": {
      "text/plain": [
       "['cloud_cover',\n",
       " 'wind_speed',\n",
       " 'humidity',\n",
       " 'precipitation',\n",
       " 'snow_depth',\n",
       " 'temperature',\n",
       " 'animal_stock_total',\n",
       " 'area_by_land_utilised_agricultural_area',\n",
       " 'area_by_land_forests',\n",
       " 'area_by_land_residential_areas',\n",
       " 'area_by_land_industrial_lands',\n",
       " 'area_by_land_recreational_and_rest_areas',\n",
       " 'area_by_land_lands_under_waters',\n",
       " 'area_by_land_wasteland',\n",
       " 'area_by_land_other_area',\n",
       " 'emission_of_particulates_fugitive',\n",
       " 'emission_of_particulates_fuel_combustion',\n",
       " 'emission_of_particulates_cement_lime_and_refractory_materials',\n",
       " 'emission_of_particulates_silicon',\n",
       " 'emission_of_particulates_chemical_fertilizers',\n",
       " 'emission_of_particulates_surface_active_agents',\n",
       " 'emission_of_particulates_carbon_and_graphite_soot',\n",
       " 'emission_of_pollutant_gases_fugitive',\n",
       " 'emission_of_pollutant_gases_sulphur_dioxide',\n",
       " 'emission_of_pollutant_gases_nitrogen_oxides',\n",
       " 'emission_of_pollutant_gases_carbon_monoxide',\n",
       " 'emission_of_pollutant_gases_carbon_dioxide',\n",
       " 'emission_of_pollutant_gases_methane',\n",
       " 'emission_of_pollutant_gases_dinitrogen_monoxide',\n",
       " 'forest_area_forests_grand_total',\n",
       " 'plants_of_significant_nuisance_total',\n",
       " 'plants_of_significant_nuisance_possessing_systems_to_reduce_the_emission_of_particulates',\n",
       " 'plants_of_significant_nuisance_possessing_systems_to_reduce_the_emission_of_gases',\n",
       " 'population_density_population_per_1_km2',\n",
       " 'production_of_electricity_total',\n",
       " 'production_of_electricity_water_power_plants_and_wind_biomass_and_wastes_power_plants_total',\n",
       " 'production_of_electricity_water_power_plants',\n",
       " 'production_of_electricity_thermal_power_plants_total',\n",
       " 'production_of_electricity_thermal_public_power_plants',\n",
       " 'production_of_electricity_thermal_autoproducing_power_plants',\n",
       " 'production_of_electricity_from_renewable_energy_sources',\n",
       " 'production_of_electricity_share_of_renewable_energy_sources_in_total_production_of_electricity',\n",
       " 'production_of_electricity_relation_of_electricity_production_to_electricity_consumption',\n",
       " 'share_of_green_areas_share_of_parks_lawns_and_green_areas_of_the_housing_estate_areas_in_the_total_area',\n",
       " 'share_of_green_areas_share_of_green_areas_in_the_total_area',\n",
       " 'share_of_urbanized_areas_total',\n",
       " 'total_vehicles_road_vehicles_and_tractors',\n",
       " 'total_vehicles_motorcycles_total',\n",
       " 'total_vehicles_motorcycles_engine_capacity_up_to_125_cm3',\n",
       " 'total_vehicles_passenger_cars',\n",
       " 'total_vehicles_buses_total',\n",
       " 'total_vehicles_lorries',\n",
       " 'total_vehicles_goods_and_persons_carrying_vehicles',\n",
       " 'total_vehicles_special_purpose_vehicles_including_sanitary_',\n",
       " 'total_vehicles_road_tractors',\n",
       " 'total_vehicles_agricultural_tractors',\n",
       " 'total_vehicles_mopeds',\n",
       " 'air_pollution_reduction_systems_cyclones_equipment_efficiency_low',\n",
       " 'air_pollution_reduction_systems_cyclones_equipment_efficiency_moderate',\n",
       " 'air_pollution_reduction_systems_cyclones_equipment_efficiency_high',\n",
       " 'air_pollution_reduction_systems_cyclones_waste_gas_flow_efficiency_low',\n",
       " 'air_pollution_reduction_systems_cyclones_waste_gas_flow_efficiency_moderate',\n",
       " 'air_pollution_reduction_systems_cyclones_waste_gas_flow_efficiency_high',\n",
       " 'air_pollution_reduction_systems_multicyclones_equipment_efficiency_low',\n",
       " 'air_pollution_reduction_systems_multicyclones_equipment_efficiency_moderate',\n",
       " 'air_pollution_reduction_systems_multicyclones_equipment_efficiency_high',\n",
       " 'air_pollution_reduction_systems_multicyclones_waste_gas_flow_efficiency_low',\n",
       " 'air_pollution_reduction_systems_multicyclones_waste_gas_flow_efficiency_moderate',\n",
       " 'air_pollution_reduction_systems_multicyclones_waste_gas_flow_efficiency_high',\n",
       " 'air_pollution_reduction_systems_fabric_filters_equipment_efficiency_low',\n",
       " 'air_pollution_reduction_systems_fabric_filters_equipment_efficiency_moderate',\n",
       " 'air_pollution_reduction_systems_fabric_filters_equipment_efficiency_high',\n",
       " 'air_pollution_reduction_systems_fabric_filters_waste_gas_flow_efficiency_low',\n",
       " 'air_pollution_reduction_systems_fabric_filters_waste_gas_flow_efficiency_moderate',\n",
       " 'air_pollution_reduction_systems_fabric_filters_waste_gas_flow_efficiency_high',\n",
       " 'air_pollution_reduction_systems_electrofilters_equipment_efficiency_low',\n",
       " 'air_pollution_reduction_systems_electrofilters_equipment_efficiency_moderate',\n",
       " 'air_pollution_reduction_systems_electrofilters_equipment_efficiency_high',\n",
       " 'air_pollution_reduction_systems_electrofilters_waste_gas_flow_efficiency_low',\n",
       " 'air_pollution_reduction_systems_electrofilters_waste_gas_flow_efficiency_moderate',\n",
       " 'air_pollution_reduction_systems_electrofilters_waste_gas_flow_efficiency_high',\n",
       " 'air_pollution_reduction_systems_wet_air_cleaners_equipment_efficiency_low',\n",
       " 'air_pollution_reduction_systems_wet_air_cleaners_equipment_efficiency_moderate',\n",
       " 'air_pollution_reduction_systems_wet_air_cleaners_equipment_efficiency_high',\n",
       " 'air_pollution_reduction_systems_wet_air_cleaners_waste_gas_flow_efficiency_low',\n",
       " 'air_pollution_reduction_systems_wet_air_cleaners_waste_gas_flow_efficiency_moderate',\n",
       " 'air_pollution_reduction_systems_wet_air_cleaners_waste_gas_flow_efficiency_high',\n",
       " 'air_pollution_reduction_systems_others_equipment_total',\n",
       " 'air_pollution_reduction_systems_others_total_waste_gas_flow',\n",
       " 'forest_fires_number_of_forest_fires_total',\n",
       " 'forest_fires_area_of_forest_fires_total',\n",
       " 'vehicles_by_type_and_fuel_passenger_cars_petrol',\n",
       " 'vehicles_by_type_and_fuel_passenger_cars_diesel_oil',\n",
       " 'vehicles_by_type_and_fuel_passenger_cars_Liquefied_Petroleum_Gas',\n",
       " 'vehicles_by_type_and_fuel_passenger_cars_others',\n",
       " 'vehicles_by_type_and_fuel_lorries_petrol',\n",
       " 'vehicles_by_type_and_fuel_lorries_diesel_oil',\n",
       " 'vehicles_by_type_and_fuel_lorries_Liquefied_Petroleum_Gas',\n",
       " 'vehicles_by_type_and_fuel_lorries_others',\n",
       " 'vehicles_by_type_and_fuel_busses_petrol',\n",
       " 'vehicles_by_type_and_fuel_busses_diesel_oil',\n",
       " 'vehicles_by_type_and_fuel_busses_Liquefied_Petroleum_Gas',\n",
       " 'vehicles_by_type_and_fuel_busses_others',\n",
       " 'vehicles_by_type_and_fuel_road_tractors_petrol',\n",
       " 'vehicles_by_type_and_fuel_road_tractors_diesel_oil',\n",
       " 'vehicles_by_type_and_fuel_road_tractors_Liquefied_Petroleum_Gas',\n",
       " 'vehicles_by_type_and_fuel_road_tractors_others',\n",
       " 'crop_production_cereals_grand_total_area_in_ha_total',\n",
       " 'crop_production_potatoes_area_in_ha_total',\n",
       " 'crop_production_sugar_beets_area_in_ha_total',\n",
       " 'crop_production_rape_and_turnip_rape_area_in_ha_total',\n",
       " 'crop_production_permanent_meadows_area_in_ha_total',\n",
       " 'crop_production_permanent_pastures_area_in_ha_total',\n",
       " 'isUrban',\n",
       " 'day',\n",
       " 'month',\n",
       " 'year',\n",
       " 'dayofweek',\n",
       " 'CAQI_lag1',\n",
       " 'is_school_holiday',\n",
       " 'is_lockdown',\n",
       " 'is_have_coalplant',\n",
       " 'rolling7_CAQI',\n",
       " 'rolling30_CAQI',\n",
       " 'rolling90_CAQI',\n",
       " 'is_weekend',\n",
       " 'powiat_voivod_encoded',\n",
       " 'voivodship_encoded',\n",
       " 'season_encoded',\n",
       " 'holiday_name_encoded']"
      ]
     },
     "execution_count": 43,
     "metadata": {},
     "output_type": "execute_result"
    }
   ],
   "source": [
    "X_train.columns.tolist()"
   ]
  },
  {
   "cell_type": "code",
   "execution_count": 44,
   "id": "eaf0a62e",
   "metadata": {},
   "outputs": [
    {
     "data": {
      "text/plain": [
       "(246906, 130)"
      ]
     },
     "execution_count": 44,
     "metadata": {},
     "output_type": "execute_result"
    }
   ],
   "source": [
    "X_train.shape"
   ]
  },
  {
   "cell_type": "code",
   "execution_count": 45,
   "id": "35375c46",
   "metadata": {},
   "outputs": [
    {
     "data": {
      "text/plain": [
       "(246906,)"
      ]
     },
     "execution_count": 45,
     "metadata": {},
     "output_type": "execute_result"
    }
   ],
   "source": [
    "y_train.shape"
   ]
  },
  {
   "cell_type": "code",
   "execution_count": 46,
   "id": "188213c4",
   "metadata": {},
   "outputs": [],
   "source": [
    "#from sklearn.model_selection import GridSearchCV\n",
    "#from lightgbm import LGBMClassifier\n",
    "\n",
    "# Define the parameter grid\n",
    "#param_grid = {\n",
    "#    'n_estimators': [100, 200, 500],\n",
    "#    'learning_rate': [0.01, 0.05, 0.1],\n",
    "#    'max_depth': [3, 5, 7]\n",
    "#}\n",
    "\n",
    "# Create the GridSearchCV object\n",
    "#grid_search = GridSearchCV(\n",
    "#    estimator=LGBMClassifier(),\n",
    "#    param_grid=param_grid,\n",
    "#    cv=5,  # specify the number of folds for cross-validation\n",
    "#    scoring='accuracy',\n",
    "#    n_jobs=-1  # use all available processors to speed up the computation\n",
    "#)\n",
    "\n",
    "# Fit the GridSearchCV object to the data\n",
    "#grid_search.fit(X_train, y_train)\n",
    "\n",
    "# Print the best hyperparameters\n",
    "#print(\"Best hyperparameters:\", grid_search.best_params_)\n"
   ]
  },
  {
   "cell_type": "code",
   "execution_count": 47,
   "id": "f803931b",
   "metadata": {},
   "outputs": [],
   "source": [
    "# Initialize the LightGBM classifier with the best hyperparameters\n",
    "#lgbm = LGBMClassifier(\n",
    "#    n_estimators=grid_search.best_params_['n_estimators'],\n",
    "#    learning_rate=grid_search.best_params_['learning_rate'],\n",
    "#    max_depth=grid_search.best_params_['max_depth']\n",
    "#)\n",
    "\n",
    "# Fit the model on the training set\n",
    "#lgbm.fit(X_train, y_train)"
   ]
  },
  {
   "cell_type": "code",
   "execution_count": 48,
   "id": "dbfa987b",
   "metadata": {},
   "outputs": [
    {
     "data": {
      "text/plain": [
       "LGBMClassifier()"
      ]
     },
     "execution_count": 48,
     "metadata": {},
     "output_type": "execute_result"
    }
   ],
   "source": [
    "# initializing the LightGBM classifier\n",
    "lgbm = LGBMClassifier()\n",
    "\n",
    "# we fit the model on the training set\n",
    "lgbm.fit(X_train, y_train)"
   ]
  },
  {
   "cell_type": "code",
   "execution_count": 49,
   "id": "e8dce978",
   "metadata": {},
   "outputs": [
    {
     "name": "stdout",
     "output_type": "stream",
     "text": [
      "Model Accuracy: 0.7519125683060109\n"
     ]
    }
   ],
   "source": [
    "# Predict on the test set\n",
    "y_pred = lgbm.predict(X_test)\n",
    "\n",
    "# Accuracy score:\n",
    "model_accuracy = accuracy_score(y_test, y_pred)\n",
    "print(\"Model Accuracy:\", model_accuracy)"
   ]
  },
  {
   "cell_type": "markdown",
   "id": "00d3f1a8",
   "metadata": {},
   "source": [
    "---\n",
    "\n",
    "Note:\n",
    "1. Model Accuracy: 0.7519125683060109 (**75.19%**) (After we combined the 2 categorical values in 'CAQI_level')\n",
    "2. Model Accuracy: 0.7480046365292267 (**74.80%**) (**w.o** combining the 2 categorical values).\n",
    "<br>\n",
    "\n",
    "- Comparing these two results, we can see that there is a minor difference in accuracy between the different preprocessing techniques. Specifically, combining the 'high' and 'vhigh' values in the 'CAQI_level' column slightly increased the accuracy of the model, while not combining them resulted in a slightly lower accuracy.\n",
    "\n",
    "3. Model Accuracy: **74.65%** (With best LightGBM hyperparameters employed by GridsearchCV + combined values)\n",
    "4. Model Accuracy: **74.71%** (With best LightGBM hyperparameters employed by GridsearchCV + **w.o** combined values)\n",
    "<br>\n",
    "\n",
    "In order to show the better accuracy I have combined the 2 categories and skipped using GridSearchCV, in this notebook.\n",
    "\n",
    "- Therefore, the overall accuracy of the model is 0.7519, indicating that **75.19%** of the predictions were correct\n",
    "\n",
    "---"
   ]
  },
  {
   "cell_type": "markdown",
   "id": "6a8d363a",
   "metadata": {},
   "source": [
    "### Model Evaluation:"
   ]
  },
  {
   "cell_type": "code",
   "execution_count": 50,
   "id": "18e2f66d",
   "metadata": {},
   "outputs": [
    {
     "name": "stdout",
     "output_type": "stream",
     "text": [
      "              precision    recall  f1-score   support\n",
      "\n",
      "           0       0.81      0.83      0.82     31913\n",
      "           1       0.70      0.71      0.71     24346\n",
      "           2       0.56      0.35      0.43      3683\n",
      "           3       0.46      0.24      0.31       448\n",
      "\n",
      "    accuracy                           0.75     60390\n",
      "   macro avg       0.63      0.53      0.57     60390\n",
      "weighted avg       0.75      0.75      0.75     60390\n",
      "\n"
     ]
    }
   ],
   "source": [
    "# Evaluating the model performance\n",
    "from sklearn.metrics import classification_report\n",
    "print(classification_report(y_test, y_pred))"
   ]
  },
  {
   "cell_type": "markdown",
   "id": "e8d00235",
   "metadata": {},
   "source": [
    "Label encoding mapping: \n",
    "'vlow': 0, 'low': 1, 'medium': 2, 'high': 3"
   ]
  },
  {
   "cell_type": "markdown",
   "id": "be25be70",
   "metadata": {},
   "source": [
    "### F1 scores:\n",
    "- F1 score is the harmonic mean of precision and recall, which means that the F1 score will tell you the model’s balanced ability to both capture positive cases (recall) and be accurate with the cases it does capture (precision).\n",
    "\n",
    "- In this case, the F1-score for class 0 is 0.82, for class 1 it is 0.71, for class 2 it is 0.43, and for class 3 it is 0.31.\n",
    "\n",
    "- View https://stephenallwright.com/good-f1-score/ to learn more about the F1 score and other classification measures."
   ]
  },
  {
   "cell_type": "code",
   "execution_count": 51,
   "id": "d1179b3c",
   "metadata": {},
   "outputs": [
    {
     "name": "stdout",
     "output_type": "stream",
     "text": [
      "[[26637  5166   100    10]\n",
      " [ 6271 17387   655    33]\n",
      " [  111  2212  1278    82]\n",
      " [    4    69   269   106]]\n"
     ]
    }
   ],
   "source": [
    "from sklearn.metrics import confusion_matrix\n",
    "import seaborn as sns\n",
    "\n",
    "cm = confusion_matrix(y_test, y_pred)\n",
    "\n",
    "print(cm)"
   ]
  },
  {
   "cell_type": "markdown",
   "id": "4ebb79b0",
   "metadata": {},
   "source": [
    "### Based on the confusion matrix, we can see that:\n",
    "\n",
    "- **26,637** samples were correctly predicted as class 0 (true negatives).\n",
    "- **17,387** samples were correctly predicted as class 1 (true positives).\n",
    "- **1,278** samples were correctly predicted as class 2 (true positives).\n",
    "- **106** samples were correctly predicted as class 3 (true positives).\n",
    "<br>\n",
    "\n",
    "- **6,271** samples were incorrectly predicted as class 0, when the actual class was 1 (false negatives).\n",
    "- **2,212** samples were incorrectly predicted as class 0, when the actual class was 2 (false negatives).\n",
    "- **269** samples were incorrectly predicted as class 0, when the actual class was 3 (false negatives).\n",
    "<br>\n",
    "\n",
    "- **5,166** samples were incorrectly predicted as class 1, when the actual class was 0 (false positives).\n",
    "- **655** samples were incorrectly predicted as class 1, when the actual class was 2 (false positives).\n",
    "- **33** samples were incorrectly predicted as class 1, when the actual class was 3 (false positives).\n",
    "- **100** samples were incorrectly predicted as class 2, when the actual class was 0 (false positives).\n",
    "- **82** samples were incorrectly predicted as class 2, when the actual class was 3 (false positives).\n",
    "- **10** samples were incorrectly predicted as class 3, when the actual class was 0 (false positives).\n",
    "- **69** samples were incorrectly predicted as class 3, when the actual class was 1 (false positives).\n",
    "- **269** samples were incorrectly predicted as class 3, when the actual class was 2 (false positives).\n",
    "\n",
    "Overall, the confusion matrix provides a summary of the model's performance and helps to evaluate how well the model is able to correctly classify the samples."
   ]
  },
  {
   "cell_type": "markdown",
   "id": "93fd8f9f",
   "metadata": {},
   "source": [
    "### Confusion matrix visualized:"
   ]
  },
  {
   "cell_type": "code",
   "execution_count": 52,
   "id": "b6a69689",
   "metadata": {},
   "outputs": [
    {
     "data": {
      "image/png": "[encoded data removed]",
      "text/plain": [
       "<Figure size 640x480 with 2 Axes>"
      ]
     },
     "metadata": {},
     "output_type": "display_data"
    }
   ],
   "source": [
    "# confusion matrix\n",
    "cm = np.array([[26637, 5166, 100, 10],\n",
    "               [6271, 17387, 655, 33],\n",
    "               [111, 2212, 1278, 82],\n",
    "               [4, 69, 269, 106]])\n",
    "\n",
    "# Class labels\n",
    "class_names = ['Vlow: 0', 'Low: 1', 'Medium: 2', 'High: 3']\n",
    "\n",
    "# Heatmap plot of the confusion matrix\n",
    "sns.heatmap(cm, annot=True, fmt='d', cmap='Blues', xticklabels=class_names, yticklabels=class_names)\n",
    "\n",
    "# Plot labels and title\n",
    "plt.title('Confusion Matrix')\n",
    "plt.xlabel('Predicted label')\n",
    "plt.ylabel('True label')\n",
    "plt.show()\n"
   ]
  },
  {
   "cell_type": "markdown",
   "id": "b4ca1801",
   "metadata": {},
   "source": [
    "---\n",
    "\n",
    "## Feature Importance:"
   ]
  },
  {
   "cell_type": "code",
   "execution_count": 53,
   "id": "a3100062",
   "metadata": {},
   "outputs": [
    {
     "name": "stdout",
     "output_type": "stream",
     "text": [
      "[['temperature' 1331]\n",
      " ['day' 1293]\n",
      " ['CAQI_lag1' 1089]\n",
      " ['wind_speed' 783]\n",
      " ['month' 775]\n",
      " ['dayofweek' 768]\n",
      " ['rolling30_CAQI' 622]\n",
      " ['rolling90_CAQI' 444]\n",
      " ['rolling7_CAQI' 442]\n",
      " ['cloud_cover' 437]\n",
      " ['humidity' 416]\n",
      " ['precipitation' 272]\n",
      " ['year' 261]\n",
      " ['season_encoded' 195]\n",
      " ['holiday_name_encoded' 174]\n",
      " ['snow_depth' 88]\n",
      " ['forest_fires_area_of_forest_fires_total' 74]\n",
      " ['crop_production_rape_and_turnip_rape_area_in_ha_total' 64]\n",
      " ['crop_production_permanent_meadows_area_in_ha_total' 63]\n",
      " ['animal_stock_total' 62]\n",
      " ['crop_production_cereals_grand_total_area_in_ha_total' 59]\n",
      " ['crop_production_potatoes_area_in_ha_total' 58]\n",
      " ['powiat_voivod_encoded' 57]\n",
      " ['is_school_holiday' 57]\n",
      " ['forest_fires_number_of_forest_fires_total' 57]\n",
      " ['crop_production_permanent_pastures_area_in_ha_total' 54]\n",
      " ['share_of_green_areas_share_of_green_areas_in_the_total_area' 51]\n",
      " ['area_by_land_utilised_agricultural_area' 47]\n",
      " ['area_by_land_residential_areas' 46]\n",
      " ['forest_area_forests_grand_total' 45]\n",
      " ['total_vehicles_goods_and_persons_carrying_vehicles' 44]\n",
      " ['vehicles_by_type_and_fuel_road_tractors_others' 42]\n",
      " ['crop_production_sugar_beets_area_in_ha_total' 41]\n",
      " ['air_pollution_reduction_systems_wet_air_cleaners_waste_gas_flow_efficiency_moderate'\n",
      "  41]\n",
      " ['area_by_land_forests' 40]\n",
      " ['air_pollution_reduction_systems_electrofilters_waste_gas_flow_efficiency_low'\n",
      "  40]\n",
      " ['vehicles_by_type_and_fuel_busses_others' 39]\n",
      " ['production_of_electricity_share_of_renewable_energy_sources_in_total_production_of_electricity'\n",
      "  39]\n",
      " ['air_pollution_reduction_systems_cyclones_waste_gas_flow_efficiency_high'\n",
      "  38]\n",
      " ['production_of_electricity_from_renewable_energy_sources' 37]\n",
      " ['total_vehicles_agricultural_tractors' 37]\n",
      " ['production_of_electricity_water_power_plants_and_wind_biomass_and_wastes_power_plants_total'\n",
      "  37]\n",
      " ['vehicles_by_type_and_fuel_busses_Liquefied_Petroleum_Gas' 37]\n",
      " ['vehicles_by_type_and_fuel_busses_petrol' 37]\n",
      " ['air_pollution_reduction_systems_multicyclones_waste_gas_flow_efficiency_high'\n",
      "  35]\n",
      " ['area_by_land_lands_under_waters' 35]\n",
      " ['total_vehicles_special_purpose_vehicles_including_sanitary_' 34]\n",
      " ['area_by_land_wasteland' 33]\n",
      " ['total_vehicles_motorcycles_engine_capacity_up_to_125_cm3' 32]\n",
      " ['vehicles_by_type_and_fuel_lorries_petrol' 31]\n",
      " ['emission_of_pollutant_gases_fugitive' 31]\n",
      " ['total_vehicles_road_tractors' 29]\n",
      " ['air_pollution_reduction_systems_electrofilters_waste_gas_flow_efficiency_moderate'\n",
      "  29]\n",
      " ['air_pollution_reduction_systems_multicyclones_waste_gas_flow_efficiency_moderate'\n",
      "  28]\n",
      " ['emission_of_pollutant_gases_methane' 26]\n",
      " ['vehicles_by_type_and_fuel_passenger_cars_others' 26]\n",
      " ['vehicles_by_type_and_fuel_lorries_others' 26]\n",
      " ['air_pollution_reduction_systems_fabric_filters_equipment_efficiency_high'\n",
      "  26]\n",
      " ['emission_of_pollutant_gases_carbon_monoxide' 25]\n",
      " ['emission_of_particulates_carbon_and_graphite_soot' 24]\n",
      " ['vehicles_by_type_and_fuel_road_tractors_petrol' 24]\n",
      " ['production_of_electricity_water_power_plants' 24]\n",
      " ['total_vehicles_buses_total' 23]\n",
      " ['emission_of_pollutant_gases_nitrogen_oxides' 23]\n",
      " ['air_pollution_reduction_systems_fabric_filters_waste_gas_flow_efficiency_low'\n",
      "  23]\n",
      " ['is_lockdown' 23]\n",
      " ['air_pollution_reduction_systems_cyclones_waste_gas_flow_efficiency_moderate'\n",
      "  23]\n",
      " ['area_by_land_recreational_and_rest_areas' 23]\n",
      " ['total_vehicles_motorcycles_total' 22]\n",
      " ['production_of_electricity_relation_of_electricity_production_to_electricity_consumption'\n",
      "  22]\n",
      " ['voivodship_encoded' 22]\n",
      " ['total_vehicles_mopeds' 20]\n",
      " ['vehicles_by_type_and_fuel_road_tractors_diesel_oil' 20]\n",
      " ['area_by_land_industrial_lands' 19]\n",
      " ['air_pollution_reduction_systems_others_total_waste_gas_flow' 19]\n",
      " ['air_pollution_reduction_systems_wet_air_cleaners_waste_gas_flow_efficiency_high'\n",
      "  19]\n",
      " ['emission_of_particulates_fuel_combustion' 19]\n",
      " ['emission_of_pollutant_gases_carbon_dioxide' 19]\n",
      " ['vehicles_by_type_and_fuel_road_tractors_Liquefied_Petroleum_Gas' 18]\n",
      " ['air_pollution_reduction_systems_fabric_filters_waste_gas_flow_efficiency_moderate'\n",
      "  18]\n",
      " ['vehicles_by_type_and_fuel_lorries_diesel_oil' 17]\n",
      " ['vehicles_by_type_and_fuel_busses_diesel_oil' 17]\n",
      " ['air_pollution_reduction_systems_electrofilters_waste_gas_flow_efficiency_high'\n",
      "  16]\n",
      " ['air_pollution_reduction_systems_fabric_filters_waste_gas_flow_efficiency_high'\n",
      "  16]\n",
      " ['air_pollution_reduction_systems_wet_air_cleaners_waste_gas_flow_efficiency_low'\n",
      "  15]\n",
      " ['total_vehicles_lorries' 15]\n",
      " ['vehicles_by_type_and_fuel_passenger_cars_Liquefied_Petroleum_Gas' 15]\n",
      " ['emission_of_particulates_silicon' 14]\n",
      " ['share_of_green_areas_share_of_parks_lawns_and_green_areas_of_the_housing_estate_areas_in_the_total_area'\n",
      "  13]\n",
      " ['emission_of_pollutant_gases_sulphur_dioxide' 12]\n",
      " ['air_pollution_reduction_systems_fabric_filters_equipment_efficiency_moderate'\n",
      "  12]\n",
      " ['production_of_electricity_total' 12]\n",
      " ['area_by_land_other_area' 12]\n",
      " ['air_pollution_reduction_systems_cyclones_waste_gas_flow_efficiency_low'\n",
      "  11]\n",
      " ['vehicles_by_type_and_fuel_passenger_cars_diesel_oil' 11]\n",
      " ['vehicles_by_type_and_fuel_lorries_Liquefied_Petroleum_Gas' 10]\n",
      " ['air_pollution_reduction_systems_multicyclones_equipment_efficiency_high'\n",
      "  10]\n",
      " ['vehicles_by_type_and_fuel_passenger_cars_petrol' 10]\n",
      " ['emission_of_particulates_cement_lime_and_refractory_materials' 10]\n",
      " ['production_of_electricity_thermal_power_plants_total' 10]\n",
      " ['total_vehicles_passenger_cars' 10]\n",
      " ['air_pollution_reduction_systems_multicyclones_waste_gas_flow_efficiency_low'\n",
      "  9]\n",
      " ['share_of_urbanized_areas_total' 9]\n",
      " ['plants_of_significant_nuisance_possessing_systems_to_reduce_the_emission_of_particulates'\n",
      "  8]\n",
      " ['total_vehicles_road_vehicles_and_tractors' 8]\n",
      " ['air_pollution_reduction_systems_cyclones_equipment_efficiency_low' 8]\n",
      " ['emission_of_particulates_fugitive' 8]\n",
      " ['plants_of_significant_nuisance_total' 7]\n",
      " ['population_density_population_per_1_km2' 7]\n",
      " ['air_pollution_reduction_systems_cyclones_equipment_efficiency_high' 6]\n",
      " ['production_of_electricity_thermal_autoproducing_power_plants' 6]\n",
      " ['emission_of_pollutant_gases_dinitrogen_monoxide' 6]\n",
      " ['air_pollution_reduction_systems_fabric_filters_equipment_efficiency_low'\n",
      "  5]\n",
      " ['air_pollution_reduction_systems_others_equipment_total' 4]\n",
      " ['air_pollution_reduction_systems_cyclones_equipment_efficiency_moderate'\n",
      "  3]\n",
      " ['air_pollution_reduction_systems_multicyclones_equipment_efficiency_moderate'\n",
      "  2]\n",
      " ['air_pollution_reduction_systems_wet_air_cleaners_equipment_efficiency_high'\n",
      "  2]\n",
      " ['air_pollution_reduction_systems_electrofilters_equipment_efficiency_high'\n",
      "  2]\n",
      " ['plants_of_significant_nuisance_possessing_systems_to_reduce_the_emission_of_gases'\n",
      "  2]\n",
      " ['is_have_coalplant' 1]\n",
      " ['emission_of_particulates_chemical_fertilizers' 1]\n",
      " ['air_pollution_reduction_systems_wet_air_cleaners_equipment_efficiency_low'\n",
      "  1]\n",
      " ['air_pollution_reduction_systems_electrofilters_equipment_efficiency_moderate'\n",
      "  1]\n",
      " ['air_pollution_reduction_systems_wet_air_cleaners_equipment_efficiency_moderate'\n",
      "  0]\n",
      " ['air_pollution_reduction_systems_multicyclones_equipment_efficiency_low'\n",
      "  0]\n",
      " ['production_of_electricity_thermal_public_power_plants' 0]\n",
      " ['is_weekend' 0]\n",
      " ['emission_of_particulates_surface_active_agents' 0]\n",
      " ['air_pollution_reduction_systems_electrofilters_equipment_efficiency_low'\n",
      "  0]\n",
      " ['isUrban' 0]]\n"
     ]
    }
   ],
   "source": [
    "# Lets check which features contributed the most to our target variable:\n",
    "# Get feature importances\n",
    "importances = lgbm.feature_importances_\n",
    "feature_names = X_train.columns\n",
    "\n",
    "# Creating a DataFrame to store feature importances\n",
    "feature_importances = pd.DataFrame({'feature': X_train.columns, 'importance': importances})\n",
    "\n",
    "# Sorting the features by importance in descending order\n",
    "feature_importances = feature_importances.sort_values(by='importance', ascending=False)\n",
    "\n",
    "# Print feature importances (a rough list)\n",
    "print(feature_importances.values)"
   ]
  },
  {
   "cell_type": "markdown",
   "id": "96e6afe8",
   "metadata": {},
   "source": [
    "### Top 15 features:"
   ]
  },
  {
   "cell_type": "code",
   "execution_count": 54,
   "id": "47e1ac0b",
   "metadata": {},
   "outputs": [
    {
     "data": {
      "image/png": "[encoded data removed]",
      "text/plain": [
       "<Figure size 1500x1000 with 1 Axes>"
      ]
     },
     "metadata": {},
     "output_type": "display_data"
    }
   ],
   "source": [
    "# get feature importances and corresponding feature names\n",
    "importances = lgbm.feature_importances_\n",
    "feature_names = X_train.columns\n",
    "\n",
    "# create dataframe of feature names and importances\n",
    "feature_importances = pd.DataFrame({'feature': feature_names, 'importance': importances})\n",
    "\n",
    "# sort features by importance\n",
    "feature_importances = feature_importances.sort_values('importance', ascending=False)\n",
    "sns.set_style(\"darkgrid\")\n",
    "\n",
    "# we create a horizontal bar chart\n",
    "plt.figure(figsize=(15, 10))\n",
    "plt.barh(feature_importances['feature'][:15], feature_importances['importance'][:15], color='#0d518b')\n",
    "\n",
    "# data labels\n",
    "for index, value in enumerate(feature_importances['importance'][:15]):\n",
    "    plt.text(value, index, f'{value:.2f}', ha='left', va='center', fontweight='bold')\n",
    "\n",
    "# Chart title and axes labels\n",
    "plt.title('Top 15 features (sorted)', fontweight='bold')\n",
    "plt.xlabel('Importance', fontweight='bold')\n",
    "plt.ylabel('Feature', fontweight='bold')\n",
    "\n",
    "# Flip the order of the bars\n",
    "plt.gca().invert_yaxis()\n",
    "\n",
    "plt.show()"
   ]
  },
  {
   "cell_type": "markdown",
   "id": "9c5ff4be",
   "metadata": {},
   "source": [
    "### Key observations:\n",
    "- Temperatute by far has contributed the most to our target variable with a score of 1331.\n",
    "- day, CAQI_lag values, month, Windspeed and day of the week too play a major in affecting our 'CAQI_level'."
   ]
  },
  {
   "cell_type": "markdown",
   "id": "0c6e349e",
   "metadata": {},
   "source": [
    "### 15 Least important features:"
   ]
  },
  {
   "cell_type": "code",
   "execution_count": 55,
   "id": "3047356c",
   "metadata": {},
   "outputs": [
    {
     "data": {
      "image/png": "[encoded data removed]",
      "text/plain": [
       "<Figure size 1500x1000 with 1 Axes>"
      ]
     },
     "metadata": {},
     "output_type": "display_data"
    }
   ],
   "source": [
    "# get feature importances and corresponding feature names\n",
    "importances = lgbm.feature_importances_\n",
    "feature_names = X_train.columns\n",
    "\n",
    "# create dataframe of feature names and importances\n",
    "feature_importances = pd.DataFrame({'feature': feature_names, 'importance': importances})\n",
    "\n",
    "# sort features by importance\n",
    "feature_importances = feature_importances.sort_values('importance', ascending=True)\n",
    "\n",
    "# Set the style\n",
    "sns.set_style(\"darkgrid\")\n",
    "\n",
    "# create horizontal bar chart\n",
    "plt.figure(figsize=(15, 10))\n",
    "plt.barh(feature_importances['feature'][:15], feature_importances['importance'][:15], color='#72b7f2')\n",
    "\n",
    "# add data labels\n",
    "for index, value in enumerate(feature_importances['importance'][:15]):\n",
    "    plt.text(value, index, f'{value:.2f}', ha='left', va='center', fontweight='bold')\n",
    "\n",
    "# add chart title and axes labels\n",
    "plt.title('15 least important features (sorted)', fontweight='bold')\n",
    "plt.xlabel('Importance', fontweight='bold')\n",
    "plt.ylabel('Feature', fontweight='bold')\n",
    "\n",
    "# Flip the order of the bars\n",
    "plt.gca().invert_yaxis()\n",
    "\n",
    "# display chart\n",
    "plt.show()"
   ]
  },
  {
   "cell_type": "markdown",
   "id": "11977e26",
   "metadata": {},
   "source": [
    "## Key Observations:\n",
    "- 7 feautures in the data have made **zero contribution** to the target variable.\n",
    "- Rest of the columns have the least contribution to out target variable."
   ]
  },
  {
   "cell_type": "markdown",
   "id": "f7c78a0f",
   "metadata": {},
   "source": [
    "---\n",
    "\n",
    "### Cross Validation:"
   ]
  },
  {
   "cell_type": "code",
   "execution_count": 56,
   "id": "487ab2c0",
   "metadata": {},
   "outputs": [],
   "source": [
    "from sklearn.model_selection import TimeSeriesSplit\n",
    "from sklearn.metrics import accuracy_score\n",
    "\n",
    "# Lets create a TimeSeriesSplit object with the desired number of splits\n",
    "tscv = TimeSeriesSplit(n_splits=5)\n",
    "\n",
    "# The purpose of time series cross-validation is to simulate how the model will perform on new and unseen data, \n",
    "# so I will use the training set for defining X and y.\n",
    "X = train.drop(['CAQI_level','powiat_voivod', 'voivodship', 'season', 'holiday_name'], axis=1)\n",
    "y = train['CAQI_level']\n",
    "\n",
    "# create an empty list to store the accuracies for each split\n",
    "accuracy_list = []"
   ]
  },
  {
   "cell_type": "code",
   "execution_count": 57,
   "id": "7262f775",
   "metadata": {},
   "outputs": [
    {
     "name": "stdout",
     "output_type": "stream",
     "text": [
      "Average accuracy: 0.7030205827318898\n"
     ]
    }
   ],
   "source": [
    "# loop over each split and fit the model\n",
    "for train_index, test_index in tscv.split(X):\n",
    "    # split the data into training and testing sets\n",
    "    X_train, X_test = X.iloc[train_index], X.iloc[test_index]\n",
    "    y_train, y_test = y.iloc[train_index], y.iloc[test_index]\n",
    "    \n",
    "    # fit the LightGBM classifier on the training data\n",
    "    clf = LGBMClassifier()\n",
    "    clf.fit(X_train, y_train)\n",
    "    \n",
    "    # prediction on the testing data and calculate accuracy\n",
    "    y_pred = clf.predict(X_test)\n",
    "    accuracy = accuracy_score(y_test, y_pred)\n",
    "    accuracy_list.append(accuracy)\n",
    "    \n",
    "# print the average accuracy across all splits\n",
    "print('Average accuracy:', sum(accuracy_list)/len(accuracy_list))"
   ]
  },
  {
   "cell_type": "markdown",
   "id": "1efecc54",
   "metadata": {},
   "source": [
    "- Cross-validation using the TimeSeriesSplit method yields an average accuracy of 70.30% across all splits.\n",
    "- This means that the model has moderate predictive power."
   ]
  },
  {
   "cell_type": "markdown",
   "id": "9cdce773",
   "metadata": {},
   "source": [
    "---\n",
    "\n",
    "### Plotting train and test targets to visually check"
   ]
  },
  {
   "cell_type": "code",
   "execution_count": 58,
   "id": "e2319206",
   "metadata": {},
   "outputs": [
    {
     "data": {
      "text/plain": [
       "DATE\n",
       "2017-01-01    0\n",
       "2017-01-01    2\n",
       "2017-01-01    0\n",
       "2017-01-01    2\n",
       "2017-01-01    1\n",
       "             ..\n",
       "2019-11-06    1\n",
       "2019-11-06    1\n",
       "2019-11-06    1\n",
       "2019-11-06    0\n",
       "2019-11-06    0\n",
       "Name: CAQI_level, Length: 205755, dtype: int64"
      ]
     },
     "execution_count": 58,
     "metadata": {},
     "output_type": "execute_result"
    }
   ],
   "source": [
    "y_train"
   ]
  },
  {
   "cell_type": "code",
   "execution_count": 59,
   "id": "210bd908",
   "metadata": {},
   "outputs": [
    {
     "data": {
      "text/plain": [
       "Int64Index([2017, 2017, 2017, 2017, 2017, 2017, 2017, 2017, 2017, 2017,\n",
       "            ...\n",
       "            2019, 2019, 2019, 2019, 2019, 2019, 2019, 2019, 2019, 2019],\n",
       "           dtype='int64', name='DATE', length=205755)"
      ]
     },
     "execution_count": 59,
     "metadata": {},
     "output_type": "execute_result"
    }
   ],
   "source": [
    "X_train.index.year"
   ]
  },
  {
   "cell_type": "code",
   "execution_count": 60,
   "id": "433e175e",
   "metadata": {},
   "outputs": [
    {
     "data": {
      "text/plain": [
       "Int64Index([2019, 2019, 2019, 2019, 2019, 2019, 2019, 2019, 2019, 2019,\n",
       "            ...\n",
       "            2020, 2020, 2020, 2020, 2020, 2020, 2020, 2020, 2020, 2020],\n",
       "           dtype='int64', name='DATE', length=41151)"
      ]
     },
     "execution_count": 60,
     "metadata": {},
     "output_type": "execute_result"
    }
   ],
   "source": [
    "X_test.index.year"
   ]
  },
  {
   "cell_type": "code",
   "execution_count": 61,
   "id": "ec7932d4",
   "metadata": {},
   "outputs": [],
   "source": [
    "# features and target variable for reference:\n",
    "\n",
    "# X_train = train.drop(['CAQI_level','powiat_voivod', 'voivodship', 'season', 'holiday_name'], axis=1)\n",
    "# y_train = train['CAQI_level']\n",
    "# X_test = test.drop(['CAQI_level','powiat_voivod', 'voivodship', 'season', 'holiday_name',], axis=1)\n",
    "# y_test = test['CAQI_level']"
   ]
  },
  {
   "cell_type": "code",
   "execution_count": 62,
   "id": "27c9754a",
   "metadata": {},
   "outputs": [
    {
     "data": {
      "text/plain": [
       "DatetimeIndex(['2017-01-01', '2017-01-01', '2017-01-01', '2017-01-01',\n",
       "               '2017-01-01', '2017-01-01', '2017-01-01', '2017-01-01',\n",
       "               '2017-01-01', '2017-01-01',\n",
       "               ...\n",
       "               '2019-11-06', '2019-11-06', '2019-11-06', '2019-11-06',\n",
       "               '2019-11-06', '2019-11-06', '2019-11-06', '2019-11-06',\n",
       "               '2019-11-06', '2019-11-06'],\n",
       "              dtype='datetime64[ns]', name='DATE', length=205755, freq=None)"
      ]
     },
     "execution_count": 62,
     "metadata": {},
     "output_type": "execute_result"
    }
   ],
   "source": [
    "y_train.index"
   ]
  },
  {
   "cell_type": "code",
   "execution_count": 63,
   "id": "324ec511",
   "metadata": {},
   "outputs": [
    {
     "data": {
      "text/html": [
       "<div>\n",
       "<style scoped>\n",
       "    .dataframe tbody tr th:only-of-type {\n",
       "        vertical-align: middle;\n",
       "    }\n",
       "\n",
       "    .dataframe tbody tr th {\n",
       "        vertical-align: top;\n",
       "    }\n",
       "\n",
       "    .dataframe thead th {\n",
       "        text-align: right;\n",
       "    }\n",
       "</style>\n",
       "<table border=\"1\" class=\"dataframe\">\n",
       "  <thead>\n",
       "    <tr style=\"text-align: right;\">\n",
       "      <th></th>\n",
       "      <th>CAQI_level</th>\n",
       "    </tr>\n",
       "    <tr>\n",
       "      <th>DATE</th>\n",
       "      <th></th>\n",
       "    </tr>\n",
       "  </thead>\n",
       "  <tbody>\n",
       "    <tr>\n",
       "      <th>2017-01-01</th>\n",
       "      <td>0</td>\n",
       "    </tr>\n",
       "    <tr>\n",
       "      <th>2017-01-01</th>\n",
       "      <td>2</td>\n",
       "    </tr>\n",
       "    <tr>\n",
       "      <th>2017-01-01</th>\n",
       "      <td>0</td>\n",
       "    </tr>\n",
       "    <tr>\n",
       "      <th>2017-01-01</th>\n",
       "      <td>2</td>\n",
       "    </tr>\n",
       "    <tr>\n",
       "      <th>2017-01-01</th>\n",
       "      <td>1</td>\n",
       "    </tr>\n",
       "    <tr>\n",
       "      <th>...</th>\n",
       "      <td>...</td>\n",
       "    </tr>\n",
       "    <tr>\n",
       "      <th>2019-11-06</th>\n",
       "      <td>1</td>\n",
       "    </tr>\n",
       "    <tr>\n",
       "      <th>2019-11-06</th>\n",
       "      <td>1</td>\n",
       "    </tr>\n",
       "    <tr>\n",
       "      <th>2019-11-06</th>\n",
       "      <td>1</td>\n",
       "    </tr>\n",
       "    <tr>\n",
       "      <th>2019-11-06</th>\n",
       "      <td>0</td>\n",
       "    </tr>\n",
       "    <tr>\n",
       "      <th>2019-11-06</th>\n",
       "      <td>0</td>\n",
       "    </tr>\n",
       "  </tbody>\n",
       "</table>\n",
       "<p>205755 rows × 1 columns</p>\n",
       "</div>"
      ],
      "text/plain": [
       "            CAQI_level\n",
       "DATE                  \n",
       "2017-01-01           0\n",
       "2017-01-01           2\n",
       "2017-01-01           0\n",
       "2017-01-01           2\n",
       "2017-01-01           1\n",
       "...                ...\n",
       "2019-11-06           1\n",
       "2019-11-06           1\n",
       "2019-11-06           1\n",
       "2019-11-06           0\n",
       "2019-11-06           0\n",
       "\n",
       "[205755 rows x 1 columns]"
      ]
     },
     "execution_count": 63,
     "metadata": {},
     "output_type": "execute_result"
    }
   ],
   "source": [
    "y_train.to_frame()"
   ]
  },
  {
   "cell_type": "code",
   "execution_count": 64,
   "id": "edf8d9a3",
   "metadata": {},
   "outputs": [
    {
     "data": {
      "text/html": [
       "<div>\n",
       "<style scoped>\n",
       "    .dataframe tbody tr th:only-of-type {\n",
       "        vertical-align: middle;\n",
       "    }\n",
       "\n",
       "    .dataframe tbody tr th {\n",
       "        vertical-align: top;\n",
       "    }\n",
       "\n",
       "    .dataframe thead th {\n",
       "        text-align: right;\n",
       "    }\n",
       "</style>\n",
       "<table border=\"1\" class=\"dataframe\">\n",
       "  <thead>\n",
       "    <tr style=\"text-align: right;\">\n",
       "      <th></th>\n",
       "      <th>CAQI_level</th>\n",
       "    </tr>\n",
       "    <tr>\n",
       "      <th>DATE</th>\n",
       "      <th></th>\n",
       "    </tr>\n",
       "  </thead>\n",
       "  <tbody>\n",
       "    <tr>\n",
       "      <th>2019-11-06</th>\n",
       "      <td>0</td>\n",
       "    </tr>\n",
       "    <tr>\n",
       "      <th>2019-11-06</th>\n",
       "      <td>0</td>\n",
       "    </tr>\n",
       "    <tr>\n",
       "      <th>2019-11-06</th>\n",
       "      <td>0</td>\n",
       "    </tr>\n",
       "    <tr>\n",
       "      <th>2019-11-06</th>\n",
       "      <td>0</td>\n",
       "    </tr>\n",
       "    <tr>\n",
       "      <th>2019-11-06</th>\n",
       "      <td>0</td>\n",
       "    </tr>\n",
       "    <tr>\n",
       "      <th>...</th>\n",
       "      <td>...</td>\n",
       "    </tr>\n",
       "    <tr>\n",
       "      <th>2020-05-31</th>\n",
       "      <td>0</td>\n",
       "    </tr>\n",
       "    <tr>\n",
       "      <th>2020-05-31</th>\n",
       "      <td>0</td>\n",
       "    </tr>\n",
       "    <tr>\n",
       "      <th>2020-05-31</th>\n",
       "      <td>1</td>\n",
       "    </tr>\n",
       "    <tr>\n",
       "      <th>2020-05-31</th>\n",
       "      <td>1</td>\n",
       "    </tr>\n",
       "    <tr>\n",
       "      <th>2020-05-31</th>\n",
       "      <td>0</td>\n",
       "    </tr>\n",
       "  </tbody>\n",
       "</table>\n",
       "<p>41151 rows × 1 columns</p>\n",
       "</div>"
      ],
      "text/plain": [
       "            CAQI_level\n",
       "DATE                  \n",
       "2019-11-06           0\n",
       "2019-11-06           0\n",
       "2019-11-06           0\n",
       "2019-11-06           0\n",
       "2019-11-06           0\n",
       "...                ...\n",
       "2020-05-31           0\n",
       "2020-05-31           0\n",
       "2020-05-31           1\n",
       "2020-05-31           1\n",
       "2020-05-31           0\n",
       "\n",
       "[41151 rows x 1 columns]"
      ]
     },
     "execution_count": 64,
     "metadata": {},
     "output_type": "execute_result"
    }
   ],
   "source": [
    "y_test.to_frame()"
   ]
  },
  {
   "cell_type": "code",
   "execution_count": 65,
   "id": "fae1b191",
   "metadata": {},
   "outputs": [
    {
     "data": {
      "image/png": "[encoded data removed]",
      "text/plain": [
       "<Figure size 640x480 with 1 Axes>"
      ]
     },
     "metadata": {},
     "output_type": "display_data"
    }
   ],
   "source": [
    "\n",
    "y_train.groupby('DATE').mean().plot()\n",
    "y_test.groupby('DATE').mean().plot()\n",
    "\n",
    "plt.legend(['Train', 'Test'])\n",
    "plt.title('Mean CAQI Values by Date')\n",
    "plt.xlabel('Date')\n",
    "plt.ylabel('Mean CAQI_level')\n",
    "plt.show()"
   ]
  }
 ],
 "metadata": {
  "kernelspec": {
   "display_name": "Python 3 (ipykernel)",
   "language": "python",
   "name": "python3"
  },
  "language_info": {
   "codemirror_mode": {
    "name": "ipython",
    "version": 3
   },
   "file_extension": ".py",
   "mimetype": "text/x-python",
   "name": "python",
   "nbconvert_exporter": "python",
   "pygments_lexer": "ipython3",
   "version": "3.9.13"
  }
 },
 "nbformat": 4,
 "nbformat_minor": 5
}
