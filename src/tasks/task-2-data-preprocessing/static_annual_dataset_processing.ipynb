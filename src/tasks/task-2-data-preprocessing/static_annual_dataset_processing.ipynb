{
 "cells": [
  {
   "cell_type": "code",
   "execution_count": 1,
   "metadata": {},
   "outputs": [],
   "source": [
    "import glob\n",
    "import os\n",
    "import pandas as pd"
   ]
  },
  {
   "cell_type": "code",
   "execution_count": 2,
   "metadata": {},
   "outputs": [],
   "source": [
    "# Read in all the powiats from static data and compare to PL.txt\n",
    "root_directory = '../../../src/data/data_raw/static_annual_data/'\n",
    "year_dirs = ['2010-2021', '2015-2021', '2017-2021']\n",
    "powiat_filenames = []\n",
    "voivod_filenames = []\n",
    "for y in year_dirs:\n",
    "    powiat_mask = os.path.join(root_directory, y, '*powiat*.xlsx')\n",
    "    voivod_mask = os.path.join(root_directory, y, '*voivodship*.xlsx')\n",
    "    powiat_filenames += glob.glob(powiat_mask)\n",
    "    voivod_filenames += glob.glob(voivod_mask)"
   ]
  },
  {
   "cell_type": "code",
   "execution_count": 3,
   "metadata": {},
   "outputs": [],
   "source": [
    "#crop_production, forest_fires, vehicles and air_pollution_reduction have different header sizes\n",
    "def get_header_size(filename):\n",
    "    if filename.find('crop') != -1:\n",
    "        return [0,1,2,3,4]\n",
    "    elif filename.find('forest_fires') != -1 or filename.find('vehicles_by_type_and_fuel') != -1 or filename.find('air_pollution_reduction') != -1:\n",
    "        return [0,1,2,3]\n",
    "    return [0,1,2]"
   ]
  },
  {
   "cell_type": "code",
   "execution_count": 4,
   "metadata": {},
   "outputs": [],
   "source": [
    "#get the name of first column\n",
    "def get_1st_col_name(filename):\n",
    "    header = get_header_size(filename)\n",
    "    tmp = []\n",
    "    for i in range(len(header)-1):\n",
    "        tmp.append(f\"Unnamed: 0_level_{i+1}\")\n",
    "    return tuple(['Code'] + tmp)"
   ]
  },
  {
   "cell_type": "code",
   "execution_count": 5,
   "metadata": {},
   "outputs": [],
   "source": [
    "years = ['2017','2018','2019','2020','2021']"
   ]
  },
  {
   "attachments": {},
   "cell_type": "markdown",
   "metadata": {},
   "source": [
    "# Process voivodeship files"
   ]
  },
  {
   "cell_type": "code",
   "execution_count": 6,
   "metadata": {},
   "outputs": [],
   "source": [
    "def process_voivod_df(df):\n",
    "    for t in df.columns: #truncate to 2017-2020\n",
    "        if t[0] not in ['Code','Name']:\n",
    "            if t[-2] not in years:\n",
    "                df.drop(columns=[t], inplace=True)\n",
    "        elif t[0] == 'Name': #fix spelling of voivodeship\n",
    "            df[t] = df[t].apply(lambda x: x.lower())"
   ]
  },
  {
   "cell_type": "code",
   "execution_count": 7,
   "metadata": {},
   "outputs": [],
   "source": [
    "for fname in voivod_filenames:\n",
    "    filename = fname[fname.rfind('/')+1:-15]\n",
    "    df = pd.read_excel(fname, sheet_name='TABLE', header=get_header_size(fname), dtype={get_1st_col_name(fname): str})\n",
    "    process_voivod_df(df)\n",
    "    df.to_excel(f'../../data/data_processed/static_annual_data/{filename}.xlsx')"
   ]
  },
  {
   "attachments": {},
   "cell_type": "markdown",
   "metadata": {},
   "source": [
    "# Process powiat files"
   ]
  },
  {
   "cell_type": "code",
   "execution_count": 8,
   "metadata": {},
   "outputs": [],
   "source": [
    "def process_powiat_df(df):\n",
    "    static_to_geojson = {'powiat Wałbrzych since 2013':'powiat Wałbrzych',\n",
    "                        'powiat Capital City Warszawa':'powiat Warszawa',\n",
    "                        'powiat karkonoski':'powiat jeleniogórski'}\n",
    "\n",
    "    def fix_powiat_spelling(powiat_name):\n",
    "        if powiat_name.startswith('P'):\n",
    "            return powiat_name.lower()\n",
    "        else: \n",
    "            return 'powiat' + powiat_name[23:]\n",
    "        \n",
    "    for t in df.columns: #truncate to 2017-2020\n",
    "        if t[0] == 'Name': #fix spelling of powiat\n",
    "            tname = t\n",
    "            df[t] = df[t].apply(fix_powiat_spelling)\n",
    "            for i, powiat_name in enumerate(df[t]):\n",
    "                if powiat_name in static_to_geojson.keys():\n",
    "                    df.loc[i,t] = static_to_geojson[powiat_name]\n",
    "        elif t[0] not in ['Code','Name']:\n",
    "            if t[-2] not in years:\n",
    "                df.drop(columns=[t], inplace=True)\n",
    "    \n",
    "    df2 = df[df[tname] != 'powiat Wałbrzych to 2002']\n",
    "    df2 = df2[df2[tname] != 'powiat warszawski']\n",
    "    return df2"
   ]
  },
  {
   "cell_type": "code",
   "execution_count": 9,
   "metadata": {},
   "outputs": [],
   "source": [
    "for fname in powiat_filenames:\n",
    "    filename = fname[fname.rfind('/')+1:-15]\n",
    "    df = pd.read_excel(fname, sheet_name='TABLE', header=get_header_size(fname), dtype={get_1st_col_name(fname): str})\n",
    "    df2 = process_powiat_df(df)\n",
    "    df2.to_excel(f'../../data/data_processed/static_annual_data/{filename}.xlsx')\n"
   ]
  }
 ],
 "metadata": {
  "kernelspec": {
   "display_name": "8.S50x",
   "language": "python",
   "name": "python3"
  },
  "language_info": {
   "codemirror_mode": {
    "name": "ipython",
    "version": 3
   },
   "file_extension": ".py",
   "mimetype": "text/x-python",
   "name": "python",
   "nbconvert_exporter": "python",
   "pygments_lexer": "ipython3",
   "version": "3.9.15"
  },
  "orig_nbformat": 4,
  "vscode": {
   "interpreter": {
    "hash": "ad8203e0260a2419f059c06940b8edad8411a651020daa6eb1476548a99bdb1a"
   }
  }
 },
 "nbformat": 4,
 "nbformat_minor": 2
}
