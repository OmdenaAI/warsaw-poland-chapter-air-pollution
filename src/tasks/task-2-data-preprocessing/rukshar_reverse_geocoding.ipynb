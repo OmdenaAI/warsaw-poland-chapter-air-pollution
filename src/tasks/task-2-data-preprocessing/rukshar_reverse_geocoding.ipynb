{
 "cells": [
  {
   "cell_type": "code",
   "execution_count": 27,
   "metadata": {},
   "outputs": [],
   "source": [
    "from geopy.geocoders import Nominatim\n",
    "import pandas as pd\n",
    "import numpy as np\n",
    "from tqdm import tqdm\n",
    "import missingno"
   ]
  },
  {
   "cell_type": "code",
   "execution_count": 8,
   "metadata": {},
   "outputs": [],
   "source": [
    "# geolocator = Nominatim(user_agent=\"Rukshar_Poland_Locator\")\n",
    "\n",
    "# location = geolocator.reverse( \"52.509669, 13.376294\")  #(location.latitude, location.longitude)\n",
    "\n",
    "# print(location.address)\n",
    "# print()\n",
    "# print((location.latitude, location.longitude))\n",
    "# print()\n",
    "# print(location.raw)\n",
    "# print()\n",
    "# print(location.raw.keys())\n",
    "# print()\n",
    "# print(location.raw['address'])"
   ]
  },
  {
   "cell_type": "code",
   "execution_count": 32,
   "metadata": {},
   "outputs": [
    {
     "name": "stderr",
     "output_type": "stream",
     "text": [
      "100%|██████████| 134/134 [01:09<00:00,  1.91it/s]\n"
     ]
    }
   ],
   "source": [
    "geolocator = Nominatim(user_agent=\"Rukshar_Poland_Locator\")\n",
    "# Read from Dataframe\n",
    "df = pd.read_csv('stations.csv')\n",
    "\n",
    "lats=df['LAT'].to_list()\n",
    "lons=df['LON'].to_list()\n",
    "# Creating a zip with latitudes and longitudes\n",
    "coords=list(zip(lats,lons))\n",
    "\n",
    "full_address=[]\n",
    "for i in tqdm(range(len(coords))):\n",
    "    try: #to handle any undesirable exceptions and erros\n",
    "        location = geolocator.reverse(coords[i])\n",
    "        #print(location.raw['address'])\n",
    "        loc = []\n",
    "        powiat = np.NaN\n",
    "        voivod = np.NaN\n",
    "        try: #handle cases if powiat is absent\n",
    "            powiat = location.raw['address']['county']\n",
    "        except:\n",
    "            powiat = np.NaN\n",
    "        \n",
    "        try: #handle cases if voivod is absent\n",
    "            voivod = location.raw['address']['state']\n",
    "        except:\n",
    "            voivod = np.NaN\n",
    "        loc = [\n",
    "            powiat, voivod\n",
    "            ] # county/powiat, state/voivod, \n",
    "        full_address.append(loc)\n",
    "        #break\n",
    "    except:\n",
    "        loc = [\n",
    "            np.NaN, np.NaN\n",
    "            ] # county/powiat, state/voivod, \n",
    "        full_address.append(loc)\n",
    "    \n",
    "address=pd.DataFrame(data=full_address, columns=[  'county','state', ])\n",
    "\n"
   ]
  },
  {
   "cell_type": "code",
   "execution_count": 33,
   "metadata": {},
   "outputs": [
    {
     "data": {
      "text/html": [
       "<div>\n",
       "<style scoped>\n",
       "    .dataframe tbody tr th:only-of-type {\n",
       "        vertical-align: middle;\n",
       "    }\n",
       "\n",
       "    .dataframe tbody tr th {\n",
       "        vertical-align: top;\n",
       "    }\n",
       "\n",
       "    .dataframe thead th {\n",
       "        text-align: right;\n",
       "    }\n",
       "</style>\n",
       "<table border=\"1\" class=\"dataframe\">\n",
       "  <thead>\n",
       "    <tr style=\"text-align: right;\">\n",
       "      <th></th>\n",
       "      <th>Unnamed: 0</th>\n",
       "      <th>STAID</th>\n",
       "      <th>STANAME</th>\n",
       "      <th>CN</th>\n",
       "      <th>LAT</th>\n",
       "      <th>LON</th>\n",
       "      <th>HGHT</th>\n",
       "      <th>county</th>\n",
       "      <th>state</th>\n",
       "    </tr>\n",
       "  </thead>\n",
       "  <tbody>\n",
       "    <tr>\n",
       "      <th>0</th>\n",
       "      <td>0</td>\n",
       "      <td>24860</td>\n",
       "      <td>PSZCZYNA</td>\n",
       "      <td>PL</td>\n",
       "      <td>50.000000</td>\n",
       "      <td>18.916667</td>\n",
       "      <td>261</td>\n",
       "      <td>powiat pszczyński</td>\n",
       "      <td>województwo śląskie</td>\n",
       "    </tr>\n",
       "    <tr>\n",
       "      <th>1</th>\n",
       "      <td>1</td>\n",
       "      <td>24876</td>\n",
       "      <td>JABLONKA</td>\n",
       "      <td>PL</td>\n",
       "      <td>49.466667</td>\n",
       "      <td>19.700000</td>\n",
       "      <td>671</td>\n",
       "      <td>powiat nowotarski</td>\n",
       "      <td>województwo małopolskie</td>\n",
       "    </tr>\n",
       "    <tr>\n",
       "      <th>2</th>\n",
       "      <td>2</td>\n",
       "      <td>24880</td>\n",
       "      <td>GUBALOWKA</td>\n",
       "      <td>PL</td>\n",
       "      <td>49.300000</td>\n",
       "      <td>19.933333</td>\n",
       "      <td>856</td>\n",
       "      <td>powiat tatrzański</td>\n",
       "      <td>województwo małopolskie</td>\n",
       "    </tr>\n",
       "    <tr>\n",
       "      <th>3</th>\n",
       "      <td>3</td>\n",
       "      <td>24881</td>\n",
       "      <td>WITOW</td>\n",
       "      <td>PL</td>\n",
       "      <td>49.333333</td>\n",
       "      <td>19.833333</td>\n",
       "      <td>844</td>\n",
       "      <td>powiat tatrzański</td>\n",
       "      <td>województwo małopolskie</td>\n",
       "    </tr>\n",
       "    <tr>\n",
       "      <th>4</th>\n",
       "      <td>4</td>\n",
       "      <td>24885</td>\n",
       "      <td>LAZY</td>\n",
       "      <td>PL</td>\n",
       "      <td>49.966667</td>\n",
       "      <td>20.500000</td>\n",
       "      <td>251</td>\n",
       "      <td>powiat bocheński</td>\n",
       "      <td>województwo małopolskie</td>\n",
       "    </tr>\n",
       "  </tbody>\n",
       "</table>\n",
       "</div>"
      ],
      "text/plain": [
       "   Unnamed: 0  STAID                                   STANAME  CN        LAT  \\\n",
       "0           0  24860  PSZCZYNA                                  PL  50.000000   \n",
       "1           1  24876  JABLONKA                                  PL  49.466667   \n",
       "2           2  24880  GUBALOWKA                                 PL  49.300000   \n",
       "3           3  24881  WITOW                                     PL  49.333333   \n",
       "4           4  24885  LAZY                                      PL  49.966667   \n",
       "\n",
       "         LON  HGHT             county                    state  \n",
       "0  18.916667   261  powiat pszczyński      województwo śląskie  \n",
       "1  19.700000   671  powiat nowotarski  województwo małopolskie  \n",
       "2  19.933333   856  powiat tatrzański  województwo małopolskie  \n",
       "3  19.833333   844  powiat tatrzański  województwo małopolskie  \n",
       "4  20.500000   251   powiat bocheński  województwo małopolskie  "
      ]
     },
     "execution_count": 33,
     "metadata": {},
     "output_type": "execute_result"
    }
   ],
   "source": [
    "final_df = pd.concat([df, address], axis=1) #concat with the original stations data \n",
    "final_df.head()"
   ]
  },
  {
   "cell_type": "code",
   "execution_count": 34,
   "metadata": {},
   "outputs": [
    {
     "data": {
      "text/plain": [
       "(134, 9)"
      ]
     },
     "execution_count": 34,
     "metadata": {},
     "output_type": "execute_result"
    }
   ],
   "source": [
    "final_df.shape"
   ]
  },
  {
   "cell_type": "code",
   "execution_count": 35,
   "metadata": {},
   "outputs": [],
   "source": [
    "final_df.to_csv('stations_with_powiat_voivod.csv', index= False)"
   ]
  },
  {
   "cell_type": "code",
   "execution_count": 31,
   "metadata": {},
   "outputs": [
    {
     "data": {
      "text/plain": [
       "<matplotlib.axes._subplots.AxesSubplot at 0x7f8ec0d6a710>"
      ]
     },
     "execution_count": 31,
     "metadata": {},
     "output_type": "execute_result"
    },
    {
     "data": {
      "image/png": "[encoded data removed]",
      "text/plain": [
       "<Figure size 1728x720 with 3 Axes>"
      ]
     },
     "metadata": {
      "needs_background": "light"
     },
     "output_type": "display_data"
    }
   ],
   "source": [
    "missingno.bar(address, color='g') #check for missing values and produce bar chart counting available data"
   ]
  }
 ],
 "metadata": {
  "kernelspec": {
   "display_name": "selise",
   "language": "python",
   "name": "python3"
  },
  "language_info": {
   "codemirror_mode": {
    "name": "ipython",
    "version": 3
   },
   "file_extension": ".py",
   "mimetype": "text/x-python",
   "name": "python",
   "nbconvert_exporter": "python",
   "pygments_lexer": "ipython3",
   "version": "3.6.13"
  },
  "orig_nbformat": 4,
  "vscode": {
   "interpreter": {
    "hash": "b2d051680ee6008be2c1f3140dd2c03d3d022392b49537e005e9e49425dcd747"
   }
  }
 },
 "nbformat": 4,
 "nbformat_minor": 2
}
