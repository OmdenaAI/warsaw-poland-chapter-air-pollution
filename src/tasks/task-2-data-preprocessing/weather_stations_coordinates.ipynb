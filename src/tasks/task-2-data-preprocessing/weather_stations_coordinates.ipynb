{
 "cells": [
  {
   "cell_type": "code",
   "execution_count": 1,
   "metadata": {},
   "outputs": [],
   "source": [
    "import os\n",
    "import numpy as np\n",
    "import pandas as pd"
   ]
  },
  {
   "cell_type": "code",
   "execution_count": 2,
   "metadata": {},
   "outputs": [],
   "source": [
    "station_files_paths = []\n",
    "for root, dirs, files in os.walk(\"../../data/data_raw/daily_weather_data_1979-2021/\", topdown=False):\n",
    "    if 'stations.txt' in files:\n",
    "        station_files_paths.append(root+'/stations.txt')"
   ]
  },
  {
   "cell_type": "code",
   "execution_count": 3,
   "metadata": {},
   "outputs": [],
   "source": [
    "#Read data from all stations and merge into one unique DataFrame\n",
    "stations = pd.read_csv(station_files_paths[0], skiprows=17)\n",
    "stations.columns = stations.columns.str.replace(' ', '')\n",
    "for stationFile in station_files_paths[1:]:\n",
    "    idf = pd.read_csv(stationFile, skiprows=17)\n",
    "    idf.columns = idf.columns.str.replace(' ', '')\n",
    "    stations = pd.merge(stations, idf, how='outer')"
   ]
  },
  {
   "cell_type": "code",
   "execution_count": 4,
   "metadata": {},
   "outputs": [],
   "source": [
    "#strip + from latitude and longitude and convert to decimal format\n",
    "def dms2dec(s):\n",
    "    x = np.array(s[1:].split(':'),dtype=np.int16)\n",
    "    return x@np.array([1, 1/60, 1/3600])\n",
    "\n",
    "for col in ['LAT','LON']:\n",
    "    stations[col] = stations[col].apply(dms2dec)\n"
   ]
  },
  {
   "cell_type": "code",
   "execution_count": 6,
   "metadata": {},
   "outputs": [],
   "source": [
    "#save results\n",
    "stations.to_csv('../../data/data_processed/processed_weather_data_in_CSV_files/stations_coordinates.csv')"
   ]
  }
 ],
 "metadata": {
  "kernelspec": {
   "display_name": "8.S50x",
   "language": "python",
   "name": "python3"
  },
  "language_info": {
   "codemirror_mode": {
    "name": "ipython",
    "version": 3
   },
   "file_extension": ".py",
   "mimetype": "text/x-python",
   "name": "python",
   "nbconvert_exporter": "python",
   "pygments_lexer": "ipython3",
   "version": "3.9.15"
  },
  "orig_nbformat": 4,
  "vscode": {
   "interpreter": {
    "hash": "ad8203e0260a2419f059c06940b8edad8411a651020daa6eb1476548a99bdb1a"
   }
  }
 },
 "nbformat": 4,
 "nbformat_minor": 2
}
