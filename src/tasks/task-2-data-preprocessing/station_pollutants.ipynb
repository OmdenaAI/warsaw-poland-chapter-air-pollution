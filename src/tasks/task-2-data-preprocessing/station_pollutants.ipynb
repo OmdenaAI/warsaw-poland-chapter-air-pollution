{
 "cells": [
  {
   "cell_type": "code",
   "execution_count": 108,
   "id": "202615de",
   "metadata": {},
   "outputs": [],
   "source": [
    "# Library to suppress warnings or deprecation notes \n",
    "import warnings\n",
    "warnings.filterwarnings('ignore')\n",
    "\n",
    "import os\n",
    "import math\n",
    "import os\n",
    "\n",
    "# Libraries to help with reading and manipulating data\n",
    "import numpy as np\n",
    "import pandas as pd\n",
    "import glob\n",
    "from tqdm import tqdm\n",
    "\n",
    "# Import the required library\n",
    "from geopy.geocoders import Nominatim \n",
    "from unidecode import unidecode\n",
    "import difflib \n",
    "import numpy as np"
   ]
  },
  {
   "cell_type": "code",
   "execution_count": 109,
   "id": "03638dca",
   "metadata": {},
   "outputs": [
    {
     "name": "stdout",
     "output_type": "stream",
     "text": [
      "processing NO2_24h_avg_polution_2017-2021.csv with poll NO2\n",
      "processing O3_24h_avg_polution_2017-2021.csv with poll O3\n",
      "processing PM10_24h_avg_polution_2017-2021.csv with poll PM10\n",
      "processing PM25_24h_avg_polution_2017-2021.csv with poll PM25\n"
     ]
    }
   ],
   "source": [
    "directory = '../../../src/data/data_processed/merged_air_quality_data_CSV'\n",
    "filenames = glob.glob(os.path.join(directory, '*_24h_avg_polution_2017-2021.csv'))\n",
    "pollutant_dict = {}\n",
    "station_list = []\n",
    "for file in filenames:\n",
    "    filename_only = os.path.basename(file)\n",
    "    tokens = filename_only.split('_')\n",
    "    pollutant = tokens[0]\n",
    "    print('processing {} with poll {}'.format(filename_only, pollutant))\n",
    "    df = pd.read_csv(file)\n",
    "    columns_list = list(df.columns)\n",
    "    columns_list.pop(0)\n",
    "    station_list.extend(columns_list)\n",
    "    pollutant_dict[pollutant] = columns_list\n",
    "station_list = set(station_list)"
   ]
  },
  {
   "cell_type": "code",
   "execution_count": 110,
   "id": "d1920371",
   "metadata": {},
   "outputs": [],
   "source": [
    "def process_pollutant(row, station, pollutant, pollutant_dict):\n",
    "    result = ''\n",
    "    if (row[station] in pollutant_dict[pollutant]):\n",
    "        result = 'X'\n",
    "        \n",
    "    return result    "
   ]
  },
  {
   "cell_type": "code",
   "execution_count": 111,
   "id": "4de2dead",
   "metadata": {},
   "outputs": [],
   "source": [
    "out_df = pd.DataFrame()\n",
    "out_df['Station'] = list(station_list)"
   ]
  },
  {
   "cell_type": "code",
   "execution_count": 112,
   "id": "5ef4870e",
   "metadata": {},
   "outputs": [
    {
     "data": {
      "text/html": [
       "<div>\n",
       "<style scoped>\n",
       "    .dataframe tbody tr th:only-of-type {\n",
       "        vertical-align: middle;\n",
       "    }\n",
       "\n",
       "    .dataframe tbody tr th {\n",
       "        vertical-align: top;\n",
       "    }\n",
       "\n",
       "    .dataframe thead th {\n",
       "        text-align: right;\n",
       "    }\n",
       "</style>\n",
       "<table border=\"1\" class=\"dataframe\">\n",
       "  <thead>\n",
       "    <tr style=\"text-align: right;\">\n",
       "      <th></th>\n",
       "      <th>Station</th>\n",
       "    </tr>\n",
       "  </thead>\n",
       "  <tbody>\n",
       "    <tr>\n",
       "      <th>0</th>\n",
       "      <td>DsWrocBartni</td>\n",
       "    </tr>\n",
       "    <tr>\n",
       "      <th>1</th>\n",
       "      <td>PmLebaRabkaE</td>\n",
       "    </tr>\n",
       "    <tr>\n",
       "      <th>2</th>\n",
       "      <td>SlBielSterni</td>\n",
       "    </tr>\n",
       "    <tr>\n",
       "      <th>3</th>\n",
       "      <td>DsOsieczow21</td>\n",
       "    </tr>\n",
       "    <tr>\n",
       "      <th>4</th>\n",
       "      <td>DsWrocOrzech</td>\n",
       "    </tr>\n",
       "  </tbody>\n",
       "</table>\n",
       "</div>"
      ],
      "text/plain": [
       "        Station\n",
       "0  DsWrocBartni\n",
       "1  PmLebaRabkaE\n",
       "2  SlBielSterni\n",
       "3  DsOsieczow21\n",
       "4  DsWrocOrzech"
      ]
     },
     "execution_count": 112,
     "metadata": {},
     "output_type": "execute_result"
    }
   ],
   "source": [
    "out_df.head()"
   ]
  },
  {
   "cell_type": "code",
   "execution_count": 113,
   "id": "1d3b0704",
   "metadata": {},
   "outputs": [],
   "source": [
    "for key, value in pollutant_dict.items():\n",
    "    out_df[key] = out_df.apply(lambda row: process_pollutant(row, 'Station', key, pollutant_dict), axis = 1)"
   ]
  },
  {
   "cell_type": "code",
   "execution_count": 114,
   "id": "4daa1c72",
   "metadata": {},
   "outputs": [
    {
     "data": {
      "text/html": [
       "<div>\n",
       "<style scoped>\n",
       "    .dataframe tbody tr th:only-of-type {\n",
       "        vertical-align: middle;\n",
       "    }\n",
       "\n",
       "    .dataframe tbody tr th {\n",
       "        vertical-align: top;\n",
       "    }\n",
       "\n",
       "    .dataframe thead th {\n",
       "        text-align: right;\n",
       "    }\n",
       "</style>\n",
       "<table border=\"1\" class=\"dataframe\">\n",
       "  <thead>\n",
       "    <tr style=\"text-align: right;\">\n",
       "      <th></th>\n",
       "      <th>Station</th>\n",
       "      <th>NO2</th>\n",
       "      <th>O3</th>\n",
       "      <th>PM10</th>\n",
       "      <th>PM25</th>\n",
       "    </tr>\n",
       "  </thead>\n",
       "  <tbody>\n",
       "    <tr>\n",
       "      <th>0</th>\n",
       "      <td>DsWrocBartni</td>\n",
       "      <td></td>\n",
       "      <td>X</td>\n",
       "      <td></td>\n",
       "      <td></td>\n",
       "    </tr>\n",
       "    <tr>\n",
       "      <th>1</th>\n",
       "      <td>PmLebaRabkaE</td>\n",
       "      <td>X</td>\n",
       "      <td>X</td>\n",
       "      <td></td>\n",
       "      <td></td>\n",
       "    </tr>\n",
       "    <tr>\n",
       "      <th>2</th>\n",
       "      <td>SlBielSterni</td>\n",
       "      <td></td>\n",
       "      <td></td>\n",
       "      <td></td>\n",
       "      <td>X</td>\n",
       "    </tr>\n",
       "    <tr>\n",
       "      <th>3</th>\n",
       "      <td>DsOsieczow21</td>\n",
       "      <td></td>\n",
       "      <td>X</td>\n",
       "      <td>X</td>\n",
       "      <td>X</td>\n",
       "    </tr>\n",
       "    <tr>\n",
       "      <th>4</th>\n",
       "      <td>DsWrocOrzech</td>\n",
       "      <td></td>\n",
       "      <td></td>\n",
       "      <td>X</td>\n",
       "      <td></td>\n",
       "    </tr>\n",
       "  </tbody>\n",
       "</table>\n",
       "</div>"
      ],
      "text/plain": [
       "        Station NO2 O3 PM10 PM25\n",
       "0  DsWrocBartni      X          \n",
       "1  PmLebaRabkaE   X  X          \n",
       "2  SlBielSterni                X\n",
       "3  DsOsieczow21      X    X    X\n",
       "4  DsWrocOrzech           X     "
      ]
     },
     "execution_count": 114,
     "metadata": {},
     "output_type": "execute_result"
    }
   ],
   "source": [
    "out_df.head()"
   ]
  },
  {
   "cell_type": "code",
   "execution_count": 115,
   "id": "16ecd99b",
   "metadata": {},
   "outputs": [],
   "source": [
    "out_df.to_csv(os.path.join(directory, 'station_pollutants.csv'), index=False)"
   ]
  },
  {
   "cell_type": "code",
   "execution_count": null,
   "id": "02fabaa4",
   "metadata": {},
   "outputs": [],
   "source": []
  }
 ],
 "metadata": {
  "kernelspec": {
   "display_name": "Python 3 (ipykernel)",
   "language": "python",
   "name": "python3"
  },
  "language_info": {
   "codemirror_mode": {
    "name": "ipython",
    "version": 3
   },
   "file_extension": ".py",
   "mimetype": "text/x-python",
   "name": "python",
   "nbconvert_exporter": "python",
   "pygments_lexer": "ipython3",
   "version": "3.9.12"
  }
 },
 "nbformat": 4,
 "nbformat_minor": 5
}
