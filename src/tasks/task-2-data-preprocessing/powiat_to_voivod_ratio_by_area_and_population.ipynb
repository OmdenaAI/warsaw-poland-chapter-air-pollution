{
 "cells": [
  {
   "attachments": {},
   "cell_type": "markdown",
   "metadata": {},
   "source": [
    "### Calculating the county/powiat to voivodship ratios based on area and population"
   ]
  },
  {
   "attachments": {},
   "cell_type": "markdown",
   "metadata": {},
   "source": [
    "Resulting file: https://github.com/OmdenaAI/warsaw-poland-chapter-air-pollution/blob/main/src/data/data_processed/static_annual_data/powiat_to_voivodship_ratio_by_area.csv"
   ]
  },
  {
   "cell_type": "code",
   "execution_count": 35,
   "metadata": {},
   "outputs": [],
   "source": [
    "import pandas as pd"
   ]
  },
  {
   "cell_type": "code",
   "execution_count": 36,
   "metadata": {},
   "outputs": [],
   "source": [
    "years = ['2017', '2018', '2019', '2020', '2021']"
   ]
  },
  {
   "attachments": {},
   "cell_type": "markdown",
   "metadata": {},
   "source": [
    "Load & process area_by_powiat.xlsx"
   ]
  },
  {
   "cell_type": "code",
   "execution_count": 37,
   "metadata": {},
   "outputs": [],
   "source": [
    "df1 = pd.read_excel('area_by_powiat.xlsx')\n",
    "\n",
    "# Drop unnecessary data & rename columns\n",
    "df1 = df1.drop([0, 1, 2]).drop(columns=['Unnamed: 0'])\n",
    "df1.columns = ['code', 'county', '2017', '2018', '2019', '2020', '2021']\n",
    "\n",
    "# Compute voivodship code for each county\n",
    "df1[\"voivod_code\"] = (df1['code'].astype(int) / (10**5))\n",
    "df1[\"voivod_code\"] = df1[\"voivod_code\"].astype(int) * 100000\n",
    "\n",
    "# Use mean area for county instead of area for each individual year\n",
    "df1[\"county_area\"] = df1[years].mean(axis=1)\n",
    "\n",
    "# Assess how much the area differs from year to year\n",
    "# df1[\"area_variance\"] = df1[years].var(axis=1)\n",
    "# df1 = df1.sort_values(by='area_variance',ascending=False)\n",
    "\n",
    "# df1.head()"
   ]
  },
  {
   "attachments": {},
   "cell_type": "markdown",
   "metadata": {},
   "source": [
    "Load & process area_by_voivodship.xlsx"
   ]
  },
  {
   "cell_type": "code",
   "execution_count": 38,
   "metadata": {},
   "outputs": [],
   "source": [
    "df2 = pd.read_excel('area_by_voivodship.xlsx')\n",
    "\n",
    "# Drop unnecessary data & rename columns\n",
    "df2 = df2.drop([0, 1, 2]).drop(columns=['Unnamed: 0'])\n",
    "df2.columns = ['code', 'voivodship', '2017', '2018', '2019', '2020', '2021']\n",
    "\n",
    "# Use mean area for voivodship instead of area for each individual year\n",
    "df2[\"voivod_area\"] = df2[years].mean(axis=1)\n",
    "\n",
    "# Assess how much the area differs from year to year\n",
    "# df2[\"area_variance\"] = df2[years].var(axis=1)\n",
    "# df2 = df2.sort_values(by='area_variance',ascending=False)\n",
    "\n",
    "# df2.head()"
   ]
  },
  {
   "attachments": {},
   "cell_type": "markdown",
   "metadata": {},
   "source": [
    "Merge counties & voivodships"
   ]
  },
  {
   "cell_type": "code",
   "execution_count": 39,
   "metadata": {},
   "outputs": [
    {
     "data": {
      "text/html": [
       "<div>\n",
       "<style scoped>\n",
       "    .dataframe tbody tr th:only-of-type {\n",
       "        vertical-align: middle;\n",
       "    }\n",
       "\n",
       "    .dataframe tbody tr th {\n",
       "        vertical-align: top;\n",
       "    }\n",
       "\n",
       "    .dataframe thead th {\n",
       "        text-align: right;\n",
       "    }\n",
       "</style>\n",
       "<table border=\"1\" class=\"dataframe\">\n",
       "  <thead>\n",
       "    <tr style=\"text-align: right;\">\n",
       "      <th></th>\n",
       "      <th>county_code</th>\n",
       "      <th>voivod_code</th>\n",
       "      <th>county</th>\n",
       "      <th>voivodship</th>\n",
       "      <th>county_area</th>\n",
       "      <th>voivod_area</th>\n",
       "    </tr>\n",
       "  </thead>\n",
       "  <tbody>\n",
       "    <tr>\n",
       "      <th>0</th>\n",
       "      <td>201000</td>\n",
       "      <td>200000</td>\n",
       "      <td>powiat bolesławiecki</td>\n",
       "      <td>dolnośląskie</td>\n",
       "      <td>1304.0</td>\n",
       "      <td>19947.0</td>\n",
       "    </tr>\n",
       "    <tr>\n",
       "      <th>1</th>\n",
       "      <td>202000</td>\n",
       "      <td>200000</td>\n",
       "      <td>powiat dzierżoniowski</td>\n",
       "      <td>dolnośląskie</td>\n",
       "      <td>479.0</td>\n",
       "      <td>19947.0</td>\n",
       "    </tr>\n",
       "    <tr>\n",
       "      <th>2</th>\n",
       "      <td>203000</td>\n",
       "      <td>200000</td>\n",
       "      <td>powiat głogowski</td>\n",
       "      <td>dolnośląskie</td>\n",
       "      <td>443.0</td>\n",
       "      <td>19947.0</td>\n",
       "    </tr>\n",
       "    <tr>\n",
       "      <th>3</th>\n",
       "      <td>204000</td>\n",
       "      <td>200000</td>\n",
       "      <td>powiat górowski</td>\n",
       "      <td>dolnośląskie</td>\n",
       "      <td>738.0</td>\n",
       "      <td>19947.0</td>\n",
       "    </tr>\n",
       "    <tr>\n",
       "      <th>4</th>\n",
       "      <td>205000</td>\n",
       "      <td>200000</td>\n",
       "      <td>powiat jaworski</td>\n",
       "      <td>dolnośląskie</td>\n",
       "      <td>582.0</td>\n",
       "      <td>19947.0</td>\n",
       "    </tr>\n",
       "  </tbody>\n",
       "</table>\n",
       "</div>"
      ],
      "text/plain": [
       "  county_code voivod_code                 county    voivodship  county_area  \\\n",
       "0      201000      200000   powiat bolesławiecki  dolnośląskie       1304.0   \n",
       "1      202000      200000  powiat dzierżoniowski  dolnośląskie        479.0   \n",
       "2      203000      200000       powiat głogowski  dolnośląskie        443.0   \n",
       "3      204000      200000        powiat górowski  dolnośląskie        738.0   \n",
       "4      205000      200000        powiat jaworski  dolnośląskie        582.0   \n",
       "\n",
       "   voivod_area  \n",
       "0      19947.0  \n",
       "1      19947.0  \n",
       "2      19947.0  \n",
       "3      19947.0  \n",
       "4      19947.0  "
      ]
     },
     "execution_count": 39,
     "metadata": {},
     "output_type": "execute_result"
    }
   ],
   "source": [
    "df = pd.merge(df1[['code', 'voivod_code','county','county_area']], df2[['code', 'voivodship', 'voivod_area']], how='inner', left_on = 'voivod_code', right_on = 'code')\n",
    "\n",
    "# Drop unnecessary data & rename columns\n",
    "df = df.drop(columns=['voivod_code'])\\\n",
    "    .rename(columns={'code_x': 'county_code', 'code_y': 'voivod_code', 'county_area':'county_area', 'voivod_area':'voivod_area'})\n",
    "\n",
    "# Rearrange columns\n",
    "df.insert(1, 'voivod_code', df.pop('voivod_code'))\n",
    "df.insert(3, 'voivodship', df.pop('voivodship'))\n",
    "\n",
    "df.head()"
   ]
  },
  {
   "cell_type": "code",
   "execution_count": 40,
   "metadata": {},
   "outputs": [],
   "source": [
    "# Auxiliary check step: Compare the sum of powiats' areas vs the area of voivodships\n",
    "# pd.merge(df.groupby([\"voivodship\"])[\"county_area\"].sum().reset_index(name=\"sum_of_pow_areas\"), \\\n",
    "#         df[['voivodship', 'voivod_area']].drop_duplicates(subset=[\"voivodship\"]) )"
   ]
  },
  {
   "cell_type": "code",
   "execution_count": 41,
   "metadata": {},
   "outputs": [],
   "source": [
    "# Compute county to voivodship ratio using area\n",
    "df['county_ratio_by_area'] = (df['county_area'] / df['voivod_area']).round(6)\n",
    "# df.head()\n",
    "# df.shape"
   ]
  },
  {
   "attachments": {},
   "cell_type": "markdown",
   "metadata": {},
   "source": [
    "Load & process population_density_by_powiat.xlsx"
   ]
  },
  {
   "cell_type": "code",
   "execution_count": 42,
   "metadata": {},
   "outputs": [],
   "source": [
    "df3 = pd.read_excel('population_density_by_powiat.xlsx')\n",
    "\n",
    "# Drop unnecessary data & rename columns\n",
    "df3 = df3.drop([0, 1, 2]).drop(columns=['Unnamed: 0', 'population density of the built-up and urbanized area', 'Unnamed: 9', 'Unnamed: 10', 'Unnamed: 11', 'Unnamed: 12'])\n",
    "df3.columns = ['code', 'county', '2017', '2018', '2019', '2020', '2021']\n",
    "df3['code'] = df3['code'].astype(int)\n",
    "\n",
    "# df3.head()"
   ]
  },
  {
   "attachments": {},
   "cell_type": "markdown",
   "metadata": {},
   "source": [
    "Merge area & population data"
   ]
  },
  {
   "cell_type": "code",
   "execution_count": 43,
   "metadata": {},
   "outputs": [
    {
     "data": {
      "text/html": [
       "<div>\n",
       "<style scoped>\n",
       "    .dataframe tbody tr th:only-of-type {\n",
       "        vertical-align: middle;\n",
       "    }\n",
       "\n",
       "    .dataframe tbody tr th {\n",
       "        vertical-align: top;\n",
       "    }\n",
       "\n",
       "    .dataframe thead th {\n",
       "        text-align: right;\n",
       "    }\n",
       "</style>\n",
       "<table border=\"1\" class=\"dataframe\">\n",
       "  <thead>\n",
       "    <tr style=\"text-align: right;\">\n",
       "      <th></th>\n",
       "      <th>county_code</th>\n",
       "      <th>voivod_code</th>\n",
       "      <th>county</th>\n",
       "      <th>voivodship</th>\n",
       "      <th>county_area</th>\n",
       "      <th>voivod_area</th>\n",
       "      <th>county_ratio_by_area</th>\n",
       "      <th>2017</th>\n",
       "      <th>2018</th>\n",
       "      <th>2019</th>\n",
       "      <th>2020</th>\n",
       "      <th>2021</th>\n",
       "    </tr>\n",
       "  </thead>\n",
       "  <tbody>\n",
       "    <tr>\n",
       "      <th>0</th>\n",
       "      <td>201000</td>\n",
       "      <td>200000</td>\n",
       "      <td>powiat bolesławiecki</td>\n",
       "      <td>dolnośląskie</td>\n",
       "      <td>1304.0</td>\n",
       "      <td>19947.0</td>\n",
       "      <td>0.065373</td>\n",
       "      <td>69</td>\n",
       "      <td>69</td>\n",
       "      <td>69</td>\n",
       "      <td>68</td>\n",
       "      <td>68</td>\n",
       "    </tr>\n",
       "    <tr>\n",
       "      <th>1</th>\n",
       "      <td>202000</td>\n",
       "      <td>200000</td>\n",
       "      <td>powiat dzierżoniowski</td>\n",
       "      <td>dolnośląskie</td>\n",
       "      <td>479.0</td>\n",
       "      <td>19947.0</td>\n",
       "      <td>0.024014</td>\n",
       "      <td>213</td>\n",
       "      <td>212</td>\n",
       "      <td>211</td>\n",
       "      <td>205</td>\n",
       "      <td>202</td>\n",
       "    </tr>\n",
       "    <tr>\n",
       "      <th>2</th>\n",
       "      <td>203000</td>\n",
       "      <td>200000</td>\n",
       "      <td>powiat głogowski</td>\n",
       "      <td>dolnośląskie</td>\n",
       "      <td>443.0</td>\n",
       "      <td>19947.0</td>\n",
       "      <td>0.022209</td>\n",
       "      <td>203</td>\n",
       "      <td>202</td>\n",
       "      <td>201</td>\n",
       "      <td>196</td>\n",
       "      <td>195</td>\n",
       "    </tr>\n",
       "    <tr>\n",
       "      <th>3</th>\n",
       "      <td>204000</td>\n",
       "      <td>200000</td>\n",
       "      <td>powiat górowski</td>\n",
       "      <td>dolnośląskie</td>\n",
       "      <td>738.0</td>\n",
       "      <td>19947.0</td>\n",
       "      <td>0.036998</td>\n",
       "      <td>48</td>\n",
       "      <td>48</td>\n",
       "      <td>47</td>\n",
       "      <td>45</td>\n",
       "      <td>45</td>\n",
       "    </tr>\n",
       "    <tr>\n",
       "      <th>4</th>\n",
       "      <td>205000</td>\n",
       "      <td>200000</td>\n",
       "      <td>powiat jaworski</td>\n",
       "      <td>dolnośląskie</td>\n",
       "      <td>582.0</td>\n",
       "      <td>19947.0</td>\n",
       "      <td>0.029177</td>\n",
       "      <td>88</td>\n",
       "      <td>87</td>\n",
       "      <td>86</td>\n",
       "      <td>84</td>\n",
       "      <td>83</td>\n",
       "    </tr>\n",
       "  </tbody>\n",
       "</table>\n",
       "</div>"
      ],
      "text/plain": [
       "  county_code voivod_code                 county    voivodship  county_area  \\\n",
       "0      201000      200000   powiat bolesławiecki  dolnośląskie       1304.0   \n",
       "1      202000      200000  powiat dzierżoniowski  dolnośląskie        479.0   \n",
       "2      203000      200000       powiat głogowski  dolnośląskie        443.0   \n",
       "3      204000      200000        powiat górowski  dolnośląskie        738.0   \n",
       "4      205000      200000        powiat jaworski  dolnośląskie        582.0   \n",
       "\n",
       "   voivod_area  county_ratio_by_area 2017 2018 2019 2020 2021  \n",
       "0      19947.0              0.065373   69   69   69   68   68  \n",
       "1      19947.0              0.024014  213  212  211  205  202  \n",
       "2      19947.0              0.022209  203  202  201  196  195  \n",
       "3      19947.0              0.036998   48   48   47   45   45  \n",
       "4      19947.0              0.029177   88   87   86   84   83  "
      ]
     },
     "execution_count": 43,
     "metadata": {},
     "output_type": "execute_result"
    }
   ],
   "source": [
    "df = pd.merge(df, df3, how='inner', left_on = 'county_code', right_on = 'code')\\\n",
    "    .rename(columns={'county_x': 'county'})\\\n",
    "    .drop(columns=['code', 'county_y'])\n",
    "\n",
    "df.head()\n",
    "# df.shape"
   ]
  },
  {
   "cell_type": "code",
   "execution_count": 44,
   "metadata": {},
   "outputs": [],
   "source": [
    "# Compute total population by county ( population_density * area )\n",
    "for year in years:\n",
    "    df[str(year) + '_county_pop'] = (df[str(year)] * df['county_area']).astype(int)\n",
    "\n",
    "df = df.drop(columns=years)\n",
    "\n",
    "# Compute total population by voivodship\n",
    "for year in years:\n",
    "    df[str(year) + '_voivod_pop'] = df.groupby([\"voivodship\"])[str(year) + \"_county_pop\"].transform(\"sum\")\n",
    "\n",
    "# Compute population averages\n",
    "df[\"county_pop_mean\"] = df[[s + \"_county_pop\" for s in years]].mean(axis=1).astype(int)\n",
    "df[\"voivod_pop_mean\"] = df[[s + \"_voivod_pop\" for s in years]].mean(axis=1).astype(int)\n",
    "\n",
    "# Compute population county to voivodship ratios by populatoon\n",
    "for year in years:\n",
    "    df[str(year) + '_county_ratio_by_pop'] = (df[str(year) + '_county_pop'] / df[str(year) + '_voivod_pop']).round(6)\n",
    "df['county_ratio_by_pop'] = (df['county_pop_mean'] / df['voivod_pop_mean']).round(6)\n",
    "\n",
    "# df.head()"
   ]
  },
  {
   "cell_type": "code",
   "execution_count": 45,
   "metadata": {},
   "outputs": [],
   "source": [
    "df.to_csv(\"powiat_to_voivodship_ratio_by_area.csv\")"
   ]
  }
 ],
 "metadata": {
  "kernelspec": {
   "display_name": "base",
   "language": "python",
   "name": "python3"
  },
  "language_info": {
   "codemirror_mode": {
    "name": "ipython",
    "version": 3
   },
   "file_extension": ".py",
   "mimetype": "text/x-python",
   "name": "python",
   "nbconvert_exporter": "python",
   "pygments_lexer": "ipython3",
   "version": "3.9.7"
  },
  "orig_nbformat": 4,
  "vscode": {
   "interpreter": {
    "hash": "71340ed0513d6f70bd8cfe6ac9ee00e58810d02a116a951fc4e659834360650f"
   }
  }
 },
 "nbformat": 4,
 "nbformat_minor": 2
}
