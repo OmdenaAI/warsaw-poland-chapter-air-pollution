{
 "cells": [
  {
   "cell_type": "code",
   "execution_count": 1,
   "metadata": {},
   "outputs": [],
   "source": [
    "import os\n",
    "import pandas as pd\n",
    "import glob"
   ]
  },
  {
   "cell_type": "code",
   "execution_count": 2,
   "metadata": {},
   "outputs": [],
   "source": [
    "pollutants = ['NO2', 'O3','PM10','PM25']\n",
    "fnames = []\n",
    "for p in pollutants:\n",
    "    directory_mask = os.path.join(\"../../data/9. data_for_forecasting/pollutant\", f\"{p}*\")\n",
    "    fnames.append(glob.glob(directory_mask))"
   ]
  },
  {
   "cell_type": "code",
   "execution_count": 3,
   "metadata": {},
   "outputs": [],
   "source": [
    "def computeDailyAvg(fname):\n",
    "    df = pd.read_csv(fname, skiprows=1, header=None, na_values= ' ', index_col=0)\n",
    "    df.drop(columns=df.columns[-1],inplace=True)\n",
    "    df.index = pd.to_datetime(df.index)\n",
    "    df_avg = df.groupby(df.index.day).mean(numeric_only=True)\n",
    "    daylist = []\n",
    "    for day in df_avg.index:\n",
    "        day = str(df.index.year[0])+'-'+str(df.index.month[0])+'-'+str(day)\n",
    "        daylist.append(day)\n",
    "    df_avg.index = daylist\n",
    "    df_avg.index = pd.to_datetime(df_avg.index)\n",
    "    df_avg.index.name = 'DATE'\n",
    "    return df_avg"
   ]
  },
  {
   "cell_type": "code",
   "execution_count": 4,
   "metadata": {},
   "outputs": [],
   "source": [
    "def mergeMonthlyData(pollutant, files):\n",
    "    df_combined = None\n",
    "    for f in files:\n",
    "        idf = computeDailyAvg(f)\n",
    "        colsToDrop = idf.columns\n",
    "        df_combined = pd.concat([df_combined, idf], axis=0)\n",
    "        df_combined[pollutant] = df_combined.mean(axis=1)\n",
    "        df_combined.drop(columns=colsToDrop, inplace=True)\n",
    "    return df_combined\n",
    "    "
   ]
  },
  {
   "cell_type": "code",
   "execution_count": 5,
   "metadata": {},
   "outputs": [],
   "source": [
    "master_df = None\n",
    "for i, p in enumerate(pollutants):\n",
    "    idf = mergeMonthlyData(p, fnames[i])\n",
    "    if master_df is None:\n",
    "        master_df = idf\n",
    "        continue\n",
    "    master_df = master_df.merge(idf, on='DATE', how='inner')"
   ]
  },
  {
   "cell_type": "code",
   "execution_count": 6,
   "metadata": {},
   "outputs": [],
   "source": [
    "#Add powiat voivodeship data\n",
    "master_df['powiat_voivod'] = 'powiat warszawa, mazowieckie'"
   ]
  },
  {
   "cell_type": "code",
   "execution_count": 7,
   "metadata": {},
   "outputs": [],
   "source": [
    "master_df.sort_index(inplace=True)"
   ]
  },
  {
   "cell_type": "code",
   "execution_count": 8,
   "metadata": {},
   "outputs": [],
   "source": [
    "master_df.to_csv(\"../../data/9. data_for_forecasting/Combined_pollutant_data_forecasting.csv\")"
   ]
  }
 ],
 "metadata": {
  "kernelspec": {
   "display_name": "8.S50x",
   "language": "python",
   "name": "python3"
  },
  "language_info": {
   "codemirror_mode": {
    "name": "ipython",
    "version": 3
   },
   "file_extension": ".py",
   "mimetype": "text/x-python",
   "name": "python",
   "nbconvert_exporter": "python",
   "pygments_lexer": "ipython3",
   "version": "3.9.15"
  },
  "orig_nbformat": 4
 },
 "nbformat": 4,
 "nbformat_minor": 2
}
