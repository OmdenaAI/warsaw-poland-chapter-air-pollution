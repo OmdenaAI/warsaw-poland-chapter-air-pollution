{
 "cells": [
  {
   "cell_type": "code",
   "execution_count": 53,
   "id": "8d5fb2f6",
   "metadata": {},
   "outputs": [],
   "source": [
    "import json\n",
    "from shapely.geometry import shape, GeometryCollection, Point\n",
    "from typing import Tuple\n",
    "#Documentation: https://shapely.readthedocs.io/en/stable/"
   ]
  },
  {
   "cell_type": "code",
   "execution_count": 54,
   "id": "55d3406b",
   "metadata": {},
   "outputs": [],
   "source": [
    "#read geojson file for wojewodztwo level\n",
    "with open('wojewodztwa-max.geojson.txt', \"r\", encoding=\"utf-8\") as f:\n",
    "     wojewodztwa = json.load(f)\n",
    "#read geojson file for powiat level\n",
    "with open('powiaty-max.geojson.txt', \"r\", encoding=\"utf-8\") as f:\n",
    "     powiaty = json.load(f)"
   ]
  },
  {
   "cell_type": "code",
   "execution_count": 59,
   "id": "e1e07ef2",
   "metadata": {},
   "outputs": [],
   "source": [
    "def look_up(longitude: float, latitude:float ) -> Tuple[str,str] :\n",
    "    \n",
    "    point: Point = Point(longitude, latitude)\n",
    "    \n",
    "    wojewodztwo: str = 'not in PL'\n",
    "    powiat: str = 'not in PL'\n",
    "    \n",
    "    for feature in wojewodztwa['features']:\n",
    "        polygon = shape(feature['geometry'])\n",
    "        if polygon.contains(point):\n",
    "            wojewodztwo = feature['properties']['nazwa']\n",
    "    \n",
    "    for feature in powiaty['features']:\n",
    "        polygon = shape(feature['geometry'])\n",
    "        if polygon.contains(point):\n",
    "            powiat = feature['properties']['nazwa']\n",
    "        \n",
    "    return wojewodztwo, powiat\n"
   ]
  },
  {
   "cell_type": "code",
   "execution_count": 60,
   "id": "a37f17ae",
   "metadata": {},
   "outputs": [],
   "source": [
    "info: Tuple[str,str] = look_up(20.975166, 50.173166 )"
   ]
  },
  {
   "cell_type": "code",
   "execution_count": 57,
   "id": "20d00c16",
   "metadata": {},
   "outputs": [
    {
     "name": "stdout",
     "output_type": "stream",
     "text": [
      "('małopolskie', 'powiat dąbrowski')\n"
     ]
    }
   ],
   "source": [
    "print(info)"
   ]
  },
  {
   "cell_type": "code",
   "execution_count": null,
   "id": "2ec6e122",
   "metadata": {},
   "outputs": [],
   "source": []
  }
 ],
 "metadata": {
  "kernelspec": {
   "display_name": "Python 3 (ipykernel)",
   "language": "python",
   "name": "python3"
  },
  "language_info": {
   "codemirror_mode": {
    "name": "ipython",
    "version": 3
   },
   "file_extension": ".py",
   "mimetype": "text/x-python",
   "name": "python",
   "nbconvert_exporter": "python",
   "pygments_lexer": "ipython3",
   "version": "3.10.9"
  }
 },
 "nbformat": 4,
 "nbformat_minor": 5
}
