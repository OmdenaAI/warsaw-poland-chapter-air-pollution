{
 "cells": [
  {
   "cell_type": "code",
   "execution_count": 1,
   "id": "8d5fb2f6",
   "metadata": {},
   "outputs": [],
   "source": [
    "import json\n",
    "from shapely.geometry import shape, GeometryCollection, Point\n",
    "from typing import Tuple\n",
    "#Documentation: https://shapely.readthedocs.io/en/stable/"
   ]
  },
  {
   "cell_type": "code",
   "execution_count": 2,
   "id": "55d3406b",
   "metadata": {},
   "outputs": [],
   "source": [
    "#read geojson file for wojewodztwo level\n",
    "with open('../../data/data_auxiliary/wojewodztwa-max.geojson', \"r\", encoding=\"utf-8\") as f:\n",
    "     wojewodztwa = json.load(f)\n",
    "#read geojson file for powiat level\n",
    "with open('../../data/data_auxiliary/powiaty-max.geojson', \"r\", encoding=\"utf-8\") as f:\n",
    "     powiaty = json.load(f)"
   ]
  },
  {
   "cell_type": "code",
   "execution_count": 3,
   "id": "e1e07ef2",
   "metadata": {},
   "outputs": [],
   "source": [
    "def look_up(longitude: float, latitude:float ) -> Tuple[str,str] :\n",
    "    \n",
    "    point: Point = Point(longitude, latitude)\n",
    "    \n",
    "    wojewodztwo: str = 'not in PL'\n",
    "    powiat: str = 'not in PL'\n",
    "    \n",
    "    for feature in wojewodztwa['features']:\n",
    "        polygon = shape(feature['geometry'])\n",
    "        if polygon.contains(point):\n",
    "            wojewodztwo = feature['properties']['nazwa']\n",
    "    \n",
    "    for feature in powiaty['features']:\n",
    "        polygon = shape(feature['geometry'])\n",
    "        if polygon.contains(point):\n",
    "            powiat = feature['properties']['nazwa']\n",
    "        \n",
    "    return wojewodztwo, powiat\n"
   ]
  },
  {
   "cell_type": "code",
   "execution_count": 4,
   "id": "a37f17ae",
   "metadata": {},
   "outputs": [],
   "source": [
    "info: Tuple[str,str] = look_up(20.975166, 50.173166 )"
   ]
  },
  {
   "cell_type": "code",
   "execution_count": 5,
   "id": "20d00c16",
   "metadata": {},
   "outputs": [
    {
     "name": "stdout",
     "output_type": "stream",
     "text": [
      "('małopolskie', 'powiat dąbrowski')\n"
     ]
    }
   ],
   "source": [
    "print(info)"
   ]
  },
  {
   "attachments": {},
   "cell_type": "markdown",
   "id": "15eec203",
   "metadata": {},
   "source": [
    "# Checking powiat for weather stations"
   ]
  },
  {
   "cell_type": "code",
   "execution_count": 6,
   "id": "3d971510",
   "metadata": {},
   "outputs": [],
   "source": [
    "import pandas as pd\n",
    "stations = pd.read_csv(\"../../data/data_processed/processed_weather_data_in_CSV_files/stations_with_powiat_voivod.csv\")"
   ]
  },
  {
   "cell_type": "code",
   "execution_count": 7,
   "id": "9642ac5e",
   "metadata": {},
   "outputs": [
    {
     "name": "stdout",
     "output_type": "stream",
     "text": [
      "LAT: 50.78333333, LON: 15.78333333, OLD VOIVOD/POWIAT: ('dolnośląskie', 'powiat karkonoski'), NEW VOIVOD/POWIAT: ('dolnośląskie', 'powiat jeleniogórski')\n",
      "LAT: 51.96666667, LON: 20.16666667, OLD VOIVOD/POWIAT: ('łódzkie', 'Powiat skierniewicki'), NEW VOIVOD/POWIAT: ('łódzkie', 'powiat Skierniewice')\n",
      "LAT: 52.28333333, LON: 20.96666667, OLD VOIVOD/POWIAT: ('mazowieckie', 'Warszawa'), NEW VOIVOD/POWIAT: ('mazowieckie', 'powiat Warszawa')\n",
      "LAT: 52.21944444, LON: 20.99916667, OLD VOIVOD/POWIAT: ('mazowieckie', 'Warszawa'), NEW VOIVOD/POWIAT: ('mazowieckie', 'powiat Warszawa')\n",
      "LAT: 54.38333333, LON: 18.46666667, OLD VOIVOD/POWIAT: ('pomorskie', 'Gdańsk County'), NEW VOIVOD/POWIAT: ('pomorskie', 'powiat Gdańsk')\n",
      "LAT: 54.33333333, LON: 18.93333333, OLD VOIVOD/POWIAT: ('pomorskie', 'Gdańsk County'), NEW VOIVOD/POWIAT: ('pomorskie', 'powiat Gdańsk')\n",
      "LAT: 50.90027778, LON: 15.78888889, OLD VOIVOD/POWIAT: ('dolnośląskie', 'Jelenia Góra County'), NEW VOIVOD/POWIAT: ('dolnośląskie', 'powiat Jelenia Góra')\n",
      "LAT: 50.73611111, LON: 15.73944444, OLD VOIVOD/POWIAT: ('dolnośląskie', 'powiat karkonoski'), NEW VOIVOD/POWIAT: ('dolnośląskie', 'powiat jeleniogórski')\n",
      "LAT: 50.62694444, LON: 17.96888889, OLD VOIVOD/POWIAT: ('opolskie', 'Chełm County'), NEW VOIVOD/POWIAT: ('opolskie', 'powiat Opole')\n",
      "LAT: 50.8125, LON: 19.0925, OLD VOIVOD/POWIAT: ('śląskie', 'Częstochowa'), NEW VOIVOD/POWIAT: ('śląskie', 'powiat Częstochowa')\n",
      "LAT: 50.24055556, LON: 19.03277778, OLD VOIVOD/POWIAT: ('śląskie', 'Katowice'), NEW VOIVOD/POWIAT: ('śląskie', 'powiat Katowice')\n",
      "LAT: 50.03, LON: 20.98444444, OLD VOIVOD/POWIAT: ('małopolskie', 'Powiat dąbrowski'), NEW VOIVOD/POWIAT: ('małopolskie', 'powiat Tarnów')\n",
      "LAT: 51.1925, LON: 16.2075, OLD VOIVOD/POWIAT: ('dolnośląskie', 'powiat legnicki'), NEW VOIVOD/POWIAT: ('dolnośląskie', 'powiat Legnica')\n",
      "LAT: 54.38333333, LON: 18.46666667, OLD VOIVOD/POWIAT: ('pomorskie', 'Gdańsk County'), NEW VOIVOD/POWIAT: ('pomorskie', 'powiat Gdańsk')\n",
      "LAT: 52.21666667, LON: 21.03333333, OLD VOIVOD/POWIAT: ('mazowieckie', 'Warszawa'), NEW VOIVOD/POWIAT: ('mazowieckie', 'powiat Warszawa')\n",
      "LAT: 54.20444444, LON: 16.15527778, OLD VOIVOD/POWIAT: ('zachodniopomorskie', 'Koszalin'), NEW VOIVOD/POWIAT: ('zachodniopomorskie', 'powiat Koszalin')\n",
      "LAT: 49.70694444, LON: 21.76916667, OLD VOIVOD/POWIAT: ('podkarpackie', 'Powiat krośnieński'), NEW VOIVOD/POWIAT: ('podkarpackie', 'powiat Krosno')\n",
      "LAT: 50.07, LON: 19.97, OLD VOIVOD/POWIAT: ('małopolskie', 'Kraków'), NEW VOIVOD/POWIAT: ('małopolskie', 'powiat Kraków')\n",
      "LAT: 52.22, LON: 21.03, OLD VOIVOD/POWIAT: ('mazowieckie', 'Warszawa'), NEW VOIVOD/POWIAT: ('mazowieckie', 'powiat Warszawa')\n",
      "LAT: 49.80722222, LON: 19.00027778, OLD VOIVOD/POWIAT: ('śląskie', 'Bielsko-Biała County'), NEW VOIVOD/POWIAT: ('śląskie', 'powiat Bielsko-Biała')\n",
      "LAT: 49.62722222, LON: 20.68861111, OLD VOIVOD/POWIAT: ('małopolskie', 'Powiat skierniewicki'), NEW VOIVOD/POWIAT: ('małopolskie', 'powiat Nowy Sącz')\n",
      "LAT: 51.93, LON: 15.52472222, OLD VOIVOD/POWIAT: ('lubuskie', 'Zielona Góra'), NEW VOIVOD/POWIAT: ('lubuskie', 'powiat Zielona Góra')\n",
      "LAT: 51.83555556, LON: 16.53472222, OLD VOIVOD/POWIAT: ('wielkopolskie', 'powiat leszczyński'), NEW VOIVOD/POWIAT: ('wielkopolskie', 'powiat Leszno')\n",
      "LAT: 51.10333333, LON: 16.9, OLD VOIVOD/POWIAT: ('dolnośląskie', 'Powiat wrocławski'), NEW VOIVOD/POWIAT: ('dolnośląskie', 'powiat Wrocław')\n",
      "LAT: 51.73, LON: 18.08, OLD VOIVOD/POWIAT: ('wielkopolskie', 'Kalisz'), NEW VOIVOD/POWIAT: ('wielkopolskie', 'powiat Kalisz')\n",
      "LAT: 51.73, LON: 19.4, OLD VOIVOD/POWIAT: ('łódzkie', 'Kłodzko County'), NEW VOIVOD/POWIAT: ('łódzkie', 'powiat Łódź')\n",
      "LAT: 52.74111111, LON: 15.27722222, OLD VOIVOD/POWIAT: ('lubuskie', 'Gorzów Wielkopolski'), NEW VOIVOD/POWIAT: ('lubuskie', 'powiat Gorzów Wielkopolski')\n",
      "LAT: 52.16277778, LON: 20.96111111, OLD VOIVOD/POWIAT: ('mazowieckie', 'Warszawa'), NEW VOIVOD/POWIAT: ('mazowieckie', 'powiat Warszawa')\n",
      "LAT: 52.18111111, LON: 22.24472222, OLD VOIVOD/POWIAT: ('mazowieckie', 'Powiat siedlecki'), NEW VOIVOD/POWIAT: ('mazowieckie', 'powiat Siedlce')\n",
      "LAT: 53.92333333, LON: 14.24222222, OLD VOIVOD/POWIAT: ('zachodniopomorskie', 'Świnoujście'), NEW VOIVOD/POWIAT: ('zachodniopomorskie', 'powiat Świnoujście')\n",
      "LAT: 53.39527778, LON: 14.62277778, OLD VOIVOD/POWIAT: ('zachodniopomorskie', 'Powiat policki'), NEW VOIVOD/POWIAT: ('zachodniopomorskie', 'powiat Szczecin')\n",
      "LAT: 53.04194444, LON: 18.59555556, OLD VOIVOD/POWIAT: ('kujawsko-pomorskie', 'Torun County'), NEW VOIVOD/POWIAT: ('kujawsko-pomorskie', 'powiat Toruń')\n",
      "LAT: 53.76861111, LON: 20.42138889, OLD VOIVOD/POWIAT: ('warmińsko-mazurskie', 'Powiat częstochowski'), NEW VOIVOD/POWIAT: ('warmińsko-mazurskie', 'powiat Olsztyn')\n",
      "LAT: 53.10722222, LON: 23.16222222, OLD VOIVOD/POWIAT: ('podlaskie', 'Białystok'), NEW VOIVOD/POWIAT: ('podlaskie', 'powiat Białystok')\n",
      "LAT: 52.36527778, LON: 14.53777778, OLD VOIVOD/POWIAT: ('Brandenburg', 'Powiat słubicki'), NEW VOIVOD/POWIAT: ('not in PL', 'not in PL')\n",
      "LAT: 54.13083333, LON: 22.94888889, OLD VOIVOD/POWIAT: ('podlaskie', 'Powiat suwalski'), NEW VOIVOD/POWIAT: ('podlaskie', 'powiat Suwałki')\n",
      "LAT: 50.24055556, LON: 19.03277778, OLD VOIVOD/POWIAT: ('śląskie', 'Katowice'), NEW VOIVOD/POWIAT: ('śląskie', 'powiat Katowice')\n",
      "LAT: 52.26694444, LON: 20.90583333, OLD VOIVOD/POWIAT: ('mazowieckie', 'Warszawa'), NEW VOIVOD/POWIAT: ('mazowieckie', 'powiat Warszawa')\n",
      "LAT: 52.26777778, LON: 20.91083333, OLD VOIVOD/POWIAT: ('mazowieckie', 'Warszawa'), NEW VOIVOD/POWIAT: ('mazowieckie', 'powiat Warszawa')\n",
      "LAT: 51.71694444, LON: 19.4, OLD VOIVOD/POWIAT: ('łódzkie', 'Kłodzko County'), NEW VOIVOD/POWIAT: ('łódzkie', 'powiat Łódź')\n",
      "LAT: 54.33, LON: 18.93, OLD VOIVOD/POWIAT: ('pomorskie', 'Gdańsk County'), NEW VOIVOD/POWIAT: ('pomorskie', 'powiat Gdańsk')\n",
      "LAT: 52.75, LON: 15.28, OLD VOIVOD/POWIAT: ('lubuskie', 'Gorzów Wielkopolski'), NEW VOIVOD/POWIAT: ('lubuskie', 'powiat Gorzów Wielkopolski')\n",
      "LAT: 50.73, LON: 15.73, OLD VOIVOD/POWIAT: ('Severovýchod', 'Královéhradecký kraj'), NEW VOIVOD/POWIAT: ('not in PL', 'not in PL')\n",
      "LAT: 50.63, LON: 17.97, OLD VOIVOD/POWIAT: ('opolskie', 'Chełm County'), NEW VOIVOD/POWIAT: ('opolskie', 'powiat Opole')\n"
     ]
    }
   ],
   "source": [
    "for ind, i in enumerate(zip(stations['LON'],stations['LAT'],stations['state'],stations['county'])):\n",
    "    pow_voi = look_up(i[0],i[1])\n",
    "    pow_voi_old = ( i[2].split(' ')[1] if len(i[2].split(' ')) == 2 else i[2], i[3])\n",
    "    if pow_voi[1] != pow_voi_old[1]:\n",
    "        stations.loc[ind,('county')] = pow_voi[1]\n",
    "        print(f\"LAT: {i[1]}, LON: {i[0]}, OLD VOIVOD/POWIAT: {pow_voi_old[0],pow_voi_old[1]}, NEW VOIVOD/POWIAT: {pow_voi[0],pow_voi[1]}\")"
   ]
  },
  {
   "cell_type": "code",
   "execution_count": 8,
   "id": "a8712ad5",
   "metadata": {},
   "outputs": [
    {
     "name": "stdout",
     "output_type": "stream",
     "text": [
      "(14.53777778, 52.36527778, 'Brandenburg', 'not in PL') -> ('lubuskie', 'powiat słubicki')\n",
      "(15.73, 50.73, 'Severovýchod', 'not in PL') -> ('dolnośląskie', 'powiat jeleniogórski')\n"
     ]
    }
   ],
   "source": [
    "import random\n",
    "\n",
    "for ind, i in enumerate(zip(stations['LON'],stations['LAT'],stations['state'],stations['county'])):\n",
    "    pow_voi = (i[2], i[3])\n",
    "    while pow_voi[1] == 'not in PL':\n",
    "        new_coords = (i[0] + 0.1*(2*random.random()-1), i[1] + 0.1*(2*random.random()-1))\n",
    "        pow_voi = look_up(*new_coords)\n",
    "        if pow_voi != ('not in PL', 'not in PL'):\n",
    "            print(i, \"->\", pow_voi)\n",
    "            stations.loc[ind, ('state','county')] = ['województwo ' + pow_voi[0], pow_voi[1]]"
   ]
  },
  {
   "cell_type": "code",
   "execution_count": 11,
   "id": "f3af3ea7",
   "metadata": {},
   "outputs": [],
   "source": [
    "stations.to_csv(\"../../data/data_processed/processed_weather_data_in_CSV_files/stations_with_powiat_voivod_NEW.csv\")"
   ]
  }
 ],
 "metadata": {
  "kernelspec": {
   "display_name": "8.S50x",
   "language": "python",
   "name": "python3"
  },
  "language_info": {
   "codemirror_mode": {
    "name": "ipython",
    "version": 3
   },
   "file_extension": ".py",
   "mimetype": "text/x-python",
   "name": "python",
   "nbconvert_exporter": "python",
   "pygments_lexer": "ipython3",
   "version": "3.9.15"
  },
  "vscode": {
   "interpreter": {
    "hash": "ad8203e0260a2419f059c06940b8edad8411a651020daa6eb1476548a99bdb1a"
   }
  }
 },
 "nbformat": 4,
 "nbformat_minor": 5
}
