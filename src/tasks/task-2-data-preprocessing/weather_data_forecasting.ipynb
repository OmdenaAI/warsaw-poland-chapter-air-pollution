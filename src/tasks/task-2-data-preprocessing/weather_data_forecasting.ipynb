{
 "cells": [
  {
   "cell_type": "code",
   "execution_count": 1,
   "metadata": {},
   "outputs": [],
   "source": [
    "import os\n",
    "import math\n",
    "\n",
    "import numpy as np\n",
    "import pandas as pd\n",
    "import glob\n",
    "from tqdm import tqdm"
   ]
  },
  {
   "cell_type": "code",
   "execution_count": 2,
   "metadata": {},
   "outputs": [],
   "source": [
    "startdate, enddate = 20220101, 20220131 "
   ]
  },
  {
   "cell_type": "code",
   "execution_count": 3,
   "metadata": {},
   "outputs": [
    {
     "name": "stdout",
     "output_type": "stream",
     "text": [
      "../../data/9. data_for_forecasting/weather/SD_STAID000209.txt\n"
     ]
    }
   ],
   "source": [
    "directory_mask = os.path.join(\"../../data/9. data_for_forecasting/weather\", \"*209.txt\")\n",
    "# Find list of matching filenames in the directory\n",
    "filenames = glob.glob(directory_mask)\n",
    "dfs = []\n",
    "print(filenames[4])\n",
    "\n",
    "if (len(filenames) > 0):\n",
    "    df_list = []\n",
    "    for filename in filenames:\n",
    "        idf = pd.read_csv(filename, skiprows=19)\n",
    "        idf.drop(columns=' SOUID', inplace=True)\n",
    "        idf.rename(columns=lambda x: x.strip(), inplace = True)\n",
    "        idf = idf[(idf['DATE'] >= startdate) & (idf['DATE'] <= enddate)]\n",
    "        dfs.append(idf)\n"
   ]
  },
  {
   "cell_type": "code",
   "execution_count": 14,
   "metadata": {},
   "outputs": [],
   "source": [
    "master_df = dfs[0]\n",
    "for idf in dfs[1:]:\n",
    "    master_df = master_df.merge(idf, how='outer', on='DATE')"
   ]
  },
  {
   "cell_type": "code",
   "execution_count": 15,
   "metadata": {},
   "outputs": [],
   "source": [
    "#Change to datetime\n",
    "master_df['DATE'] = master_df['DATE'].apply(lambda x: str(x)[:4]+'-'+str(x)[4:6]+'-'+str(x)[-2:])\n",
    "master_df['DATE'] = pd.to_datetime(master_df['DATE'], format='%Y-%m-%d')"
   ]
  },
  {
   "cell_type": "code",
   "execution_count": 18,
   "metadata": {},
   "outputs": [],
   "source": [
    "master_df.to_csv(\"../../data/9. data_for_forecasting/Combined_weather_data_jan22.csv\")"
   ]
  }
 ],
 "metadata": {
  "kernelspec": {
   "display_name": "8.S50x",
   "language": "python",
   "name": "python3"
  },
  "language_info": {
   "codemirror_mode": {
    "name": "ipython",
    "version": 3
   },
   "file_extension": ".py",
   "mimetype": "text/x-python",
   "name": "python",
   "nbconvert_exporter": "python",
   "pygments_lexer": "ipython3",
   "version": "3.9.15"
  },
  "orig_nbformat": 4
 },
 "nbformat": 4,
 "nbformat_minor": 2
}
