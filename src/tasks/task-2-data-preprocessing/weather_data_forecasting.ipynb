{
 "cells": [
  {
   "cell_type": "code",
   "execution_count": 1,
   "metadata": {},
   "outputs": [],
   "source": [
    "import os\n",
    "import pandas as pd\n",
    "import glob"
   ]
  },
  {
   "cell_type": "code",
   "execution_count": 2,
   "metadata": {},
   "outputs": [],
   "source": [
    "startdate, enddate = 20220101, 20230131 "
   ]
  },
  {
   "cell_type": "code",
   "execution_count": 3,
   "metadata": {},
   "outputs": [],
   "source": [
    "directory_mask = os.path.join(\"../../data/9. data_for_forecasting/weather\", \"*209.txt\")\n",
    "directory_mask_wind_speed = os.path.join(\"../../data/9. data_for_forecasting/weather\", \"*060.txt\")\n",
    "# Find list of matching filenames in the directory\n",
    "filenames = glob.glob(directory_mask)\n",
    "filename_wind_speed = glob.glob(directory_mask_wind_speed)\n",
    "# Add the wind speed data manually\n",
    "filenames.append(filename_wind_speed[0])\n",
    "dfs = []\n",
    "\n",
    "if (len(filenames) > 0):\n",
    "    df_list = []\n",
    "    for filename in filenames:\n",
    "        idf = pd.read_csv(filename, skiprows=19)\n",
    "        idf.drop(columns=' SOUID', inplace=True)\n",
    "        idf.rename(columns=lambda x: x.strip(), inplace = True)\n",
    "        idf = idf[(idf['DATE'] >= startdate) & (idf['DATE'] <= enddate)]\n",
    "        dfs.append(idf)\n"
   ]
  },
  {
   "cell_type": "code",
   "execution_count": 4,
   "metadata": {},
   "outputs": [],
   "source": [
    "master_df = dfs[0]\n",
    "for idf in dfs[1:]:\n",
    "    master_df = master_df.merge(idf, how='outer', on='DATE')"
   ]
  },
  {
   "cell_type": "code",
   "execution_count": 5,
   "metadata": {},
   "outputs": [],
   "source": [
    "#Change to datetime\n",
    "master_df['DATE'] = master_df['DATE'].apply(lambda x: str(x)[:4]+'-'+str(x)[4:6]+'-'+str(x)[-2:])\n",
    "master_df['DATE'] = pd.to_datetime(master_df['DATE'], format='%Y-%m-%d')"
   ]
  },
  {
   "cell_type": "code",
   "execution_count": 6,
   "metadata": {},
   "outputs": [],
   "source": [
    "#Add powiat_voivod column and rename the columns\n",
    "master_df['powiat_voivod'] = 'powiat warszawa, mazowieckie'\n",
    "master_df.rename(columns={\"CC\": \"cloud_cover\", \"Q_CC\": \"Q_cloud_cover\", \"FG\": \"wind_speed\", \"Q_FG\":\"Q_wind_speed\",\n",
    "                          \"HU\":\"humidity\", \"Q_HU\":\"Q_humidity\", \"RR\":\"precipitation\", \"Q_RR\":\"Q_precipitation\",\n",
    "                          \"SD\":\"snow_depth\", \"Q_SD\":\"Q_snow_depth\", \"TG\":\"temperature\", \"Q_TG\":\"Q_temperature\"}, inplace=True)\n",
    "\n",
    "#Recalculate the temperature\n",
    "master_df['temperature'] /= 10"
   ]
  },
  {
   "cell_type": "code",
   "execution_count": 7,
   "metadata": {},
   "outputs": [],
   "source": [
    "master_df.to_csv(\"../../data/9. data_for_forecasting/Combined_weather_data_forecasting.csv\")"
   ]
  }
 ],
 "metadata": {
  "kernelspec": {
   "display_name": "8.S50x",
   "language": "python",
   "name": "python3"
  },
  "language_info": {
   "codemirror_mode": {
    "name": "ipython",
    "version": 3
   },
   "file_extension": ".py",
   "mimetype": "text/x-python",
   "name": "python",
   "nbconvert_exporter": "python",
   "pygments_lexer": "ipython3",
   "version": "3.9.15"
  },
  "orig_nbformat": 4
 },
 "nbformat": 4,
 "nbformat_minor": 2
}
