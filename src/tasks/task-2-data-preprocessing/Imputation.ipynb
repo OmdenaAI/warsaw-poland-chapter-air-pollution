{
 "cells": [
  {
   "cell_type": "code",
   "execution_count": 252,
   "id": "57b2da9e",
   "metadata": {},
   "outputs": [],
   "source": [
    "import pandas as pd\n",
    "import numpy as np"
   ]
  },
  {
   "cell_type": "code",
   "execution_count": 253,
   "id": "c6d9e028",
   "metadata": {},
   "outputs": [],
   "source": [
    "import matplotlib.pyplot as plt\n",
    "import seaborn as sns"
   ]
  },
  {
   "cell_type": "code",
   "execution_count": 254,
   "id": "dc5dd503",
   "metadata": {},
   "outputs": [
    {
     "data": {
      "text/html": [
       "<div>\n",
       "<style scoped>\n",
       "    .dataframe tbody tr th:only-of-type {\n",
       "        vertical-align: middle;\n",
       "    }\n",
       "\n",
       "    .dataframe tbody tr th {\n",
       "        vertical-align: top;\n",
       "    }\n",
       "\n",
       "    .dataframe thead th {\n",
       "        text-align: right;\n",
       "    }\n",
       "</style>\n",
       "<table border=\"1\" class=\"dataframe\">\n",
       "  <thead>\n",
       "    <tr style=\"text-align: right;\">\n",
       "      <th></th>\n",
       "      <th>DATE</th>\n",
       "      <th>POLSTID</th>\n",
       "      <th>Voivodeship</th>\n",
       "      <th>City</th>\n",
       "      <th>county</th>\n",
       "      <th>postcode</th>\n",
       "      <th>LAT</th>\n",
       "      <th>LON</th>\n",
       "      <th>NO2_24H_AVG_POLLUTION</th>\n",
       "      <th>O3_24H_AVG_POLLUTION</th>\n",
       "      <th>...</th>\n",
       "      <th>dayofweek</th>\n",
       "      <th>station_abbrev</th>\n",
       "      <th>NO2_impute_status</th>\n",
       "      <th>O3_impute_status</th>\n",
       "      <th>PM10_impute_status</th>\n",
       "      <th>PM25_impute_status</th>\n",
       "      <th>Station code</th>\n",
       "      <th>Station type</th>\n",
       "      <th>Region type</th>\n",
       "      <th>Station model</th>\n",
       "    </tr>\n",
       "  </thead>\n",
       "  <tbody>\n",
       "    <tr>\n",
       "      <th>0</th>\n",
       "      <td>2017-01-01</td>\n",
       "      <td>DsBoleslaMOB</td>\n",
       "      <td>DOLNOŚLĄSKIE</td>\n",
       "      <td>Bolesławiec</td>\n",
       "      <td>powiat bolesławiecki</td>\n",
       "      <td>59-700</td>\n",
       "      <td>51.263245</td>\n",
       "      <td>15.570354</td>\n",
       "      <td>NaN</td>\n",
       "      <td>NaN</td>\n",
       "      <td>...</td>\n",
       "      <td>6</td>\n",
       "      <td>DsBolesla</td>\n",
       "      <td>Not Measured</td>\n",
       "      <td>Pending</td>\n",
       "      <td>Not Measured</td>\n",
       "      <td>Not Measured</td>\n",
       "      <td>DsBoleslaMOB</td>\n",
       "      <td>background</td>\n",
       "      <td>urban</td>\n",
       "      <td>mobile</td>\n",
       "    </tr>\n",
       "    <tr>\n",
       "      <th>1</th>\n",
       "      <td>2017-01-01</td>\n",
       "      <td>DsCzerStraza</td>\n",
       "      <td>DOLNOŚLĄSKIE</td>\n",
       "      <td>Czerniawa</td>\n",
       "      <td>powiat lubański</td>\n",
       "      <td>59-850</td>\n",
       "      <td>50.912475</td>\n",
       "      <td>15.312190</td>\n",
       "      <td>NaN</td>\n",
       "      <td>90.39</td>\n",
       "      <td>...</td>\n",
       "      <td>6</td>\n",
       "      <td>DsCzer</td>\n",
       "      <td>Not Measured</td>\n",
       "      <td>Pending</td>\n",
       "      <td>Not Measured</td>\n",
       "      <td>Not Measured</td>\n",
       "      <td>DsCzerStraza</td>\n",
       "      <td>background</td>\n",
       "      <td>nonurban</td>\n",
       "      <td>container</td>\n",
       "    </tr>\n",
       "    <tr>\n",
       "      <th>2</th>\n",
       "      <td>2017-01-01</td>\n",
       "      <td>DsGlogWiStwo</td>\n",
       "      <td>DOLNOŚLĄSKIE</td>\n",
       "      <td>Głogów</td>\n",
       "      <td>powiat głogowski</td>\n",
       "      <td>67-200</td>\n",
       "      <td>51.657022</td>\n",
       "      <td>16.097822</td>\n",
       "      <td>NaN</td>\n",
       "      <td>NaN</td>\n",
       "      <td>...</td>\n",
       "      <td>6</td>\n",
       "      <td>DsGlog</td>\n",
       "      <td>Not Measured</td>\n",
       "      <td>Not Measured</td>\n",
       "      <td>Imputed</td>\n",
       "      <td>Not Measured</td>\n",
       "      <td>DsGlogWiStwo</td>\n",
       "      <td>background</td>\n",
       "      <td>urban</td>\n",
       "      <td>dust collector</td>\n",
       "    </tr>\n",
       "    <tr>\n",
       "      <th>3</th>\n",
       "      <td>2017-01-01</td>\n",
       "      <td>DsJaworMOB</td>\n",
       "      <td>DOLNOŚLĄSKIE</td>\n",
       "      <td>Jawor</td>\n",
       "      <td>powiat jaworski</td>\n",
       "      <td>59-400</td>\n",
       "      <td>51.049212</td>\n",
       "      <td>16.202317</td>\n",
       "      <td>NaN</td>\n",
       "      <td>NaN</td>\n",
       "      <td>...</td>\n",
       "      <td>6</td>\n",
       "      <td>DsJawor</td>\n",
       "      <td>Not Measured</td>\n",
       "      <td>Not Measured</td>\n",
       "      <td>Pending</td>\n",
       "      <td>Not Measured</td>\n",
       "      <td>DsJaworMOB</td>\n",
       "      <td>background</td>\n",
       "      <td>urban</td>\n",
       "      <td>mobile</td>\n",
       "    </tr>\n",
       "    <tr>\n",
       "      <th>4</th>\n",
       "      <td>2017-01-01</td>\n",
       "      <td>DsJelGorOgin</td>\n",
       "      <td>DOLNOŚLĄSKIE</td>\n",
       "      <td>Jelenia Góra</td>\n",
       "      <td>powiat Jelenia Góra</td>\n",
       "      <td>58-506</td>\n",
       "      <td>50.913433</td>\n",
       "      <td>15.765608</td>\n",
       "      <td>NaN</td>\n",
       "      <td>11.98</td>\n",
       "      <td>...</td>\n",
       "      <td>6</td>\n",
       "      <td>DsJel</td>\n",
       "      <td>Not Measured</td>\n",
       "      <td>Not Required</td>\n",
       "      <td>Not Measured</td>\n",
       "      <td>Not Measured</td>\n",
       "      <td>DsJelGorOgin</td>\n",
       "      <td>background</td>\n",
       "      <td>urban</td>\n",
       "      <td>container</td>\n",
       "    </tr>\n",
       "  </tbody>\n",
       "</table>\n",
       "<p>5 rows × 25 columns</p>\n",
       "</div>"
      ],
      "text/plain": [
       "         DATE       POLSTID   Voivodeship          City                county  \\\n",
       "0  2017-01-01  DsBoleslaMOB  DOLNOŚLĄSKIE   Bolesławiec  powiat bolesławiecki   \n",
       "1  2017-01-01  DsCzerStraza  DOLNOŚLĄSKIE     Czerniawa       powiat lubański   \n",
       "2  2017-01-01  DsGlogWiStwo  DOLNOŚLĄSKIE        Głogów      powiat głogowski   \n",
       "3  2017-01-01    DsJaworMOB  DOLNOŚLĄSKIE         Jawor       powiat jaworski   \n",
       "4  2017-01-01  DsJelGorOgin  DOLNOŚLĄSKIE  Jelenia Góra   powiat Jelenia Góra   \n",
       "\n",
       "  postcode        LAT        LON  NO2_24H_AVG_POLLUTION  O3_24H_AVG_POLLUTION  \\\n",
       "0   59-700  51.263245  15.570354                    NaN                   NaN   \n",
       "1   59-850  50.912475  15.312190                    NaN                 90.39   \n",
       "2   67-200  51.657022  16.097822                    NaN                   NaN   \n",
       "3   59-400  51.049212  16.202317                    NaN                   NaN   \n",
       "4   58-506  50.913433  15.765608                    NaN                 11.98   \n",
       "\n",
       "   ...  dayofweek  station_abbrev  NO2_impute_status  O3_impute_status  \\\n",
       "0  ...          6       DsBolesla       Not Measured           Pending   \n",
       "1  ...          6          DsCzer       Not Measured           Pending   \n",
       "2  ...          6          DsGlog       Not Measured      Not Measured   \n",
       "3  ...          6         DsJawor       Not Measured      Not Measured   \n",
       "4  ...          6           DsJel       Not Measured      Not Required   \n",
       "\n",
       "   PM10_impute_status  PM25_impute_status  Station code Station type  \\\n",
       "0        Not Measured        Not Measured  DsBoleslaMOB   background   \n",
       "1        Not Measured        Not Measured  DsCzerStraza   background   \n",
       "2             Imputed        Not Measured  DsGlogWiStwo   background   \n",
       "3             Pending        Not Measured    DsJaworMOB   background   \n",
       "4        Not Measured        Not Measured  DsJelGorOgin   background   \n",
       "\n",
       "  Region type   Station model  \n",
       "0       urban          mobile  \n",
       "1    nonurban       container  \n",
       "2       urban  dust collector  \n",
       "3       urban          mobile  \n",
       "4       urban       container  \n",
       "\n",
       "[5 rows x 25 columns]"
      ]
     },
     "execution_count": 254,
     "metadata": {},
     "output_type": "execute_result"
    }
   ],
   "source": [
    "df=pd.read_csv(r'C:\\Users\\esvit\\Downloads\\Downloads\\data science\\OMDENA\\Imputed_data\\air_quality_partial_imputation.csv')\n",
    "df.head()"
   ]
  },
  {
   "cell_type": "code",
   "execution_count": 255,
   "id": "c805a7f8",
   "metadata": {},
   "outputs": [
    {
     "data": {
      "text/plain": [
       "(542322, 25)"
      ]
     },
     "execution_count": 255,
     "metadata": {},
     "output_type": "execute_result"
    }
   ],
   "source": [
    "df.shape"
   ]
  },
  {
   "cell_type": "code",
   "execution_count": 256,
   "id": "2ed1aae3",
   "metadata": {},
   "outputs": [
    {
     "data": {
      "text/plain": [
       "Index(['DATE', 'POLSTID', 'Voivodeship', 'City', 'county', 'postcode', 'LAT',\n",
       "       'LON', 'NO2_24H_AVG_POLLUTION', 'O3_24H_AVG_POLLUTION',\n",
       "       'PM10_24H_AVG_POLLUTION', 'PM25_24H_AVG_POLLUTION', 'day', 'month',\n",
       "       'year', 'dayofweek', 'station_abbrev', 'NO2_impute_status',\n",
       "       'O3_impute_status', 'PM10_impute_status', 'PM25_impute_status',\n",
       "       'Station code', 'Station type', 'Region type', 'Station model'],\n",
       "      dtype='object')"
      ]
     },
     "execution_count": 256,
     "metadata": {},
     "output_type": "execute_result"
    }
   ],
   "source": [
    "df.columns"
   ]
  },
  {
   "cell_type": "code",
   "execution_count": 257,
   "id": "3c8f7fa7",
   "metadata": {},
   "outputs": [
    {
     "data": {
      "text/plain": [
       "DATE                       0.000000\n",
       "POLSTID                    0.000000\n",
       "Voivodeship                0.000000\n",
       "City                       0.000000\n",
       "county                     0.000000\n",
       "postcode                   0.000000\n",
       "LAT                        0.000000\n",
       "LON                        0.000000\n",
       "NO2_24H_AVG_POLLUTION     98.989899\n",
       "O3_24H_AVG_POLLUTION      64.560353\n",
       "PM10_24H_AVG_POLLUTION    39.305247\n",
       "PM25_24H_AVG_POLLUTION    77.294670\n",
       "day                        0.000000\n",
       "month                      0.000000\n",
       "year                       0.000000\n",
       "dayofweek                  0.000000\n",
       "station_abbrev             0.000000\n",
       "NO2_impute_status          0.000000\n",
       "O3_impute_status           0.000000\n",
       "PM10_impute_status         0.000000\n",
       "PM25_impute_status         0.000000\n",
       "Station code               0.000000\n",
       "Station type               0.000000\n",
       "Region type                0.000000\n",
       "Station model              0.000000\n",
       "dtype: float64"
      ]
     },
     "execution_count": 257,
     "metadata": {},
     "output_type": "execute_result"
    }
   ],
   "source": [
    "df.isna().mean()*100"
   ]
  },
  {
   "cell_type": "markdown",
   "id": "44694870",
   "metadata": {},
   "source": [
    "# PM_10 IMPUTATION"
   ]
  },
  {
   "cell_type": "code",
   "execution_count": 258,
   "id": "90273882",
   "metadata": {},
   "outputs": [
    {
     "data": {
      "text/plain": [
       "<AxesSubplot:ylabel='Frequency'>"
      ]
     },
     "execution_count": 258,
     "metadata": {},
     "output_type": "execute_result"
    },
    {
     "data": {
      "image/png": "[encoded data removed]",
      "text/plain": [
       "<Figure size 432x288 with 1 Axes>"
      ]
     },
     "metadata": {
      "needs_background": "light"
     },
     "output_type": "display_data"
    }
   ],
   "source": [
    "df['PM10_24H_AVG_POLLUTION'].plot(kind='hist')"
   ]
  },
  {
   "cell_type": "markdown",
   "id": "ebe10f3d",
   "metadata": {},
   "source": [
    "# imputing back fill"
   ]
  },
  {
   "cell_type": "code",
   "execution_count": 259,
   "id": "5387a67a",
   "metadata": {},
   "outputs": [
    {
     "data": {
      "text/html": [
       "<div>\n",
       "<style scoped>\n",
       "    .dataframe tbody tr th:only-of-type {\n",
       "        vertical-align: middle;\n",
       "    }\n",
       "\n",
       "    .dataframe tbody tr th {\n",
       "        vertical-align: top;\n",
       "    }\n",
       "\n",
       "    .dataframe thead th {\n",
       "        text-align: right;\n",
       "    }\n",
       "</style>\n",
       "<table border=\"1\" class=\"dataframe\">\n",
       "  <thead>\n",
       "    <tr style=\"text-align: right;\">\n",
       "      <th></th>\n",
       "      <th>PM10_24H_AVG_POLLUTION</th>\n",
       "    </tr>\n",
       "  </thead>\n",
       "  <tbody>\n",
       "    <tr>\n",
       "      <th>0</th>\n",
       "      <td>NaN</td>\n",
       "    </tr>\n",
       "    <tr>\n",
       "      <th>1</th>\n",
       "      <td>NaN</td>\n",
       "    </tr>\n",
       "    <tr>\n",
       "      <th>2</th>\n",
       "      <td>30.68</td>\n",
       "    </tr>\n",
       "    <tr>\n",
       "      <th>3</th>\n",
       "      <td>NaN</td>\n",
       "    </tr>\n",
       "    <tr>\n",
       "      <th>4</th>\n",
       "      <td>NaN</td>\n",
       "    </tr>\n",
       "    <tr>\n",
       "      <th>...</th>\n",
       "      <td>...</td>\n",
       "    </tr>\n",
       "    <tr>\n",
       "      <th>542317</th>\n",
       "      <td>NaN</td>\n",
       "    </tr>\n",
       "    <tr>\n",
       "      <th>542318</th>\n",
       "      <td>9.80</td>\n",
       "    </tr>\n",
       "    <tr>\n",
       "      <th>542319</th>\n",
       "      <td>4.55</td>\n",
       "    </tr>\n",
       "    <tr>\n",
       "      <th>542320</th>\n",
       "      <td>4.35</td>\n",
       "    </tr>\n",
       "    <tr>\n",
       "      <th>542321</th>\n",
       "      <td>NaN</td>\n",
       "    </tr>\n",
       "  </tbody>\n",
       "</table>\n",
       "<p>542322 rows × 1 columns</p>\n",
       "</div>"
      ],
      "text/plain": [
       "        PM10_24H_AVG_POLLUTION\n",
       "0                          NaN\n",
       "1                          NaN\n",
       "2                        30.68\n",
       "3                          NaN\n",
       "4                          NaN\n",
       "...                        ...\n",
       "542317                     NaN\n",
       "542318                    9.80\n",
       "542319                    4.55\n",
       "542320                    4.35\n",
       "542321                     NaN\n",
       "\n",
       "[542322 rows x 1 columns]"
      ]
     },
     "execution_count": 259,
     "metadata": {},
     "output_type": "execute_result"
    }
   ],
   "source": [
    "df[['PM10_24H_AVG_POLLUTION']]"
   ]
  },
  {
   "cell_type": "code",
   "execution_count": 260,
   "id": "ca6d90e4",
   "metadata": {},
   "outputs": [],
   "source": [
    "df['PM10_24H_AVG_POLLUTION_bfill']=df['PM10_24H_AVG_POLLUTION'].fillna(method='bfill')"
   ]
  },
  {
   "cell_type": "code",
   "execution_count": 261,
   "id": "20f4e4ad",
   "metadata": {},
   "outputs": [
    {
     "data": {
      "text/html": [
       "<div>\n",
       "<style scoped>\n",
       "    .dataframe tbody tr th:only-of-type {\n",
       "        vertical-align: middle;\n",
       "    }\n",
       "\n",
       "    .dataframe tbody tr th {\n",
       "        vertical-align: top;\n",
       "    }\n",
       "\n",
       "    .dataframe thead th {\n",
       "        text-align: right;\n",
       "    }\n",
       "</style>\n",
       "<table border=\"1\" class=\"dataframe\">\n",
       "  <thead>\n",
       "    <tr style=\"text-align: right;\">\n",
       "      <th></th>\n",
       "      <th>PM10_24H_AVG_POLLUTION</th>\n",
       "      <th>PM10_24H_AVG_POLLUTION_bfill</th>\n",
       "    </tr>\n",
       "  </thead>\n",
       "  <tbody>\n",
       "    <tr>\n",
       "      <th>0</th>\n",
       "      <td>NaN</td>\n",
       "      <td>30.68</td>\n",
       "    </tr>\n",
       "    <tr>\n",
       "      <th>1</th>\n",
       "      <td>NaN</td>\n",
       "      <td>30.68</td>\n",
       "    </tr>\n",
       "    <tr>\n",
       "      <th>2</th>\n",
       "      <td>30.68</td>\n",
       "      <td>30.68</td>\n",
       "    </tr>\n",
       "    <tr>\n",
       "      <th>3</th>\n",
       "      <td>NaN</td>\n",
       "      <td>54.00</td>\n",
       "    </tr>\n",
       "    <tr>\n",
       "      <th>4</th>\n",
       "      <td>NaN</td>\n",
       "      <td>54.00</td>\n",
       "    </tr>\n",
       "    <tr>\n",
       "      <th>...</th>\n",
       "      <td>...</td>\n",
       "      <td>...</td>\n",
       "    </tr>\n",
       "    <tr>\n",
       "      <th>542317</th>\n",
       "      <td>NaN</td>\n",
       "      <td>9.80</td>\n",
       "    </tr>\n",
       "    <tr>\n",
       "      <th>542318</th>\n",
       "      <td>9.80</td>\n",
       "      <td>9.80</td>\n",
       "    </tr>\n",
       "    <tr>\n",
       "      <th>542319</th>\n",
       "      <td>4.55</td>\n",
       "      <td>4.55</td>\n",
       "    </tr>\n",
       "    <tr>\n",
       "      <th>542320</th>\n",
       "      <td>4.35</td>\n",
       "      <td>4.35</td>\n",
       "    </tr>\n",
       "    <tr>\n",
       "      <th>542321</th>\n",
       "      <td>NaN</td>\n",
       "      <td>NaN</td>\n",
       "    </tr>\n",
       "  </tbody>\n",
       "</table>\n",
       "<p>542322 rows × 2 columns</p>\n",
       "</div>"
      ],
      "text/plain": [
       "        PM10_24H_AVG_POLLUTION  PM10_24H_AVG_POLLUTION_bfill\n",
       "0                          NaN                         30.68\n",
       "1                          NaN                         30.68\n",
       "2                        30.68                         30.68\n",
       "3                          NaN                         54.00\n",
       "4                          NaN                         54.00\n",
       "...                        ...                           ...\n",
       "542317                     NaN                          9.80\n",
       "542318                    9.80                          9.80\n",
       "542319                    4.55                          4.55\n",
       "542320                    4.35                          4.35\n",
       "542321                     NaN                           NaN\n",
       "\n",
       "[542322 rows x 2 columns]"
      ]
     },
     "execution_count": 261,
     "metadata": {},
     "output_type": "execute_result"
    }
   ],
   "source": [
    "df[['PM10_24H_AVG_POLLUTION','PM10_24H_AVG_POLLUTION_bfill']]"
   ]
  },
  {
   "cell_type": "code",
   "execution_count": 265,
   "id": "a822fee3",
   "metadata": {},
   "outputs": [
    {
     "data": {
      "text/html": [
       "<div>\n",
       "<style scoped>\n",
       "    .dataframe tbody tr th:only-of-type {\n",
       "        vertical-align: middle;\n",
       "    }\n",
       "\n",
       "    .dataframe tbody tr th {\n",
       "        vertical-align: top;\n",
       "    }\n",
       "\n",
       "    .dataframe thead th {\n",
       "        text-align: right;\n",
       "    }\n",
       "</style>\n",
       "<table border=\"1\" class=\"dataframe\">\n",
       "  <thead>\n",
       "    <tr style=\"text-align: right;\">\n",
       "      <th></th>\n",
       "      <th>PM10_24H_AVG_POLLUTION</th>\n",
       "    </tr>\n",
       "  </thead>\n",
       "  <tbody>\n",
       "    <tr>\n",
       "      <th>0</th>\n",
       "      <td>NaN</td>\n",
       "    </tr>\n",
       "    <tr>\n",
       "      <th>1</th>\n",
       "      <td>NaN</td>\n",
       "    </tr>\n",
       "    <tr>\n",
       "      <th>2</th>\n",
       "      <td>30.68</td>\n",
       "    </tr>\n",
       "    <tr>\n",
       "      <th>3</th>\n",
       "      <td>NaN</td>\n",
       "    </tr>\n",
       "    <tr>\n",
       "      <th>4</th>\n",
       "      <td>NaN</td>\n",
       "    </tr>\n",
       "    <tr>\n",
       "      <th>5</th>\n",
       "      <td>54.00</td>\n",
       "    </tr>\n",
       "    <tr>\n",
       "      <th>6</th>\n",
       "      <td>NaN</td>\n",
       "    </tr>\n",
       "    <tr>\n",
       "      <th>7</th>\n",
       "      <td>NaN</td>\n",
       "    </tr>\n",
       "    <tr>\n",
       "      <th>8</th>\n",
       "      <td>NaN</td>\n",
       "    </tr>\n",
       "    <tr>\n",
       "      <th>9</th>\n",
       "      <td>NaN</td>\n",
       "    </tr>\n",
       "  </tbody>\n",
       "</table>\n",
       "</div>"
      ],
      "text/plain": [
       "   PM10_24H_AVG_POLLUTION\n",
       "0                     NaN\n",
       "1                     NaN\n",
       "2                   30.68\n",
       "3                     NaN\n",
       "4                     NaN\n",
       "5                   54.00\n",
       "6                     NaN\n",
       "7                     NaN\n",
       "8                     NaN\n",
       "9                     NaN"
      ]
     },
     "execution_count": 265,
     "metadata": {},
     "output_type": "execute_result"
    }
   ],
   "source": [
    "df[['PM10_24H_AVG_POLLUTION']].head(10)"
   ]
  },
  {
   "cell_type": "code",
   "execution_count": null,
   "id": "f969d082",
   "metadata": {},
   "outputs": [],
   "source": [
    "#all nan values are filled with next non null values"
   ]
  },
  {
   "cell_type": "code",
   "execution_count": 266,
   "id": "954c9a43",
   "metadata": {},
   "outputs": [
    {
     "data": {
      "text/plain": [
       "PM10_24H_AVG_POLLUTION          213161\n",
       "PM10_24H_AVG_POLLUTION_bfill         1\n",
       "dtype: int64"
      ]
     },
     "execution_count": 266,
     "metadata": {},
     "output_type": "execute_result"
    }
   ],
   "source": [
    "df[['PM10_24H_AVG_POLLUTION','PM10_24H_AVG_POLLUTION_bfill']].isna().sum()"
   ]
  },
  {
   "cell_type": "code",
   "execution_count": 267,
   "id": "4ce0f4f1",
   "metadata": {},
   "outputs": [
    {
     "data": {
      "text/plain": [
       "<AxesSubplot:ylabel='Frequency'>"
      ]
     },
     "execution_count": 267,
     "metadata": {},
     "output_type": "execute_result"
    },
    {
     "data": {
      "image/png": "[encoded data removed]",
      "text/plain": [
       "<Figure size 432x288 with 1 Axes>"
      ]
     },
     "metadata": {
      "needs_background": "light"
     },
     "output_type": "display_data"
    }
   ],
   "source": [
    "df['PM10_24H_AVG_POLLUTION_bfill'].plot(kind='hist')"
   ]
  },
  {
   "cell_type": "markdown",
   "id": "2630e05f",
   "metadata": {},
   "source": [
    "# random fill"
   ]
  },
  {
   "cell_type": "code",
   "execution_count": 268,
   "id": "875dd78c",
   "metadata": {},
   "outputs": [
    {
     "data": {
      "text/plain": [
       "0           NaN\n",
       "1           NaN\n",
       "2         30.68\n",
       "3           NaN\n",
       "4           NaN\n",
       "          ...  \n",
       "542317      NaN\n",
       "542318     9.80\n",
       "542319     4.55\n",
       "542320     4.35\n",
       "542321      NaN\n",
       "Name: PM10_24H_AVG_POLLUTION_randomfill, Length: 542322, dtype: float64"
      ]
     },
     "execution_count": 268,
     "metadata": {},
     "output_type": "execute_result"
    }
   ],
   "source": [
    "df['PM10_24H_AVG_POLLUTION_randomfill']=df['PM10_24H_AVG_POLLUTION']\n",
    "df['PM10_24H_AVG_POLLUTION_randomfill']"
   ]
  },
  {
   "cell_type": "code",
   "execution_count": 269,
   "id": "eaf478a0",
   "metadata": {},
   "outputs": [],
   "source": [
    "import warnings\n",
    "warnings.filterwarnings('ignore')"
   ]
  },
  {
   "cell_type": "code",
   "execution_count": 270,
   "id": "41194480",
   "metadata": {},
   "outputs": [],
   "source": [
    "df['PM10_24H_AVG_POLLUTION_randomfill'][df['PM10_24H_AVG_POLLUTION_randomfill'].isna()]=df['PM10_24H_AVG_POLLUTION_randomfill'].dropna().sample(df['PM10_24H_AVG_POLLUTION_randomfill'].isna().sum(),random_state=1).values"
   ]
  },
  {
   "cell_type": "code",
   "execution_count": 272,
   "id": "17207479",
   "metadata": {},
   "outputs": [],
   "source": [
    "#taking null values and then filling it with sample of size of null values with availaible values"
   ]
  },
  {
   "cell_type": "code",
   "execution_count": 273,
   "id": "61d890ce",
   "metadata": {},
   "outputs": [
    {
     "data": {
      "text/html": [
       "<div>\n",
       "<style scoped>\n",
       "    .dataframe tbody tr th:only-of-type {\n",
       "        vertical-align: middle;\n",
       "    }\n",
       "\n",
       "    .dataframe tbody tr th {\n",
       "        vertical-align: top;\n",
       "    }\n",
       "\n",
       "    .dataframe thead th {\n",
       "        text-align: right;\n",
       "    }\n",
       "</style>\n",
       "<table border=\"1\" class=\"dataframe\">\n",
       "  <thead>\n",
       "    <tr style=\"text-align: right;\">\n",
       "      <th></th>\n",
       "      <th>PM10_24H_AVG_POLLUTION</th>\n",
       "      <th>PM10_24H_AVG_POLLUTION_randomfill</th>\n",
       "    </tr>\n",
       "  </thead>\n",
       "  <tbody>\n",
       "    <tr>\n",
       "      <th>0</th>\n",
       "      <td>NaN</td>\n",
       "      <td>10.186813</td>\n",
       "    </tr>\n",
       "    <tr>\n",
       "      <th>1</th>\n",
       "      <td>NaN</td>\n",
       "      <td>13.000000</td>\n",
       "    </tr>\n",
       "    <tr>\n",
       "      <th>2</th>\n",
       "      <td>30.68</td>\n",
       "      <td>30.680000</td>\n",
       "    </tr>\n",
       "    <tr>\n",
       "      <th>3</th>\n",
       "      <td>NaN</td>\n",
       "      <td>16.830000</td>\n",
       "    </tr>\n",
       "    <tr>\n",
       "      <th>4</th>\n",
       "      <td>NaN</td>\n",
       "      <td>14.920000</td>\n",
       "    </tr>\n",
       "    <tr>\n",
       "      <th>...</th>\n",
       "      <td>...</td>\n",
       "      <td>...</td>\n",
       "    </tr>\n",
       "    <tr>\n",
       "      <th>542317</th>\n",
       "      <td>NaN</td>\n",
       "      <td>18.251718</td>\n",
       "    </tr>\n",
       "    <tr>\n",
       "      <th>542318</th>\n",
       "      <td>9.80</td>\n",
       "      <td>9.800000</td>\n",
       "    </tr>\n",
       "    <tr>\n",
       "      <th>542319</th>\n",
       "      <td>4.55</td>\n",
       "      <td>4.550000</td>\n",
       "    </tr>\n",
       "    <tr>\n",
       "      <th>542320</th>\n",
       "      <td>4.35</td>\n",
       "      <td>4.350000</td>\n",
       "    </tr>\n",
       "    <tr>\n",
       "      <th>542321</th>\n",
       "      <td>NaN</td>\n",
       "      <td>53.470000</td>\n",
       "    </tr>\n",
       "  </tbody>\n",
       "</table>\n",
       "<p>542322 rows × 2 columns</p>\n",
       "</div>"
      ],
      "text/plain": [
       "        PM10_24H_AVG_POLLUTION  PM10_24H_AVG_POLLUTION_randomfill\n",
       "0                          NaN                          10.186813\n",
       "1                          NaN                          13.000000\n",
       "2                        30.68                          30.680000\n",
       "3                          NaN                          16.830000\n",
       "4                          NaN                          14.920000\n",
       "...                        ...                                ...\n",
       "542317                     NaN                          18.251718\n",
       "542318                    9.80                           9.800000\n",
       "542319                    4.55                           4.550000\n",
       "542320                    4.35                           4.350000\n",
       "542321                     NaN                          53.470000\n",
       "\n",
       "[542322 rows x 2 columns]"
      ]
     },
     "execution_count": 273,
     "metadata": {},
     "output_type": "execute_result"
    }
   ],
   "source": [
    "df[['PM10_24H_AVG_POLLUTION','PM10_24H_AVG_POLLUTION_randomfill']]"
   ]
  },
  {
   "cell_type": "code",
   "execution_count": 274,
   "id": "aaa3999a",
   "metadata": {},
   "outputs": [
    {
     "data": {
      "text/plain": [
       "0"
      ]
     },
     "execution_count": 274,
     "metadata": {},
     "output_type": "execute_result"
    }
   ],
   "source": [
    "df['PM10_24H_AVG_POLLUTION_randomfill'].isna().sum()"
   ]
  },
  {
   "cell_type": "code",
   "execution_count": 275,
   "id": "c9f62b0d",
   "metadata": {},
   "outputs": [
    {
     "data": {
      "text/plain": [
       "<AxesSubplot:>"
      ]
     },
     "execution_count": 275,
     "metadata": {},
     "output_type": "execute_result"
    },
    {
     "data": {
      "image/png": "[encoded data removed]",
      "text/plain": [
       "<Figure size 432x288 with 1 Axes>"
      ]
     },
     "metadata": {
      "needs_background": "light"
     },
     "output_type": "display_data"
    }
   ],
   "source": [
    "df['PM10_24H_AVG_POLLUTION_randomfill'].plot()"
   ]
  },
  {
   "cell_type": "code",
   "execution_count": 276,
   "id": "7219fe28",
   "metadata": {},
   "outputs": [
    {
     "data": {
      "text/plain": [
       "484.2212954052497"
      ]
     },
     "execution_count": 276,
     "metadata": {},
     "output_type": "execute_result"
    }
   ],
   "source": [
    "#variance of original columns\n",
    "df['PM10_24H_AVG_POLLUTION'].var()"
   ]
  },
  {
   "cell_type": "code",
   "execution_count": 277,
   "id": "d7193f15",
   "metadata": {},
   "outputs": [
    {
     "data": {
      "text/plain": [
       "484.73560977795324"
      ]
     },
     "execution_count": 277,
     "metadata": {},
     "output_type": "execute_result"
    }
   ],
   "source": [
    "#variance with random fill column\n",
    "df['PM10_24H_AVG_POLLUTION_randomfill'].var()"
   ]
  },
  {
   "cell_type": "code",
   "execution_count": 278,
   "id": "1ae63262",
   "metadata": {},
   "outputs": [
    {
     "data": {
      "text/plain": [
       "469.6165204543483"
      ]
     },
     "execution_count": 278,
     "metadata": {},
     "output_type": "execute_result"
    }
   ],
   "source": [
    "#variance with backfill\n",
    "df['PM10_24H_AVG_POLLUTION_bfill'].var()"
   ]
  },
  {
   "cell_type": "code",
   "execution_count": null,
   "id": "4ecca317",
   "metadata": {},
   "outputs": [],
   "source": [
    "#random fill works well"
   ]
  },
  {
   "cell_type": "markdown",
   "id": "e38ea3d9",
   "metadata": {},
   "source": [
    "# O3 IMPUTATION"
   ]
  },
  {
   "cell_type": "code",
   "execution_count": 279,
   "id": "3f805955",
   "metadata": {},
   "outputs": [
    {
     "data": {
      "text/plain": [
       "<AxesSubplot:ylabel='Frequency'>"
      ]
     },
     "execution_count": 279,
     "metadata": {},
     "output_type": "execute_result"
    },
    {
     "data": {
      "image/png": "[encoded data removed]",
      "text/plain": [
       "<Figure size 432x288 with 1 Axes>"
      ]
     },
     "metadata": {
      "needs_background": "light"
     },
     "output_type": "display_data"
    }
   ],
   "source": [
    "df['O3_24H_AVG_POLLUTION'].plot(kind='hist')"
   ]
  },
  {
   "cell_type": "markdown",
   "id": "e752808c",
   "metadata": {},
   "source": [
    "# imputation through rolling mean"
   ]
  },
  {
   "cell_type": "code",
   "execution_count": 280,
   "id": "e37c73fe",
   "metadata": {},
   "outputs": [],
   "source": [
    "df['O3_24H_AVG_POLLUTION_rollingfill']=df['O3_24H_AVG_POLLUTION'].fillna(df['O3_24H_AVG_POLLUTION'].rolling(window=21,min_periods=1).mean())"
   ]
  },
  {
   "cell_type": "code",
   "execution_count": 290,
   "id": "26f52891",
   "metadata": {},
   "outputs": [],
   "source": [
    "#filling null by taking 21 hour prior mean"
   ]
  },
  {
   "cell_type": "code",
   "execution_count": 291,
   "id": "b074a376",
   "metadata": {},
   "outputs": [
    {
     "data": {
      "text/html": [
       "<div>\n",
       "<style scoped>\n",
       "    .dataframe tbody tr th:only-of-type {\n",
       "        vertical-align: middle;\n",
       "    }\n",
       "\n",
       "    .dataframe tbody tr th {\n",
       "        vertical-align: top;\n",
       "    }\n",
       "\n",
       "    .dataframe thead th {\n",
       "        text-align: right;\n",
       "    }\n",
       "</style>\n",
       "<table border=\"1\" class=\"dataframe\">\n",
       "  <thead>\n",
       "    <tr style=\"text-align: right;\">\n",
       "      <th></th>\n",
       "      <th>O3_24H_AVG_POLLUTION</th>\n",
       "      <th>O3_24H_AVG_POLLUTION_rollingfill</th>\n",
       "    </tr>\n",
       "  </thead>\n",
       "  <tbody>\n",
       "    <tr>\n",
       "      <th>542317</th>\n",
       "      <td>NaN</td>\n",
       "      <td>34.335000</td>\n",
       "    </tr>\n",
       "    <tr>\n",
       "      <th>542318</th>\n",
       "      <td>NaN</td>\n",
       "      <td>34.335000</td>\n",
       "    </tr>\n",
       "    <tr>\n",
       "      <th>542319</th>\n",
       "      <td>NaN</td>\n",
       "      <td>34.335000</td>\n",
       "    </tr>\n",
       "    <tr>\n",
       "      <th>542320</th>\n",
       "      <td>NaN</td>\n",
       "      <td>35.053333</td>\n",
       "    </tr>\n",
       "    <tr>\n",
       "      <th>542321</th>\n",
       "      <td>34.4</td>\n",
       "      <td>34.400000</td>\n",
       "    </tr>\n",
       "  </tbody>\n",
       "</table>\n",
       "</div>"
      ],
      "text/plain": [
       "        O3_24H_AVG_POLLUTION  O3_24H_AVG_POLLUTION_rollingfill\n",
       "542317                   NaN                         34.335000\n",
       "542318                   NaN                         34.335000\n",
       "542319                   NaN                         34.335000\n",
       "542320                   NaN                         35.053333\n",
       "542321                  34.4                         34.400000"
      ]
     },
     "execution_count": 291,
     "metadata": {},
     "output_type": "execute_result"
    }
   ],
   "source": [
    "df[['O3_24H_AVG_POLLUTION','O3_24H_AVG_POLLUTION_rollingfill']].tail(5)"
   ]
  },
  {
   "cell_type": "code",
   "execution_count": null,
   "id": "5ce53bb7",
   "metadata": {},
   "outputs": [],
   "source": []
  },
  {
   "cell_type": "code",
   "execution_count": 292,
   "id": "4e7943ed",
   "metadata": {},
   "outputs": [
    {
     "data": {
      "text/plain": [
       "0               NaN\n",
       "1         90.390000\n",
       "2         90.390000\n",
       "3         90.390000\n",
       "4         11.980000\n",
       "            ...    \n",
       "542317    34.335000\n",
       "542318    34.335000\n",
       "542319    34.335000\n",
       "542320    35.053333\n",
       "542321    34.400000\n",
       "Name: O3_24H_AVG_POLLUTION_rollingfill, Length: 542322, dtype: float64"
      ]
     },
     "execution_count": 292,
     "metadata": {},
     "output_type": "execute_result"
    }
   ],
   "source": [
    "df['O3_24H_AVG_POLLUTION_rollingfill']"
   ]
  },
  {
   "cell_type": "code",
   "execution_count": 293,
   "id": "01a577f1",
   "metadata": {},
   "outputs": [
    {
     "data": {
      "text/plain": [
       "<AxesSubplot:>"
      ]
     },
     "execution_count": 293,
     "metadata": {},
     "output_type": "execute_result"
    },
    {
     "data": {
      "image/png": "[encoded data removed]",
      "text/plain": [
       "<Figure size 432x288 with 1 Axes>"
      ]
     },
     "metadata": {
      "needs_background": "light"
     },
     "output_type": "display_data"
    }
   ],
   "source": [
    "df['O3_24H_AVG_POLLUTION_rollingfill'].plot()"
   ]
  },
  {
   "cell_type": "code",
   "execution_count": 294,
   "id": "25e95f83",
   "metadata": {},
   "outputs": [
    {
     "data": {
      "text/plain": [
       "<AxesSubplot:>"
      ]
     },
     "execution_count": 294,
     "metadata": {},
     "output_type": "execute_result"
    },
    {
     "data": {
      "image/png": "[encoded data removed]",
      "text/plain": [
       "<Figure size 432x288 with 1 Axes>"
      ]
     },
     "metadata": {
      "needs_background": "light"
     },
     "output_type": "display_data"
    }
   ],
   "source": [
    "df[['O3_24H_AVG_POLLUTION']].plot()"
   ]
  },
  {
   "cell_type": "code",
   "execution_count": 295,
   "id": "52793965",
   "metadata": {},
   "outputs": [
    {
     "data": {
      "text/plain": [
       "O3_24H_AVG_POLLUTION                350125\n",
       "O3_24H_AVG_POLLUTION_rollingfill         1\n",
       "dtype: int64"
      ]
     },
     "execution_count": 295,
     "metadata": {},
     "output_type": "execute_result"
    }
   ],
   "source": [
    "df[['O3_24H_AVG_POLLUTION','O3_24H_AVG_POLLUTION_rollingfill']].isna().sum()"
   ]
  },
  {
   "cell_type": "code",
   "execution_count": 296,
   "id": "a39eedc3",
   "metadata": {},
   "outputs": [],
   "source": [
    "#only the starting null value is left since no prior observation to it"
   ]
  },
  {
   "cell_type": "code",
   "execution_count": 297,
   "id": "c9f54632",
   "metadata": {},
   "outputs": [
    {
     "data": {
      "text/plain": [
       "<AxesSubplot:ylabel='Frequency'>"
      ]
     },
     "execution_count": 297,
     "metadata": {},
     "output_type": "execute_result"
    },
    {
     "data": {
      "image/png": "[encoded data removed]",
      "text/plain": [
       "<Figure size 432x288 with 1 Axes>"
      ]
     },
     "metadata": {
      "needs_background": "light"
     },
     "output_type": "display_data"
    }
   ],
   "source": [
    "df['O3_24H_AVG_POLLUTION_rollingfill'].plot(kind='hist')"
   ]
  },
  {
   "cell_type": "code",
   "execution_count": 298,
   "id": "cfbf45ad",
   "metadata": {},
   "outputs": [
    {
     "data": {
      "text/plain": [
       "375.7348259384817"
      ]
     },
     "execution_count": 298,
     "metadata": {},
     "output_type": "execute_result"
    }
   ],
   "source": [
    "df['O3_24H_AVG_POLLUTION_rollingfill'].var()"
   ]
  },
  {
   "cell_type": "code",
   "execution_count": 299,
   "id": "473ddab0",
   "metadata": {},
   "outputs": [
    {
     "data": {
      "text/plain": [
       "432.07125346904286"
      ]
     },
     "execution_count": 299,
     "metadata": {},
     "output_type": "execute_result"
    }
   ],
   "source": [
    "df['O3_24H_AVG_POLLUTION'].var()"
   ]
  },
  {
   "cell_type": "markdown",
   "id": "601fd4cf",
   "metadata": {},
   "source": [
    "# PM25_"
   ]
  },
  {
   "cell_type": "markdown",
   "id": "562f6d31",
   "metadata": {},
   "source": [
    "# rolling mean"
   ]
  },
  {
   "cell_type": "code",
   "execution_count": 300,
   "id": "5f28b229",
   "metadata": {},
   "outputs": [
    {
     "data": {
      "text/plain": [
       "0          NaN\n",
       "1          NaN\n",
       "2          NaN\n",
       "3          NaN\n",
       "4          NaN\n",
       "          ... \n",
       "542317     NaN\n",
       "542318     NaN\n",
       "542319    3.79\n",
       "542320     NaN\n",
       "542321     NaN\n",
       "Name: PM25_24H_AVG_POLLUTION, Length: 542322, dtype: float64"
      ]
     },
     "execution_count": 300,
     "metadata": {},
     "output_type": "execute_result"
    }
   ],
   "source": [
    "df['PM25_24H_AVG_POLLUTION']"
   ]
  },
  {
   "cell_type": "code",
   "execution_count": 301,
   "id": "ebb545c4",
   "metadata": {},
   "outputs": [
    {
     "data": {
      "text/plain": [
       "419186"
      ]
     },
     "execution_count": 301,
     "metadata": {},
     "output_type": "execute_result"
    }
   ],
   "source": [
    "df['PM25_24H_AVG_POLLUTION'].isna().sum()"
   ]
  },
  {
   "cell_type": "code",
   "execution_count": 302,
   "id": "545423d2",
   "metadata": {},
   "outputs": [],
   "source": [
    "df['PM25_24H_AVG_POLLUTION_rollingfill']=df['PM25_24H_AVG_POLLUTION']"
   ]
  },
  {
   "cell_type": "code",
   "execution_count": 303,
   "id": "35982b13",
   "metadata": {},
   "outputs": [],
   "source": [
    "df['PM25_24H_AVG_POLLUTION_rollingfill']=df['PM25_24H_AVG_POLLUTION_rollingfill'].fillna(df['PM25_24H_AVG_POLLUTION'].rolling(window=19,min_periods=1).mean())"
   ]
  },
  {
   "cell_type": "code",
   "execution_count": 304,
   "id": "8a1df52a",
   "metadata": {},
   "outputs": [
    {
     "data": {
      "text/html": [
       "<div>\n",
       "<style scoped>\n",
       "    .dataframe tbody tr th:only-of-type {\n",
       "        vertical-align: middle;\n",
       "    }\n",
       "\n",
       "    .dataframe tbody tr th {\n",
       "        vertical-align: top;\n",
       "    }\n",
       "\n",
       "    .dataframe thead th {\n",
       "        text-align: right;\n",
       "    }\n",
       "</style>\n",
       "<table border=\"1\" class=\"dataframe\">\n",
       "  <thead>\n",
       "    <tr style=\"text-align: right;\">\n",
       "      <th></th>\n",
       "      <th>PM25_24H_AVG_POLLUTION</th>\n",
       "      <th>PM25_24H_AVG_POLLUTION_rollingfill</th>\n",
       "    </tr>\n",
       "  </thead>\n",
       "  <tbody>\n",
       "    <tr>\n",
       "      <th>0</th>\n",
       "      <td>NaN</td>\n",
       "      <td>NaN</td>\n",
       "    </tr>\n",
       "    <tr>\n",
       "      <th>1</th>\n",
       "      <td>NaN</td>\n",
       "      <td>NaN</td>\n",
       "    </tr>\n",
       "    <tr>\n",
       "      <th>2</th>\n",
       "      <td>NaN</td>\n",
       "      <td>NaN</td>\n",
       "    </tr>\n",
       "    <tr>\n",
       "      <th>3</th>\n",
       "      <td>NaN</td>\n",
       "      <td>NaN</td>\n",
       "    </tr>\n",
       "    <tr>\n",
       "      <th>4</th>\n",
       "      <td>NaN</td>\n",
       "      <td>NaN</td>\n",
       "    </tr>\n",
       "    <tr>\n",
       "      <th>...</th>\n",
       "      <td>...</td>\n",
       "      <td>...</td>\n",
       "    </tr>\n",
       "    <tr>\n",
       "      <th>542317</th>\n",
       "      <td>NaN</td>\n",
       "      <td>7.21</td>\n",
       "    </tr>\n",
       "    <tr>\n",
       "      <th>542318</th>\n",
       "      <td>NaN</td>\n",
       "      <td>7.21</td>\n",
       "    </tr>\n",
       "    <tr>\n",
       "      <th>542319</th>\n",
       "      <td>3.79</td>\n",
       "      <td>3.79</td>\n",
       "    </tr>\n",
       "    <tr>\n",
       "      <th>542320</th>\n",
       "      <td>NaN</td>\n",
       "      <td>5.73</td>\n",
       "    </tr>\n",
       "    <tr>\n",
       "      <th>542321</th>\n",
       "      <td>NaN</td>\n",
       "      <td>5.73</td>\n",
       "    </tr>\n",
       "  </tbody>\n",
       "</table>\n",
       "<p>542322 rows × 2 columns</p>\n",
       "</div>"
      ],
      "text/plain": [
       "        PM25_24H_AVG_POLLUTION  PM25_24H_AVG_POLLUTION_rollingfill\n",
       "0                          NaN                                 NaN\n",
       "1                          NaN                                 NaN\n",
       "2                          NaN                                 NaN\n",
       "3                          NaN                                 NaN\n",
       "4                          NaN                                 NaN\n",
       "...                        ...                                 ...\n",
       "542317                     NaN                                7.21\n",
       "542318                     NaN                                7.21\n",
       "542319                    3.79                                3.79\n",
       "542320                     NaN                                5.73\n",
       "542321                     NaN                                5.73\n",
       "\n",
       "[542322 rows x 2 columns]"
      ]
     },
     "execution_count": 304,
     "metadata": {},
     "output_type": "execute_result"
    }
   ],
   "source": [
    "df[['PM25_24H_AVG_POLLUTION','PM25_24H_AVG_POLLUTION_rollingfill']]"
   ]
  },
  {
   "cell_type": "code",
   "execution_count": 305,
   "id": "cff4d300",
   "metadata": {},
   "outputs": [
    {
     "data": {
      "text/plain": [
       "PM25_24H_AVG_POLLUTION                419186\n",
       "PM25_24H_AVG_POLLUTION_rollingfill        10\n",
       "dtype: int64"
      ]
     },
     "execution_count": 305,
     "metadata": {},
     "output_type": "execute_result"
    }
   ],
   "source": [
    "df[['PM25_24H_AVG_POLLUTION','PM25_24H_AVG_POLLUTION_rollingfill']].isna().sum()"
   ]
  },
  {
   "cell_type": "code",
   "execution_count": 307,
   "id": "1a4d08ad",
   "metadata": {},
   "outputs": [],
   "source": [
    "#upper 10 consecutive values remain null because no prior values but can be filled with mean after riolling fill."
   ]
  },
  {
   "cell_type": "code",
   "execution_count": 308,
   "id": "7d056f2b",
   "metadata": {},
   "outputs": [
    {
     "data": {
      "text/plain": [
       "<AxesSubplot:>"
      ]
     },
     "execution_count": 308,
     "metadata": {},
     "output_type": "execute_result"
    },
    {
     "data": {
      "image/png": "[encoded data removed]",
      "text/plain": [
       "<Figure size 432x288 with 1 Axes>"
      ]
     },
     "metadata": {
      "needs_background": "light"
     },
     "output_type": "display_data"
    }
   ],
   "source": [
    "df['PM25_24H_AVG_POLLUTION_rollingfill'].plot()"
   ]
  },
  {
   "cell_type": "code",
   "execution_count": 309,
   "id": "e8ba2037",
   "metadata": {},
   "outputs": [
    {
     "data": {
      "text/plain": [
       "<AxesSubplot:>"
      ]
     },
     "execution_count": 309,
     "metadata": {},
     "output_type": "execute_result"
    },
    {
     "data": {
      "image/png": "[encoded data removed]",
      "text/plain": [
       "<Figure size 432x288 with 1 Axes>"
      ]
     },
     "metadata": {
      "needs_background": "light"
     },
     "output_type": "display_data"
    }
   ],
   "source": [
    "df['PM25_24H_AVG_POLLUTION'].plot()"
   ]
  },
  {
   "cell_type": "code",
   "execution_count": 310,
   "id": "84ab877e",
   "metadata": {},
   "outputs": [
    {
     "data": {
      "text/plain": [
       "303.04925894550945"
      ]
     },
     "execution_count": 310,
     "metadata": {},
     "output_type": "execute_result"
    }
   ],
   "source": [
    "df['PM25_24H_AVG_POLLUTION'].var()"
   ]
  },
  {
   "cell_type": "code",
   "execution_count": 311,
   "id": "3b8db339",
   "metadata": {},
   "outputs": [
    {
     "data": {
      "text/plain": [
       "252.15522396620042"
      ]
     },
     "execution_count": 311,
     "metadata": {},
     "output_type": "execute_result"
    }
   ],
   "source": [
    "df['PM25_24H_AVG_POLLUTION_rollingfill'].var()"
   ]
  },
  {
   "cell_type": "markdown",
   "id": "8309eee7",
   "metadata": {},
   "source": [
    "# No2 fill"
   ]
  },
  {
   "cell_type": "markdown",
   "id": "1047c4e9",
   "metadata": {},
   "source": [
    "# KNN-nan eucldiean distance"
   ]
  },
  {
   "cell_type": "code",
   "execution_count": 334,
   "id": "76c6c1fc",
   "metadata": {},
   "outputs": [
    {
     "data": {
      "text/html": [
       "<div>\n",
       "<style scoped>\n",
       "    .dataframe tbody tr th:only-of-type {\n",
       "        vertical-align: middle;\n",
       "    }\n",
       "\n",
       "    .dataframe tbody tr th {\n",
       "        vertical-align: top;\n",
       "    }\n",
       "\n",
       "    .dataframe thead th {\n",
       "        text-align: right;\n",
       "    }\n",
       "</style>\n",
       "<table border=\"1\" class=\"dataframe\">\n",
       "  <thead>\n",
       "    <tr style=\"text-align: right;\">\n",
       "      <th></th>\n",
       "      <th>DATE</th>\n",
       "      <th>POLSTID</th>\n",
       "      <th>Voivodeship</th>\n",
       "      <th>City</th>\n",
       "      <th>county</th>\n",
       "      <th>postcode</th>\n",
       "      <th>LAT</th>\n",
       "      <th>LON</th>\n",
       "      <th>NO2_24H_AVG_POLLUTION</th>\n",
       "      <th>O3_24H_AVG_POLLUTION</th>\n",
       "      <th>...</th>\n",
       "      <th>PM10_impute_status</th>\n",
       "      <th>PM25_impute_status</th>\n",
       "      <th>Station code</th>\n",
       "      <th>Station type</th>\n",
       "      <th>Region type</th>\n",
       "      <th>Station model</th>\n",
       "      <th>PM10_24H_AVG_POLLUTION_bfill</th>\n",
       "      <th>PM10_24H_AVG_POLLUTION_randomfill</th>\n",
       "      <th>O3_24H_AVG_POLLUTION_rollingfill</th>\n",
       "      <th>PM25_24H_AVG_POLLUTION_rollingfill</th>\n",
       "    </tr>\n",
       "  </thead>\n",
       "  <tbody>\n",
       "    <tr>\n",
       "      <th>0</th>\n",
       "      <td>2017-01-01</td>\n",
       "      <td>DsBoleslaMOB</td>\n",
       "      <td>DOLNOŚLĄSKIE</td>\n",
       "      <td>Bolesławiec</td>\n",
       "      <td>powiat bolesławiecki</td>\n",
       "      <td>59-700</td>\n",
       "      <td>51.263245</td>\n",
       "      <td>15.570354</td>\n",
       "      <td>NaN</td>\n",
       "      <td>NaN</td>\n",
       "      <td>...</td>\n",
       "      <td>Not Measured</td>\n",
       "      <td>Not Measured</td>\n",
       "      <td>DsBoleslaMOB</td>\n",
       "      <td>background</td>\n",
       "      <td>urban</td>\n",
       "      <td>mobile</td>\n",
       "      <td>30.68</td>\n",
       "      <td>10.186813</td>\n",
       "      <td>NaN</td>\n",
       "      <td>NaN</td>\n",
       "    </tr>\n",
       "    <tr>\n",
       "      <th>1</th>\n",
       "      <td>2017-01-01</td>\n",
       "      <td>DsCzerStraza</td>\n",
       "      <td>DOLNOŚLĄSKIE</td>\n",
       "      <td>Czerniawa</td>\n",
       "      <td>powiat lubański</td>\n",
       "      <td>59-850</td>\n",
       "      <td>50.912475</td>\n",
       "      <td>15.312190</td>\n",
       "      <td>NaN</td>\n",
       "      <td>90.39</td>\n",
       "      <td>...</td>\n",
       "      <td>Not Measured</td>\n",
       "      <td>Not Measured</td>\n",
       "      <td>DsCzerStraza</td>\n",
       "      <td>background</td>\n",
       "      <td>nonurban</td>\n",
       "      <td>container</td>\n",
       "      <td>30.68</td>\n",
       "      <td>13.000000</td>\n",
       "      <td>90.39</td>\n",
       "      <td>NaN</td>\n",
       "    </tr>\n",
       "  </tbody>\n",
       "</table>\n",
       "<p>2 rows × 29 columns</p>\n",
       "</div>"
      ],
      "text/plain": [
       "         DATE       POLSTID   Voivodeship         City                county  \\\n",
       "0  2017-01-01  DsBoleslaMOB  DOLNOŚLĄSKIE  Bolesławiec  powiat bolesławiecki   \n",
       "1  2017-01-01  DsCzerStraza  DOLNOŚLĄSKIE    Czerniawa       powiat lubański   \n",
       "\n",
       "  postcode        LAT        LON  NO2_24H_AVG_POLLUTION  O3_24H_AVG_POLLUTION  \\\n",
       "0   59-700  51.263245  15.570354                    NaN                   NaN   \n",
       "1   59-850  50.912475  15.312190                    NaN                 90.39   \n",
       "\n",
       "   ...  PM10_impute_status  PM25_impute_status  Station code  Station type  \\\n",
       "0  ...        Not Measured        Not Measured  DsBoleslaMOB    background   \n",
       "1  ...        Not Measured        Not Measured  DsCzerStraza    background   \n",
       "\n",
       "   Region type  Station model PM10_24H_AVG_POLLUTION_bfill  \\\n",
       "0        urban         mobile                        30.68   \n",
       "1     nonurban      container                        30.68   \n",
       "\n",
       "  PM10_24H_AVG_POLLUTION_randomfill O3_24H_AVG_POLLUTION_rollingfill  \\\n",
       "0                         10.186813                              NaN   \n",
       "1                         13.000000                            90.39   \n",
       "\n",
       "  PM25_24H_AVG_POLLUTION_rollingfill  \n",
       "0                                NaN  \n",
       "1                                NaN  \n",
       "\n",
       "[2 rows x 29 columns]"
      ]
     },
     "execution_count": 334,
     "metadata": {},
     "output_type": "execute_result"
    }
   ],
   "source": [
    "df.head(2)"
   ]
  },
  {
   "cell_type": "code",
   "execution_count": 335,
   "id": "ada93dc5",
   "metadata": {},
   "outputs": [
    {
     "data": {
      "text/plain": [
       "Index(['DATE', 'POLSTID', 'Voivodeship', 'City', 'county', 'postcode', 'LAT',\n",
       "       'LON', 'NO2_24H_AVG_POLLUTION', 'O3_24H_AVG_POLLUTION',\n",
       "       'PM10_24H_AVG_POLLUTION', 'PM25_24H_AVG_POLLUTION', 'day', 'month',\n",
       "       'year', 'dayofweek', 'station_abbrev', 'NO2_impute_status',\n",
       "       'O3_impute_status', 'PM10_impute_status', 'PM25_impute_status',\n",
       "       'Station code', 'Station type', 'Region type', 'Station model',\n",
       "       'PM10_24H_AVG_POLLUTION_bfill', 'PM10_24H_AVG_POLLUTION_randomfill',\n",
       "       'O3_24H_AVG_POLLUTION_rollingfill',\n",
       "       'PM25_24H_AVG_POLLUTION_rollingfill'],\n",
       "      dtype='object')"
      ]
     },
     "execution_count": 335,
     "metadata": {},
     "output_type": "execute_result"
    }
   ],
   "source": [
    "df.columns"
   ]
  },
  {
   "cell_type": "code",
   "execution_count": 336,
   "id": "4b2be2a9",
   "metadata": {},
   "outputs": [
    {
     "data": {
      "text/html": [
       "<div>\n",
       "<style scoped>\n",
       "    .dataframe tbody tr th:only-of-type {\n",
       "        vertical-align: middle;\n",
       "    }\n",
       "\n",
       "    .dataframe tbody tr th {\n",
       "        vertical-align: top;\n",
       "    }\n",
       "\n",
       "    .dataframe thead th {\n",
       "        text-align: right;\n",
       "    }\n",
       "</style>\n",
       "<table border=\"1\" class=\"dataframe\">\n",
       "  <thead>\n",
       "    <tr style=\"text-align: right;\">\n",
       "      <th></th>\n",
       "      <th>NO2_24H_AVG_POLLUTION</th>\n",
       "      <th>PM10_24H_AVG_POLLUTION_randomfill</th>\n",
       "      <th>O3_24H_AVG_POLLUTION_rollingfill</th>\n",
       "      <th>PM25_24H_AVG_POLLUTION_rollingfill</th>\n",
       "    </tr>\n",
       "  </thead>\n",
       "  <tbody>\n",
       "    <tr>\n",
       "      <th>0</th>\n",
       "      <td>NaN</td>\n",
       "      <td>10.186813</td>\n",
       "      <td>NaN</td>\n",
       "      <td>NaN</td>\n",
       "    </tr>\n",
       "    <tr>\n",
       "      <th>1</th>\n",
       "      <td>NaN</td>\n",
       "      <td>13.000000</td>\n",
       "      <td>90.390000</td>\n",
       "      <td>NaN</td>\n",
       "    </tr>\n",
       "    <tr>\n",
       "      <th>2</th>\n",
       "      <td>NaN</td>\n",
       "      <td>30.680000</td>\n",
       "      <td>90.390000</td>\n",
       "      <td>NaN</td>\n",
       "    </tr>\n",
       "    <tr>\n",
       "      <th>3</th>\n",
       "      <td>NaN</td>\n",
       "      <td>16.830000</td>\n",
       "      <td>90.390000</td>\n",
       "      <td>NaN</td>\n",
       "    </tr>\n",
       "    <tr>\n",
       "      <th>4</th>\n",
       "      <td>NaN</td>\n",
       "      <td>14.920000</td>\n",
       "      <td>11.980000</td>\n",
       "      <td>NaN</td>\n",
       "    </tr>\n",
       "    <tr>\n",
       "      <th>...</th>\n",
       "      <td>...</td>\n",
       "      <td>...</td>\n",
       "      <td>...</td>\n",
       "      <td>...</td>\n",
       "    </tr>\n",
       "    <tr>\n",
       "      <th>542317</th>\n",
       "      <td>NaN</td>\n",
       "      <td>18.251718</td>\n",
       "      <td>34.335000</td>\n",
       "      <td>7.21</td>\n",
       "    </tr>\n",
       "    <tr>\n",
       "      <th>542318</th>\n",
       "      <td>NaN</td>\n",
       "      <td>9.800000</td>\n",
       "      <td>34.335000</td>\n",
       "      <td>7.21</td>\n",
       "    </tr>\n",
       "    <tr>\n",
       "      <th>542319</th>\n",
       "      <td>NaN</td>\n",
       "      <td>4.550000</td>\n",
       "      <td>34.335000</td>\n",
       "      <td>3.79</td>\n",
       "    </tr>\n",
       "    <tr>\n",
       "      <th>542320</th>\n",
       "      <td>NaN</td>\n",
       "      <td>4.350000</td>\n",
       "      <td>35.053333</td>\n",
       "      <td>5.73</td>\n",
       "    </tr>\n",
       "    <tr>\n",
       "      <th>542321</th>\n",
       "      <td>NaN</td>\n",
       "      <td>53.470000</td>\n",
       "      <td>34.400000</td>\n",
       "      <td>5.73</td>\n",
       "    </tr>\n",
       "  </tbody>\n",
       "</table>\n",
       "<p>542322 rows × 4 columns</p>\n",
       "</div>"
      ],
      "text/plain": [
       "        NO2_24H_AVG_POLLUTION  PM10_24H_AVG_POLLUTION_randomfill  \\\n",
       "0                         NaN                          10.186813   \n",
       "1                         NaN                          13.000000   \n",
       "2                         NaN                          30.680000   \n",
       "3                         NaN                          16.830000   \n",
       "4                         NaN                          14.920000   \n",
       "...                       ...                                ...   \n",
       "542317                    NaN                          18.251718   \n",
       "542318                    NaN                           9.800000   \n",
       "542319                    NaN                           4.550000   \n",
       "542320                    NaN                           4.350000   \n",
       "542321                    NaN                          53.470000   \n",
       "\n",
       "        O3_24H_AVG_POLLUTION_rollingfill  PM25_24H_AVG_POLLUTION_rollingfill  \n",
       "0                                    NaN                                 NaN  \n",
       "1                              90.390000                                 NaN  \n",
       "2                              90.390000                                 NaN  \n",
       "3                              90.390000                                 NaN  \n",
       "4                              11.980000                                 NaN  \n",
       "...                                  ...                                 ...  \n",
       "542317                         34.335000                                7.21  \n",
       "542318                         34.335000                                7.21  \n",
       "542319                         34.335000                                3.79  \n",
       "542320                         35.053333                                5.73  \n",
       "542321                         34.400000                                5.73  \n",
       "\n",
       "[542322 rows x 4 columns]"
      ]
     },
     "execution_count": 336,
     "metadata": {},
     "output_type": "execute_result"
    }
   ],
   "source": [
    "df_new=df[['NO2_24H_AVG_POLLUTION','PM10_24H_AVG_POLLUTION_randomfill','O3_24H_AVG_POLLUTION_rollingfill','PM25_24H_AVG_POLLUTION_rollingfill']]\n",
    "df_new"
   ]
  },
  {
   "cell_type": "code",
   "execution_count": 337,
   "id": "37b46c3a",
   "metadata": {},
   "outputs": [
    {
     "data": {
      "text/plain": [
       "NO2_24H_AVG_POLLUTION                 536844\n",
       "PM10_24H_AVG_POLLUTION_randomfill          0\n",
       "O3_24H_AVG_POLLUTION_rollingfill           1\n",
       "PM25_24H_AVG_POLLUTION_rollingfill        10\n",
       "dtype: int64"
      ]
     },
     "execution_count": 337,
     "metadata": {},
     "output_type": "execute_result"
    }
   ],
   "source": [
    "df_new.isna().sum()"
   ]
  },
  {
   "cell_type": "code",
   "execution_count": 338,
   "id": "c457ea26",
   "metadata": {},
   "outputs": [],
   "source": [
    "from sklearn.impute import KNNImputer"
   ]
  },
  {
   "cell_type": "code",
   "execution_count": 339,
   "id": "10449325",
   "metadata": {},
   "outputs": [],
   "source": [
    "knn = KNNImputer(n_neighbors=2,weights='distance')"
   ]
  },
  {
   "cell_type": "code",
   "execution_count": 342,
   "id": "a0f730f5",
   "metadata": {},
   "outputs": [
    {
     "data": {
      "text/html": [
       "<div>\n",
       "<style scoped>\n",
       "    .dataframe tbody tr th:only-of-type {\n",
       "        vertical-align: middle;\n",
       "    }\n",
       "\n",
       "    .dataframe tbody tr th {\n",
       "        vertical-align: top;\n",
       "    }\n",
       "\n",
       "    .dataframe thead th {\n",
       "        text-align: right;\n",
       "    }\n",
       "</style>\n",
       "<table border=\"1\" class=\"dataframe\">\n",
       "  <thead>\n",
       "    <tr style=\"text-align: right;\">\n",
       "      <th></th>\n",
       "      <th>NO2_24H_AVG_POLLUTION_imp</th>\n",
       "    </tr>\n",
       "  </thead>\n",
       "  <tbody>\n",
       "    <tr>\n",
       "      <th>0</th>\n",
       "      <td>NaN</td>\n",
       "    </tr>\n",
       "    <tr>\n",
       "      <th>1</th>\n",
       "      <td>NaN</td>\n",
       "    </tr>\n",
       "    <tr>\n",
       "      <th>2</th>\n",
       "      <td>NaN</td>\n",
       "    </tr>\n",
       "    <tr>\n",
       "      <th>3</th>\n",
       "      <td>NaN</td>\n",
       "    </tr>\n",
       "    <tr>\n",
       "      <th>4</th>\n",
       "      <td>NaN</td>\n",
       "    </tr>\n",
       "    <tr>\n",
       "      <th>...</th>\n",
       "      <td>...</td>\n",
       "    </tr>\n",
       "    <tr>\n",
       "      <th>542317</th>\n",
       "      <td>NaN</td>\n",
       "    </tr>\n",
       "    <tr>\n",
       "      <th>542318</th>\n",
       "      <td>NaN</td>\n",
       "    </tr>\n",
       "    <tr>\n",
       "      <th>542319</th>\n",
       "      <td>NaN</td>\n",
       "    </tr>\n",
       "    <tr>\n",
       "      <th>542320</th>\n",
       "      <td>NaN</td>\n",
       "    </tr>\n",
       "    <tr>\n",
       "      <th>542321</th>\n",
       "      <td>NaN</td>\n",
       "    </tr>\n",
       "  </tbody>\n",
       "</table>\n",
       "<p>542322 rows × 1 columns</p>\n",
       "</div>"
      ],
      "text/plain": [
       "        NO2_24H_AVG_POLLUTION_imp\n",
       "0                             NaN\n",
       "1                             NaN\n",
       "2                             NaN\n",
       "3                             NaN\n",
       "4                             NaN\n",
       "...                           ...\n",
       "542317                        NaN\n",
       "542318                        NaN\n",
       "542319                        NaN\n",
       "542320                        NaN\n",
       "542321                        NaN\n",
       "\n",
       "[542322 rows x 1 columns]"
      ]
     },
     "execution_count": 342,
     "metadata": {},
     "output_type": "execute_result"
    }
   ],
   "source": [
    "df_new['NO2_24H_AVG_POLLUTION_imp']=df_new[['NO2_24H_AVG_POLLUTION']]\n",
    "df_new[['NO2_24H_AVG_POLLUTION_imp']]"
   ]
  },
  {
   "cell_type": "code",
   "execution_count": 345,
   "id": "030edbf4",
   "metadata": {},
   "outputs": [
    {
     "data": {
      "text/plain": [
       "536844"
      ]
     },
     "execution_count": 345,
     "metadata": {},
     "output_type": "execute_result"
    }
   ],
   "source": [
    "df_new['NO2_24H_AVG_POLLUTION_imp'].isna().sum()"
   ]
  },
  {
   "cell_type": "code",
   "execution_count": 346,
   "id": "4dbf4163",
   "metadata": {},
   "outputs": [
    {
     "ename": "KeyboardInterrupt",
     "evalue": "",
     "output_type": "error",
     "traceback": [
      "\u001b[1;31m---------------------------------------------------------------------------\u001b[0m",
      "\u001b[1;31mKeyboardInterrupt\u001b[0m                         Traceback (most recent call last)",
      "Input \u001b[1;32mIn [346]\u001b[0m, in \u001b[0;36m<cell line: 1>\u001b[1;34m()\u001b[0m\n\u001b[1;32m----> 1\u001b[0m df_new[\u001b[38;5;124m'\u001b[39m\u001b[38;5;124mNO2_24H_AVG_POLLUTION_imp\u001b[39m\u001b[38;5;124m'\u001b[39m]\u001b[38;5;241m=\u001b[39m\u001b[43mknn\u001b[49m\u001b[38;5;241;43m.\u001b[39;49m\u001b[43mfit_transform\u001b[49m\u001b[43m(\u001b[49m\u001b[43mdf_new\u001b[49m\u001b[43m[\u001b[49m\u001b[43m[\u001b[49m\u001b[38;5;124;43m'\u001b[39;49m\u001b[38;5;124;43mNO2_24H_AVG_POLLUTION_imp\u001b[39;49m\u001b[38;5;124;43m'\u001b[39;49m\u001b[43m]\u001b[49m\u001b[43m]\u001b[49m\u001b[43m)\u001b[49m\n\u001b[0;32m      2\u001b[0m df_new[\u001b[38;5;124m'\u001b[39m\u001b[38;5;124mNO2_24H_AVG_POLLUTION_imp\u001b[39m\u001b[38;5;124m'\u001b[39m]\n",
      "File \u001b[1;32m~\\anaconda3\\lib\\site-packages\\sklearn\\base.py:852\u001b[0m, in \u001b[0;36mTransformerMixin.fit_transform\u001b[1;34m(self, X, y, **fit_params)\u001b[0m\n\u001b[0;32m    848\u001b[0m \u001b[38;5;66;03m# non-optimized default implementation; override when a better\u001b[39;00m\n\u001b[0;32m    849\u001b[0m \u001b[38;5;66;03m# method is possible for a given clustering algorithm\u001b[39;00m\n\u001b[0;32m    850\u001b[0m \u001b[38;5;28;01mif\u001b[39;00m y \u001b[38;5;129;01mis\u001b[39;00m \u001b[38;5;28;01mNone\u001b[39;00m:\n\u001b[0;32m    851\u001b[0m     \u001b[38;5;66;03m# fit method of arity 1 (unsupervised transformation)\u001b[39;00m\n\u001b[1;32m--> 852\u001b[0m     \u001b[38;5;28;01mreturn\u001b[39;00m \u001b[38;5;28;43mself\u001b[39;49m\u001b[38;5;241;43m.\u001b[39;49m\u001b[43mfit\u001b[49m\u001b[43m(\u001b[49m\u001b[43mX\u001b[49m\u001b[43m,\u001b[49m\u001b[43m \u001b[49m\u001b[38;5;241;43m*\u001b[39;49m\u001b[38;5;241;43m*\u001b[39;49m\u001b[43mfit_params\u001b[49m\u001b[43m)\u001b[49m\u001b[38;5;241;43m.\u001b[39;49m\u001b[43mtransform\u001b[49m\u001b[43m(\u001b[49m\u001b[43mX\u001b[49m\u001b[43m)\u001b[49m\n\u001b[0;32m    853\u001b[0m \u001b[38;5;28;01melse\u001b[39;00m:\n\u001b[0;32m    854\u001b[0m     \u001b[38;5;66;03m# fit method of arity 2 (supervised transformation)\u001b[39;00m\n\u001b[0;32m    855\u001b[0m     \u001b[38;5;28;01mreturn\u001b[39;00m \u001b[38;5;28mself\u001b[39m\u001b[38;5;241m.\u001b[39mfit(X, y, \u001b[38;5;241m*\u001b[39m\u001b[38;5;241m*\u001b[39mfit_params)\u001b[38;5;241m.\u001b[39mtransform(X)\n",
      "File \u001b[1;32m~\\anaconda3\\lib\\site-packages\\sklearn\\impute\\_knn.py:336\u001b[0m, in \u001b[0;36mKNNImputer.transform\u001b[1;34m(self, X)\u001b[0m\n\u001b[0;32m    327\u001b[0m \u001b[38;5;66;03m# process in fixed-memory chunks\u001b[39;00m\n\u001b[0;32m    328\u001b[0m gen \u001b[38;5;241m=\u001b[39m pairwise_distances_chunked(\n\u001b[0;32m    329\u001b[0m     X[row_missing_idx, :],\n\u001b[0;32m    330\u001b[0m     \u001b[38;5;28mself\u001b[39m\u001b[38;5;241m.\u001b[39m_fit_X,\n\u001b[1;32m   (...)\u001b[0m\n\u001b[0;32m    334\u001b[0m     reduce_func\u001b[38;5;241m=\u001b[39mprocess_chunk,\n\u001b[0;32m    335\u001b[0m )\n\u001b[1;32m--> 336\u001b[0m \u001b[38;5;28;01mfor\u001b[39;00m chunk \u001b[38;5;129;01min\u001b[39;00m gen:\n\u001b[0;32m    337\u001b[0m     \u001b[38;5;66;03m# process_chunk modifies X in place. No return value.\u001b[39;00m\n\u001b[0;32m    338\u001b[0m     \u001b[38;5;28;01mpass\u001b[39;00m\n\u001b[0;32m    340\u001b[0m \u001b[38;5;28;01mreturn\u001b[39;00m \u001b[38;5;28msuper\u001b[39m()\u001b[38;5;241m.\u001b[39m_concatenate_indicator(X[:, valid_mask], X_indicator)\n",
      "File \u001b[1;32m~\\anaconda3\\lib\\site-packages\\sklearn\\metrics\\pairwise.py:1717\u001b[0m, in \u001b[0;36mpairwise_distances_chunked\u001b[1;34m(X, Y, reduce_func, metric, n_jobs, working_memory, **kwds)\u001b[0m\n\u001b[0;32m   1715\u001b[0m \u001b[38;5;28;01melse\u001b[39;00m:\n\u001b[0;32m   1716\u001b[0m     X_chunk \u001b[38;5;241m=\u001b[39m X[sl]\n\u001b[1;32m-> 1717\u001b[0m D_chunk \u001b[38;5;241m=\u001b[39m pairwise_distances(X_chunk, Y, metric\u001b[38;5;241m=\u001b[39mmetric, n_jobs\u001b[38;5;241m=\u001b[39mn_jobs, \u001b[38;5;241m*\u001b[39m\u001b[38;5;241m*\u001b[39mkwds)\n\u001b[0;32m   1718\u001b[0m \u001b[38;5;28;01mif\u001b[39;00m (X \u001b[38;5;129;01mis\u001b[39;00m Y \u001b[38;5;129;01mor\u001b[39;00m Y \u001b[38;5;129;01mis\u001b[39;00m \u001b[38;5;28;01mNone\u001b[39;00m) \u001b[38;5;129;01mand\u001b[39;00m PAIRWISE_DISTANCE_FUNCTIONS\u001b[38;5;241m.\u001b[39mget(\n\u001b[0;32m   1719\u001b[0m     metric, \u001b[38;5;28;01mNone\u001b[39;00m\n\u001b[0;32m   1720\u001b[0m ) \u001b[38;5;129;01mis\u001b[39;00m euclidean_distances:\n\u001b[0;32m   1721\u001b[0m     \u001b[38;5;66;03m# zeroing diagonal, taking care of aliases of \"euclidean\",\u001b[39;00m\n\u001b[0;32m   1722\u001b[0m     \u001b[38;5;66;03m# i.e. \"l2\"\u001b[39;00m\n\u001b[0;32m   1723\u001b[0m     D_chunk\u001b[38;5;241m.\u001b[39mflat[sl\u001b[38;5;241m.\u001b[39mstart :: _num_samples(X) \u001b[38;5;241m+\u001b[39m \u001b[38;5;241m1\u001b[39m] \u001b[38;5;241m=\u001b[39m \u001b[38;5;241m0\u001b[39m\n",
      "File \u001b[1;32m~\\anaconda3\\lib\\site-packages\\sklearn\\metrics\\pairwise.py:1889\u001b[0m, in \u001b[0;36mpairwise_distances\u001b[1;34m(X, Y, metric, n_jobs, force_all_finite, **kwds)\u001b[0m\n\u001b[0;32m   1886\u001b[0m         \u001b[38;5;28;01mreturn\u001b[39;00m distance\u001b[38;5;241m.\u001b[39msquareform(distance\u001b[38;5;241m.\u001b[39mpdist(X, metric\u001b[38;5;241m=\u001b[39mmetric, \u001b[38;5;241m*\u001b[39m\u001b[38;5;241m*\u001b[39mkwds))\n\u001b[0;32m   1887\u001b[0m     func \u001b[38;5;241m=\u001b[39m partial(distance\u001b[38;5;241m.\u001b[39mcdist, metric\u001b[38;5;241m=\u001b[39mmetric, \u001b[38;5;241m*\u001b[39m\u001b[38;5;241m*\u001b[39mkwds)\n\u001b[1;32m-> 1889\u001b[0m \u001b[38;5;28;01mreturn\u001b[39;00m _parallel_pairwise(X, Y, func, n_jobs, \u001b[38;5;241m*\u001b[39m\u001b[38;5;241m*\u001b[39mkwds)\n",
      "File \u001b[1;32m~\\anaconda3\\lib\\site-packages\\sklearn\\metrics\\pairwise.py:1430\u001b[0m, in \u001b[0;36m_parallel_pairwise\u001b[1;34m(X, Y, func, n_jobs, **kwds)\u001b[0m\n\u001b[0;32m   1427\u001b[0m X, Y, dtype \u001b[38;5;241m=\u001b[39m _return_float_dtype(X, Y)\n\u001b[0;32m   1429\u001b[0m \u001b[38;5;28;01mif\u001b[39;00m effective_n_jobs(n_jobs) \u001b[38;5;241m==\u001b[39m \u001b[38;5;241m1\u001b[39m:\n\u001b[1;32m-> 1430\u001b[0m     \u001b[38;5;28;01mreturn\u001b[39;00m func(X, Y, \u001b[38;5;241m*\u001b[39m\u001b[38;5;241m*\u001b[39mkwds)\n\u001b[0;32m   1432\u001b[0m \u001b[38;5;66;03m# enforce a threading backend to prevent data communication overhead\u001b[39;00m\n\u001b[0;32m   1433\u001b[0m fd \u001b[38;5;241m=\u001b[39m delayed(_dist_wrapper)\n",
      "File \u001b[1;32m~\\anaconda3\\lib\\site-packages\\sklearn\\metrics\\pairwise.py:488\u001b[0m, in \u001b[0;36mnan_euclidean_distances\u001b[1;34m(X, Y, squared, missing_values, copy)\u001b[0m\n\u001b[0;32m    486\u001b[0m present_X \u001b[38;5;241m=\u001b[39m \u001b[38;5;241m1\u001b[39m \u001b[38;5;241m-\u001b[39m missing_X\n\u001b[0;32m    487\u001b[0m present_Y \u001b[38;5;241m=\u001b[39m present_X \u001b[38;5;28;01mif\u001b[39;00m Y \u001b[38;5;129;01mis\u001b[39;00m X \u001b[38;5;28;01melse\u001b[39;00m \u001b[38;5;241m~\u001b[39mmissing_Y\n\u001b[1;32m--> 488\u001b[0m present_count \u001b[38;5;241m=\u001b[39m \u001b[43mnp\u001b[49m\u001b[38;5;241;43m.\u001b[39;49m\u001b[43mdot\u001b[49m\u001b[43m(\u001b[49m\u001b[43mpresent_X\u001b[49m\u001b[43m,\u001b[49m\u001b[43m \u001b[49m\u001b[43mpresent_Y\u001b[49m\u001b[38;5;241;43m.\u001b[39;49m\u001b[43mT\u001b[49m\u001b[43m)\u001b[49m\n\u001b[0;32m    489\u001b[0m distances[present_count \u001b[38;5;241m==\u001b[39m \u001b[38;5;241m0\u001b[39m] \u001b[38;5;241m=\u001b[39m np\u001b[38;5;241m.\u001b[39mnan\n\u001b[0;32m    490\u001b[0m \u001b[38;5;66;03m# avoid divide by zero\u001b[39;00m\n",
      "File \u001b[1;32m<__array_function__ internals>:5\u001b[0m, in \u001b[0;36mdot\u001b[1;34m(*args, **kwargs)\u001b[0m\n",
      "\u001b[1;31mKeyboardInterrupt\u001b[0m: "
     ]
    }
   ],
   "source": [
    "df_new['NO2_24H_AVG_POLLUTION_imp']=knn.fit_transform(df_new[['NO2_24H_AVG_POLLUTION_imp']])\n",
    "df_new['NO2_24H_AVG_POLLUTION_imp']"
   ]
  },
  {
   "cell_type": "code",
   "execution_count": null,
   "id": "1bb6be9f",
   "metadata": {},
   "outputs": [],
   "source": []
  },
  {
   "cell_type": "code",
   "execution_count": null,
   "id": "881b94f4",
   "metadata": {},
   "outputs": [],
   "source": []
  },
  {
   "cell_type": "code",
   "execution_count": null,
   "id": "bd7e5cea",
   "metadata": {},
   "outputs": [],
   "source": []
  },
  {
   "cell_type": "code",
   "execution_count": null,
   "id": "27e92314",
   "metadata": {},
   "outputs": [],
   "source": []
  },
  {
   "cell_type": "code",
   "execution_count": null,
   "id": "ef10c1e4",
   "metadata": {},
   "outputs": [],
   "source": []
  },
  {
   "cell_type": "code",
   "execution_count": null,
   "id": "176ee81e",
   "metadata": {},
   "outputs": [],
   "source": []
  },
  {
   "cell_type": "code",
   "execution_count": null,
   "id": "a1db88fc",
   "metadata": {},
   "outputs": [],
   "source": []
  },
  {
   "cell_type": "code",
   "execution_count": null,
   "id": "b110824a",
   "metadata": {},
   "outputs": [],
   "source": []
  },
  {
   "cell_type": "code",
   "execution_count": null,
   "id": "03b962c7",
   "metadata": {},
   "outputs": [],
   "source": []
  }
 ],
 "metadata": {
  "kernelspec": {
   "display_name": "Python 3 (ipykernel)",
   "language": "python",
   "name": "python3"
  },
  "language_info": {
   "codemirror_mode": {
    "name": "ipython",
    "version": 3
   },
   "file_extension": ".py",
   "mimetype": "text/x-python",
   "name": "python",
   "nbconvert_exporter": "python",
   "pygments_lexer": "ipython3",
   "version": "3.9.12"
  }
 },
 "nbformat": 4,
 "nbformat_minor": 5
}
