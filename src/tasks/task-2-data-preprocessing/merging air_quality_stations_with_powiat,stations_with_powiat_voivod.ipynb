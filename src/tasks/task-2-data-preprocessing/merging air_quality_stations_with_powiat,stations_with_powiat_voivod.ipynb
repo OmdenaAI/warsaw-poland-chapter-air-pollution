{
 "cells": [
  {
   "cell_type": "code",
   "execution_count": 1,
   "id": "974372a2",
   "metadata": {},
   "outputs": [
    {
     "ename": "ModuleNotFoundError",
     "evalue": "No module named 'haversine'",
     "output_type": "error",
     "traceback": [
      "\u001b[1;31m---------------------------------------------------------------------------\u001b[0m",
      "\u001b[1;31mModuleNotFoundError\u001b[0m                       Traceback (most recent call last)",
      "Cell \u001b[1;32mIn[1], line 2\u001b[0m\n\u001b[0;32m      1\u001b[0m \u001b[38;5;28;01mimport\u001b[39;00m \u001b[38;5;21;01mpandas\u001b[39;00m \u001b[38;5;28;01mas\u001b[39;00m \u001b[38;5;21;01mpd\u001b[39;00m\n\u001b[1;32m----> 2\u001b[0m \u001b[38;5;28;01mfrom\u001b[39;00m \u001b[38;5;21;01mhaversine\u001b[39;00m \u001b[38;5;28;01mimport\u001b[39;00m haversine, Unit\n\u001b[0;32m      4\u001b[0m \u001b[38;5;66;03m# Load the datasets\u001b[39;00m\n\u001b[0;32m      5\u001b[0m df1 \u001b[38;5;241m=\u001b[39m pd\u001b[38;5;241m.\u001b[39mread_csv(\u001b[38;5;124m'\u001b[39m\u001b[38;5;124m../../src/data/data_processed/merged_air_quality_data_CSV/thayes_air_quality_stations_with_powiat_missing3.csv\u001b[39m\u001b[38;5;124m'\u001b[39m)\n",
      "\u001b[1;31mModuleNotFoundError\u001b[0m: No module named 'haversine'"
     ]
    }
   ],
   "source": [
    "\n",
    "import pandas as pd\n",
    "from haversine import haversine, Unit\n",
    "\n",
    "# Load the datasets\n",
    "df1 = pd.read_csv('../../src/data/data_processed/merged_air_quality_data_CSV/thayes_air_quality_stations_with_powiat_missing3.csv')\n",
    "df2 = pd.read_csv('../../src/data/data_processed/processed_weather_data_in_CSV_files/stations_with_powiat_voivod.csv', sep=',', encoding='latin-1')\n",
    "\n",
    "# Loop over each row in the first dataset\n",
    "for index1, row1 in df1.iterrows():\n",
    "    min_distance = float('inf')\n",
    "    min_index = -1\n",
    "\n",
    "    # Loop over each row in the second dataset\n",
    "    for index2, row2 in df2.iterrows():\n",
    "        # Compute the haversine distance between the two locations\n",
    "        if((row1['WGS84 φ N'] == -999) or (row1['WGS84 λ E']==-999)):\n",
    "            pass\n",
    "        else:\n",
    "            distance = haversine((row1['WGS84 φ N'], row1['WGS84 λ E']),\n",
    "                                 (row2['LAT'], row2['LON']),\n",
    "                                 unit=Unit.KILOMETERS)\n",
    "\n",
    "            # If the distance is less than the minimum distance found so far, update the minimum distance and index\n",
    "            if distance < min_distance:\n",
    "                min_distance = distance\n",
    "                min_index = index2\n",
    "\n",
    "    # If a match was found, add the row from the second dataset to the first dataset\n",
    "    if min_index != -1:\n",
    "        row_to_add = df2.loc[min_index]\n",
    "        df1.loc[index1, 'matched_LAT'] = row_to_add['LAT']\n",
    "        df1.loc[index1, 'matched_LON'] = row_to_add['LON']\n",
    "        df1.loc[index1, 'matched_STANAME'] = row_to_add['STANAME']\n",
    "\n",
    "# Save the updated dataset\n",
    "df1.to_csv('../../src/data/data_processed/merged_datasets/merged_datasets_1_and_2.csv', index=False)\n"
   ]
  },
  {
   "cell_type": "code",
   "execution_count": null,
   "id": "01d0e912",
   "metadata": {},
   "outputs": [],
   "source": []
  }
 ],
 "metadata": {
  "kernelspec": {
   "display_name": "Python 3 (ipykernel)",
   "language": "python",
   "name": "python3"
  },
  "language_info": {
   "codemirror_mode": {
    "name": "ipython",
    "version": 3
   },
   "file_extension": ".py",
   "mimetype": "text/x-python",
   "name": "python",
   "nbconvert_exporter": "python",
   "pygments_lexer": "ipython3",
   "version": "3.10.7"
  },
  "varInspector": {
   "cols": {
    "lenName": 16,
    "lenType": 16,
    "lenVar": 40
   },
   "kernels_config": {
    "python": {
     "delete_cmd_postfix": "",
     "delete_cmd_prefix": "del ",
     "library": "var_list.py",
     "varRefreshCmd": "print(var_dic_list())"
    },
    "r": {
     "delete_cmd_postfix": ") ",
     "delete_cmd_prefix": "rm(",
     "library": "var_list.r",
     "varRefreshCmd": "cat(var_dic_list()) "
    }
   },
   "types_to_exclude": [
    "module",
    "function",
    "builtin_function_or_method",
    "instance",
    "_Feature"
   ],
   "window_display": false
  }
 },
 "nbformat": 4,
 "nbformat_minor": 5
}
