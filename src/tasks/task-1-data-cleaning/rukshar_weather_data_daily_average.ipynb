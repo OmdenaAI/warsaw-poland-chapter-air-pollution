{
 "cells": [
  {
   "cell_type": "code",
   "execution_count": 2,
   "metadata": {},
   "outputs": [],
   "source": [
    "import pandas as pd\n",
    "import numpy as np\n",
    "import os, glob\n",
    "from tqdm import tqdm"
   ]
  },
  {
   "cell_type": "code",
   "execution_count": 3,
   "metadata": {},
   "outputs": [
    {
     "data": {
      "text/plain": [
       "['merged_weather_data_CSV/Combined_SD_ECA_snow depth.csv',\n",
       " 'merged_weather_data_CSV/Combined_SS_ECA_sunshine.csv',\n",
       " 'merged_weather_data_CSV/Combined_RR_ECA_precipitation.csv',\n",
       " 'merged_weather_data_CSV/Combined_CC_ECA_cloud_cover.csv',\n",
       " 'merged_weather_data_CSV/Combined_HU_ECA_humidity.csv',\n",
       " 'merged_weather_data_CSV/Combined_FG_ECA_wind_speed.csv',\n",
       " 'merged_weather_data_CSV/Combined_QQ_ECA_global_radiation.csv',\n",
       " 'merged_weather_data_CSV/Combined_PP_ECA_sea_level_pressure.csv',\n",
       " 'merged_weather_data_CSV/Combined_TG_ECA_mean_temperature.csv']"
      ]
     },
     "execution_count": 3,
     "metadata": {},
     "output_type": "execute_result"
    }
   ],
   "source": [
    "# Mapping between leaf names and file name prefix in child directory\n",
    "directory_dict = {'Combined_CC_ECA_cloud_cover': 'CC','Combined_QQ_ECA_global_radiation': 'QQ','Combined_HU_ECA_humidity': 'HU',\n",
    "            'Combined_TG_ECA_mean_temperature': 'TG','Combined_RR_ECA_precipitation': 'RR','Combined_PP_ECA_sea_level_pressure': 'PP',\n",
    "            'Combined_SD_ECA_snow depth': 'SD','Combined_SS_ECA_sunshine': 'SS','Combined_FG_ECA_wind_speed': 'FG'}\n",
    "input_dir = 'merged_weather_data_CSV'\n",
    "files = glob.glob( os.path.join(input_dir, '*.csv'))\n",
    "files"
   ]
  },
  {
   "cell_type": "code",
   "execution_count": 4,
   "metadata": {},
   "outputs": [
    {
     "name": "stdout",
     "output_type": "stream",
     "text": [
      "Combined_SD_ECA_snow depth\n",
      "Combined_SS_ECA_sunshine\n",
      "Combined_RR_ECA_precipitation\n",
      "Combined_CC_ECA_cloud_cover\n",
      "Combined_HU_ECA_humidity\n",
      "Combined_FG_ECA_wind_speed\n",
      "Combined_QQ_ECA_global_radiation\n",
      "Combined_PP_ECA_sea_level_pressure\n",
      "Combined_TG_ECA_mean_temperature\n"
     ]
    }
   ],
   "source": [
    "output_dir = './mean_weather_data/'\n",
    "df_list = []\n",
    "for f in files:\n",
    "    #get the file name only: we first split on '/' to get Combined_SD_ECA_snow depth.csv\n",
    "    #and then leave out the last 4 chars (.csv) \n",
    "    fname = f.split('/')[1][:-4] \n",
    "    \n",
    "    print(fname)\n",
    "    component = directory_dict[fname] #which weather element we're working with\n",
    "    quality_column = 'Q_'+component\n",
    "\n",
    "    df = pd.read_csv(f)\n",
    "    df = df[df[quality_column] == 0][['DATE', 'SOUNAME', component]] #choosing only dates, source name of station, and element values and only the valid rows (where Q_CC == 0)\n",
    "\n",
    "    #create a pivot table with dates as row indices and source names as columns \n",
    "    pivot = pd.pivot_table(df, values=component, \n",
    "                                    index='DATE', \n",
    "                                    columns='SOUNAME', \n",
    "                                    aggfunc=np.nanmean)\n",
    "\n",
    "    #change the column names to add the component to the source name columns\n",
    "    pivot.rename(columns = lambda x: x+'_'+component, inplace = True)\n",
    "\n",
    "    #create a mean valued col for each row\n",
    "    mean_df = pivot.mean(axis=1,skipna=True)\n",
    "    mean_df = pd.DataFrame(mean_df, columns = ['mean_'+component]) \n",
    "\n",
    "    #append the mean column to the pivot table\n",
    "    concat_df = pd.concat([pivot, mean_df], axis=1)\n",
    "\n",
    "    df_list.append(concat_df)\n",
    "    #concat_df.to_csv(os.path.join(output_dir, 'mean_'+fname+'.csv'))\n",
    "\n",
    "\n",
    "    #break\n"
   ]
  },
  {
   "cell_type": "code",
   "execution_count": 9,
   "metadata": {},
   "outputs": [
    {
     "data": {
      "text/plain": [
       "(1826, 726)"
      ]
     },
     "execution_count": 9,
     "metadata": {},
     "output_type": "execute_result"
    }
   ],
   "source": [
    "all_concat_df = pd.concat(df_list, axis=1) #concatenate all the weather component dataframes into a single one\n",
    "all_concat_df.to_csv('./mean_weather_data/all_mean_weather_data_combined.csv')\n",
    "all_concat_df.shape"
   ]
  },
  {
   "cell_type": "code",
   "execution_count": 8,
   "metadata": {},
   "outputs": [
    {
     "data": {
      "text/plain": [
       "Index(['BIALOWIEZA_SD', 'BIALYSTOK_SD', 'BIEBRZA-PIENCZYKOWEK_SD',\n",
       "       'BIELSKO-BIALA_SD', 'BORUSOWA_SD', 'CHOJNICE_SD', 'CHORZELOW_SD',\n",
       "       'CIESZANOW_SD', 'DRONIOWICE_SD', 'DYNOW_SD',\n",
       "       ...\n",
       "       'WARSZAWA-FILTRY_TG', 'WARSZAWA-OBSERWATORIUM II_TG',\n",
       "       'WARSZAWA-OKECIE_TG', 'WIELICHOWO_TG', 'WIELUN_TG', 'WLODAWA_TG',\n",
       "       'WROCLAW_TG', 'ZAMOSC_TG', 'ZIELONA GORA_TG', 'mean_TG'],\n",
       "      dtype='object', length=726)"
      ]
     },
     "execution_count": 8,
     "metadata": {},
     "output_type": "execute_result"
    }
   ],
   "source": [
    "all_concat_df.columns"
   ]
  }
 ],
 "metadata": {
  "kernelspec": {
   "display_name": "selise",
   "language": "python",
   "name": "python3"
  },
  "language_info": {
   "codemirror_mode": {
    "name": "ipython",
    "version": 3
   },
   "file_extension": ".py",
   "mimetype": "text/x-python",
   "name": "python",
   "nbconvert_exporter": "python",
   "pygments_lexer": "ipython3",
   "version": "3.6.13"
  },
  "orig_nbformat": 4,
  "vscode": {
   "interpreter": {
    "hash": "b2d051680ee6008be2c1f3140dd2c03d3d022392b49537e005e9e49425dcd747"
   }
  }
 },
 "nbformat": 4,
 "nbformat_minor": 2
}
