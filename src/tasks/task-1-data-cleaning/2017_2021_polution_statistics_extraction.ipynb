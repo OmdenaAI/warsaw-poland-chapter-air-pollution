{
 "cells": [
  {
   "cell_type": "code",
   "execution_count": 105,
   "id": "344c648d",
   "metadata": {
    "ExecuteTime": {
     "end_time": "2023-02-21T11:01:08.565634Z",
     "start_time": "2023-02-21T11:01:02.930597Z"
    }
   },
   "outputs": [],
   "source": [
    "import pandas as pd\n",
    "\n",
    "xl = pd.ExcelFile('Statistics_from_2000-2021.xlsx')\n",
    "sheet_names = set(sheet_name for sheet_name in xl.sheet_names)\n",
    "sheet_names.discard('DESCRIPTION')\n",
    "\n",
    "for sheet_name in sheet_names:\n",
    "    try:\n",
    "        excel_data = pd.read_excel('Statistics_from_2000-2021.xlsx', sheet_name=sheet_name, header=None)\n",
    "        df = pd.DataFrame(excel_data)\n",
    "        for column in df.columns:\n",
    "            if df.loc[1, column] != '(-)':\n",
    "                df.loc[0, column] = df.loc[0, column] + ' ' + df.loc[1, column]\n",
    "        df = pd.DataFrame(df[2:].to_numpy(), columns=df.iloc[0, :].tolist())\n",
    "        df.Year = df.Year.astype(int)\n",
    "        df = df[df.Year >= 2017]\n",
    "        df.to_csv(f'polution_statistics_2017_2021/{sheet_name}_polution_statistics_2017_2021.csv', index=False)\n",
    "    except:\n",
    "        break"
   ]
  },
  {
   "cell_type": "code",
   "execution_count": null,
   "id": "e8ccbed4",
   "metadata": {},
   "outputs": [],
   "source": []
  }
 ],
 "metadata": {
  "kernelspec": {
   "display_name": "Python 3 (ipykernel)",
   "language": "python",
   "name": "python3"
  },
  "language_info": {
   "codemirror_mode": {
    "name": "ipython",
    "version": 3
   },
   "file_extension": ".py",
   "mimetype": "text/x-python",
   "name": "python",
   "nbconvert_exporter": "python",
   "pygments_lexer": "ipython3",
   "version": "3.9.13"
  },
  "toc": {
   "base_numbering": 1,
   "nav_menu": {},
   "number_sections": true,
   "sideBar": true,
   "skip_h1_title": false,
   "title_cell": "Table of Contents",
   "title_sidebar": "Contents",
   "toc_cell": false,
   "toc_position": {},
   "toc_section_display": true,
   "toc_window_display": false
  },
  "varInspector": {
   "cols": {
    "lenName": 16,
    "lenType": 16,
    "lenVar": 40
   },
   "kernels_config": {
    "python": {
     "delete_cmd_postfix": "",
     "delete_cmd_prefix": "del ",
     "library": "var_list.py",
     "varRefreshCmd": "print(var_dic_list())"
    },
    "r": {
     "delete_cmd_postfix": ") ",
     "delete_cmd_prefix": "rm(",
     "library": "var_list.r",
     "varRefreshCmd": "cat(var_dic_list()) "
    }
   },
   "types_to_exclude": [
    "module",
    "function",
    "builtin_function_or_method",
    "instance",
    "_Feature"
   ],
   "window_display": false
  }
 },
 "nbformat": 4,
 "nbformat_minor": 5
}
