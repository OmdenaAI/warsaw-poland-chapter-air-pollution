{
 "cells": [
  {
   "cell_type": "code",
   "execution_count": 1,
   "id": "1c59f51e",
   "metadata": {},
   "outputs": [],
   "source": [
    "# Library to suppress warnings or deprecation notes \n",
    "import warnings\n",
    "warnings.filterwarnings('ignore')\n",
    "\n",
    "import os\n",
    "import math\n",
    "\n",
    "# Libraries to help with reading and manipulating data\n",
    "import numpy as np\n",
    "import pandas as pd\n",
    "import glob\n",
    "from tqdm import tqdm"
   ]
  },
  {
   "cell_type": "markdown",
   "id": "9bd1d6b8",
   "metadata": {},
   "source": [
    "## Assumes that rukshar_weather_data_preprocessing.ipynb has run and created the Combined_<weather element>*.csv files"
   ]
  },
  {
   "cell_type": "code",
   "execution_count": 2,
   "id": "ece7eb54",
   "metadata": {},
   "outputs": [],
   "source": [
    "def create_combined_merged_weather_file(root_directory, output_directory):\n",
    "    '''Create an output combined merged weather across all elements\n",
    "        :root_directory: Root directory containing the combined weather files\n",
    "        :output_directory: Directory to combined output merged files\n",
    "        :min_date: The min date to exclude from the date range after building the combined file default is 12/31/2016\n",
    "    '''\n",
    "\n",
    "    directory_mask = os.path.join(root_directory, 'Combined*.csv')\n",
    "    # Find list of matching filenames in the directory\n",
    "    filenames = glob.glob(directory_mask)\n",
    "\n",
    "    combined_merged_df = pd.read_csv(filenames[0])\n",
    "    filenames.pop(0)\n",
    "\n",
    "    for filename in filenames:\n",
    "        filename_base = os.path.basename(filename)\n",
    "        # Expected format is Combined_<weather_element>_ECS_<weather element name>.csv\n",
    "        keys = filename_base.split('_')\n",
    "        print('Processing {}'.format(filename_base))\n",
    "        df = pd.read_csv(filename, usecols = ['STAID','SOUNAME', 'DATE', keys[1], 'Q_' + keys[1]])\n",
    "        combined_merged_df = combined_merged_df.merge(df, how='inner', on=['STAID','SOUNAME','DATE'])\n",
    "\n",
    "    combined_merged_df.to_csv(os.path.join(output_directory, 'Combined_Merged_Weather_Data.csv'), index=False)"
   ]
  },
  {
   "cell_type": "code",
   "execution_count": 3,
   "id": "06a654d5",
   "metadata": {
    "scrolled": false
   },
   "outputs": [
    {
     "name": "stdout",
     "output_type": "stream",
     "text": [
      "Processing Combined_FG_ECA_wind_speed.csv\n",
      "Processing Combined_HU_ECA_humidity.csv\n",
      "Processing Combined_PP_ECA_sea_level_pressure.csv\n",
      "Processing Combined_QQ_ECA_global_radiation.csv\n",
      "Processing Combined_RR_ECA_precipitation.csv\n",
      "Processing Combined_SD_ECA_snow depth.csv\n",
      "Processing Combined_SS_ECA_sunshine.csv\n",
      "Processing Combined_TG_ECA_mean_temperature.csv\n"
     ]
    }
   ],
   "source": [
    "root_directory = 'C:/Users/thayes/omdena/warsaw-poland-chapter-air-pollution/src/data/data_raw/merged_weather_data_CSV'\n",
    "output_directory = 'c:/temp/processed_weather_data'\n",
    "\n",
    "create_combined_merged_weather_file(root_directory, output_directory)"
   ]
  },
  {
   "cell_type": "code",
   "execution_count": null,
   "id": "e1047a09",
   "metadata": {},
   "outputs": [],
   "source": []
  }
 ],
 "metadata": {
  "kernelspec": {
   "display_name": "Python 3 (ipykernel)",
   "language": "python",
   "name": "python3"
  },
  "language_info": {
   "codemirror_mode": {
    "name": "ipython",
    "version": 3
   },
   "file_extension": ".py",
   "mimetype": "text/x-python",
   "name": "python",
   "nbconvert_exporter": "python",
   "pygments_lexer": "ipython3",
   "version": "3.9.12"
  }
 },
 "nbformat": 4,
 "nbformat_minor": 5
}
