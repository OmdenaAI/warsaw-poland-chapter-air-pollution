{
 "cells": [
  {
   "cell_type": "code",
   "execution_count": 42,
   "id": "344c648d",
   "metadata": {
    "ExecuteTime": {
     "end_time": "2023-02-21T13:23:13.619968Z",
     "start_time": "2023-02-21T13:21:31.706428Z"
    }
   },
   "outputs": [],
   "source": [
    "import os\n",
    "import pandas as pd\n",
    "from Levenshtein import distance as lev\n",
    "\n",
    "path = 'C:/Users/Konstantin/Documents/Omdena project/data/daily_air_quality_data_2017-2021/'\n",
    "\n",
    "def read_xslx_files(file_path, nrows = None, header=0):\n",
    "    excel_data = pd.read_excel(file_path, nrows=nrows, header=header)\n",
    "    df = pd.DataFrame(excel_data)\n",
    "    return df\n",
    "\n",
    "def get_files_names(dir, format='.xlsx'):\n",
    "    file_list = []\n",
    "    for root, dirs, files in os.walk(dir, topdown=False):\n",
    "        for name in files:\n",
    "            if name.endswith(format):\n",
    "                file_name = (os.path.join(root, name))\n",
    "                file_list.append(file_name)\n",
    "    return file_list\n",
    "\n",
    "df_stantion_code = read_xslx_files(path + 'Measuring_stations_codes.xlsx', None, 0)\n",
    "codes = df_stantion_code['Old code'].tolist() + df_stantion_code['New code'].tolist()\n",
    "\n",
    "for dir_name in ['NO2', 'O3', 'PM10', 'PM25']:\n",
    "    file_names_list = get_files_names(path + dir_name)\n",
    "    for file_name in file_names_list:\n",
    "        df = read_xslx_files(file_name, 1)\n",
    "        if df.columns[1] == 1 or df.columns[1] == '1':\n",
    "            df = read_xslx_files(file_name, None, 1)\n",
    "        else:\n",
    "            df = read_xslx_files(file_name, None, 0)\n",
    "        df['flag'] = df.iloc[:, 0].apply(lambda x: 1 if str(x)[:2] == '20' else 0)\n",
    "        df = df[df['flag'] == 1].drop(columns='flag').rename(columns={'Unnamed: 0':'date', 'Code of the station':'date'})\n",
    "        if file_name == file_names_list[0]:\n",
    "            df_res = df\n",
    "        else:\n",
    "            df_res = pd.concat([df_res, df], axis=0, join='outer')\n",
    "        df_res = df_res.reset_index().drop(columns='index')\n",
    "        \n",
    "    check_list = []\n",
    "    for first_name in df_res.columns:\n",
    "        for second_name in df_res.drop(columns=first_name):\n",
    "            diff = lev(first_name, second_name)\n",
    "            if diff <= 2 and (second_name, first_name) not in check_list \\\n",
    "                         and df_res[(df_res[first_name].notna()) & (df_res[second_name].notna())].shape[0] == 0:\n",
    "                check_list.append((first_name, second_name))\n",
    "        \n",
    "    for elem in check_list:\n",
    "        if elem[0] in codes:\n",
    "            n = 0\n",
    "        else:  \n",
    "            n = 1\n",
    "        try:\n",
    "            df_res[elem[n]][df_res[elem[n]].isna()] = df_res[elem[abs(n - 1)]][df_res[elem[n]].isna()]\n",
    "            df_res = df_res.drop(columns=elem[abs(n - 1)])\n",
    "        except:\n",
    "            pass\n",
    "    avg_time = '_1h_avg' if dir_name == 'O3' else '_24h_avg'\n",
    "    df_res.to_csv(f'{path + \"cleaned/\" + dir_name + avg_time + \"_polution_2017-2021\"}.csv', index=False)"
   ]
  },
  {
   "cell_type": "code",
   "execution_count": null,
   "id": "b87ba423",
   "metadata": {},
   "outputs": [],
   "source": []
  }
 ],
 "metadata": {
  "kernelspec": {
   "display_name": "Python 3 (ipykernel)",
   "language": "python",
   "name": "python3"
  },
  "language_info": {
   "codemirror_mode": {
    "name": "ipython",
    "version": 3
   },
   "file_extension": ".py",
   "mimetype": "text/x-python",
   "name": "python",
   "nbconvert_exporter": "python",
   "pygments_lexer": "ipython3",
   "version": "3.9.13"
  },
  "toc": {
   "base_numbering": 1,
   "nav_menu": {},
   "number_sections": true,
   "sideBar": true,
   "skip_h1_title": false,
   "title_cell": "Table of Contents",
   "title_sidebar": "Contents",
   "toc_cell": false,
   "toc_position": {},
   "toc_section_display": true,
   "toc_window_display": false
  },
  "varInspector": {
   "cols": {
    "lenName": 16,
    "lenType": 16,
    "lenVar": 40
   },
   "kernels_config": {
    "python": {
     "delete_cmd_postfix": "",
     "delete_cmd_prefix": "del ",
     "library": "var_list.py",
     "varRefreshCmd": "print(var_dic_list())"
    },
    "r": {
     "delete_cmd_postfix": ") ",
     "delete_cmd_prefix": "rm(",
     "library": "var_list.r",
     "varRefreshCmd": "cat(var_dic_list()) "
    }
   },
   "types_to_exclude": [
    "module",
    "function",
    "builtin_function_or_method",
    "instance",
    "_Feature"
   ],
   "window_display": false
  }
 },
 "nbformat": 4,
 "nbformat_minor": 5
}
