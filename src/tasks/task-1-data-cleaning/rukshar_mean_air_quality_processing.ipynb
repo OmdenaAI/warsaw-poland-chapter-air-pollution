{
 "cells": [
  {
   "attachments": {},
   "cell_type": "markdown",
   "metadata": {},
   "source": [
    "We take the average across all stations for each of the pollutant and create a mean column to save those average values and then merge all these dataframes to construct a single dataframe with daily(from 2017-2021) pollutant data across all stations and their daily 24h-avg values(from all stations)"
   ]
  },
  {
   "cell_type": "code",
   "execution_count": 1,
   "metadata": {},
   "outputs": [],
   "source": [
    "import pandas as pd\n",
    "import numpy as np\n",
    "import os, glob\n",
    "from tqdm import tqdm"
   ]
  },
  {
   "cell_type": "code",
   "execution_count": 3,
   "metadata": {},
   "outputs": [],
   "source": [
    "input_folder = 'merged_air_quality_data_CSV'\n",
    "output_folder = 'mean_merged_air_quality_CSV'\n",
    "files = glob.glob(os.path.join(input_folder, '*.csv'))\n",
    "\n",
    "directory_dict = {'NO2_24h_avg_polution_2017-2021': 'NO2','O3_24h_avg_polution_2017-2021': 'O3','PM10_24h_avg_polution_2017-2021': 'PM10',\n",
    "            'PM25_24h_avg_polution_2017-2021': 'PM25'}"
   ]
  },
  {
   "cell_type": "code",
   "execution_count": 4,
   "metadata": {},
   "outputs": [
    {
     "name": "stdout",
     "output_type": "stream",
     "text": [
      "PM10_24h_avg_polution_2017-2021\n",
      "(1826, 238)\n",
      "NO2_24h_avg_polution_2017-2021\n",
      "(1826, 4)\n",
      "O3_24h_avg_polution_2017-2021\n",
      "(1827, 128)\n",
      "PM25_24h_avg_polution_2017-2021\n",
      "(1826, 83)\n"
     ]
    }
   ],
   "source": [
    "df_list = []\n",
    "for f in files:\n",
    "    #get the file name only: we first split on '/' to get Combined_SD_ECA_snow depth.csv\n",
    "    #and then leave out the last 4 chars (.csv)\n",
    "    fname = f.split('/')[1][:-4] \n",
    "    print(fname)\n",
    "    pollutant = directory_dict[fname]\n",
    "    df = pd.read_csv(f)\n",
    "    df['date'] = pd.to_datetime(df['date'], errors='coerce')\n",
    "    df[\"date\"].dt.strftime(\"%y-%m-%d\") #changing date format to correspond with weather data's DATE column's date format\n",
    "    df.rename(columns={'date': 'DATE',},inplace=True, errors='raise') #changing date column name to DATE to correspond with weather data's DATE column\n",
    "    df.set_index('DATE', inplace=True)\n",
    "\n",
    "    #change the column names to add the pollutant to the source name columns\n",
    "    df.rename(columns = lambda x: x+'_'+pollutant, inplace = True)\n",
    "\n",
    "    #create a mean valued col for each row\n",
    "    mean_df = df.mean(axis=1,skipna=True)\n",
    "    mean_df = pd.DataFrame(mean_df, columns = ['mean_'+pollutant]) \n",
    "\n",
    "    #append the mean column to the pivot table\n",
    "    mean_added_df = pd.concat([df, mean_df], axis=1)\n",
    "    #print(mean_added_df.columns)\n",
    "    df_list.append(mean_added_df)\n",
    "    print(mean_added_df.shape)\n",
    "    #break"
   ]
  },
  {
   "cell_type": "code",
   "execution_count": 5,
   "metadata": {},
   "outputs": [
    {
     "data": {
      "text/plain": [
       "(1827, 453)"
      ]
     },
     "execution_count": 5,
     "metadata": {},
     "output_type": "execute_result"
    }
   ],
   "source": [
    "all_concat_df = pd.concat(df_list, axis=1) #concatenate all the weather component dataframes into a single one\n",
    "all_concat_df.to_csv('./mean_merged_air_quality_CSV/all_mean_air_quality_data_combined.csv')\n",
    "all_concat_df.shape"
   ]
  }
 ],
 "metadata": {
  "kernelspec": {
   "display_name": "selise",
   "language": "python",
   "name": "python3"
  },
  "language_info": {
   "codemirror_mode": {
    "name": "ipython",
    "version": 3
   },
   "file_extension": ".py",
   "mimetype": "text/x-python",
   "name": "python",
   "nbconvert_exporter": "python",
   "pygments_lexer": "ipython3",
   "version": "3.6.13"
  },
  "orig_nbformat": 4,
  "vscode": {
   "interpreter": {
    "hash": "b2d051680ee6008be2c1f3140dd2c03d3d022392b49537e005e9e49425dcd747"
   }
  }
 },
 "nbformat": 4,
 "nbformat_minor": 2
}
