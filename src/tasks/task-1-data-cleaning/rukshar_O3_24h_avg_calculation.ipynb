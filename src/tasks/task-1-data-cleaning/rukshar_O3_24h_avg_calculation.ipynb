{
 "cells": [
  {
   "attachments": {},
   "cell_type": "markdown",
   "metadata": {},
   "source": [
    "Air quality data for O3 is 1h avg but data for PM and NO2 are 24h avg. Hence, we create a 24h avg version data for O3."
   ]
  },
  {
   "cell_type": "code",
   "execution_count": 1,
   "metadata": {},
   "outputs": [],
   "source": [
    "import pandas as pd\n",
    "import numpy as np\n",
    "import os, glob\n",
    "from tqdm import tqdm"
   ]
  },
  {
   "cell_type": "code",
   "execution_count": 22,
   "metadata": {},
   "outputs": [],
   "source": [
    "input_csv = 'O3_1h_avg_polution_2017-2021.csv'\n",
    "output_csv = 'merged_air_quality_data_CSV/O3_24h_avg_polution_2017-2021.csv'\n",
    "df = pd.read_csv(input_csv)\n",
    "df['date'] = pd.to_datetime(df['date'], errors='coerce')\n",
    "#df['date'] =df[\"date\"].dt.strftime(\"%y-%m-%d\") #changing date format to correspond with weather data's DATE column's date format\n",
    "df['date']= pd.to_datetime(df['date']).dt.date #keeping only the date part and discarding the time part to employ groupby function next\n",
    "#taking average across a single date(each date has about 24 rows corresponding to 24hrs of day) by grouping thruogh 'date' column\n",
    "df = df.groupby(['date']).mean() \n",
    "df.to_csv(output_csv)"
   ]
  }
 ],
 "metadata": {
  "kernelspec": {
   "display_name": "selise",
   "language": "python",
   "name": "python3"
  },
  "language_info": {
   "codemirror_mode": {
    "name": "ipython",
    "version": 3
   },
   "file_extension": ".py",
   "mimetype": "text/x-python",
   "name": "python",
   "nbconvert_exporter": "python",
   "pygments_lexer": "ipython3",
   "version": "3.6.13"
  },
  "orig_nbformat": 4,
  "vscode": {
   "interpreter": {
    "hash": "b2d051680ee6008be2c1f3140dd2c03d3d022392b49537e005e9e49425dcd747"
   }
  }
 },
 "nbformat": 4,
 "nbformat_minor": 2
}
