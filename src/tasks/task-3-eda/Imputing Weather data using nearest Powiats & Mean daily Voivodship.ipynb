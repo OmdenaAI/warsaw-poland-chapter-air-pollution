{
 "cells": [
  {
   "cell_type": "markdown",
   "id": "8f2a3475",
   "metadata": {},
   "source": [
    "### Date: 10th March 2023\n",
    "### Joseph Antony"
   ]
  },
  {
   "cell_type": "code",
   "execution_count": 1,
   "id": "8df65c2c",
   "metadata": {},
   "outputs": [],
   "source": [
    "import warnings\n",
    "\n",
    "import pandas as pd\n",
    "import numpy as np\n",
    "import matplotlib.pyplot as plt\n",
    "import seaborn as sns\n",
    "\n",
    "import qgrid\n",
    "from tqdm.auto import tqdm\n",
    "import re\n",
    "\n",
    "sns.set(style=\"ticks\", palette=\"muted\", color_codes=True)\n",
    "\n",
    "warnings.filterwarnings(\"ignore\")\n",
    "\n",
    "plt.rcParams['axes.labelsize'] = 15\n",
    "plt.rcParams['axes.titlesize'] = 20\n",
    "\n",
    "seed = 42"
   ]
  },
  {
   "cell_type": "code",
   "execution_count": 2,
   "id": "9c95fe95",
   "metadata": {},
   "outputs": [],
   "source": [
    "def show_tbl(df):\n",
    "    return qgrid.show_grid(df, show_toolbar=True)"
   ]
  },
  {
   "cell_type": "code",
   "execution_count": 3,
   "id": "01831586",
   "metadata": {},
   "outputs": [],
   "source": [
    "#Imputed AQ\n",
    "df1 = pd.read_csv(\"datasets/AirQuality_Imputed_PowiatLvl.csv\", parse_dates=['DATE'])\n",
    "\n",
    "#Imputed Weather\n",
    "df2 = pd.read_csv(\"datasets/Weather_Imputed_PowiatLvl.csv\", parse_dates=['DATE']).\\\n",
    "        drop(['QQ', 'PP', 'SS'], axis=1)\n",
    "\n",
    "#Powiat Proximity\n",
    "df3 = pd.read_excel(\"datasets/powiat_proximity.xlsx\")"
   ]
  },
  {
   "cell_type": "code",
   "execution_count": 4,
   "id": "443b67ad",
   "metadata": {},
   "outputs": [
    {
     "data": {
      "text/plain": [
       "198"
      ]
     },
     "execution_count": 4,
     "metadata": {},
     "output_type": "execute_result"
    }
   ],
   "source": [
    "#Number of unique powiats in AQ\n",
    "len(df1['powiat_voivod'].unique())"
   ]
  },
  {
   "cell_type": "code",
   "execution_count": 5,
   "id": "6e8c874f",
   "metadata": {},
   "outputs": [
    {
     "data": {
      "text/plain": [
       "86"
      ]
     },
     "execution_count": 5,
     "metadata": {},
     "output_type": "execute_result"
    }
   ],
   "source": [
    "#Number of unique powiats in weather\n",
    "len(df2['powiat_voivod'].unique())"
   ]
  },
  {
   "cell_type": "code",
   "execution_count": 6,
   "id": "ada3a3b8",
   "metadata": {},
   "outputs": [],
   "source": [
    "#136 unique powiats in AQ not present in weather\n",
    "len(\n",
    "    np.setdiff1d(\n",
    "        df1['powiat_voivod'].unique(),\n",
    "        df2['powiat_voivod'].unique()\n",
    "    )\n",
    ")\n",
    "\n",
    "AQ_unique_powiats = np.setdiff1d(df1['powiat_voivod'].unique(), df2['powiat_voivod'].unique())"
   ]
  },
  {
   "cell_type": "code",
   "execution_count": 7,
   "id": "e8097232",
   "metadata": {},
   "outputs": [
    {
     "data": {
      "text/plain": [
       "24"
      ]
     },
     "execution_count": 7,
     "metadata": {},
     "output_type": "execute_result"
    }
   ],
   "source": [
    "#24 unique powiats in weather not present in AQ\n",
    "len(\n",
    "    np.setdiff1d(\n",
    "        df2['powiat_voivod'].unique(),\n",
    "        df1['powiat_voivod'].unique()\n",
    "    )\n",
    ")"
   ]
  },
  {
   "cell_type": "code",
   "execution_count": 8,
   "id": "37b3c8a5",
   "metadata": {},
   "outputs": [
    {
     "data": {
      "text/plain": [
       "powiat_voivod              0.000000\n",
       "DATE                       0.000000\n",
       "LAT                        0.000000\n",
       "LON                        0.000000\n",
       "NO2_24H_AVG_POLLUTION     98.484848\n",
       "O3_24H_AVG_POLLUTION      48.989899\n",
       "PM10_24H_AVG_POLLUTION     9.090909\n",
       "PM25_24H_AVG_POLLUTION    65.656566\n",
       "CC                        76.262626\n",
       "FG                        71.212121\n",
       "HU                        73.737374\n",
       "RR                        71.717172\n",
       "SD                        72.222222\n",
       "TG                        72.222222\n",
       "dtype: float64"
      ]
     },
     "execution_count": 8,
     "metadata": {},
     "output_type": "execute_result"
    }
   ],
   "source": [
    "#Joining datasets using left join (AQ <- weather) to check for nulls\n",
    "df1.merge(\n",
    "    df2.drop(['LAT', 'LON'], axis=1), \n",
    "    how='left', \n",
    "    on=['powiat_voivod', 'DATE']\n",
    ").isnull().sum()/len(df1)*100"
   ]
  },
  {
   "cell_type": "code",
   "execution_count": 9,
   "id": "fad7f7be",
   "metadata": {},
   "outputs": [],
   "source": [
    "#Taking unique AQ powiats\n",
    "AQ = df1[['powiat_voivod']].drop_duplicates()\n",
    "\n",
    "#Taking unique weather powiats\n",
    "weather = df2[['powiat_voivod']].drop_duplicates()"
   ]
  },
  {
   "cell_type": "code",
   "execution_count": 10,
   "id": "a8dd3688",
   "metadata": {},
   "outputs": [],
   "source": [
    "#Merging AQ and weather powiats.\n",
    "merged_powiats = pd.concat([AQ, weather]).drop_duplicates().\\\n",
    "                     sort_values(by=\"powiat_voivod\", ignore_index=True)"
   ]
  },
  {
   "cell_type": "code",
   "execution_count": 11,
   "id": "16b0f959",
   "metadata": {},
   "outputs": [],
   "source": [
    "#transforming powist-proximity columns to lower string format.\n",
    "all_powiats_voivodship = [col.lower() for col in df3.columns]\n",
    "df3.columns = all_powiats_voivodship"
   ]
  },
  {
   "cell_type": "code",
   "execution_count": 12,
   "id": "f82bb649",
   "metadata": {},
   "outputs": [
    {
     "data": {
      "text/plain": [
       "0"
      ]
     },
     "execution_count": 12,
     "metadata": {},
     "output_type": "execute_result"
    }
   ],
   "source": [
    "#All merged powiats are present in powist-proximity dataset\n",
    "len(np.setdiff1d(merged_powiats['powiat_voivod'].unique(), all_powiats_voivodship))"
   ]
  },
  {
   "cell_type": "code",
   "execution_count": 13,
   "id": "18447cc2",
   "metadata": {},
   "outputs": [],
   "source": [
    "#Extracting voivodship from the powiat_voivod column\n",
    "merged_powiats['voivodship'] = merged_powiats['powiat_voivod'].str.split(\", \").str[1]"
   ]
  },
  {
   "cell_type": "code",
   "execution_count": 14,
   "id": "08995ece",
   "metadata": {},
   "outputs": [],
   "source": [
    "#Function to extract nearest powiat and its distance\n",
    "def regex_extract(col, df3, ix):\n",
    "    \n",
    "    string = df3[col][ix].rsplit(\",\", 1)[0]\n",
    "    dist = df3[col][ix].rsplit(\",\", 1)[1]\n",
    "    \n",
    "    return re.search(\"'(.+)'\", string).group(1), round(float(re.search(\"(\\d+\\.\\d+)\", dist).group(1)), 6)"
   ]
  },
  {
   "cell_type": "code",
   "execution_count": 15,
   "id": "6b8becc0",
   "metadata": {},
   "outputs": [
    {
     "name": "stdout",
     "output_type": "stream",
     "text": [
      "Max Distance from a powiat: 114.437385\n"
     ]
    }
   ],
   "source": [
    "#Will create cols for the 12 most nearest cols for a powiat and its corresponsing distance\n",
    "LIMIT = 12\n",
    "\n",
    "for i in range(0, LIMIT):\n",
    "    merged_powiats[f\"near_{i+1}_pw\"], merged_powiats[f\"near_{i+1}_dist\"]= \\\n",
    "    zip(*merged_powiats['powiat_voivod'].apply(lambda x: regex_extract(col=x, df3=df3, ix=i)))\n",
    "    \n",
    "print(f'Max Distance from a powiat: {merged_powiats[f\"near_{LIMIT}_dist\"].max()}')"
   ]
  },
  {
   "cell_type": "code",
   "execution_count": 16,
   "id": "14db0670",
   "metadata": {},
   "outputs": [
    {
     "data": {
      "text/html": [
       "<div>\n",
       "<style scoped>\n",
       "    .dataframe tbody tr th:only-of-type {\n",
       "        vertical-align: middle;\n",
       "    }\n",
       "\n",
       "    .dataframe tbody tr th {\n",
       "        vertical-align: top;\n",
       "    }\n",
       "\n",
       "    .dataframe thead th {\n",
       "        text-align: right;\n",
       "    }\n",
       "</style>\n",
       "<table border=\"1\" class=\"dataframe\">\n",
       "  <thead>\n",
       "    <tr style=\"text-align: right;\">\n",
       "      <th></th>\n",
       "      <th>powiat_voivod</th>\n",
       "      <th>voivodship</th>\n",
       "      <th>near_1_pw</th>\n",
       "      <th>near_1_dist</th>\n",
       "      <th>near_2_pw</th>\n",
       "      <th>near_2_dist</th>\n",
       "      <th>near_3_pw</th>\n",
       "      <th>near_3_dist</th>\n",
       "      <th>near_4_pw</th>\n",
       "      <th>near_4_dist</th>\n",
       "      <th>...</th>\n",
       "      <th>near_8_pw</th>\n",
       "      <th>near_8_dist</th>\n",
       "      <th>near_9_pw</th>\n",
       "      <th>near_9_dist</th>\n",
       "      <th>near_10_pw</th>\n",
       "      <th>near_10_dist</th>\n",
       "      <th>near_11_pw</th>\n",
       "      <th>near_11_dist</th>\n",
       "      <th>near_12_pw</th>\n",
       "      <th>near_12_dist</th>\n",
       "    </tr>\n",
       "  </thead>\n",
       "  <tbody>\n",
       "    <tr>\n",
       "      <th>0</th>\n",
       "      <td>powiat aleksandrowski, kujawsko-pomorskie</td>\n",
       "      <td>kujawsko-pomorskie</td>\n",
       "      <td>powiat włocławski, kujawsko-pomorskie</td>\n",
       "      <td>22.403258</td>\n",
       "      <td>powiat radziejowski, kujawsko-pomorskie</td>\n",
       "      <td>25.114076</td>\n",
       "      <td>powiat Toruń, kujawsko-pomorskie</td>\n",
       "      <td>25.941470</td>\n",
       "      <td>powiat Włocławek, kujawsko-pomorskie</td>\n",
       "      <td>26.666417</td>\n",
       "      <td>...</td>\n",
       "      <td>powiat golubsko-dobrzyński, kujawsko-pomorskie</td>\n",
       "      <td>39.347636</td>\n",
       "      <td>powiat mogileński, kujawsko-pomorskie</td>\n",
       "      <td>47.907526</td>\n",
       "      <td>powiat rypiński, kujawsko-pomorskie</td>\n",
       "      <td>53.602727</td>\n",
       "      <td>powiat wąbrzeski, kujawsko-pomorskie</td>\n",
       "      <td>55.168741</td>\n",
       "      <td>powiat chełmiński, kujawsko-pomorskie</td>\n",
       "      <td>57.760728</td>\n",
       "    </tr>\n",
       "    <tr>\n",
       "      <th>1</th>\n",
       "      <td>powiat augustowski, podlaskie</td>\n",
       "      <td>podlaskie</td>\n",
       "      <td>powiat sejneński, podlaskie</td>\n",
       "      <td>32.932461</td>\n",
       "      <td>powiat Suwałki, podlaskie</td>\n",
       "      <td>33.825429</td>\n",
       "      <td>powiat suwalski, podlaskie</td>\n",
       "      <td>42.881834</td>\n",
       "      <td>powiat sokólski, podlaskie</td>\n",
       "      <td>44.408508</td>\n",
       "      <td>...</td>\n",
       "      <td>powiat olecki, warmińsko-mazurskie</td>\n",
       "      <td>52.663503</td>\n",
       "      <td>powiat gołdapski, warmińsko-mazurskie</td>\n",
       "      <td>72.452479</td>\n",
       "      <td>powiat Białystok, podlaskie</td>\n",
       "      <td>75.898751</td>\n",
       "      <td>powiat białostocki, podlaskie</td>\n",
       "      <td>79.822553</td>\n",
       "      <td>powiat piski, warmińsko-mazurskie</td>\n",
       "      <td>85.054714</td>\n",
       "    </tr>\n",
       "    <tr>\n",
       "      <th>2</th>\n",
       "      <td>powiat bełchatowski, łódzkie</td>\n",
       "      <td>łódzkie</td>\n",
       "      <td>powiat łaski, łódzkie</td>\n",
       "      <td>23.378260</td>\n",
       "      <td>powiat pajęczański, łódzkie</td>\n",
       "      <td>27.488455</td>\n",
       "      <td>powiat Piotrków Trybunalski, łódzkie</td>\n",
       "      <td>32.380940</td>\n",
       "      <td>powiat piotrkowski, łódzkie</td>\n",
       "      <td>33.582917</td>\n",
       "      <td>...</td>\n",
       "      <td>powiat łódzki wschodni, łódzkie</td>\n",
       "      <td>45.445601</td>\n",
       "      <td>powiat wieluński, łódzkie</td>\n",
       "      <td>45.651965</td>\n",
       "      <td>powiat Łódź, łódzkie</td>\n",
       "      <td>47.975160</td>\n",
       "      <td>powiat sieradzki, łódzkie</td>\n",
       "      <td>51.345898</td>\n",
       "      <td>powiat kłobucki, śląskie</td>\n",
       "      <td>54.309572</td>\n",
       "    </tr>\n",
       "  </tbody>\n",
       "</table>\n",
       "<p>3 rows × 26 columns</p>\n",
       "</div>"
      ],
      "text/plain": [
       "                               powiat_voivod          voivodship  \\\n",
       "0  powiat aleksandrowski, kujawsko-pomorskie  kujawsko-pomorskie   \n",
       "1              powiat augustowski, podlaskie           podlaskie   \n",
       "2               powiat bełchatowski, łódzkie             łódzkie   \n",
       "\n",
       "                               near_1_pw  near_1_dist  \\\n",
       "0  powiat włocławski, kujawsko-pomorskie    22.403258   \n",
       "1            powiat sejneński, podlaskie    32.932461   \n",
       "2                  powiat łaski, łódzkie    23.378260   \n",
       "\n",
       "                                 near_2_pw  near_2_dist  \\\n",
       "0  powiat radziejowski, kujawsko-pomorskie    25.114076   \n",
       "1                powiat Suwałki, podlaskie    33.825429   \n",
       "2              powiat pajęczański, łódzkie    27.488455   \n",
       "\n",
       "                              near_3_pw  near_3_dist  \\\n",
       "0      powiat Toruń, kujawsko-pomorskie    25.941470   \n",
       "1            powiat suwalski, podlaskie    42.881834   \n",
       "2  powiat Piotrków Trybunalski, łódzkie    32.380940   \n",
       "\n",
       "                              near_4_pw  near_4_dist  ...  \\\n",
       "0  powiat Włocławek, kujawsko-pomorskie    26.666417  ...   \n",
       "1            powiat sokólski, podlaskie    44.408508  ...   \n",
       "2           powiat piotrkowski, łódzkie    33.582917  ...   \n",
       "\n",
       "                                        near_8_pw  near_8_dist  \\\n",
       "0  powiat golubsko-dobrzyński, kujawsko-pomorskie    39.347636   \n",
       "1              powiat olecki, warmińsko-mazurskie    52.663503   \n",
       "2                 powiat łódzki wschodni, łódzkie    45.445601   \n",
       "\n",
       "                               near_9_pw  near_9_dist  \\\n",
       "0  powiat mogileński, kujawsko-pomorskie    47.907526   \n",
       "1  powiat gołdapski, warmińsko-mazurskie    72.452479   \n",
       "2              powiat wieluński, łódzkie    45.651965   \n",
       "\n",
       "                            near_10_pw  near_10_dist  \\\n",
       "0  powiat rypiński, kujawsko-pomorskie     53.602727   \n",
       "1          powiat Białystok, podlaskie     75.898751   \n",
       "2                 powiat Łódź, łódzkie     47.975160   \n",
       "\n",
       "                             near_11_pw  near_11_dist  \\\n",
       "0  powiat wąbrzeski, kujawsko-pomorskie     55.168741   \n",
       "1         powiat białostocki, podlaskie     79.822553   \n",
       "2             powiat sieradzki, łódzkie     51.345898   \n",
       "\n",
       "                              near_12_pw  near_12_dist  \n",
       "0  powiat chełmiński, kujawsko-pomorskie     57.760728  \n",
       "1      powiat piski, warmińsko-mazurskie     85.054714  \n",
       "2               powiat kłobucki, śląskie     54.309572  \n",
       "\n",
       "[3 rows x 26 columns]"
      ]
     },
     "execution_count": 16,
     "metadata": {},
     "output_type": "execute_result"
    }
   ],
   "source": [
    "merged_powiats.head(3)"
   ]
  },
  {
   "cell_type": "code",
   "execution_count": 17,
   "id": "0a516c42",
   "metadata": {
    "scrolled": true
   },
   "outputs": [
    {
     "data": {
      "image/png": "[encoded data removed]",
      "text/plain": [
       "<Figure size 600x300 with 1 Axes>"
      ]
     },
     "metadata": {},
     "output_type": "display_data"
    }
   ],
   "source": [
    "#Histogram of the 12th most nearest to a powiat\n",
    "merged_powiats[f'near_{LIMIT}_dist'].hist(figsize=(6, 3));"
   ]
  },
  {
   "cell_type": "code",
   "execution_count": 18,
   "id": "80590b02",
   "metadata": {},
   "outputs": [],
   "source": [
    "weather_cols = ['CC', 'FG', 'HU', 'RR', 'SD', 'TG']"
   ]
  },
  {
   "cell_type": "code",
   "execution_count": 19,
   "id": "40569686",
   "metadata": {},
   "outputs": [],
   "source": [
    "#Creating a weather dataframw that contains all powiats in df2 (original imputed weather data) and\n",
    "#those 136 powiats in AQ that are not in df2.\n",
    "\n",
    "weather_impute=\\\n",
    "pd.concat([\n",
    "    df2.loc[:, : \"TG\"],\n",
    "    df1.loc[df1['powiat_voivod'].isin(AQ_unique_powiats), ['powiat_voivod', 'DATE']]\n",
    "],ignore_index=True)"
   ]
  },
  {
   "cell_type": "code",
   "execution_count": 20,
   "id": "7b715a63",
   "metadata": {},
   "outputs": [
    {
     "data": {
      "text/plain": [
       "222"
      ]
     },
     "execution_count": 20,
     "metadata": {},
     "output_type": "execute_result"
    }
   ],
   "source": [
    "#Total 222 powiats\n",
    "len(weather_impute['powiat_voivod'].unique())"
   ]
  },
  {
   "cell_type": "code",
   "execution_count": 21,
   "id": "0b210360",
   "metadata": {},
   "outputs": [],
   "source": [
    "#Extracting voivodship\n",
    "weather_impute['voivodship'] = weather_impute['powiat_voivod'].str.split(\", \").str[1]"
   ]
  },
  {
   "cell_type": "code",
   "execution_count": 22,
   "id": "ebe1b413",
   "metadata": {},
   "outputs": [],
   "source": [
    "#Creating a dictionary that consists of powiats and their corresponding null weather variables\n",
    "\n",
    "#First grouping by and getting a list of powiats and their corresponding null status(True or False) for \n",
    "#each weather\n",
    "null_dict = \\\n",
    "weather_impute.groupby(\"powiat_voivod\")[weather_cols].apply(lambda x: x.isnull().all()).to_dict()\n",
    "\n",
    "# Filtering only those powiats with True status for nulls\n",
    "for col in null_dict:\n",
    "    null_dict[col] = {k : v for k, v in null_dict[col].items() if v==True}"
   ]
  },
  {
   "cell_type": "code",
   "execution_count": 23,
   "id": "4f3fa28b",
   "metadata": {},
   "outputs": [
    {
     "data": {
      "text/plain": [
       "powiat_voivod     0.000000\n",
       "DATE              0.000000\n",
       "CC               70.270270\n",
       "FG               64.864865\n",
       "HU               68.018018\n",
       "RR               63.963964\n",
       "SD               65.765766\n",
       "TG               64.414414\n",
       "voivodship        0.000000\n",
       "dtype: float64"
      ]
     },
     "execution_count": 23,
     "metadata": {},
     "output_type": "execute_result"
    }
   ],
   "source": [
    "#Null proportion status of weather data\n",
    "weather_impute.isnull().sum()/len(weather_impute)*100"
   ]
  },
  {
   "cell_type": "code",
   "execution_count": 24,
   "id": "ed48f41e",
   "metadata": {},
   "outputs": [
    {
     "data": {
      "application/vnd.jupyter.widget-view+json": {
       "model_id": "cc5ce51d74c0466383a916732bcb940a",
       "version_major": 2,
       "version_minor": 0
      },
      "text/plain": [
       "  0%|          | 0/6 [00:00<?, ?it/s]"
      ]
     },
     "metadata": {},
     "output_type": "display_data"
    },
    {
     "name": "stdout",
     "output_type": "stream",
     "text": [
      "\n",
      "Imputing CC\n"
     ]
    },
    {
     "data": {
      "application/vnd.jupyter.widget-view+json": {
       "model_id": "daf5186cb117466db3a2702c209155bb",
       "version_major": 2,
       "version_minor": 0
      },
      "text/plain": [
       "  0%|          | 0/156 [00:00<?, ?it/s]"
      ]
     },
     "metadata": {},
     "output_type": "display_data"
    },
    {
     "name": "stdout",
     "output_type": "stream",
     "text": [
      "No CC data for: powiat bolesławiecki, dolnośląskie\n",
      "No CC data for: powiat brodnicki, kujawsko-pomorskie\n",
      "No CC data for: powiat brzeziński, łódzkie\n",
      "No CC data for: powiat gliwice, śląskie\n",
      "No CC data for: powiat gliwicki, śląskie\n",
      "No CC data for: powiat gryfiński, zachodniopomorskie\n",
      "No CC data for: powiat głogowski, dolnośląskie\n",
      "No CC data for: powiat krośnieński, lubuskie\n",
      "No CC data for: powiat milicki, dolnośląskie\n",
      "No CC data for: powiat myśliborski, zachodniopomorskie\n",
      "No CC data for: powiat nowosolski, lubuskie\n",
      "No CC data for: powiat polkowicki, dolnośląskie\n",
      "\n",
      "Imputing FG\n"
     ]
    },
    {
     "data": {
      "application/vnd.jupyter.widget-view+json": {
       "model_id": "c2a4f212fa4d41e69c3b8eb5289712b0",
       "version_major": 2,
       "version_minor": 0
      },
      "text/plain": [
       "  0%|          | 0/144 [00:00<?, ?it/s]"
      ]
     },
     "metadata": {},
     "output_type": "display_data"
    },
    {
     "name": "stdout",
     "output_type": "stream",
     "text": [
      "No FG data for: powiat aleksandrowski, kujawsko-pomorskie\n",
      "No FG data for: powiat bolesławiecki, dolnośląskie\n",
      "No FG data for: powiat brodnicki, kujawsko-pomorskie\n",
      "No FG data for: powiat brzeziński, łódzkie\n",
      "No FG data for: powiat bydgoszcz, kujawsko-pomorskie\n",
      "No FG data for: powiat chełmiński, kujawsko-pomorskie\n",
      "No FG data for: powiat cieszyński, śląskie\n",
      "No FG data for: powiat gliwice, śląskie\n",
      "No FG data for: powiat gliwicki, śląskie\n",
      "No FG data for: powiat gnieźnieński, wielkopolskie\n",
      "No FG data for: powiat grudziądz, kujawsko-pomorskie\n",
      "No FG data for: powiat głogowski, dolnośląskie\n",
      "No FG data for: powiat inowrocławski, kujawsko-pomorskie\n",
      "No FG data for: powiat milicki, dolnośląskie\n",
      "No FG data for: powiat mogileński, kujawsko-pomorskie\n",
      "No FG data for: powiat nowosolski, lubuskie\n",
      "No FG data for: powiat polkowicki, dolnośląskie\n",
      "No FG data for: powiat toruński, kujawsko-pomorskie\n",
      "No FG data for: powiat wysokomazowiecki, podlaskie\n",
      "\n",
      "Imputing HU\n"
     ]
    },
    {
     "data": {
      "application/vnd.jupyter.widget-view+json": {
       "model_id": "56d4a03f67d24d7eb3534faadb5c4db8",
       "version_major": 2,
       "version_minor": 0
      },
      "text/plain": [
       "  0%|          | 0/151 [00:00<?, ?it/s]"
      ]
     },
     "metadata": {},
     "output_type": "display_data"
    },
    {
     "name": "stdout",
     "output_type": "stream",
     "text": [
      "No HU data for: powiat aleksandrowski, kujawsko-pomorskie\n",
      "No HU data for: powiat bolesławiecki, dolnośląskie\n",
      "No HU data for: powiat brodnicki, kujawsko-pomorskie\n",
      "No HU data for: powiat brzeziński, łódzkie\n",
      "No HU data for: powiat bydgoszcz, kujawsko-pomorskie\n",
      "No HU data for: powiat chełmiński, kujawsko-pomorskie\n",
      "No HU data for: powiat cieszyński, śląskie\n",
      "No HU data for: powiat gliwice, śląskie\n",
      "No HU data for: powiat gliwicki, śląskie\n",
      "No HU data for: powiat gnieźnieński, wielkopolskie\n",
      "No HU data for: powiat grudziądz, kujawsko-pomorskie\n",
      "No HU data for: powiat głogowski, dolnośląskie\n",
      "No HU data for: powiat inowrocławski, kujawsko-pomorskie\n",
      "No HU data for: powiat milicki, dolnośląskie\n",
      "No HU data for: powiat mogileński, kujawsko-pomorskie\n",
      "No HU data for: powiat nowosolski, lubuskie\n",
      "No HU data for: powiat polkowicki, dolnośląskie\n",
      "No HU data for: powiat toruński, kujawsko-pomorskie\n",
      "No HU data for: powiat wysokomazowiecki, podlaskie\n",
      "\n",
      "Imputing RR\n"
     ]
    },
    {
     "data": {
      "application/vnd.jupyter.widget-view+json": {
       "model_id": "6f3b82b1a89e4b64bff1356b93f274a6",
       "version_major": 2,
       "version_minor": 0
      },
      "text/plain": [
       "  0%|          | 0/142 [00:00<?, ?it/s]"
      ]
     },
     "metadata": {},
     "output_type": "display_data"
    },
    {
     "name": "stdout",
     "output_type": "stream",
     "text": [
      "No RR data for: powiat bolesławiecki, dolnośląskie\n",
      "No RR data for: powiat brodnicki, kujawsko-pomorskie\n",
      "No RR data for: powiat gliwice, śląskie\n",
      "No RR data for: powiat gliwicki, śląskie\n",
      "No RR data for: powiat głogowski, dolnośląskie\n",
      "No RR data for: powiat kalisz, wielkopolskie\n",
      "No RR data for: powiat milicki, dolnośląskie\n",
      "No RR data for: powiat nowosolski, lubuskie\n",
      "No RR data for: powiat polkowicki, dolnośląskie\n",
      "\n",
      "Imputing SD\n"
     ]
    },
    {
     "data": {
      "application/vnd.jupyter.widget-view+json": {
       "model_id": "f34b50d123194d89b6b5e85c48328e8f",
       "version_major": 2,
       "version_minor": 0
      },
      "text/plain": [
       "  0%|          | 0/146 [00:00<?, ?it/s]"
      ]
     },
     "metadata": {},
     "output_type": "display_data"
    },
    {
     "name": "stdout",
     "output_type": "stream",
     "text": [
      "No SD data for: powiat bolesławiecki, dolnośląskie\n",
      "No SD data for: powiat brodnicki, kujawsko-pomorskie\n",
      "No SD data for: powiat gliwice, śląskie\n",
      "No SD data for: powiat gliwicki, śląskie\n",
      "No SD data for: powiat głogowski, dolnośląskie\n",
      "No SD data for: powiat milicki, dolnośląskie\n",
      "No SD data for: powiat nowosolski, lubuskie\n",
      "No SD data for: powiat polkowicki, dolnośląskie\n",
      "\n",
      "Imputing TG\n"
     ]
    },
    {
     "data": {
      "application/vnd.jupyter.widget-view+json": {
       "model_id": "e703bbdf1857497db03e795f5f9b4a66",
       "version_major": 2,
       "version_minor": 0
      },
      "text/plain": [
       "  0%|          | 0/143 [00:00<?, ?it/s]"
      ]
     },
     "metadata": {},
     "output_type": "display_data"
    },
    {
     "name": "stdout",
     "output_type": "stream",
     "text": [
      "No TG data for: powiat bolesławiecki, dolnośląskie\n",
      "No TG data for: powiat brodnicki, kujawsko-pomorskie\n",
      "No TG data for: powiat gliwice, śląskie\n",
      "No TG data for: powiat gliwicki, śląskie\n",
      "No TG data for: powiat głogowski, dolnośląskie\n",
      "No TG data for: powiat milicki, dolnośląskie\n",
      "No TG data for: powiat nowosolski, lubuskie\n",
      "No TG data for: powiat polkowicki, dolnośląskie\n",
      "Wall time: 2min 54s\n"
     ]
    }
   ],
   "source": [
    "%%time\n",
    "\n",
    "#First iterating over weather\n",
    "#The iterating over those powiats that has null values for that particular weather\n",
    "\n",
    "for weather in tqdm(weather_cols):\n",
    "    \n",
    "    print()\n",
    "    print(f\"Imputing {weather}\")\n",
    "    \n",
    "    for k in tqdm(null_dict[weather].keys()):\n",
    "        \n",
    "        #Using a while loop to go thorugh each nth nearest station starting from 1.\n",
    "        #For eg, if Powiat A has no data for weather 'CC'. I look for the corresponding nearest 1st powiat, \n",
    "        #and check whether the nearest 1st powiat has data for 'CC'.\n",
    "        #If yes, then I will impute the null values of Powiat A with nearest 1st powiat data.\n",
    "        #If no, then I move to nearest 2nd powiat, and so on.\n",
    "        #The counter keeps a count of the loop\n",
    "        \n",
    "        #If the counter is equal to the LIMIT (12), that means we have looked through the last nearest\n",
    "        #powiat, and still there is no weather data. In this case, we just move on to the next powiat.\n",
    "        \n",
    "        #Those that reaches the LIMIT will be taken care of in the next section.\n",
    "        \n",
    "        cntr=1\n",
    "        while cntr<=LIMIT:\n",
    "\n",
    "            near_pw = merged_powiats.query(f\"powiat_voivod=='{k}'\")[f'near_{cntr}_pw'].values[0]\n",
    "\n",
    "            if weather_impute.loc[weather_impute['powiat_voivod'].eq(near_pw), weather].isnull().all():\n",
    "                \n",
    "                if cntr==LIMIT:\n",
    "                    print(f\"No {weather} data for: {k}\")\n",
    "                       \n",
    "                cntr += 1\n",
    "                \n",
    "            else:\n",
    "                #Imputing\n",
    "                weather_impute.loc[weather_impute['powiat_voivod'].eq(k), weather] = \\\n",
    "                weather_impute.loc[weather_impute['powiat_voivod'].eq(near_pw), weather].values\n",
    "                \n",
    "                #Noting the distance between the nth nearest powiat and the powiat being imputed\n",
    "                weather_impute.loc[weather_impute['powiat_voivod'].eq(k), 'nearest_powiat_dist'] = \\\n",
    "                merged_powiats.query(f\"powiat_voivod=='{k}'\")[f'near_{cntr}_dist'].values[0]\n",
    "                \n",
    "                #Also indicating those powiats and its mode of imputing.\n",
    "                weather_impute.loc[weather_impute['powiat_voivod'].eq(k), 'impute_type'] = \\\n",
    "                f\"Nearest {cntr} Powiat\"\n",
    "                \n",
    "                break        "
   ]
  },
  {
   "cell_type": "code",
   "execution_count": 25,
   "id": "bdcc46fe",
   "metadata": {},
   "outputs": [
    {
     "data": {
      "text/plain": [
       "powiat_voivod           0.000000\n",
       "DATE                    0.000000\n",
       "CC                      5.405405\n",
       "FG                      8.558559\n",
       "HU                      8.558559\n",
       "RR                      4.054054\n",
       "SD                      3.603604\n",
       "TG                      3.603604\n",
       "voivodship              0.000000\n",
       "nearest_powiat_dist    27.477477\n",
       "impute_type            27.477477\n",
       "dtype: float64"
      ]
     },
     "execution_count": 25,
     "metadata": {},
     "output_type": "execute_result"
    }
   ],
   "source": [
    "#Null proportion after first stage of imputation\n",
    "weather_impute.isnull().sum()/len(weather_impute)*100"
   ]
  },
  {
   "cell_type": "code",
   "execution_count": 26,
   "id": "48ae82c3",
   "metadata": {},
   "outputs": [
    {
     "data": {
      "application/vnd.jupyter.widget-view+json": {
       "model_id": "69060c8a6c11400e92335d92c3da1402",
       "version_major": 2,
       "version_minor": 0
      },
      "text/plain": [
       "  0%|          | 0/6 [00:00<?, ?it/s]"
      ]
     },
     "metadata": {},
     "output_type": "display_data"
    },
    {
     "name": "stdout",
     "output_type": "stream",
     "text": [
      "Wall time: 7.76 s\n"
     ]
    }
   ],
   "source": [
    "%%time\n",
    "#Impute the remaining null weather powiats using daily mean of voivodship\n",
    "\n",
    "#First iterate over weather.\n",
    "#For each weather, get a list of those powiats that are still after first \n",
    "#imputation stage (imputing by nearest powiats)\n",
    "\n",
    "for weather in tqdm(weather_cols):\n",
    "    null_powiats = weather_impute.loc[weather_impute[weather].isnull(), 'powiat_voivod'].unique()\n",
    "    \n",
    "    #Then we iterate over these lists of powiats, get their corresponding voivodships\n",
    "    #then, we filter by that voivodship, aggregate by date and get mean daily data for that weather\n",
    "    #Finally, impute that powiat by the mean daily voivodship weather data\n",
    "    \n",
    "    for p in null_powiats:\n",
    "\n",
    "        voivod = p.split(\", \")[-1]\n",
    "        \n",
    "        weather_impute.loc[weather_impute['powiat_voivod'].eq(p), weather] = \\\n",
    "        weather_impute.loc[weather_impute['voivodship'].eq(voivod)].groupby('DATE')[weather].mean().values\n",
    "        \n",
    "        #Assinging the distance as -99 to easily recognize this is imputed by voivodship\n",
    "        weather_impute.loc[weather_impute['powiat_voivod'].eq(p), 'nearest_powiat_dist'] = -99\n",
    "        \n",
    "        #Also indicating those powiats and its mode of imputing.\n",
    "        weather_impute.loc[weather_impute['powiat_voivod'].eq(p), 'impute_type'] = \"Mean Voivodship Weather\""
   ]
  },
  {
   "cell_type": "code",
   "execution_count": 27,
   "id": "8064fa6e",
   "metadata": {},
   "outputs": [
    {
     "data": {
      "text/plain": [
       "powiat_voivod           0.000000\n",
       "DATE                    0.000000\n",
       "CC                      0.000000\n",
       "FG                      0.000000\n",
       "HU                      0.000000\n",
       "RR                      0.000000\n",
       "SD                      0.000000\n",
       "TG                      0.000000\n",
       "voivodship              0.000000\n",
       "nearest_powiat_dist    22.522523\n",
       "impute_type            22.522523\n",
       "dtype: float64"
      ]
     },
     "execution_count": 27,
     "metadata": {},
     "output_type": "execute_result"
    }
   ],
   "source": [
    "#All weather data has zero null values\n",
    "weather_impute.isnull().sum()/len(weather_impute)*100"
   ]
  },
  {
   "cell_type": "code",
   "execution_count": 28,
   "id": "370be7c0",
   "metadata": {},
   "outputs": [
    {
     "data": {
      "image/png": "[encoded data removed]",
      "text/plain": [
       "<Figure size 800x300 with 1 Axes>"
      ]
     },
     "metadata": {},
     "output_type": "display_data"
    }
   ],
   "source": [
    "weather_impute['nearest_powiat_dist'].hist(figsize=(8, 3), bins=20);"
   ]
  },
  {
   "cell_type": "code",
   "execution_count": 29,
   "id": "8b1e2f05",
   "metadata": {},
   "outputs": [
    {
     "data": {
      "text/plain": [
       "Nearest 1 Powiat           23.255814\n",
       "Nearest 2 Powiat           15.697674\n",
       "Mean Voivodship Weather    13.372093\n",
       "Nearest 3 Powiat           12.790698\n",
       "Nearest 4 Powiat           10.465116\n",
       "Nearest 5 Powiat            6.395349\n",
       "Nearest 6 Powiat            5.232558\n",
       "Nearest 7 Powiat            5.232558\n",
       "Nearest 10 Powiat           2.325581\n",
       "Nearest 8 Powiat            2.325581\n",
       "Nearest 9 Powiat            1.744186\n",
       "Nearest 11 Powiat           0.581395\n",
       "Nearest 12 Powiat           0.581395\n",
       "Name: impute_type, dtype: float64"
      ]
     },
     "execution_count": 29,
     "metadata": {},
     "output_type": "execute_result"
    }
   ],
   "source": [
    "#Proportion of impute types\n",
    "weather_impute['impute_type'].value_counts(normalize=True)*100"
   ]
  },
  {
   "cell_type": "code",
   "execution_count": 30,
   "id": "e7cdd3e8",
   "metadata": {
    "scrolled": true
   },
   "outputs": [
    {
     "data": {
      "text/plain": [
       "69.875214"
      ]
     },
     "execution_count": 30,
     "metadata": {},
     "output_type": "execute_result"
    }
   ],
   "source": [
    "weather_impute['nearest_powiat_dist'].max()"
   ]
  },
  {
   "cell_type": "code",
   "execution_count": 31,
   "id": "2c77d6dc",
   "metadata": {},
   "outputs": [
    {
     "data": {
      "text/plain": [
       "-99.0"
      ]
     },
     "execution_count": 31,
     "metadata": {},
     "output_type": "execute_result"
    }
   ],
   "source": [
    "weather_impute['nearest_powiat_dist'].min()"
   ]
  },
  {
   "cell_type": "code",
   "execution_count": 32,
   "id": "d3cfdb3b",
   "metadata": {},
   "outputs": [
    {
     "name": "stdout",
     "output_type": "stream",
     "text": [
      "Total Number of Powiats: 198\n",
      "\n",
      "Proportion of missing values in % using left join\n"
     ]
    },
    {
     "data": {
      "text/plain": [
       "powiat_voivod              0.000000\n",
       "DATE                       0.000000\n",
       "LAT                        0.000000\n",
       "LON                        0.000000\n",
       "NO2_24H_AVG_POLLUTION     98.484848\n",
       "O3_24H_AVG_POLLUTION      48.989899\n",
       "PM10_24H_AVG_POLLUTION     9.090909\n",
       "PM25_24H_AVG_POLLUTION    65.656566\n",
       "CC                         0.000000\n",
       "FG                         0.000000\n",
       "HU                         0.000000\n",
       "RR                         0.000000\n",
       "SD                         0.000000\n",
       "TG                         0.000000\n",
       "dtype: float64"
      ]
     },
     "execution_count": 32,
     "metadata": {},
     "output_type": "execute_result"
    }
   ],
   "source": [
    "#Joining datasets using left join (AQ <- weather)\n",
    "\n",
    "how = 'left'\n",
    "\n",
    "merged_df = \\\n",
    "df1.merge(weather_impute.drop(['nearest_powiat_dist', 'voivodship', 'impute_type'], axis=1), \n",
    "          how=how, \n",
    "          on=['powiat_voivod', 'DATE'])\n",
    "\n",
    "\n",
    "print(f\"Total Number of Powiats: {len(merged_df['powiat_voivod'].unique())}\")\n",
    "\n",
    "print()\n",
    "print(f\"Proportion of missing values in % using {how} join\")\n",
    "merged_df.isnull().sum()/len(merged_df)*100"
   ]
  },
  {
   "cell_type": "code",
   "execution_count": 33,
   "id": "dc449706",
   "metadata": {},
   "outputs": [],
   "source": [
    "#Extracting voivodship\n",
    "merged_df['voivodship'] = merged_df['powiat_voivod'].str.split(\", \").str[1]"
   ]
  },
  {
   "cell_type": "code",
   "execution_count": 34,
   "id": "2e7cf566",
   "metadata": {
    "scrolled": true
   },
   "outputs": [
    {
     "data": {
      "text/plain": [
       "array(['dolnośląskie', 'kujawsko-pomorskie', 'lubelskie', 'lubuskie',\n",
       "       'mazowieckie', 'małopolskie', 'opolskie', 'podkarpackie',\n",
       "       'podlaskie', 'pomorskie', 'warmińsko-mazurskie', 'wielkopolskie',\n",
       "       'zachodniopomorskie', 'łódzkie', 'śląskie', 'świętokrzyskie'],\n",
       "      dtype=object)"
      ]
     },
     "execution_count": 34,
     "metadata": {},
     "output_type": "execute_result"
    }
   ],
   "source": [
    "np.sort(merged_df['voivodship'].unique())"
   ]
  },
  {
   "cell_type": "code",
   "execution_count": 35,
   "id": "801b5295",
   "metadata": {
    "scrolled": false
   },
   "outputs": [
    {
     "data": {
      "text/html": [
       "<div>\n",
       "<style scoped>\n",
       "    .dataframe tbody tr th:only-of-type {\n",
       "        vertical-align: middle;\n",
       "    }\n",
       "\n",
       "    .dataframe tbody tr th {\n",
       "        vertical-align: top;\n",
       "    }\n",
       "\n",
       "    .dataframe thead th {\n",
       "        text-align: right;\n",
       "    }\n",
       "</style>\n",
       "<table border=\"1\" class=\"dataframe\">\n",
       "  <thead>\n",
       "    <tr style=\"text-align: right;\">\n",
       "      <th></th>\n",
       "      <th>powiat_voivod</th>\n",
       "      <th>DATE</th>\n",
       "      <th>LAT</th>\n",
       "      <th>LON</th>\n",
       "      <th>NO2_24H_AVG_POLLUTION</th>\n",
       "      <th>O3_24H_AVG_POLLUTION</th>\n",
       "      <th>PM10_24H_AVG_POLLUTION</th>\n",
       "      <th>PM25_24H_AVG_POLLUTION</th>\n",
       "      <th>CC</th>\n",
       "      <th>FG</th>\n",
       "      <th>HU</th>\n",
       "      <th>RR</th>\n",
       "      <th>SD</th>\n",
       "      <th>TG</th>\n",
       "      <th>voivodship</th>\n",
       "    </tr>\n",
       "  </thead>\n",
       "  <tbody>\n",
       "    <tr>\n",
       "      <th>0</th>\n",
       "      <td>powiat aleksandrowski, kujawsko-pomorskie</td>\n",
       "      <td>2017-01-01</td>\n",
       "      <td>52.888422</td>\n",
       "      <td>18.780908</td>\n",
       "      <td>NaN</td>\n",
       "      <td>32.22</td>\n",
       "      <td>24.968064</td>\n",
       "      <td>NaN</td>\n",
       "      <td>4.746750</td>\n",
       "      <td>0.0</td>\n",
       "      <td>88.4</td>\n",
       "      <td>1.0</td>\n",
       "      <td>0.0</td>\n",
       "      <td>1.8</td>\n",
       "      <td>kujawsko-pomorskie</td>\n",
       "    </tr>\n",
       "    <tr>\n",
       "      <th>1</th>\n",
       "      <td>powiat aleksandrowski, kujawsko-pomorskie</td>\n",
       "      <td>2017-01-02</td>\n",
       "      <td>52.888422</td>\n",
       "      <td>18.780908</td>\n",
       "      <td>NaN</td>\n",
       "      <td>34.62</td>\n",
       "      <td>17.943745</td>\n",
       "      <td>NaN</td>\n",
       "      <td>6.167555</td>\n",
       "      <td>36.8</td>\n",
       "      <td>88.4</td>\n",
       "      <td>1.0</td>\n",
       "      <td>0.0</td>\n",
       "      <td>0.5</td>\n",
       "      <td>kujawsko-pomorskie</td>\n",
       "    </tr>\n",
       "  </tbody>\n",
       "</table>\n",
       "</div>"
      ],
      "text/plain": [
       "                               powiat_voivod       DATE        LAT        LON  \\\n",
       "0  powiat aleksandrowski, kujawsko-pomorskie 2017-01-01  52.888422  18.780908   \n",
       "1  powiat aleksandrowski, kujawsko-pomorskie 2017-01-02  52.888422  18.780908   \n",
       "\n",
       "   NO2_24H_AVG_POLLUTION  O3_24H_AVG_POLLUTION  PM10_24H_AVG_POLLUTION  \\\n",
       "0                    NaN                 32.22               24.968064   \n",
       "1                    NaN                 34.62               17.943745   \n",
       "\n",
       "   PM25_24H_AVG_POLLUTION        CC    FG    HU   RR   SD   TG  \\\n",
       "0                     NaN  4.746750   0.0  88.4  1.0  0.0  1.8   \n",
       "1                     NaN  6.167555  36.8  88.4  1.0  0.0  0.5   \n",
       "\n",
       "           voivodship  \n",
       "0  kujawsko-pomorskie  \n",
       "1  kujawsko-pomorskie  "
      ]
     },
     "execution_count": 35,
     "metadata": {},
     "output_type": "execute_result"
    }
   ],
   "source": [
    "merged_df.head(2)"
   ]
  },
  {
   "cell_type": "code",
   "execution_count": 37,
   "id": "66b41993",
   "metadata": {},
   "outputs": [],
   "source": [
    "merged_df.to_csv(\"AQ_Weather_Merged_Rev1.csv\", index=False)"
   ]
  },
  {
   "cell_type": "code",
   "execution_count": null,
   "id": "d738bcba",
   "metadata": {},
   "outputs": [],
   "source": []
  },
  {
   "cell_type": "code",
   "execution_count": null,
   "id": "86b35386",
   "metadata": {},
   "outputs": [],
   "source": []
  }
 ],
 "metadata": {
  "kernelspec": {
   "display_name": "Python 3 (ipykernel)",
   "language": "python",
   "name": "python3"
  },
  "language_info": {
   "codemirror_mode": {
    "name": "ipython",
    "version": 3
   },
   "file_extension": ".py",
   "mimetype": "text/x-python",
   "name": "python",
   "nbconvert_exporter": "python",
   "pygments_lexer": "ipython3",
   "version": "3.9.13"
  }
 },
 "nbformat": 4,
 "nbformat_minor": 5
}
