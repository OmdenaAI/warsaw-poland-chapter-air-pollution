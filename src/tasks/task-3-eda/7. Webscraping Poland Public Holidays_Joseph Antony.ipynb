{
 "cells": [
  {
   "cell_type": "code",
   "execution_count": 1,
   "id": "297dd355",
   "metadata": {},
   "outputs": [],
   "source": [
    "import requests_html\n",
    "import pandas as pd\n",
    "import re\n",
    "\n",
    "from bs4 import BeautifulSoup"
   ]
  },
  {
   "cell_type": "code",
   "execution_count": 2,
   "id": "504361b9",
   "metadata": {},
   "outputs": [
    {
     "name": "stdout",
     "output_type": "stream",
     "text": [
      "Getting data for 2017\n",
      "Getting data for 2018\n",
      "Getting data for 2019\n",
      "Getting data for 2020\n",
      "Getting data for 2021\n"
     ]
    }
   ],
   "source": [
    "holiday_list = []\n",
    "\n",
    "r = requests_html.HTMLSession()\n",
    "headers = {'Accept-Language': 'en-US,en;q=0.5'}\n",
    "\n",
    "for year in range(2017, 2022):\n",
    "    print(f'Getting data for {year}')\n",
    "    html = r.get(f'https://www.timeanddate.com/holidays/poland/{year}', headers=headers)\n",
    "    \n",
    "    if html.status_code==200:\n",
    "        \n",
    "        soup = BeautifulSoup(html.text, \"lxml\")\n",
    "        \n",
    "        tbl_rows = soup.find(name=\"table\", attrs={\"id\" : \"holidays-table\"}).\\\n",
    "                    find_all(name=\"tr\", attrs={'id' : re.compile(r'^tr\\d')})\n",
    "        \n",
    "        for row in tbl_rows:\n",
    "            holiday_list.append({\n",
    "                'date' : row.find('th').text + f' {year}',\n",
    "                'holiday_name' : row.find('a').text,\n",
    "                'holiday_type' : row.find_all('td')[-1].text\n",
    "            })"
   ]
  },
  {
   "cell_type": "code",
   "execution_count": 3,
   "id": "ba44a0ff",
   "metadata": {},
   "outputs": [],
   "source": [
    "holiday_df = pd.DataFrame(holiday_list)\n",
    "holiday_df['date'] = pd.to_datetime(holiday_df['date'])"
   ]
  },
  {
   "cell_type": "code",
   "execution_count": 4,
   "id": "1278c1cd",
   "metadata": {},
   "outputs": [
    {
     "data": {
      "text/html": [
       "<div>\n",
       "<style scoped>\n",
       "    .dataframe tbody tr th:only-of-type {\n",
       "        vertical-align: middle;\n",
       "    }\n",
       "\n",
       "    .dataframe tbody tr th {\n",
       "        vertical-align: top;\n",
       "    }\n",
       "\n",
       "    .dataframe thead th {\n",
       "        text-align: right;\n",
       "    }\n",
       "</style>\n",
       "<table border=\"1\" class=\"dataframe\">\n",
       "  <thead>\n",
       "    <tr style=\"text-align: right;\">\n",
       "      <th></th>\n",
       "      <th>date</th>\n",
       "      <th>holiday_name</th>\n",
       "      <th>holiday_type</th>\n",
       "    </tr>\n",
       "  </thead>\n",
       "  <tbody>\n",
       "    <tr>\n",
       "      <th>0</th>\n",
       "      <td>2017-01-01</td>\n",
       "      <td>New Year's Day</td>\n",
       "      <td>National holiday</td>\n",
       "    </tr>\n",
       "    <tr>\n",
       "      <th>1</th>\n",
       "      <td>2017-01-06</td>\n",
       "      <td>Epiphany</td>\n",
       "      <td>National holiday</td>\n",
       "    </tr>\n",
       "    <tr>\n",
       "      <th>2</th>\n",
       "      <td>2017-02-14</td>\n",
       "      <td>Valentine's Day</td>\n",
       "      <td>Observance</td>\n",
       "    </tr>\n",
       "    <tr>\n",
       "      <th>3</th>\n",
       "      <td>2017-03-20</td>\n",
       "      <td>March Equinox</td>\n",
       "      <td>Season</td>\n",
       "    </tr>\n",
       "    <tr>\n",
       "      <th>4</th>\n",
       "      <td>2017-04-14</td>\n",
       "      <td>Good Friday</td>\n",
       "      <td>Observance</td>\n",
       "    </tr>\n",
       "    <tr>\n",
       "      <th>...</th>\n",
       "      <td>...</td>\n",
       "      <td>...</td>\n",
       "      <td>...</td>\n",
       "    </tr>\n",
       "    <tr>\n",
       "      <th>127</th>\n",
       "      <td>2021-12-24</td>\n",
       "      <td>Christmas Eve</td>\n",
       "      <td>Observance</td>\n",
       "    </tr>\n",
       "    <tr>\n",
       "      <th>128</th>\n",
       "      <td>2021-12-25</td>\n",
       "      <td>Christmas Day</td>\n",
       "      <td>National holiday</td>\n",
       "    </tr>\n",
       "    <tr>\n",
       "      <th>129</th>\n",
       "      <td>2021-12-26</td>\n",
       "      <td>Second Day of Christmas</td>\n",
       "      <td>National holiday</td>\n",
       "    </tr>\n",
       "    <tr>\n",
       "      <th>130</th>\n",
       "      <td>2021-12-27</td>\n",
       "      <td>National Day of the Victorious Greater Poland ...</td>\n",
       "      <td>Observance</td>\n",
       "    </tr>\n",
       "    <tr>\n",
       "      <th>131</th>\n",
       "      <td>2021-12-31</td>\n",
       "      <td>New Year's Eve</td>\n",
       "      <td>Observance</td>\n",
       "    </tr>\n",
       "  </tbody>\n",
       "</table>\n",
       "<p>132 rows × 3 columns</p>\n",
       "</div>"
      ],
      "text/plain": [
       "          date                                       holiday_name  \\\n",
       "0   2017-01-01                                     New Year's Day   \n",
       "1   2017-01-06                                           Epiphany   \n",
       "2   2017-02-14                                    Valentine's Day   \n",
       "3   2017-03-20                                      March Equinox   \n",
       "4   2017-04-14                                        Good Friday   \n",
       "..         ...                                                ...   \n",
       "127 2021-12-24                                      Christmas Eve   \n",
       "128 2021-12-25                                      Christmas Day   \n",
       "129 2021-12-26                            Second Day of Christmas   \n",
       "130 2021-12-27  National Day of the Victorious Greater Poland ...   \n",
       "131 2021-12-31                                     New Year's Eve   \n",
       "\n",
       "         holiday_type  \n",
       "0    National holiday  \n",
       "1    National holiday  \n",
       "2          Observance  \n",
       "3              Season  \n",
       "4          Observance  \n",
       "..                ...  \n",
       "127        Observance  \n",
       "128  National holiday  \n",
       "129  National holiday  \n",
       "130        Observance  \n",
       "131        Observance  \n",
       "\n",
       "[132 rows x 3 columns]"
      ]
     },
     "execution_count": 4,
     "metadata": {},
     "output_type": "execute_result"
    }
   ],
   "source": [
    "holiday_df"
   ]
  },
  {
   "cell_type": "code",
   "execution_count": 5,
   "id": "79bb7f74",
   "metadata": {},
   "outputs": [],
   "source": [
    "holiday_df.to_csv('poland_holidays.csv', index=False)"
   ]
  },
  {
   "cell_type": "code",
   "execution_count": null,
   "id": "0180f785",
   "metadata": {},
   "outputs": [],
   "source": []
  },
  {
   "cell_type": "code",
   "execution_count": null,
   "id": "a9595a32",
   "metadata": {},
   "outputs": [],
   "source": []
  },
  {
   "cell_type": "code",
   "execution_count": null,
   "id": "61b6800d",
   "metadata": {},
   "outputs": [],
   "source": []
  },
  {
   "cell_type": "code",
   "execution_count": null,
   "id": "214b6cc1",
   "metadata": {},
   "outputs": [],
   "source": []
  },
  {
   "cell_type": "code",
   "execution_count": null,
   "id": "8ee9a12d",
   "metadata": {},
   "outputs": [],
   "source": []
  },
  {
   "cell_type": "code",
   "execution_count": null,
   "id": "b89cab66",
   "metadata": {},
   "outputs": [],
   "source": []
  },
  {
   "cell_type": "code",
   "execution_count": null,
   "id": "a6fc424b",
   "metadata": {},
   "outputs": [],
   "source": []
  },
  {
   "cell_type": "code",
   "execution_count": null,
   "id": "23b33979",
   "metadata": {},
   "outputs": [],
   "source": []
  },
  {
   "cell_type": "code",
   "execution_count": null,
   "id": "b7968a12",
   "metadata": {},
   "outputs": [],
   "source": []
  }
 ],
 "metadata": {
  "kernelspec": {
   "display_name": "Python 3 (ipykernel)",
   "language": "python",
   "name": "python3"
  },
  "language_info": {
   "codemirror_mode": {
    "name": "ipython",
    "version": 3
   },
   "file_extension": ".py",
   "mimetype": "text/x-python",
   "name": "python",
   "nbconvert_exporter": "python",
   "pygments_lexer": "ipython3",
   "version": "3.9.13"
  }
 },
 "nbformat": 4,
 "nbformat_minor": 5
}
